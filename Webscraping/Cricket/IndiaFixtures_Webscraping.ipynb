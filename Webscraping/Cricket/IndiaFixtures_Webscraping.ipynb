{
 "cells": [
  {
   "cell_type": "code",
   "execution_count": 1,
   "metadata": {},
   "outputs": [],
   "source": [
    "#Importing required libraries\n",
    "import selenium\n",
    "import pandas as pd\n",
    "from selenium import webdriver"
   ]
  },
  {
   "cell_type": "markdown",
   "metadata": {},
   "source": [
    "2.Scrape the details team India’s international fixtures from bcci.tv.\n",
    "\n",
    "Url = https://www.bcci.tv/\n",
    "\n",
    "You need to find following details:\n",
    "\n",
    "A) Match title (I.e. 1st ODI)\n",
    "\n",
    "B) Series\n",
    "\n",
    "C) Place\n",
    "\n",
    "D) Date\n",
    "\n",
    "E) Time\n",
    "\n",
    "Note: - From bcci.tv home page you have reach to the international fixture page through code."
   ]
  },
  {
   "cell_type": "code",
   "execution_count": 2,
   "metadata": {},
   "outputs": [],
   "source": [
    "#Connect to web driver\n",
    "driver=webdriver.Chrome(r\"D://chromedriver.exe\")  #r converts string to raw string\n",
    "#If not r, we can use executable_path = \"C:/path name\""
   ]
  },
  {
   "cell_type": "code",
   "execution_count": 3,
   "metadata": {},
   "outputs": [],
   "source": [
    "#Getting the website to driver\n",
    "driver.get('https://www.bcci.tv/')\n",
    "\n",
    "#When we run this line, automatically the webpage will be opened"
   ]
  },
  {
   "cell_type": "code",
   "execution_count": 4,
   "metadata": {},
   "outputs": [],
   "source": [
    "#Clicking international fixture section\n",
    "international=driver.find_element_by_xpath(\"//ul[@class='navigation__list showMoreEnabled']/li[1]/div[2]/div/ul/li[1]/a\")\n",
    "driver.get(international.get_attribute('href'))"
   ]
  },
  {
   "cell_type": "code",
   "execution_count": 5,
   "metadata": {},
   "outputs": [],
   "source": [
    "#Creating empty lists for storing the scrapped data\n",
    "Match=[]\n",
    "Series=[]\n",
    "Place=[]\n",
    "Date=[]\n",
    "Time=[]\n",
    "\n",
    "#Scrapping the data having the match name\n",
    "name=driver.find_elements_by_xpath(\"//strong[@class='fixture__name fixture__name--with-margin']\")\n",
    "for i in name:\n",
    "    Match.append(i.text)\n",
    "\n",
    "#Scrapping the data having the series name\n",
    "series=driver.find_elements_by_xpath(\"//div[@class='fixture__format-strip']/span[2]\")\n",
    "for i in series:\n",
    "    Series.append(i.text)\n",
    "    \n",
    "#Scrapping the data having the place of match\n",
    "place=driver.find_elements_by_xpath(\"//p[@class='fixture__additional-info']/span\")\n",
    "for i in place:\n",
    "    Place.append(i.text)\n",
    "    \n",
    "#Scrapping the data having the match date\n",
    "date=driver.find_elements_by_xpath(\"//div[@class='fixture__datetime desktop-only']/div/span\")  #Only date\n",
    "month=driver.find_elements_by_xpath(\"//div[@class='fixture__datetime desktop-only']/div/div/span[1]\")  #Month\n",
    "for i in range(len(date)):\n",
    "    Date.append(date[i].text + month[i].text)  #Appending date and month texts together\n",
    "    \n",
    "#Scrapping the data having match time\n",
    "time=driver.find_elements_by_xpath(\"//div[@class='fixture__full-date']/div/span[2]\")\n",
    "for i in time:\n",
    "    Time.append(i.text)"
   ]
  },
  {
   "cell_type": "code",
   "execution_count": 6,
   "metadata": {},
   "outputs": [
    {
     "name": "stdout",
     "output_type": "stream",
     "text": [
      "6 6 6 6 6\n"
     ]
    }
   ],
   "source": [
    "#Checking the length of scrapped data\n",
    "print(len(Match),len(Series),len(Place),len(Date),len(Time))"
   ]
  },
  {
   "cell_type": "code",
   "execution_count": 7,
   "metadata": {},
   "outputs": [
    {
     "data": {
      "text/html": [
       "<div>\n",
       "<style scoped>\n",
       "    .dataframe tbody tr th:only-of-type {\n",
       "        vertical-align: middle;\n",
       "    }\n",
       "\n",
       "    .dataframe tbody tr th {\n",
       "        vertical-align: top;\n",
       "    }\n",
       "\n",
       "    .dataframe thead th {\n",
       "        text-align: right;\n",
       "    }\n",
       "</style>\n",
       "<table border=\"1\" class=\"dataframe\">\n",
       "  <thead>\n",
       "    <tr style=\"text-align: right;\">\n",
       "      <th></th>\n",
       "      <th>Match name</th>\n",
       "      <th>Series</th>\n",
       "      <th>Place</th>\n",
       "      <th>Date</th>\n",
       "      <th>Time</th>\n",
       "    </tr>\n",
       "  </thead>\n",
       "  <tbody>\n",
       "    <tr>\n",
       "      <th>0</th>\n",
       "      <td>Final</td>\n",
       "      <td>ICC WORLD TEST CHAMPIONSHIP FINAL</td>\n",
       "      <td>The Ageas Bowl, Southampton</td>\n",
       "      <td>18JUNE</td>\n",
       "      <td>15:30 IST</td>\n",
       "    </tr>\n",
       "    <tr>\n",
       "      <th>1</th>\n",
       "      <td>1st Test</td>\n",
       "      <td>ENGLAND V INDIA 2021</td>\n",
       "      <td>Trent Bridge, Nottingham</td>\n",
       "      <td>04AUGUST</td>\n",
       "      <td>15:30 IST</td>\n",
       "    </tr>\n",
       "    <tr>\n",
       "      <th>2</th>\n",
       "      <td>2nd Test</td>\n",
       "      <td>ENGLAND V INDIA 2021</td>\n",
       "      <td>Lord's, London</td>\n",
       "      <td>12AUGUST</td>\n",
       "      <td>15:30 IST</td>\n",
       "    </tr>\n",
       "    <tr>\n",
       "      <th>3</th>\n",
       "      <td>3rd Test</td>\n",
       "      <td>ENGLAND V INDIA 2021</td>\n",
       "      <td>Headingley, Leeds</td>\n",
       "      <td>25AUGUST</td>\n",
       "      <td>15:30 IST</td>\n",
       "    </tr>\n",
       "    <tr>\n",
       "      <th>4</th>\n",
       "      <td>4th Test</td>\n",
       "      <td>ENGLAND V INDIA 2021</td>\n",
       "      <td>The Oval, London</td>\n",
       "      <td>02SEPTEMBER</td>\n",
       "      <td>15:30 IST</td>\n",
       "    </tr>\n",
       "    <tr>\n",
       "      <th>5</th>\n",
       "      <td>5th Test</td>\n",
       "      <td>ENGLAND V INDIA 2021</td>\n",
       "      <td>Old Trafford, Manchester</td>\n",
       "      <td>10SEPTEMBER</td>\n",
       "      <td>15:30 IST</td>\n",
       "    </tr>\n",
       "  </tbody>\n",
       "</table>\n",
       "</div>"
      ],
      "text/plain": [
       "  Match name                             Series                        Place  \\\n",
       "0      Final  ICC WORLD TEST CHAMPIONSHIP FINAL  The Ageas Bowl, Southampton   \n",
       "1   1st Test               ENGLAND V INDIA 2021     Trent Bridge, Nottingham   \n",
       "2   2nd Test               ENGLAND V INDIA 2021               Lord's, London   \n",
       "3   3rd Test               ENGLAND V INDIA 2021            Headingley, Leeds   \n",
       "4   4th Test               ENGLAND V INDIA 2021             The Oval, London   \n",
       "5   5th Test               ENGLAND V INDIA 2021     Old Trafford, Manchester   \n",
       "\n",
       "          Date       Time  \n",
       "0       18JUNE  15:30 IST  \n",
       "1     04AUGUST  15:30 IST  \n",
       "2     12AUGUST  15:30 IST  \n",
       "3     25AUGUST  15:30 IST  \n",
       "4  02SEPTEMBER  15:30 IST  \n",
       "5  10SEPTEMBER  15:30 IST  "
      ]
     },
     "execution_count": 7,
     "metadata": {},
     "output_type": "execute_result"
    }
   ],
   "source": [
    "#Creating a Dataframe for the scrapped data\n",
    "fixtures=pd.DataFrame({})\n",
    "fixtures['Match name']=Match\n",
    "fixtures['Series']=Series\n",
    "fixtures['Place']=Place\n",
    "fixtures['Date']=Date\n",
    "fixtures['Time']=Time\n",
    "fixtures"
   ]
  },
  {
   "cell_type": "code",
   "execution_count": 8,
   "metadata": {},
   "outputs": [],
   "source": [
    "#Closing the driver\n",
    "driver.close()"
   ]
  }
 ],
 "metadata": {
  "kernelspec": {
   "display_name": "Python 3",
   "language": "python",
   "name": "python3"
  },
  "language_info": {
   "codemirror_mode": {
    "name": "ipython",
    "version": 3
   },
   "file_extension": ".py",
   "mimetype": "text/x-python",
   "name": "python",
   "nbconvert_exporter": "python",
   "pygments_lexer": "ipython3",
   "version": "3.8.3"
  }
 },
 "nbformat": 4,
 "nbformat_minor": 4
}
