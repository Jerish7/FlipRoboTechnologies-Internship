{
 "cells": [
  {
   "cell_type": "markdown",
   "metadata": {},
   "source": [
    "# Q10. Amazon.com webpage scraping"
   ]
  },
  {
   "cell_type": "markdown",
   "metadata": {},
   "source": [
    "1. Go to webpage https://www.amazon.in/\n",
    "2. Enter “Laptop” in the search field and then click the search icon.\n",
    "3. Then set CPU Type filter to “Intel Core i7” and “Intel Core i9” as shown in the image.\n",
    "4. After setting the filters scrape first 10 laptops data.\n",
    "5. You have to scrape 3 attributes for each laptop:\n",
    "   1. title\n",
    "   2. Ratings\n",
    "   3. Price\n",
    "6. Finally create a dataframe of the scraped data."
   ]
  },
  {
   "cell_type": "code",
   "execution_count": 1,
   "metadata": {},
   "outputs": [],
   "source": [
    "#Importing required libraries\n",
    "import selenium\n",
    "import pandas as pd\n",
    "from selenium import webdriver\n",
    "from selenium.common.exceptions import NoSuchElementException"
   ]
  },
  {
   "cell_type": "code",
   "execution_count": 2,
   "metadata": {},
   "outputs": [],
   "source": [
    "#Connect to web driver\n",
    "driver=webdriver.Chrome(r\"D://chromedriver.exe\")  #r converts string to raw string\n",
    "#If not r, we can use executable_path = \"C:/path name\""
   ]
  },
  {
   "cell_type": "code",
   "execution_count": 3,
   "metadata": {},
   "outputs": [],
   "source": [
    "#Getting the website to driver\n",
    "driver.get('https://www.amazon.in/')\n",
    "\n",
    "#When we run this line, automatically the webpage will be opened"
   ]
  },
  {
   "cell_type": "code",
   "execution_count": 4,
   "metadata": {},
   "outputs": [],
   "source": [
    "#Searching laptop in the search bar and clicking the search button\n",
    "search_bar=driver.find_element_by_id('twotabsearchtextbox')\n",
    "search_bar.send_keys(\"laptop\")\n",
    "\n",
    "driver.find_element_by_id('nav-search-submit-button').click()"
   ]
  },
  {
   "cell_type": "code",
   "execution_count": 5,
   "metadata": {},
   "outputs": [],
   "source": [
    "#Locating the filters from the webpage\n",
    "#Filtering Intel Core i7 from filters\n",
    "filter1=driver.find_elements_by_xpath(\"//a[@class='a-link-normal s-navigation-item']/span\")\n",
    "for i in filter1:\n",
    "    if i.text=='Intel Core i7':\n",
    "        i.click()\n",
    "        break"
   ]
  },
  {
   "cell_type": "code",
   "execution_count": 6,
   "metadata": {},
   "outputs": [],
   "source": [
    "#Filtering Intel Core i9 from filters\n",
    "filter1=driver.find_elements_by_xpath(\"//a[@class='a-link-normal s-navigation-item']/span\")\n",
    "for i in filter1:\n",
    "    if i.text=='Intel Core i9':\n",
    "        i.click()\n",
    "        break"
   ]
  },
  {
   "cell_type": "code",
   "execution_count": 7,
   "metadata": {},
   "outputs": [],
   "source": [
    "#Specifying the url of the webpage to be scraped\n",
    "url=\"https://www.amazon.in/s?k=laptop&i=computers&rh=n%3A1375424031%2Cp_n_feature_thirteen_browse-bin%3A12598163031%7C16757432031&dc&qid=1617789939&rnid=12598141031&ref=sr_nr_p_n_feature_thirteen_browse-bin_17\"\n",
    "driver.get(url)"
   ]
  },
  {
   "cell_type": "code",
   "execution_count": 8,
   "metadata": {},
   "outputs": [
    {
     "data": {
      "text/plain": [
       "[<selenium.webdriver.remote.webelement.WebElement (session=\"797a10e1445f0617f4203c4fa811606b\", element=\"f6a39d08-ff84-4ad6-b752-17deb7e48a5d\")>,\n",
       " <selenium.webdriver.remote.webelement.WebElement (session=\"797a10e1445f0617f4203c4fa811606b\", element=\"fc9db6ec-5c9f-4eee-9647-2de0b4f2f7f8\")>,\n",
       " <selenium.webdriver.remote.webelement.WebElement (session=\"797a10e1445f0617f4203c4fa811606b\", element=\"d99c1c17-a367-4921-b669-019b9a0eaa69\")>,\n",
       " <selenium.webdriver.remote.webelement.WebElement (session=\"797a10e1445f0617f4203c4fa811606b\", element=\"40ba4093-714b-456f-8cbf-abe590036067\")>,\n",
       " <selenium.webdriver.remote.webelement.WebElement (session=\"797a10e1445f0617f4203c4fa811606b\", element=\"74f113f7-e982-42d4-9f57-71723ee85f44\")>,\n",
       " <selenium.webdriver.remote.webelement.WebElement (session=\"797a10e1445f0617f4203c4fa811606b\", element=\"9c3bf750-0e29-456e-b238-4846466908a4\")>,\n",
       " <selenium.webdriver.remote.webelement.WebElement (session=\"797a10e1445f0617f4203c4fa811606b\", element=\"9b5aac4d-f052-426f-b6f3-9ec878ead22b\")>,\n",
       " <selenium.webdriver.remote.webelement.WebElement (session=\"797a10e1445f0617f4203c4fa811606b\", element=\"68d44ccb-0e3c-4af6-9b39-0ccd10239d45\")>,\n",
       " <selenium.webdriver.remote.webelement.WebElement (session=\"797a10e1445f0617f4203c4fa811606b\", element=\"ef0cf0d3-dbfa-4757-a3d5-2d0861bda4a7\")>,\n",
       " <selenium.webdriver.remote.webelement.WebElement (session=\"797a10e1445f0617f4203c4fa811606b\", element=\"ff30a6ba-4fb5-45f9-8cfe-499a8134ce79\")>,\n",
       " <selenium.webdriver.remote.webelement.WebElement (session=\"797a10e1445f0617f4203c4fa811606b\", element=\"4a95f1a3-070b-4867-8d3a-30170fb00d27\")>,\n",
       " <selenium.webdriver.remote.webelement.WebElement (session=\"797a10e1445f0617f4203c4fa811606b\", element=\"fc7f0bf3-93b2-436e-a95e-f055517bdd3c\")>,\n",
       " <selenium.webdriver.remote.webelement.WebElement (session=\"797a10e1445f0617f4203c4fa811606b\", element=\"05e6f06d-3743-42cb-9a34-e083f7b30c72\")>,\n",
       " <selenium.webdriver.remote.webelement.WebElement (session=\"797a10e1445f0617f4203c4fa811606b\", element=\"b5ebf3ce-63b7-41a5-b21b-8c7a3af915b2\")>,\n",
       " <selenium.webdriver.remote.webelement.WebElement (session=\"797a10e1445f0617f4203c4fa811606b\", element=\"173c9fa1-3b8e-48ad-b78b-d8350902c06b\")>,\n",
       " <selenium.webdriver.remote.webelement.WebElement (session=\"797a10e1445f0617f4203c4fa811606b\", element=\"71509116-3f1e-40aa-b371-49e0a33fc433\")>,\n",
       " <selenium.webdriver.remote.webelement.WebElement (session=\"797a10e1445f0617f4203c4fa811606b\", element=\"7ac86908-a450-4d9a-b9d2-d08d02a8c581\")>,\n",
       " <selenium.webdriver.remote.webelement.WebElement (session=\"797a10e1445f0617f4203c4fa811606b\", element=\"5d3ea5e2-4695-4399-95ec-046d7d576ff0\")>,\n",
       " <selenium.webdriver.remote.webelement.WebElement (session=\"797a10e1445f0617f4203c4fa811606b\", element=\"b430e04e-5db2-42ec-b300-4e3adc41b47f\")>,\n",
       " <selenium.webdriver.remote.webelement.WebElement (session=\"797a10e1445f0617f4203c4fa811606b\", element=\"2ce3ec94-4157-4937-9e7a-075f94f5816f\")>,\n",
       " <selenium.webdriver.remote.webelement.WebElement (session=\"797a10e1445f0617f4203c4fa811606b\", element=\"f3f937dd-5de1-4442-9216-77e62aceccf5\")>,\n",
       " <selenium.webdriver.remote.webelement.WebElement (session=\"797a10e1445f0617f4203c4fa811606b\", element=\"94917699-3707-4668-a8e2-5abaa03686fc\")>,\n",
       " <selenium.webdriver.remote.webelement.WebElement (session=\"797a10e1445f0617f4203c4fa811606b\", element=\"c52be74b-665b-4c03-98d2-e3866f704b1c\")>,\n",
       " <selenium.webdriver.remote.webelement.WebElement (session=\"797a10e1445f0617f4203c4fa811606b\", element=\"a67ee8b6-3c59-4a7a-8c6d-3fd6d81d76af\")>,\n",
       " <selenium.webdriver.remote.webelement.WebElement (session=\"797a10e1445f0617f4203c4fa811606b\", element=\"990be231-fb99-491f-b2ca-94cdcc42afd7\")>,\n",
       " <selenium.webdriver.remote.webelement.WebElement (session=\"797a10e1445f0617f4203c4fa811606b\", element=\"7b8e5f13-696f-46b5-8119-896cc4f8bdb6\")>]"
      ]
     },
     "execution_count": 8,
     "metadata": {},
     "output_type": "execute_result"
    }
   ],
   "source": [
    "#Extracting the tags having the product title\n",
    "title=driver.find_elements_by_xpath(\"//span[@class='a-size-medium a-color-base a-text-normal']\")\n",
    "title"
   ]
  },
  {
   "cell_type": "code",
   "execution_count": 9,
   "metadata": {},
   "outputs": [
    {
     "data": {
      "text/plain": [
       "['(Renewed) HP ZBook 15 G3 Mobile Workstation - 15.6\" - Core i7 (6700HQ) - 32 GB RAM - 1TB SSD : BLUETOOTH : 2GB DEDICATED GRAPHIC : NUMERIC KEYBOARD',\n",
       " \"(Renewed) Lenovo ThinkPad X1 Carbon Laptop (CORE I7 6TH GEN/8GB/256GB SSD/WEBCAM/14''/WIN 10 PRO)\",\n",
       " \"(Renewed) HP EliteBook 820 G4 Laptop (CORE I5 7TH GEN/8GB/512GB SSD/WEBCAM/12.5'' TOUCH/WIN 10 PRO)\",\n",
       " 'Dell Inspiron 5406 14\" FHD Touch Display 2in1 Laptop (11th Gen i7-1165G7 / 8Gb / 512Gb SSD / Integrated Graphics / Win 10 + MSO / Titan Grey Color / FPR) D560414WIN9S',\n",
       " 'HP Pavilion (2021) Thin & Light 11th Gen Core i7 Laptop, 16 GB RAM, 1TB SSD, Iris Xe Graphics, 14-inch FHD Screen, Windows 10, MS Office, Backlit Keyboard',\n",
       " 'Mi Notebook Horizon Edition 14 Intel Core i5-10210U 10th Gen Thin and Light Laptop(8GB/512GB SSD/Windows 10/Nvidia MX350 2GB Graphics/Grey/1.35Kg), XMA1904-AR+Webcam',\n",
       " '(Renewed) HP Pavilion 15-Cs1002txin 2018 15.6-Inch Laptop (8th Gen Core I7-8565u/8GB/1TB/Windows 10 Home/4GB Nvidia Geforce Mx150 Graphics)',\n",
       " 'Lenovo Legion 5Pi 10th Gen Intel Core i7 15.6\" FHD Gaming Laptop (16GB/1TB SSD/Windows 10/MS Office 2019/144 Hz/NVIDIA RTX 2060 6GB GDDR6/with M300 RGB Gaming Mouse/Iron Grey/2.3Kg), 82AW005SIN',\n",
       " \"(Renewed) Lenovo Thinkpad Yoga S1 Laptop (CORE I7 4TH GEN/8GB/500GB/WEBCAM/12.5'' TOUCH/Windows 10 Pro)\",\n",
       " 'HP 14 Thin & Light 14-inch FHD Laptop (11th Gen Intel i7-1165G7/8GB/512GB SSD/Windows 10/MS Office 2019/Alexa Built-in/Pale Gold/1.47 kg), 14s-dr2007TU']"
      ]
     },
     "execution_count": 9,
     "metadata": {},
     "output_type": "execute_result"
    }
   ],
   "source": [
    "#Extracting the text from the tags\n",
    "prod_title=[]  #Empty list\n",
    "\n",
    "#As we need to scrap data for the first 10 product results, we are running a for loop for first 10 results only\n",
    "for i in title[:10]:\n",
    "    prod_title.append(i.text)\n",
    "prod_title    "
   ]
  },
  {
   "cell_type": "code",
   "execution_count": 10,
   "metadata": {},
   "outputs": [
    {
     "data": {
      "text/plain": [
       "[<selenium.webdriver.remote.webelement.WebElement (session=\"797a10e1445f0617f4203c4fa811606b\", element=\"f36a42eb-108a-47d1-91d0-e63bccc6b1da\")>,\n",
       " <selenium.webdriver.remote.webelement.WebElement (session=\"797a10e1445f0617f4203c4fa811606b\", element=\"19129940-84f3-4758-ae04-bb8d84eda4f4\")>,\n",
       " <selenium.webdriver.remote.webelement.WebElement (session=\"797a10e1445f0617f4203c4fa811606b\", element=\"5276b6c2-fa03-47cc-afd2-9c68b878d986\")>,\n",
       " <selenium.webdriver.remote.webelement.WebElement (session=\"797a10e1445f0617f4203c4fa811606b\", element=\"9c33fbc8-d26a-4d6c-9775-38b5eb525b73\")>,\n",
       " <selenium.webdriver.remote.webelement.WebElement (session=\"797a10e1445f0617f4203c4fa811606b\", element=\"a28e653f-b259-47ae-b269-3791ef781370\")>,\n",
       " <selenium.webdriver.remote.webelement.WebElement (session=\"797a10e1445f0617f4203c4fa811606b\", element=\"82da3316-0a36-492a-a6f2-2cb57b2be2cc\")>,\n",
       " <selenium.webdriver.remote.webelement.WebElement (session=\"797a10e1445f0617f4203c4fa811606b\", element=\"57245cf4-3783-4895-9987-23a3f7712439\")>,\n",
       " <selenium.webdriver.remote.webelement.WebElement (session=\"797a10e1445f0617f4203c4fa811606b\", element=\"eebcaaee-5499-4104-9804-1bca032f6387\")>,\n",
       " <selenium.webdriver.remote.webelement.WebElement (session=\"797a10e1445f0617f4203c4fa811606b\", element=\"89fc0bcd-6b35-4680-b686-f54c271beb81\")>,\n",
       " <selenium.webdriver.remote.webelement.WebElement (session=\"797a10e1445f0617f4203c4fa811606b\", element=\"62aece09-960d-4f74-b7ba-62740b3f0f7d\")>,\n",
       " <selenium.webdriver.remote.webelement.WebElement (session=\"797a10e1445f0617f4203c4fa811606b\", element=\"a813bec0-2d4d-4537-b6b7-66841400dd16\")>,\n",
       " <selenium.webdriver.remote.webelement.WebElement (session=\"797a10e1445f0617f4203c4fa811606b\", element=\"1ca031ab-ed03-4e42-b03b-e7f926ed2587\")>,\n",
       " <selenium.webdriver.remote.webelement.WebElement (session=\"797a10e1445f0617f4203c4fa811606b\", element=\"53f03af8-cca0-4cf5-bff3-92fdba026613\")>,\n",
       " <selenium.webdriver.remote.webelement.WebElement (session=\"797a10e1445f0617f4203c4fa811606b\", element=\"f8bd09fc-9b0a-40be-a28d-f5ba293fce25\")>,\n",
       " <selenium.webdriver.remote.webelement.WebElement (session=\"797a10e1445f0617f4203c4fa811606b\", element=\"04849600-48a4-4c14-988a-ff71721d3f0b\")>,\n",
       " <selenium.webdriver.remote.webelement.WebElement (session=\"797a10e1445f0617f4203c4fa811606b\", element=\"a86533d9-a4ed-4484-89ac-3d5302e95c39\")>,\n",
       " <selenium.webdriver.remote.webelement.WebElement (session=\"797a10e1445f0617f4203c4fa811606b\", element=\"3894517b-1ed9-4cb9-9dec-3580532c83f1\")>,\n",
       " <selenium.webdriver.remote.webelement.WebElement (session=\"797a10e1445f0617f4203c4fa811606b\", element=\"6f6ec066-6bc9-4144-8637-adeebc534b9f\")>,\n",
       " <selenium.webdriver.remote.webelement.WebElement (session=\"797a10e1445f0617f4203c4fa811606b\", element=\"96c13bf2-88ad-4280-89a1-d7ba0539dd4c\")>,\n",
       " <selenium.webdriver.remote.webelement.WebElement (session=\"797a10e1445f0617f4203c4fa811606b\", element=\"ea848cb0-bce0-4c56-9063-90366ea02865\")>,\n",
       " <selenium.webdriver.remote.webelement.WebElement (session=\"797a10e1445f0617f4203c4fa811606b\", element=\"0b75acef-21d8-49e4-8b86-4860ade72f99\")>,\n",
       " <selenium.webdriver.remote.webelement.WebElement (session=\"797a10e1445f0617f4203c4fa811606b\", element=\"645804d8-64ef-4d14-af0a-76ec40f32054\")>,\n",
       " <selenium.webdriver.remote.webelement.WebElement (session=\"797a10e1445f0617f4203c4fa811606b\", element=\"30fc925d-3321-423c-aa56-926a2c070fb6\")>,\n",
       " <selenium.webdriver.remote.webelement.WebElement (session=\"797a10e1445f0617f4203c4fa811606b\", element=\"cef32d9d-99fe-4fc6-b09f-13f1f44b85dc\")>,\n",
       " <selenium.webdriver.remote.webelement.WebElement (session=\"797a10e1445f0617f4203c4fa811606b\", element=\"f95bf82b-6770-4833-8488-4a64e0b3a1f2\")>,\n",
       " <selenium.webdriver.remote.webelement.WebElement (session=\"797a10e1445f0617f4203c4fa811606b\", element=\"6685186d-bde6-4ba2-a30b-3c54b11005af\")>]"
      ]
     },
     "execution_count": 10,
     "metadata": {},
     "output_type": "execute_result"
    }
   ],
   "source": [
    "#Extracting the tags having the price of the product\n",
    "price=driver.find_elements_by_xpath(\"//span[@class='a-price']\")\n",
    "price"
   ]
  },
  {
   "cell_type": "code",
   "execution_count": 11,
   "metadata": {},
   "outputs": [
    {
     "data": {
      "text/plain": [
       "['₹86,990',\n",
       " '₹55,290',\n",
       " '₹40,790',\n",
       " '₹86,200',\n",
       " '₹79,990',\n",
       " '₹54,999',\n",
       " '₹68,490',\n",
       " '₹1,35,490',\n",
       " '₹47,190',\n",
       " '₹76,500']"
      ]
     },
     "execution_count": 11,
     "metadata": {},
     "output_type": "execute_result"
    }
   ],
   "source": [
    "#Extracting the text from the tags\n",
    "prod_price=[]  #Empty list\n",
    "\n",
    "#As we need to scrap data for the first 10 product results, we are running a for loop for first 10 results only\n",
    "for i in price[:10]:\n",
    "    prod_price.append(i.text)\n",
    "prod_price"
   ]
  },
  {
   "cell_type": "code",
   "execution_count": 12,
   "metadata": {},
   "outputs": [
    {
     "data": {
      "text/plain": [
       "['https://www.amazon.in/gp/slredirect/picassoRedirect.html/ref=pa_sp_atf_computers_sr_pg1_1?ie=UTF8&adId=A09956592AR8PX5LFZ4HI&url=%2FRenewed-HP-ZBook-Mobile-Workstation%2Fdp%2FB0912CL6PC%2Fref%3Dsr_1_1_sspa%3Fdchild%3D1%26keywords%3Dlaptop%26qid%3D1617794191%26refinements%3Dp_n_feature_thirteen_browse-bin%253A12598163031%257C16757432031%26rnid%3D12598141031%26s%3Dcomputers%26sr%3D1-1-spons%26psc%3D1&qualifier=1617794191&id=7007039792524293&widgetName=sp_atf',\n",
       " 'https://www.amazon.in/Renewed-Lenovo-ThinkPad-X1-Carbon/dp/B08XVM4XB5/ref=sr_1_2?dchild=1&keywords=laptop&qid=1617794191&refinements=p_n_feature_thirteen_browse-bin%3A12598163031%7C16757432031&rnid=12598141031&s=computers&sr=1-2',\n",
       " 'https://www.amazon.in/Renewed-HP-EliteBook-820-Laptop/dp/B091GQFCLK/ref=sr_1_3?dchild=1&keywords=laptop&qid=1617794191&refinements=p_n_feature_thirteen_browse-bin%3A12598163031%7C16757432031&rnid=12598141031&s=computers&sr=1-3',\n",
       " 'https://www.amazon.in/Dell-Inspiron-i7-1165G7-Integrated-D560414WIN9S/dp/B0919LL313/ref=sr_1_4?dchild=1&keywords=laptop&qid=1617794191&refinements=p_n_feature_thirteen_browse-bin%3A12598163031%7C16757432031&rnid=12598141031&s=computers&sr=1-4',\n",
       " 'https://www.amazon.in/HP-Pavilion-Graphics-14-inch-Keyboard/dp/B08WB857GB/ref=sr_1_5?dchild=1&keywords=laptop&qid=1617794191&refinements=p_n_feature_thirteen_browse-bin%3A12598163031%7C16757432031&rnid=12598141031&s=computers&sr=1-5',\n",
       " 'https://www.amazon.in/Notebook-Horizon-i5-10210U-Graphics-XMA1904-AR/dp/B089F5JGM1/ref=sr_1_6?dchild=1&keywords=laptop&qid=1617794191&refinements=p_n_feature_thirteen_browse-bin%3A12598163031%7C16757432031&rnid=12598141031&s=computers&sr=1-6',\n",
       " 'https://www.amazon.in/HP-Pavilion-15-Cs1002txin-15-6-Inch-I7-8565u/dp/B08S47P4VD/ref=sr_1_7?dchild=1&keywords=laptop&qid=1617794191&refinements=p_n_feature_thirteen_browse-bin%3A12598163031%7C16757432031&rnid=12598141031&s=computers&sr=1-7',\n",
       " 'https://www.amazon.in/Lenovo-Legion-Gaming-Windows-82AW005SIN/dp/B08CQ21154/ref=sr_1_8?dchild=1&keywords=laptop&qid=1617794191&refinements=p_n_feature_thirteen_browse-bin%3A12598163031%7C16757432031&rnid=12598141031&s=computers&sr=1-8',\n",
       " 'https://www.amazon.in/Renewed-Lenovo-Thinkpad-Laptop-Windows/dp/B08ZJFTZMJ/ref=sr_1_9?dchild=1&keywords=laptop&qid=1617794191&refinements=p_n_feature_thirteen_browse-bin%3A12598163031%7C16757432031&rnid=12598141031&s=computers&sr=1-9',\n",
       " 'https://www.amazon.in/HP-14-inch-i7-1165G7-Windows-14s-dr2007TU/dp/B08N57LR4X/ref=sr_1_10?dchild=1&keywords=laptop&qid=1617794191&refinements=p_n_feature_thirteen_browse-bin%3A12598163031%7C16757432031&rnid=12598141031&s=computers&sr=1-10']"
      ]
     },
     "execution_count": 12,
     "metadata": {},
     "output_type": "execute_result"
    }
   ],
   "source": [
    "#Extracting the tags having the product ratings\n",
    "#First we will collect the urls of all laptops\n",
    "laptop_urls=driver.find_elements_by_xpath(\"//a[@class='a-link-normal a-text-normal']\")\n",
    "URL=[]   #Taking an empty list\n",
    "\n",
    "#Appending the url of first 10 laptops to empty list\n",
    "for i in laptop_urls[:10]:\n",
    "    URL.append(i.get_attribute('href'))   #Getting url alone\n",
    "URL    "
   ]
  },
  {
   "cell_type": "code",
   "execution_count": 13,
   "metadata": {},
   "outputs": [],
   "source": [
    "#Extracting the ratings of the laptop by using exception as some products dont have any ratings\n",
    "Ratings=[]   #Empty list\n",
    "#Loop for every laptops in the list\n",
    "for url in URL:\n",
    "    driver.get(url)\n",
    "    try:   #Exception handling by using NoSuchElementException\n",
    "        prod_rating=driver.find_element_by_id('acrCustomerReviewText')  #Locating the rating link\n",
    "        prod_rating.click()\n",
    "        rating=driver.find_element_by_xpath(\"//span[@class='a-size-medium a-color-base']\") #Locating the rating tags\n",
    "        Ratings.append(rating.text)  #Appending the text from tags to the list\n",
    "    except NoSuchElementException as e:\n",
    "        Ratings.append('No Rating')  #Appending message for products having no ratings"
   ]
  },
  {
   "cell_type": "code",
   "execution_count": 14,
   "metadata": {},
   "outputs": [
    {
     "name": "stdout",
     "output_type": "stream",
     "text": [
      "10 10 10\n"
     ]
    }
   ],
   "source": [
    "#Checking out the length of the data extracted\n",
    "print(len(prod_title),len(prod_price),len(Ratings))"
   ]
  },
  {
   "cell_type": "code",
   "execution_count": 15,
   "metadata": {},
   "outputs": [
    {
     "data": {
      "text/html": [
       "<div>\n",
       "<style scoped>\n",
       "    .dataframe tbody tr th:only-of-type {\n",
       "        vertical-align: middle;\n",
       "    }\n",
       "\n",
       "    .dataframe tbody tr th {\n",
       "        vertical-align: top;\n",
       "    }\n",
       "\n",
       "    .dataframe thead th {\n",
       "        text-align: right;\n",
       "    }\n",
       "</style>\n",
       "<table border=\"1\" class=\"dataframe\">\n",
       "  <thead>\n",
       "    <tr style=\"text-align: right;\">\n",
       "      <th></th>\n",
       "      <th>Product name</th>\n",
       "      <th>Price</th>\n",
       "      <th>Rating</th>\n",
       "    </tr>\n",
       "  </thead>\n",
       "  <tbody>\n",
       "    <tr>\n",
       "      <th>0</th>\n",
       "      <td>(Renewed) HP ZBook 15 G3 Mobile Workstation - ...</td>\n",
       "      <td>₹86,990</td>\n",
       "      <td>No Rating</td>\n",
       "    </tr>\n",
       "    <tr>\n",
       "      <th>1</th>\n",
       "      <td>(Renewed) Lenovo ThinkPad X1 Carbon Laptop (CO...</td>\n",
       "      <td>₹55,290</td>\n",
       "      <td>No Rating</td>\n",
       "    </tr>\n",
       "    <tr>\n",
       "      <th>2</th>\n",
       "      <td>(Renewed) HP EliteBook 820 G4 Laptop (CORE I5 ...</td>\n",
       "      <td>₹40,790</td>\n",
       "      <td>No Rating</td>\n",
       "    </tr>\n",
       "    <tr>\n",
       "      <th>3</th>\n",
       "      <td>Dell Inspiron 5406 14\" FHD Touch Display 2in1 ...</td>\n",
       "      <td>₹86,200</td>\n",
       "      <td>No Rating</td>\n",
       "    </tr>\n",
       "    <tr>\n",
       "      <th>4</th>\n",
       "      <td>HP Pavilion (2021) Thin &amp; Light 11th Gen Core ...</td>\n",
       "      <td>₹79,990</td>\n",
       "      <td>4.3 out of 5</td>\n",
       "    </tr>\n",
       "    <tr>\n",
       "      <th>5</th>\n",
       "      <td>Mi Notebook Horizon Edition 14 Intel Core i5-1...</td>\n",
       "      <td>₹54,999</td>\n",
       "      <td>4.3 out of 5</td>\n",
       "    </tr>\n",
       "    <tr>\n",
       "      <th>6</th>\n",
       "      <td>(Renewed) HP Pavilion 15-Cs1002txin 2018 15.6-...</td>\n",
       "      <td>₹68,490</td>\n",
       "      <td>No Rating</td>\n",
       "    </tr>\n",
       "    <tr>\n",
       "      <th>7</th>\n",
       "      <td>Lenovo Legion 5Pi 10th Gen Intel Core i7 15.6\"...</td>\n",
       "      <td>₹1,35,490</td>\n",
       "      <td>4.3 out of 5</td>\n",
       "    </tr>\n",
       "    <tr>\n",
       "      <th>8</th>\n",
       "      <td>(Renewed) Lenovo Thinkpad Yoga S1 Laptop (CORE...</td>\n",
       "      <td>₹47,190</td>\n",
       "      <td>1 out of 5</td>\n",
       "    </tr>\n",
       "    <tr>\n",
       "      <th>9</th>\n",
       "      <td>HP 14 Thin &amp; Light 14-inch FHD Laptop (11th Ge...</td>\n",
       "      <td>₹76,500</td>\n",
       "      <td>4.6 out of 5</td>\n",
       "    </tr>\n",
       "  </tbody>\n",
       "</table>\n",
       "</div>"
      ],
      "text/plain": [
       "                                        Product name      Price        Rating\n",
       "0  (Renewed) HP ZBook 15 G3 Mobile Workstation - ...    ₹86,990     No Rating\n",
       "1  (Renewed) Lenovo ThinkPad X1 Carbon Laptop (CO...    ₹55,290     No Rating\n",
       "2  (Renewed) HP EliteBook 820 G4 Laptop (CORE I5 ...    ₹40,790     No Rating\n",
       "3  Dell Inspiron 5406 14\" FHD Touch Display 2in1 ...    ₹86,200     No Rating\n",
       "4  HP Pavilion (2021) Thin & Light 11th Gen Core ...    ₹79,990  4.3 out of 5\n",
       "5  Mi Notebook Horizon Edition 14 Intel Core i5-1...    ₹54,999  4.3 out of 5\n",
       "6  (Renewed) HP Pavilion 15-Cs1002txin 2018 15.6-...    ₹68,490     No Rating\n",
       "7  Lenovo Legion 5Pi 10th Gen Intel Core i7 15.6\"...  ₹1,35,490  4.3 out of 5\n",
       "8  (Renewed) Lenovo Thinkpad Yoga S1 Laptop (CORE...    ₹47,190    1 out of 5\n",
       "9  HP 14 Thin & Light 14-inch FHD Laptop (11th Ge...    ₹76,500  4.6 out of 5"
      ]
     },
     "execution_count": 15,
     "metadata": {},
     "output_type": "execute_result"
    }
   ],
   "source": [
    "#Creating a new dataframe for saving the data\n",
    "amazon=pd.DataFrame({})\n",
    "amazon['Product name']=prod_title\n",
    "amazon['Price']=prod_price\n",
    "amazon['Rating']=Ratings\n",
    "amazon"
   ]
  },
  {
   "cell_type": "code",
   "execution_count": 16,
   "metadata": {},
   "outputs": [],
   "source": [
    "#Saving the data into a csv file\n",
    "amazon.to_csv(\"Amazon_Laptops.csv\")"
   ]
  },
  {
   "cell_type": "code",
   "execution_count": 17,
   "metadata": {},
   "outputs": [],
   "source": [
    "#Closing the driver\n",
    "driver.close()"
   ]
  }
 ],
 "metadata": {
  "kernelspec": {
   "display_name": "Python 3",
   "language": "python",
   "name": "python3"
  },
  "language_info": {
   "codemirror_mode": {
    "name": "ipython",
    "version": 3
   },
   "file_extension": ".py",
   "mimetype": "text/x-python",
   "name": "python",
   "nbconvert_exporter": "python",
   "pygments_lexer": "ipython3",
   "version": "3.8.3"
  }
 },
 "nbformat": 4,
 "nbformat_minor": 4
}
