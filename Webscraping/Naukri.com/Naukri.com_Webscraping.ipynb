{
 "cells": [
  {
   "cell_type": "markdown",
   "metadata": {},
   "source": [
    "# Q1: Write a python program to scrape data for “Data Analyst” Job position in “Bangalore” location. You have to scrape the job-title, job-location, company_name, experience_required. You have to scrape first 10 jobs data."
   ]
  },
  {
   "cell_type": "markdown",
   "metadata": {},
   "source": [
    "This task will be done in following steps:\n",
    "1. First, get the webpage https://www.naukri.com/\n",
    "2. Enter “Data Analyst” in “Skill,Designations,Companies” field and enter “Bangalore” in “enter the location” field.\n",
    "3. Then click the search button.\n",
    "4. Then scrape the data for the first 10 jobs results you get.\n",
    "5. Finally create a dataframe of the scraped data."
   ]
  },
  {
   "cell_type": "code",
   "execution_count": 1,
   "metadata": {},
   "outputs": [],
   "source": [
    "#Importing required libraries\n",
    "import selenium\n",
    "import pandas as pd\n",
    "from selenium import webdriver"
   ]
  },
  {
   "cell_type": "code",
   "execution_count": 2,
   "metadata": {},
   "outputs": [],
   "source": [
    "#Connect to web driver\n",
    "driver=webdriver.Chrome(r\"D://chromedriver.exe\")  #r converts string to raw string\n",
    "#If not r, we can use executable_path = \"C:/path name\""
   ]
  },
  {
   "cell_type": "code",
   "execution_count": 3,
   "metadata": {},
   "outputs": [],
   "source": [
    "#Getting the website to driver\n",
    "driver.get('https://www.naukri.com/')\n",
    "\n",
    "#When we run this line, automatically the webpage will be opened"
   ]
  },
  {
   "cell_type": "code",
   "execution_count": 4,
   "metadata": {},
   "outputs": [],
   "source": [
    "#Finding the required elements from the search bars of job and location\n",
    "job_search=driver.find_element_by_id('qsb-keyword-sugg')\n",
    "location_search=driver.find_element_by_id('qsb-location-sugg')\n",
    "\n",
    "#Sending the inputs to the webpage\n",
    "job_search.send_keys(\"Data Analyst\")\n",
    "location_search.send_keys(\"Bangalore\")\n",
    "\n",
    "#Searching the inputs by using the search button and clicking it\n",
    "driver.find_element_by_xpath(\"//div[@class='search-btn']/button\").click()"
   ]
  },
  {
   "cell_type": "code",
   "execution_count": 5,
   "metadata": {},
   "outputs": [],
   "source": [
    "#Specifying the url of the webpage to be scraped\n",
    "url=\"https://www.naukri.com/data-analyst-jobs-in-bangalore?k=data%20analyst&l=bangalore\"\n",
    "driver.get(url)"
   ]
  },
  {
   "cell_type": "code",
   "execution_count": 6,
   "metadata": {},
   "outputs": [
    {
     "data": {
      "text/plain": [
       "[<selenium.webdriver.remote.webelement.WebElement (session=\"b8d33933f0a1eaf0ee35acc94d52b265\", element=\"93e77bc2-8f65-4979-b5e9-1b98039607e7\")>,\n",
       " <selenium.webdriver.remote.webelement.WebElement (session=\"b8d33933f0a1eaf0ee35acc94d52b265\", element=\"ff1a1abc-0b01-4f4b-bfd0-14697849248c\")>,\n",
       " <selenium.webdriver.remote.webelement.WebElement (session=\"b8d33933f0a1eaf0ee35acc94d52b265\", element=\"c3ea5616-1afc-4025-b677-46f48c6617fb\")>,\n",
       " <selenium.webdriver.remote.webelement.WebElement (session=\"b8d33933f0a1eaf0ee35acc94d52b265\", element=\"944b8c3f-c9d0-4620-a0f3-bfc16260ebce\")>,\n",
       " <selenium.webdriver.remote.webelement.WebElement (session=\"b8d33933f0a1eaf0ee35acc94d52b265\", element=\"5387b812-2531-411b-9808-71ab157f29c5\")>,\n",
       " <selenium.webdriver.remote.webelement.WebElement (session=\"b8d33933f0a1eaf0ee35acc94d52b265\", element=\"1a221a26-c0df-4eef-8989-6338996ada06\")>,\n",
       " <selenium.webdriver.remote.webelement.WebElement (session=\"b8d33933f0a1eaf0ee35acc94d52b265\", element=\"fb232665-f732-4995-8975-81d2c1edec56\")>,\n",
       " <selenium.webdriver.remote.webelement.WebElement (session=\"b8d33933f0a1eaf0ee35acc94d52b265\", element=\"4db56498-9e3f-43c9-ab2f-5442e6bae23d\")>,\n",
       " <selenium.webdriver.remote.webelement.WebElement (session=\"b8d33933f0a1eaf0ee35acc94d52b265\", element=\"edfc44ab-c464-4d7f-939f-ce81dd0f51c9\")>,\n",
       " <selenium.webdriver.remote.webelement.WebElement (session=\"b8d33933f0a1eaf0ee35acc94d52b265\", element=\"2b44e8e9-9a2d-4aa0-85f2-2f142be05860\")>,\n",
       " <selenium.webdriver.remote.webelement.WebElement (session=\"b8d33933f0a1eaf0ee35acc94d52b265\", element=\"f901b1a1-37fb-4deb-93ac-b197e8779491\")>,\n",
       " <selenium.webdriver.remote.webelement.WebElement (session=\"b8d33933f0a1eaf0ee35acc94d52b265\", element=\"c2acd318-c393-4c0f-bc21-e0c0afa26896\")>,\n",
       " <selenium.webdriver.remote.webelement.WebElement (session=\"b8d33933f0a1eaf0ee35acc94d52b265\", element=\"e1d77d0c-8b73-4f5a-a438-c4170a24e0e8\")>,\n",
       " <selenium.webdriver.remote.webelement.WebElement (session=\"b8d33933f0a1eaf0ee35acc94d52b265\", element=\"caea2903-bb52-4a6e-91cb-3cc8a9b0eda7\")>,\n",
       " <selenium.webdriver.remote.webelement.WebElement (session=\"b8d33933f0a1eaf0ee35acc94d52b265\", element=\"5d7522e1-c78b-4a1a-a301-a29579cde789\")>,\n",
       " <selenium.webdriver.remote.webelement.WebElement (session=\"b8d33933f0a1eaf0ee35acc94d52b265\", element=\"b0289b4f-ec48-496d-afe0-739e9b2d3b51\")>,\n",
       " <selenium.webdriver.remote.webelement.WebElement (session=\"b8d33933f0a1eaf0ee35acc94d52b265\", element=\"56455604-85b0-4c76-9195-499fb20b3537\")>,\n",
       " <selenium.webdriver.remote.webelement.WebElement (session=\"b8d33933f0a1eaf0ee35acc94d52b265\", element=\"e0410fe8-8976-401f-8e5a-f404166b855d\")>,\n",
       " <selenium.webdriver.remote.webelement.WebElement (session=\"b8d33933f0a1eaf0ee35acc94d52b265\", element=\"bdbe6a25-4232-470b-9d61-517d0d7b5108\")>,\n",
       " <selenium.webdriver.remote.webelement.WebElement (session=\"b8d33933f0a1eaf0ee35acc94d52b265\", element=\"d180dddc-a506-43c6-8cce-870cf8676f69\")>]"
      ]
     },
     "execution_count": 6,
     "metadata": {},
     "output_type": "execute_result"
    }
   ],
   "source": [
    "#Extracting all the tags having the job title\n",
    "job_title=driver.find_elements_by_xpath(\"//a[@class='title fw500 ellipsis']\")\n",
    "job_title"
   ]
  },
  {
   "cell_type": "code",
   "execution_count": 7,
   "metadata": {},
   "outputs": [
    {
     "data": {
      "text/plain": [
       "['Azure Data Analyst',\n",
       " 'Data Analyst',\n",
       " 'Data Analyst',\n",
       " 'Data Analyst',\n",
       " 'Data Analyst',\n",
       " 'Data Analyst',\n",
       " 'Data Analyst',\n",
       " 'Data Analyst',\n",
       " 'Data Analyst',\n",
       " 'Data Analyst']"
      ]
     },
     "execution_count": 7,
     "metadata": {},
     "output_type": "execute_result"
    }
   ],
   "source": [
    "#Extracting the text from the tags\n",
    "title=[]  #Empty list\n",
    "\n",
    "#As we need to scrap data for the first 10 job results, we are running a for loop for first 10 results only\n",
    "for i in job_title[:10]:\n",
    "    title.append(i.text)\n",
    "title    "
   ]
  },
  {
   "cell_type": "code",
   "execution_count": 8,
   "metadata": {},
   "outputs": [
    {
     "data": {
      "text/plain": [
       "[<selenium.webdriver.remote.webelement.WebElement (session=\"b8d33933f0a1eaf0ee35acc94d52b265\", element=\"71daa7bc-d8d3-45d0-8c56-b6ef45c5099a\")>,\n",
       " <selenium.webdriver.remote.webelement.WebElement (session=\"b8d33933f0a1eaf0ee35acc94d52b265\", element=\"d0627025-0ae7-4890-a915-53f47db6f94d\")>,\n",
       " <selenium.webdriver.remote.webelement.WebElement (session=\"b8d33933f0a1eaf0ee35acc94d52b265\", element=\"388c4b26-e576-4d96-b9b1-94c3b912dce2\")>,\n",
       " <selenium.webdriver.remote.webelement.WebElement (session=\"b8d33933f0a1eaf0ee35acc94d52b265\", element=\"a31d01c6-7a25-484e-80f3-728ce0b32517\")>,\n",
       " <selenium.webdriver.remote.webelement.WebElement (session=\"b8d33933f0a1eaf0ee35acc94d52b265\", element=\"aee5743b-0ec1-4b31-9413-bfa959fde902\")>,\n",
       " <selenium.webdriver.remote.webelement.WebElement (session=\"b8d33933f0a1eaf0ee35acc94d52b265\", element=\"76a19848-1a32-4eb4-9935-d1dd20ae6e98\")>,\n",
       " <selenium.webdriver.remote.webelement.WebElement (session=\"b8d33933f0a1eaf0ee35acc94d52b265\", element=\"04d60c5a-22f1-4075-989f-cb8e9b61bd11\")>,\n",
       " <selenium.webdriver.remote.webelement.WebElement (session=\"b8d33933f0a1eaf0ee35acc94d52b265\", element=\"912fcdd7-6df4-4993-8615-57808600c84a\")>,\n",
       " <selenium.webdriver.remote.webelement.WebElement (session=\"b8d33933f0a1eaf0ee35acc94d52b265\", element=\"b725943b-7d8d-4e71-b522-692961c5cbf7\")>,\n",
       " <selenium.webdriver.remote.webelement.WebElement (session=\"b8d33933f0a1eaf0ee35acc94d52b265\", element=\"ee4bca2d-2ddd-4bb0-91f9-38b36e0e9df1\")>,\n",
       " <selenium.webdriver.remote.webelement.WebElement (session=\"b8d33933f0a1eaf0ee35acc94d52b265\", element=\"f862d8f8-522e-421e-a249-f0be950ec147\")>,\n",
       " <selenium.webdriver.remote.webelement.WebElement (session=\"b8d33933f0a1eaf0ee35acc94d52b265\", element=\"4d6271cd-d8cf-4a3f-a659-91406723d831\")>,\n",
       " <selenium.webdriver.remote.webelement.WebElement (session=\"b8d33933f0a1eaf0ee35acc94d52b265\", element=\"a303c856-d8a7-4f00-9ec0-8aad267ae14e\")>,\n",
       " <selenium.webdriver.remote.webelement.WebElement (session=\"b8d33933f0a1eaf0ee35acc94d52b265\", element=\"0a234991-d642-4d19-a54d-5c30a183d4d5\")>,\n",
       " <selenium.webdriver.remote.webelement.WebElement (session=\"b8d33933f0a1eaf0ee35acc94d52b265\", element=\"77a13a55-39fe-45cd-908a-311e596ef471\")>,\n",
       " <selenium.webdriver.remote.webelement.WebElement (session=\"b8d33933f0a1eaf0ee35acc94d52b265\", element=\"bdd9770b-da3b-464e-9a88-055de23f99d8\")>,\n",
       " <selenium.webdriver.remote.webelement.WebElement (session=\"b8d33933f0a1eaf0ee35acc94d52b265\", element=\"dd918c57-a855-43ea-80a5-bbf3b5b7f6c8\")>,\n",
       " <selenium.webdriver.remote.webelement.WebElement (session=\"b8d33933f0a1eaf0ee35acc94d52b265\", element=\"0d52dd28-ec2f-4ea6-a6fa-44c6ca7e56ba\")>,\n",
       " <selenium.webdriver.remote.webelement.WebElement (session=\"b8d33933f0a1eaf0ee35acc94d52b265\", element=\"20a681d8-1fe6-4201-a841-09af8db12b50\")>,\n",
       " <selenium.webdriver.remote.webelement.WebElement (session=\"b8d33933f0a1eaf0ee35acc94d52b265\", element=\"935e02d6-2229-45c7-895a-e08c84e10a24\")>]"
      ]
     },
     "execution_count": 8,
     "metadata": {},
     "output_type": "execute_result"
    }
   ],
   "source": [
    "#Extracting all the tags having the job location\n",
    "job_location=driver.find_elements_by_xpath(\"//li[@class='fleft grey-text br2 placeHolderLi location']/span\")\n",
    "job_location"
   ]
  },
  {
   "cell_type": "code",
   "execution_count": 9,
   "metadata": {},
   "outputs": [
    {
     "data": {
      "text/plain": [
       "['Bangalore/Bengaluru',\n",
       " 'Bangalore/Bengaluru',\n",
       " 'Bangalore/Bengaluru(Devalapur)',\n",
       " 'Bangalore/Bengaluru',\n",
       " 'Bangalore/Bengaluru',\n",
       " 'Bangalore/Bengaluru',\n",
       " 'Bangalore/Bengaluru',\n",
       " 'Bangalore/Bengaluru',\n",
       " 'Bangalore/Bengaluru',\n",
       " 'Bangalore/Bengaluru']"
      ]
     },
     "execution_count": 9,
     "metadata": {},
     "output_type": "execute_result"
    }
   ],
   "source": [
    "#Extracting the text from the tags\n",
    "location=[]  #Empty list\n",
    "\n",
    "#As we need to scrap data for the first 10 job results, we are running a for loop for first 10 results only\n",
    "for i in job_location[:10]:\n",
    "    location.append(i.text)\n",
    "location    "
   ]
  },
  {
   "cell_type": "code",
   "execution_count": 10,
   "metadata": {},
   "outputs": [
    {
     "data": {
      "text/plain": [
       "[<selenium.webdriver.remote.webelement.WebElement (session=\"b8d33933f0a1eaf0ee35acc94d52b265\", element=\"c0e5bf69-ebb7-4e3d-93ce-c1c6fadb9458\")>,\n",
       " <selenium.webdriver.remote.webelement.WebElement (session=\"b8d33933f0a1eaf0ee35acc94d52b265\", element=\"edc1173b-5c5e-48b5-b887-29768101ffd3\")>,\n",
       " <selenium.webdriver.remote.webelement.WebElement (session=\"b8d33933f0a1eaf0ee35acc94d52b265\", element=\"1e704da0-827c-4562-b9c2-74eefaf1e528\")>,\n",
       " <selenium.webdriver.remote.webelement.WebElement (session=\"b8d33933f0a1eaf0ee35acc94d52b265\", element=\"954576de-ce73-45b9-9609-37a5ac8ae180\")>,\n",
       " <selenium.webdriver.remote.webelement.WebElement (session=\"b8d33933f0a1eaf0ee35acc94d52b265\", element=\"04474c4d-874f-4506-a097-78b313f91a84\")>,\n",
       " <selenium.webdriver.remote.webelement.WebElement (session=\"b8d33933f0a1eaf0ee35acc94d52b265\", element=\"c8686d07-5376-4544-9ebf-3c7d086ffebd\")>,\n",
       " <selenium.webdriver.remote.webelement.WebElement (session=\"b8d33933f0a1eaf0ee35acc94d52b265\", element=\"20a15321-8535-44e1-8546-9f8b4e7cf53d\")>,\n",
       " <selenium.webdriver.remote.webelement.WebElement (session=\"b8d33933f0a1eaf0ee35acc94d52b265\", element=\"e63faec6-2a3f-41f0-867e-e45048bcd79d\")>,\n",
       " <selenium.webdriver.remote.webelement.WebElement (session=\"b8d33933f0a1eaf0ee35acc94d52b265\", element=\"0874a8f5-01c9-47c2-bc62-0672c7da6d54\")>,\n",
       " <selenium.webdriver.remote.webelement.WebElement (session=\"b8d33933f0a1eaf0ee35acc94d52b265\", element=\"8a9058a8-3238-4a7b-bc8c-8675b618c531\")>,\n",
       " <selenium.webdriver.remote.webelement.WebElement (session=\"b8d33933f0a1eaf0ee35acc94d52b265\", element=\"1a7d041c-e9af-412a-ad71-1ddf59d53313\")>,\n",
       " <selenium.webdriver.remote.webelement.WebElement (session=\"b8d33933f0a1eaf0ee35acc94d52b265\", element=\"e1445593-82c2-4053-bcb2-04cf3076175b\")>,\n",
       " <selenium.webdriver.remote.webelement.WebElement (session=\"b8d33933f0a1eaf0ee35acc94d52b265\", element=\"f7d6970e-9ba4-45b9-ba02-d12e7f25390c\")>,\n",
       " <selenium.webdriver.remote.webelement.WebElement (session=\"b8d33933f0a1eaf0ee35acc94d52b265\", element=\"0439d56b-6f80-4409-8e8a-050b1a0b7c96\")>,\n",
       " <selenium.webdriver.remote.webelement.WebElement (session=\"b8d33933f0a1eaf0ee35acc94d52b265\", element=\"cc7e97a5-a6b7-43c6-8e4d-b3656ad59e08\")>,\n",
       " <selenium.webdriver.remote.webelement.WebElement (session=\"b8d33933f0a1eaf0ee35acc94d52b265\", element=\"c0a5a098-6392-480e-963d-55ec7458fd84\")>,\n",
       " <selenium.webdriver.remote.webelement.WebElement (session=\"b8d33933f0a1eaf0ee35acc94d52b265\", element=\"58cef4a7-f29e-4b85-8e2f-e674543ee066\")>,\n",
       " <selenium.webdriver.remote.webelement.WebElement (session=\"b8d33933f0a1eaf0ee35acc94d52b265\", element=\"19edf305-5ef2-49ba-9c2b-1065a1baed67\")>,\n",
       " <selenium.webdriver.remote.webelement.WebElement (session=\"b8d33933f0a1eaf0ee35acc94d52b265\", element=\"13201fc9-8d5c-4aa2-83a0-6b1c8ccb8caf\")>,\n",
       " <selenium.webdriver.remote.webelement.WebElement (session=\"b8d33933f0a1eaf0ee35acc94d52b265\", element=\"fdc9fd3a-f7ba-4529-aaae-49a738db77c2\")>]"
      ]
     },
     "execution_count": 10,
     "metadata": {},
     "output_type": "execute_result"
    }
   ],
   "source": [
    "#Extracting the tags having the company name\n",
    "name=driver.find_elements_by_xpath(\"//a[@class='subTitle ellipsis fleft']\")\n",
    "name"
   ]
  },
  {
   "cell_type": "code",
   "execution_count": 11,
   "metadata": {},
   "outputs": [
    {
     "data": {
      "text/plain": [
       "['Capgemini Technology Services India Limited',\n",
       " 'RedLock, Inc',\n",
       " 'Super India Tech Mark',\n",
       " 'tech mahindra ltd',\n",
       " 'CONDUENT BUSINESS SERVICES INDIA LLP',\n",
       " 'GlaxoSmithKline Pharmaceuticals Limited',\n",
       " 'Myntra Designs Pvt. Ltd.',\n",
       " 'Myntra Designs Pvt. Ltd.',\n",
       " 'Myntra Designs Pvt. Ltd.',\n",
       " 'Myntra Designs Pvt. Ltd.']"
      ]
     },
     "execution_count": 11,
     "metadata": {},
     "output_type": "execute_result"
    }
   ],
   "source": [
    "#Extracting the text from the tags\n",
    "company=[]  #Empty list\n",
    "\n",
    "#As we need to scrap data for the first 10 job results, we are running a for loop for first 10 results only\n",
    "for i in name[:10]:\n",
    "    company.append(i.text)\n",
    "company"
   ]
  },
  {
   "cell_type": "code",
   "execution_count": 12,
   "metadata": {},
   "outputs": [
    {
     "data": {
      "text/plain": [
       "[<selenium.webdriver.remote.webelement.WebElement (session=\"b8d33933f0a1eaf0ee35acc94d52b265\", element=\"49a31153-1cac-498e-a114-ae6bd0fd049e\")>,\n",
       " <selenium.webdriver.remote.webelement.WebElement (session=\"b8d33933f0a1eaf0ee35acc94d52b265\", element=\"3a295777-4ff9-4547-b791-f169265f288c\")>,\n",
       " <selenium.webdriver.remote.webelement.WebElement (session=\"b8d33933f0a1eaf0ee35acc94d52b265\", element=\"c7097837-bc1c-432b-9683-cf8c345edfce\")>,\n",
       " <selenium.webdriver.remote.webelement.WebElement (session=\"b8d33933f0a1eaf0ee35acc94d52b265\", element=\"94970afa-f686-44c8-b24c-26abf1ddaa07\")>,\n",
       " <selenium.webdriver.remote.webelement.WebElement (session=\"b8d33933f0a1eaf0ee35acc94d52b265\", element=\"65504530-09fc-4984-8958-795785eadc6d\")>,\n",
       " <selenium.webdriver.remote.webelement.WebElement (session=\"b8d33933f0a1eaf0ee35acc94d52b265\", element=\"c82fb6df-4d0a-4c21-8baf-cd379e5b1326\")>,\n",
       " <selenium.webdriver.remote.webelement.WebElement (session=\"b8d33933f0a1eaf0ee35acc94d52b265\", element=\"b296de18-efa1-48fa-98dc-e4bd78b82494\")>,\n",
       " <selenium.webdriver.remote.webelement.WebElement (session=\"b8d33933f0a1eaf0ee35acc94d52b265\", element=\"ce3172cb-5eef-4d73-84de-9e19989ecb05\")>,\n",
       " <selenium.webdriver.remote.webelement.WebElement (session=\"b8d33933f0a1eaf0ee35acc94d52b265\", element=\"bac49a90-863a-430d-b457-73b4d98c62d6\")>,\n",
       " <selenium.webdriver.remote.webelement.WebElement (session=\"b8d33933f0a1eaf0ee35acc94d52b265\", element=\"5bab442d-bedd-47a0-8cbc-72057b3c5eec\")>,\n",
       " <selenium.webdriver.remote.webelement.WebElement (session=\"b8d33933f0a1eaf0ee35acc94d52b265\", element=\"f4425324-0d9f-4543-b8c2-2f40ae7f38ce\")>,\n",
       " <selenium.webdriver.remote.webelement.WebElement (session=\"b8d33933f0a1eaf0ee35acc94d52b265\", element=\"2be122eb-c59e-48c3-ab83-68ccc7aef34a\")>,\n",
       " <selenium.webdriver.remote.webelement.WebElement (session=\"b8d33933f0a1eaf0ee35acc94d52b265\", element=\"f9ddc41b-4ba1-43be-b0c0-d894a9858fab\")>,\n",
       " <selenium.webdriver.remote.webelement.WebElement (session=\"b8d33933f0a1eaf0ee35acc94d52b265\", element=\"a0b98163-fd5d-40fe-8d64-d07d5a89c062\")>,\n",
       " <selenium.webdriver.remote.webelement.WebElement (session=\"b8d33933f0a1eaf0ee35acc94d52b265\", element=\"0c4b97a2-7ea1-45da-9c75-3007d5782545\")>,\n",
       " <selenium.webdriver.remote.webelement.WebElement (session=\"b8d33933f0a1eaf0ee35acc94d52b265\", element=\"63c49ffd-7777-497e-b0e0-b2c4de02ff9c\")>,\n",
       " <selenium.webdriver.remote.webelement.WebElement (session=\"b8d33933f0a1eaf0ee35acc94d52b265\", element=\"933033de-d950-4fa9-b3f4-4a1726fc2bfb\")>,\n",
       " <selenium.webdriver.remote.webelement.WebElement (session=\"b8d33933f0a1eaf0ee35acc94d52b265\", element=\"609a6bae-75cf-41e4-8683-a16501f9cb51\")>,\n",
       " <selenium.webdriver.remote.webelement.WebElement (session=\"b8d33933f0a1eaf0ee35acc94d52b265\", element=\"c61faa5a-593b-446b-8b81-c3c30e7221ec\")>,\n",
       " <selenium.webdriver.remote.webelement.WebElement (session=\"b8d33933f0a1eaf0ee35acc94d52b265\", element=\"e8d43262-5284-46e6-aafb-50ebeea27ac8\")>]"
      ]
     },
     "execution_count": 12,
     "metadata": {},
     "output_type": "execute_result"
    }
   ],
   "source": [
    "#Extracting the tags having experience required\n",
    "exp_required=driver.find_elements_by_xpath(\"//li[@class='fleft grey-text br2 placeHolderLi experience']/span\")\n",
    "exp_required"
   ]
  },
  {
   "cell_type": "code",
   "execution_count": 13,
   "metadata": {},
   "outputs": [
    {
     "data": {
      "text/plain": [
       "['6-8 Yrs',\n",
       " '0-0 Yrs',\n",
       " '0-2 Yrs',\n",
       " '4-8 Yrs',\n",
       " '1-2 Yrs',\n",
       " '2-7 Yrs',\n",
       " '3-6 Yrs',\n",
       " '4-8 Yrs',\n",
       " '3-8 Yrs',\n",
       " '4-8 Yrs']"
      ]
     },
     "execution_count": 13,
     "metadata": {},
     "output_type": "execute_result"
    }
   ],
   "source": [
    "#Extracting the text from the tags\n",
    "exp=[]  #Empty list\n",
    "\n",
    "#As we need to scrap data for the first 10 job results, we are running a for loop for first 10 results only\n",
    "for i in exp_required[:10]:\n",
    "    exp.append(i.text)\n",
    "exp"
   ]
  },
  {
   "cell_type": "code",
   "execution_count": 14,
   "metadata": {},
   "outputs": [
    {
     "name": "stdout",
     "output_type": "stream",
     "text": [
      "10 10 10 10\n"
     ]
    }
   ],
   "source": [
    "#Checking out the length of the data extracted\n",
    "print(len(title),len(location),len(company),len(exp))"
   ]
  },
  {
   "cell_type": "code",
   "execution_count": 15,
   "metadata": {},
   "outputs": [
    {
     "data": {
      "text/html": [
       "<div>\n",
       "<style scoped>\n",
       "    .dataframe tbody tr th:only-of-type {\n",
       "        vertical-align: middle;\n",
       "    }\n",
       "\n",
       "    .dataframe tbody tr th {\n",
       "        vertical-align: top;\n",
       "    }\n",
       "\n",
       "    .dataframe thead th {\n",
       "        text-align: right;\n",
       "    }\n",
       "</style>\n",
       "<table border=\"1\" class=\"dataframe\">\n",
       "  <thead>\n",
       "    <tr style=\"text-align: right;\">\n",
       "      <th></th>\n",
       "      <th>Title</th>\n",
       "      <th>Location</th>\n",
       "      <th>Company name</th>\n",
       "      <th>Experience required</th>\n",
       "    </tr>\n",
       "  </thead>\n",
       "  <tbody>\n",
       "    <tr>\n",
       "      <th>0</th>\n",
       "      <td>Azure Data Analyst</td>\n",
       "      <td>Bangalore/Bengaluru</td>\n",
       "      <td>Capgemini Technology Services India Limited</td>\n",
       "      <td>6-8 Yrs</td>\n",
       "    </tr>\n",
       "    <tr>\n",
       "      <th>1</th>\n",
       "      <td>Data Analyst</td>\n",
       "      <td>Bangalore/Bengaluru</td>\n",
       "      <td>RedLock, Inc</td>\n",
       "      <td>0-0 Yrs</td>\n",
       "    </tr>\n",
       "    <tr>\n",
       "      <th>2</th>\n",
       "      <td>Data Analyst</td>\n",
       "      <td>Bangalore/Bengaluru(Devalapur)</td>\n",
       "      <td>Super India Tech Mark</td>\n",
       "      <td>0-2 Yrs</td>\n",
       "    </tr>\n",
       "    <tr>\n",
       "      <th>3</th>\n",
       "      <td>Data Analyst</td>\n",
       "      <td>Bangalore/Bengaluru</td>\n",
       "      <td>tech mahindra ltd</td>\n",
       "      <td>4-8 Yrs</td>\n",
       "    </tr>\n",
       "    <tr>\n",
       "      <th>4</th>\n",
       "      <td>Data Analyst</td>\n",
       "      <td>Bangalore/Bengaluru</td>\n",
       "      <td>CONDUENT BUSINESS SERVICES INDIA LLP</td>\n",
       "      <td>1-2 Yrs</td>\n",
       "    </tr>\n",
       "    <tr>\n",
       "      <th>5</th>\n",
       "      <td>Data Analyst</td>\n",
       "      <td>Bangalore/Bengaluru</td>\n",
       "      <td>GlaxoSmithKline Pharmaceuticals Limited</td>\n",
       "      <td>2-7 Yrs</td>\n",
       "    </tr>\n",
       "    <tr>\n",
       "      <th>6</th>\n",
       "      <td>Data Analyst</td>\n",
       "      <td>Bangalore/Bengaluru</td>\n",
       "      <td>Myntra Designs Pvt. Ltd.</td>\n",
       "      <td>3-6 Yrs</td>\n",
       "    </tr>\n",
       "    <tr>\n",
       "      <th>7</th>\n",
       "      <td>Data Analyst</td>\n",
       "      <td>Bangalore/Bengaluru</td>\n",
       "      <td>Myntra Designs Pvt. Ltd.</td>\n",
       "      <td>4-8 Yrs</td>\n",
       "    </tr>\n",
       "    <tr>\n",
       "      <th>8</th>\n",
       "      <td>Data Analyst</td>\n",
       "      <td>Bangalore/Bengaluru</td>\n",
       "      <td>Myntra Designs Pvt. Ltd.</td>\n",
       "      <td>3-8 Yrs</td>\n",
       "    </tr>\n",
       "    <tr>\n",
       "      <th>9</th>\n",
       "      <td>Data Analyst</td>\n",
       "      <td>Bangalore/Bengaluru</td>\n",
       "      <td>Myntra Designs Pvt. Ltd.</td>\n",
       "      <td>4-8 Yrs</td>\n",
       "    </tr>\n",
       "  </tbody>\n",
       "</table>\n",
       "</div>"
      ],
      "text/plain": [
       "                Title                        Location  \\\n",
       "0  Azure Data Analyst             Bangalore/Bengaluru   \n",
       "1        Data Analyst             Bangalore/Bengaluru   \n",
       "2        Data Analyst  Bangalore/Bengaluru(Devalapur)   \n",
       "3        Data Analyst             Bangalore/Bengaluru   \n",
       "4        Data Analyst             Bangalore/Bengaluru   \n",
       "5        Data Analyst             Bangalore/Bengaluru   \n",
       "6        Data Analyst             Bangalore/Bengaluru   \n",
       "7        Data Analyst             Bangalore/Bengaluru   \n",
       "8        Data Analyst             Bangalore/Bengaluru   \n",
       "9        Data Analyst             Bangalore/Bengaluru   \n",
       "\n",
       "                                  Company name Experience required  \n",
       "0  Capgemini Technology Services India Limited             6-8 Yrs  \n",
       "1                                 RedLock, Inc             0-0 Yrs  \n",
       "2                        Super India Tech Mark             0-2 Yrs  \n",
       "3                            tech mahindra ltd             4-8 Yrs  \n",
       "4         CONDUENT BUSINESS SERVICES INDIA LLP             1-2 Yrs  \n",
       "5      GlaxoSmithKline Pharmaceuticals Limited             2-7 Yrs  \n",
       "6                     Myntra Designs Pvt. Ltd.             3-6 Yrs  \n",
       "7                     Myntra Designs Pvt. Ltd.             4-8 Yrs  \n",
       "8                     Myntra Designs Pvt. Ltd.             3-8 Yrs  \n",
       "9                     Myntra Designs Pvt. Ltd.             4-8 Yrs  "
      ]
     },
     "execution_count": 15,
     "metadata": {},
     "output_type": "execute_result"
    }
   ],
   "source": [
    "#Creating a new dataframe for saving the data\n",
    "jobs=pd.DataFrame({})\n",
    "jobs['Title']=title\n",
    "jobs['Location']=location\n",
    "jobs['Company name']=company\n",
    "jobs['Experience required']=exp\n",
    "jobs"
   ]
  },
  {
   "cell_type": "code",
   "execution_count": 16,
   "metadata": {},
   "outputs": [],
   "source": [
    "#Saving the data into a csv file\n",
    "jobs.to_csv(\"DA_Bangalore_Naukrijobs.csv\")"
   ]
  },
  {
   "cell_type": "code",
   "execution_count": 17,
   "metadata": {},
   "outputs": [],
   "source": [
    "#Closing the driver\n",
    "driver.close()"
   ]
  },
  {
   "cell_type": "markdown",
   "metadata": {},
   "source": [
    "# Q2: Write a python program to scrape data for “Data Scientist” Job position in “Bangalore” location. You have to scrape the job-title, job-location, company_name, full job-description. You have to scrape first 10 jobs data."
   ]
  },
  {
   "cell_type": "markdown",
   "metadata": {},
   "source": [
    "This task will be done in following steps:\n",
    "1. First, get the webpage https://www.naukri.com/\n",
    "2. Enter “Data Scientist” in “Skill,Designations,Companies” field and enter “Bangalore” in “enter the location” field.\n",
    "3. Then click the search button.\n",
    "4. Then scrape the data for the first 10 jobs results you get.\n",
    "5. Finally create a dataframe of the scraped data."
   ]
  },
  {
   "cell_type": "code",
   "execution_count": 18,
   "metadata": {},
   "outputs": [],
   "source": [
    "#Connect to web driver\n",
    "driver=webdriver.Chrome(r\"D://chromedriver.exe\")  #r converts string to raw string\n",
    "#If not r, we can use executable_path = \"C:/path name\""
   ]
  },
  {
   "cell_type": "code",
   "execution_count": 19,
   "metadata": {},
   "outputs": [],
   "source": [
    "#Getting the website to driver\n",
    "driver.get('https://www.naukri.com/')\n",
    "\n",
    "#When we run this line, automatically the webpage will be opened"
   ]
  },
  {
   "cell_type": "code",
   "execution_count": 20,
   "metadata": {},
   "outputs": [],
   "source": [
    "#Finding the required elements from the search bars of job and location\n",
    "job_search=driver.find_element_by_id('qsb-keyword-sugg')\n",
    "location_search=driver.find_element_by_id('qsb-location-sugg')\n",
    "\n",
    "#Sending the inputs to the webpage\n",
    "job_search.send_keys(\"Data Scientist\")\n",
    "location_search.send_keys(\"Bangalore\")\n",
    "\n",
    "#Searching the inputs by using the search button and clicking it\n",
    "driver.find_element_by_xpath(\"//div[@class='search-btn']/button\").click()"
   ]
  },
  {
   "cell_type": "code",
   "execution_count": 21,
   "metadata": {},
   "outputs": [],
   "source": [
    "#Specifying the url of the webpage to be scraped\n",
    "url=\"https://www.naukri.com/data-scientist-jobs-in-bangalore?k=data%20scientist&l=bangalore\"\n",
    "driver.get(url)"
   ]
  },
  {
   "cell_type": "code",
   "execution_count": 22,
   "metadata": {},
   "outputs": [
    {
     "data": {
      "text/plain": [
       "[<selenium.webdriver.remote.webelement.WebElement (session=\"0718344e3ae352a64a0333a7e23ab33a\", element=\"99a20c63-c660-45f5-836b-11cee8478209\")>,\n",
       " <selenium.webdriver.remote.webelement.WebElement (session=\"0718344e3ae352a64a0333a7e23ab33a\", element=\"78ee1ca9-3591-4e76-8749-af81b273d56c\")>,\n",
       " <selenium.webdriver.remote.webelement.WebElement (session=\"0718344e3ae352a64a0333a7e23ab33a\", element=\"8c0ed982-dc23-437c-99e6-50140ce533d8\")>,\n",
       " <selenium.webdriver.remote.webelement.WebElement (session=\"0718344e3ae352a64a0333a7e23ab33a\", element=\"eac9c77e-1117-4ff5-895a-2243f22ed21d\")>,\n",
       " <selenium.webdriver.remote.webelement.WebElement (session=\"0718344e3ae352a64a0333a7e23ab33a\", element=\"32c72b10-d701-41d0-8f0b-a8c36028b7a8\")>,\n",
       " <selenium.webdriver.remote.webelement.WebElement (session=\"0718344e3ae352a64a0333a7e23ab33a\", element=\"b747b1b8-f45b-4bf1-ae68-43c725837d7e\")>,\n",
       " <selenium.webdriver.remote.webelement.WebElement (session=\"0718344e3ae352a64a0333a7e23ab33a\", element=\"f3b80375-88c7-48c5-92d7-5801a0a10b7c\")>,\n",
       " <selenium.webdriver.remote.webelement.WebElement (session=\"0718344e3ae352a64a0333a7e23ab33a\", element=\"9507e32b-a1e3-47d7-80ff-789bb61f2e1d\")>,\n",
       " <selenium.webdriver.remote.webelement.WebElement (session=\"0718344e3ae352a64a0333a7e23ab33a\", element=\"0b65201a-f354-4112-b7b3-67fc4dfa1227\")>,\n",
       " <selenium.webdriver.remote.webelement.WebElement (session=\"0718344e3ae352a64a0333a7e23ab33a\", element=\"fa09d44e-4111-475d-a789-a91eaab8a91c\")>,\n",
       " <selenium.webdriver.remote.webelement.WebElement (session=\"0718344e3ae352a64a0333a7e23ab33a\", element=\"4d32a7c4-dd79-4bd3-adfa-76408afe14db\")>,\n",
       " <selenium.webdriver.remote.webelement.WebElement (session=\"0718344e3ae352a64a0333a7e23ab33a\", element=\"ac1fb06d-be44-4148-bc6b-8c88ec8c095f\")>,\n",
       " <selenium.webdriver.remote.webelement.WebElement (session=\"0718344e3ae352a64a0333a7e23ab33a\", element=\"9d174115-f524-4c1b-8405-23303621df1c\")>,\n",
       " <selenium.webdriver.remote.webelement.WebElement (session=\"0718344e3ae352a64a0333a7e23ab33a\", element=\"7ad1ee1b-7cd9-49e0-8f3e-c58f9e120c17\")>,\n",
       " <selenium.webdriver.remote.webelement.WebElement (session=\"0718344e3ae352a64a0333a7e23ab33a\", element=\"fe2383a9-523e-4fc9-a538-617442dea049\")>,\n",
       " <selenium.webdriver.remote.webelement.WebElement (session=\"0718344e3ae352a64a0333a7e23ab33a\", element=\"1e8812dc-4973-4837-b479-4edf6d2b5c7b\")>,\n",
       " <selenium.webdriver.remote.webelement.WebElement (session=\"0718344e3ae352a64a0333a7e23ab33a\", element=\"af04c3c4-2539-4c42-a10f-2d4e24e130e9\")>,\n",
       " <selenium.webdriver.remote.webelement.WebElement (session=\"0718344e3ae352a64a0333a7e23ab33a\", element=\"a605a50c-b7aa-4e4b-8079-269e674db260\")>,\n",
       " <selenium.webdriver.remote.webelement.WebElement (session=\"0718344e3ae352a64a0333a7e23ab33a\", element=\"03cabca5-b1b1-411b-b586-89a3412067d7\")>,\n",
       " <selenium.webdriver.remote.webelement.WebElement (session=\"0718344e3ae352a64a0333a7e23ab33a\", element=\"4ec05ae9-6436-458d-8a23-90cab1b739fc\")>]"
      ]
     },
     "execution_count": 22,
     "metadata": {},
     "output_type": "execute_result"
    }
   ],
   "source": [
    "#Extracting all the tags having the job title\n",
    "job_title=driver.find_elements_by_xpath(\"//a[@class='title fw500 ellipsis']\")\n",
    "job_title"
   ]
  },
  {
   "cell_type": "code",
   "execution_count": 23,
   "metadata": {},
   "outputs": [
    {
     "data": {
      "text/plain": [
       "['Data Scientist',\n",
       " 'Opportunity For Data Scientist Internship - Bengaluru',\n",
       " 'Data Scientist - Machine Learning',\n",
       " 'Data Scientist || Data Analyst || Data science',\n",
       " 'Data Scientist - IBM Garage',\n",
       " 'GAMMA Lead Data Scientist',\n",
       " 'DBCG IND - GAMMA Senior Data Scientist',\n",
       " 'Data Scientist/Senior Data Scientist',\n",
       " 'Senior Data Scientist | CES IT LTD | CMMI Level 5',\n",
       " 'Global Medical Data Scientist']"
      ]
     },
     "execution_count": 23,
     "metadata": {},
     "output_type": "execute_result"
    }
   ],
   "source": [
    "#Extracting the text from the tags\n",
    "title=[]  #Empty list\n",
    "\n",
    "#As we need to scrap data for the first 10 job results, we are running a for loop for first 10 results only\n",
    "for i in job_title[:10]:\n",
    "    title.append(i.text)\n",
    "title    "
   ]
  },
  {
   "cell_type": "code",
   "execution_count": 24,
   "metadata": {},
   "outputs": [
    {
     "data": {
      "text/plain": [
       "[<selenium.webdriver.remote.webelement.WebElement (session=\"0718344e3ae352a64a0333a7e23ab33a\", element=\"50f42b22-6b6a-465c-bcbc-36792848c7db\")>,\n",
       " <selenium.webdriver.remote.webelement.WebElement (session=\"0718344e3ae352a64a0333a7e23ab33a\", element=\"b3a3c0c7-b370-4a22-935f-ce02ff95939b\")>,\n",
       " <selenium.webdriver.remote.webelement.WebElement (session=\"0718344e3ae352a64a0333a7e23ab33a\", element=\"76db1f70-c28a-4c4c-9d46-9b54cbc28184\")>,\n",
       " <selenium.webdriver.remote.webelement.WebElement (session=\"0718344e3ae352a64a0333a7e23ab33a\", element=\"6964ee29-1d9b-4f54-9bb5-aa3022993cc2\")>,\n",
       " <selenium.webdriver.remote.webelement.WebElement (session=\"0718344e3ae352a64a0333a7e23ab33a\", element=\"d0b892e1-26d5-4c82-90b9-fde218de34de\")>,\n",
       " <selenium.webdriver.remote.webelement.WebElement (session=\"0718344e3ae352a64a0333a7e23ab33a\", element=\"d3f0ad04-809f-4cb6-b8c1-b5cadfe86678\")>,\n",
       " <selenium.webdriver.remote.webelement.WebElement (session=\"0718344e3ae352a64a0333a7e23ab33a\", element=\"1d721ea1-4ef3-42e3-89a4-bdecf0ac33f1\")>,\n",
       " <selenium.webdriver.remote.webelement.WebElement (session=\"0718344e3ae352a64a0333a7e23ab33a\", element=\"584bdf7d-9cd8-4620-a6a4-5f213eb521f8\")>,\n",
       " <selenium.webdriver.remote.webelement.WebElement (session=\"0718344e3ae352a64a0333a7e23ab33a\", element=\"43219274-5fc3-4855-a47a-21aa21ec451e\")>,\n",
       " <selenium.webdriver.remote.webelement.WebElement (session=\"0718344e3ae352a64a0333a7e23ab33a\", element=\"26b4db13-8fb7-4edd-804b-6d13a7261903\")>,\n",
       " <selenium.webdriver.remote.webelement.WebElement (session=\"0718344e3ae352a64a0333a7e23ab33a\", element=\"f1cf7982-6b84-4d81-ac2f-27d25fb9e0ab\")>,\n",
       " <selenium.webdriver.remote.webelement.WebElement (session=\"0718344e3ae352a64a0333a7e23ab33a\", element=\"c8370231-830d-46aa-a153-b0b448a1d7ed\")>,\n",
       " <selenium.webdriver.remote.webelement.WebElement (session=\"0718344e3ae352a64a0333a7e23ab33a\", element=\"8be7441b-4a52-4546-b00d-1a63a2707118\")>,\n",
       " <selenium.webdriver.remote.webelement.WebElement (session=\"0718344e3ae352a64a0333a7e23ab33a\", element=\"1116620a-511f-4716-8cb4-a75b520a6826\")>,\n",
       " <selenium.webdriver.remote.webelement.WebElement (session=\"0718344e3ae352a64a0333a7e23ab33a\", element=\"0d66c285-be75-4aa2-b2bc-0b5cb65a054a\")>,\n",
       " <selenium.webdriver.remote.webelement.WebElement (session=\"0718344e3ae352a64a0333a7e23ab33a\", element=\"bde2b21b-daa3-42bf-a81d-4862927d399f\")>,\n",
       " <selenium.webdriver.remote.webelement.WebElement (session=\"0718344e3ae352a64a0333a7e23ab33a\", element=\"d245b93d-d514-40eb-96a6-607c5c7fa611\")>,\n",
       " <selenium.webdriver.remote.webelement.WebElement (session=\"0718344e3ae352a64a0333a7e23ab33a\", element=\"8de78c6c-7943-4ca0-b398-4c982ff9fe36\")>,\n",
       " <selenium.webdriver.remote.webelement.WebElement (session=\"0718344e3ae352a64a0333a7e23ab33a\", element=\"95a65779-34c8-4fad-bc83-460f002f3b59\")>,\n",
       " <selenium.webdriver.remote.webelement.WebElement (session=\"0718344e3ae352a64a0333a7e23ab33a\", element=\"15b311ad-c236-46e3-a986-aae03d87f673\")>]"
      ]
     },
     "execution_count": 24,
     "metadata": {},
     "output_type": "execute_result"
    }
   ],
   "source": [
    "#Extracting all the tags having the job location\n",
    "job_location=driver.find_elements_by_xpath(\"//li[@class='fleft grey-text br2 placeHolderLi location']/span\")\n",
    "job_location"
   ]
  },
  {
   "cell_type": "code",
   "execution_count": 25,
   "metadata": {},
   "outputs": [
    {
     "data": {
      "text/plain": [
       "['Bangalore/Bengaluru',\n",
       " 'Bangalore/Bengaluru',\n",
       " 'Bangalore/Bengaluru',\n",
       " 'Navi Mumbai, Bangalore/Bengaluru',\n",
       " 'Noida, Hyderabad/Secunderabad, Bangalore/Bengaluru',\n",
       " 'Mumbai, New Delhi, Chennai, Bangalore/Bengaluru',\n",
       " 'Mumbai, New Delhi, Chennai, Bangalore/Bengaluru',\n",
       " 'Hyderabad/Secunderabad, Pune, Chennai, Bangalore/Bengaluru, Mumbai (All Areas)',\n",
       " 'Kolkata, Mumbai, Hyderabad/Secunderabad, Pune, Chennai, Bangalore/Bengaluru, Delhi / NCR',\n",
       " 'Bangalore/Bengaluru']"
      ]
     },
     "execution_count": 25,
     "metadata": {},
     "output_type": "execute_result"
    }
   ],
   "source": [
    "#Extracting the text from the tags\n",
    "location=[]  #Empty list\n",
    "\n",
    "#As we need to scrap data for the first 10 job results, we are running a for loop for first 10 results only\n",
    "for i in job_location[:10]:\n",
    "    location.append(i.text)\n",
    "location    "
   ]
  },
  {
   "cell_type": "code",
   "execution_count": 26,
   "metadata": {},
   "outputs": [
    {
     "data": {
      "text/plain": [
       "[<selenium.webdriver.remote.webelement.WebElement (session=\"0718344e3ae352a64a0333a7e23ab33a\", element=\"aa30041f-0153-4c8e-b4dd-5ceffa850fc7\")>,\n",
       " <selenium.webdriver.remote.webelement.WebElement (session=\"0718344e3ae352a64a0333a7e23ab33a\", element=\"b22e5f7a-d81a-45f3-9551-7fad4396aff6\")>,\n",
       " <selenium.webdriver.remote.webelement.WebElement (session=\"0718344e3ae352a64a0333a7e23ab33a\", element=\"ff3c6a0f-6508-4ac4-9f6f-ae7a4b6cb779\")>,\n",
       " <selenium.webdriver.remote.webelement.WebElement (session=\"0718344e3ae352a64a0333a7e23ab33a\", element=\"3eb7f18d-cc87-471a-8ed9-b5031d145fbd\")>,\n",
       " <selenium.webdriver.remote.webelement.WebElement (session=\"0718344e3ae352a64a0333a7e23ab33a\", element=\"c56ac034-0c02-4842-8075-0120d85e628d\")>,\n",
       " <selenium.webdriver.remote.webelement.WebElement (session=\"0718344e3ae352a64a0333a7e23ab33a\", element=\"297a0599-33d7-4d11-ba3e-75b5fbcb671d\")>,\n",
       " <selenium.webdriver.remote.webelement.WebElement (session=\"0718344e3ae352a64a0333a7e23ab33a\", element=\"5691b625-f06a-46b1-a980-da91d4063d74\")>,\n",
       " <selenium.webdriver.remote.webelement.WebElement (session=\"0718344e3ae352a64a0333a7e23ab33a\", element=\"7bf88c45-6f5a-46ad-8dab-2717818be180\")>,\n",
       " <selenium.webdriver.remote.webelement.WebElement (session=\"0718344e3ae352a64a0333a7e23ab33a\", element=\"1aed2868-edaf-4599-be60-bc2d46abc87d\")>,\n",
       " <selenium.webdriver.remote.webelement.WebElement (session=\"0718344e3ae352a64a0333a7e23ab33a\", element=\"668b22b0-517b-4cb6-86be-b016e72745c0\")>,\n",
       " <selenium.webdriver.remote.webelement.WebElement (session=\"0718344e3ae352a64a0333a7e23ab33a\", element=\"6229feb7-3002-47f9-a724-c0baa051e7c4\")>,\n",
       " <selenium.webdriver.remote.webelement.WebElement (session=\"0718344e3ae352a64a0333a7e23ab33a\", element=\"9291061c-0eaf-4794-96db-7a26d68f628b\")>,\n",
       " <selenium.webdriver.remote.webelement.WebElement (session=\"0718344e3ae352a64a0333a7e23ab33a\", element=\"19d25b57-7a9c-45fe-88d3-bef6a80107dc\")>,\n",
       " <selenium.webdriver.remote.webelement.WebElement (session=\"0718344e3ae352a64a0333a7e23ab33a\", element=\"916259ad-4d7b-4d48-99ae-868f88b9ee9c\")>,\n",
       " <selenium.webdriver.remote.webelement.WebElement (session=\"0718344e3ae352a64a0333a7e23ab33a\", element=\"3f009dc9-74d9-42e8-a5d3-51a36f6e9246\")>,\n",
       " <selenium.webdriver.remote.webelement.WebElement (session=\"0718344e3ae352a64a0333a7e23ab33a\", element=\"231f3de5-af84-41c8-9af8-e225b41d4c48\")>,\n",
       " <selenium.webdriver.remote.webelement.WebElement (session=\"0718344e3ae352a64a0333a7e23ab33a\", element=\"1b795e28-ba03-4c3a-a4cc-cb7c9cd4b746\")>,\n",
       " <selenium.webdriver.remote.webelement.WebElement (session=\"0718344e3ae352a64a0333a7e23ab33a\", element=\"b411432b-767d-404c-b516-c2539d2195da\")>,\n",
       " <selenium.webdriver.remote.webelement.WebElement (session=\"0718344e3ae352a64a0333a7e23ab33a\", element=\"82fb56e4-253f-4a77-9981-8cb07973167b\")>,\n",
       " <selenium.webdriver.remote.webelement.WebElement (session=\"0718344e3ae352a64a0333a7e23ab33a\", element=\"ee98809d-29c3-4479-b8d6-4cfbe914fef0\")>]"
      ]
     },
     "execution_count": 26,
     "metadata": {},
     "output_type": "execute_result"
    }
   ],
   "source": [
    "#Extracting the tags having the company name\n",
    "name=driver.find_elements_by_xpath(\"//a[@class='subTitle ellipsis fleft']\")\n",
    "name"
   ]
  },
  {
   "cell_type": "code",
   "execution_count": 27,
   "metadata": {},
   "outputs": [
    {
     "data": {
      "text/plain": [
       "['CronJ IT Technologies Private Limited',\n",
       " 'Corner Stone Solutions',\n",
       " 'AugmatrixGo',\n",
       " 'Inspiration Manpower Consultancy Pvt. Ltd.',\n",
       " 'IBM India Pvt. Limited',\n",
       " 'Boston Consulting Group',\n",
       " 'Boston Consulting Group',\n",
       " 'GANIT BUSINESS SOLUTIONS PRIVATE LIMITED',\n",
       " 'CES Ltd.',\n",
       " 'GlaxoSmithKline Pharmaceuticals Limited']"
      ]
     },
     "execution_count": 27,
     "metadata": {},
     "output_type": "execute_result"
    }
   ],
   "source": [
    "#Extracting the text from the tags\n",
    "company=[]  #Empty list\n",
    "\n",
    "#As we need to scrap data for the first 10 job results, we are running a for loop for first 10 results only\n",
    "for i in name[:10]:\n",
    "    company.append(i.text)\n",
    "company"
   ]
  },
  {
   "cell_type": "code",
   "execution_count": 28,
   "metadata": {},
   "outputs": [
    {
     "data": {
      "text/plain": [
       "[<selenium.webdriver.remote.webelement.WebElement (session=\"0718344e3ae352a64a0333a7e23ab33a\", element=\"99a20c63-c660-45f5-836b-11cee8478209\")>,\n",
       " <selenium.webdriver.remote.webelement.WebElement (session=\"0718344e3ae352a64a0333a7e23ab33a\", element=\"78ee1ca9-3591-4e76-8749-af81b273d56c\")>,\n",
       " <selenium.webdriver.remote.webelement.WebElement (session=\"0718344e3ae352a64a0333a7e23ab33a\", element=\"8c0ed982-dc23-437c-99e6-50140ce533d8\")>,\n",
       " <selenium.webdriver.remote.webelement.WebElement (session=\"0718344e3ae352a64a0333a7e23ab33a\", element=\"eac9c77e-1117-4ff5-895a-2243f22ed21d\")>,\n",
       " <selenium.webdriver.remote.webelement.WebElement (session=\"0718344e3ae352a64a0333a7e23ab33a\", element=\"32c72b10-d701-41d0-8f0b-a8c36028b7a8\")>,\n",
       " <selenium.webdriver.remote.webelement.WebElement (session=\"0718344e3ae352a64a0333a7e23ab33a\", element=\"b747b1b8-f45b-4bf1-ae68-43c725837d7e\")>,\n",
       " <selenium.webdriver.remote.webelement.WebElement (session=\"0718344e3ae352a64a0333a7e23ab33a\", element=\"f3b80375-88c7-48c5-92d7-5801a0a10b7c\")>,\n",
       " <selenium.webdriver.remote.webelement.WebElement (session=\"0718344e3ae352a64a0333a7e23ab33a\", element=\"9507e32b-a1e3-47d7-80ff-789bb61f2e1d\")>,\n",
       " <selenium.webdriver.remote.webelement.WebElement (session=\"0718344e3ae352a64a0333a7e23ab33a\", element=\"0b65201a-f354-4112-b7b3-67fc4dfa1227\")>,\n",
       " <selenium.webdriver.remote.webelement.WebElement (session=\"0718344e3ae352a64a0333a7e23ab33a\", element=\"fa09d44e-4111-475d-a789-a91eaab8a91c\")>,\n",
       " <selenium.webdriver.remote.webelement.WebElement (session=\"0718344e3ae352a64a0333a7e23ab33a\", element=\"4d32a7c4-dd79-4bd3-adfa-76408afe14db\")>,\n",
       " <selenium.webdriver.remote.webelement.WebElement (session=\"0718344e3ae352a64a0333a7e23ab33a\", element=\"ac1fb06d-be44-4148-bc6b-8c88ec8c095f\")>,\n",
       " <selenium.webdriver.remote.webelement.WebElement (session=\"0718344e3ae352a64a0333a7e23ab33a\", element=\"9d174115-f524-4c1b-8405-23303621df1c\")>,\n",
       " <selenium.webdriver.remote.webelement.WebElement (session=\"0718344e3ae352a64a0333a7e23ab33a\", element=\"7ad1ee1b-7cd9-49e0-8f3e-c58f9e120c17\")>,\n",
       " <selenium.webdriver.remote.webelement.WebElement (session=\"0718344e3ae352a64a0333a7e23ab33a\", element=\"fe2383a9-523e-4fc9-a538-617442dea049\")>,\n",
       " <selenium.webdriver.remote.webelement.WebElement (session=\"0718344e3ae352a64a0333a7e23ab33a\", element=\"1e8812dc-4973-4837-b479-4edf6d2b5c7b\")>,\n",
       " <selenium.webdriver.remote.webelement.WebElement (session=\"0718344e3ae352a64a0333a7e23ab33a\", element=\"af04c3c4-2539-4c42-a10f-2d4e24e130e9\")>,\n",
       " <selenium.webdriver.remote.webelement.WebElement (session=\"0718344e3ae352a64a0333a7e23ab33a\", element=\"a605a50c-b7aa-4e4b-8079-269e674db260\")>,\n",
       " <selenium.webdriver.remote.webelement.WebElement (session=\"0718344e3ae352a64a0333a7e23ab33a\", element=\"03cabca5-b1b1-411b-b586-89a3412067d7\")>,\n",
       " <selenium.webdriver.remote.webelement.WebElement (session=\"0718344e3ae352a64a0333a7e23ab33a\", element=\"4ec05ae9-6436-458d-8a23-90cab1b739fc\")>]"
      ]
     },
     "execution_count": 28,
     "metadata": {},
     "output_type": "execute_result"
    }
   ],
   "source": [
    "#Extracting the full-job description tags from the webpage\n",
    "#First we will extract the links alone for the full job desc\n",
    "job_desc=driver.find_elements_by_xpath(\"//a[@class='title fw500 ellipsis']\")\n",
    "job_desc"
   ]
  },
  {
   "cell_type": "code",
   "execution_count": 29,
   "metadata": {},
   "outputs": [
    {
     "data": {
      "text/plain": [
       "['https://www.naukri.com/job-listings-data-scientist-cronj-it-technologies-private-limited-bangalore-bengaluru-0-to-1-years-310321002339?src=jobsearchDesk&sid=16178570999817783&xp=1&px=1',\n",
       " 'https://www.naukri.com/job-listings-opportunity-for-data-scientist-internship-bengaluru-corner-stone-solutions-bangalore-bengaluru-0-to-1-years-240620007489?src=jobsearchDesk&sid=16178570999817783&xp=2&px=1',\n",
       " 'https://www.naukri.com/job-listings-data-scientist-machine-learning-augmatrixgo-bangalore-bengaluru-2-to-5-years-140121905423?src=jobsearchDesk&sid=16178570999817783&xp=3&px=1',\n",
       " 'https://www.naukri.com/job-listings-data-scientist-data-analyst-data-science-inspiration-manpower-consultancy-pvt-ltd-navi-mumbai-bangalore-bengaluru-6-to-11-years-250321005167?src=jobsearchDesk&sid=16178570999817783&xp=4&px=1',\n",
       " 'https://www.naukri.com/job-listings-data-scientist-ibm-garage-ibm-india-pvt-limited-noida-hyderabad-secunderabad-bangalore-bengaluru-5-to-8-years-060421902058?src=jobsearchDesk&sid=16178570999817783&xp=5&px=1',\n",
       " 'https://www.naukri.com/job-listings-gamma-lead-data-scientist-boston-consulting-group-mumbai-new-delhi-chennai-bangalore-bengaluru-7-to-12-years-070421500217?src=jobsearchDesk&sid=16178570999817783&xp=6&px=1',\n",
       " 'https://www.naukri.com/job-listings-dbcg-ind-gamma-senior-data-scientist-boston-consulting-group-mumbai-new-delhi-chennai-bangalore-bengaluru-6-to-10-years-020421500121?src=jobsearchDesk&sid=16178570999817783&xp=7&px=1',\n",
       " 'https://www.naukri.com/job-listings-data-scientist-senior-data-scientist-ganit-business-solutions-private-limited-hyderabad-secunderabad-pune-chennai-bangalore-bengaluru-mumbai-all-areas-4-to-8-years-290321001979?src=jobsearchDesk&sid=16178570999817783&xp=8&px=1',\n",
       " 'https://www.naukri.com/job-listings-senior-data-scientist-ces-it-ltd-cmmi-level-5-ces-ltd-kolkata-mumbai-hyderabad-secunderabad-pune-chennai-bangalore-bengaluru-delhi-ncr-2-to-7-years-151220006902?src=jobsearchDesk&sid=16178570999817783&xp=9&px=1',\n",
       " 'https://www.naukri.com/job-listings-global-medical-data-scientist-glaxosmithkline-pharmaceuticals-limited-bangalore-bengaluru-5-to-10-years-240321907599?src=jobsearchDesk&sid=16178570999817783&xp=10&px=1']"
      ]
     },
     "execution_count": 29,
     "metadata": {},
     "output_type": "execute_result"
    }
   ],
   "source": [
    "#After extracting the link's tags, we will append to an empty list and extract the links\n",
    "desc=[]  #Empty list\n",
    "for i in job_desc[:10]:\n",
    "    desc.append(i.get_attribute(\"href\"))\n",
    "desc    "
   ]
  },
  {
   "cell_type": "code",
   "execution_count": 30,
   "metadata": {},
   "outputs": [
    {
     "name": "stdout",
     "output_type": "stream",
     "text": [
      "Exception Raised Message: no such element: Unable to locate element: {\"method\":\"xpath\",\"selector\":\"//section[@class='job-desc']\"}\n",
      "  (Session info: chrome=89.0.4389.114)\n",
      "\n",
      "Exception Raised Message: no such element: Unable to locate element: {\"method\":\"xpath\",\"selector\":\"//section[@class='job-desc']\"}\n",
      "  (Session info: chrome=89.0.4389.114)\n",
      "\n"
     ]
    }
   ],
   "source": [
    "#After extracting links, we will make another for loop for extracting the text\n",
    "#Importing exception\n",
    "import time\n",
    "from selenium.common.exceptions import NoSuchElementException\n",
    "job_desc=[]  #Empty list\n",
    "for i in desc:   #running a for loop for fetching the driver\n",
    "    driver.get(i)\n",
    "    time.sleep(3)   #Making the webpage sleep for 3 seconds using timer\n",
    "    try:\n",
    "        full_desc=driver.find_element_by_xpath((\"//section[@class='job-desc']\")).text  #XPath of full job description\n",
    "        job_desc.append(full_desc.replace('Job description\\n',' '))\n",
    "    except NoSuchElementException as e:\n",
    "        print(\"Exception Raised\",e)  #Printing exception message\n",
    "        job_desc.append(\"Not Available\") #Appending Not Available for no job description"
   ]
  },
  {
   "cell_type": "code",
   "execution_count": 31,
   "metadata": {},
   "outputs": [
    {
     "name": "stdout",
     "output_type": "stream",
     "text": [
      "10 10 10 10 10\n"
     ]
    }
   ],
   "source": [
    "#Checking out the length of the data extracted\n",
    "print(len(title),len(location),len(company),len(exp),len(job_desc))"
   ]
  },
  {
   "cell_type": "code",
   "execution_count": 32,
   "metadata": {},
   "outputs": [
    {
     "data": {
      "text/html": [
       "<div>\n",
       "<style scoped>\n",
       "    .dataframe tbody tr th:only-of-type {\n",
       "        vertical-align: middle;\n",
       "    }\n",
       "\n",
       "    .dataframe tbody tr th {\n",
       "        vertical-align: top;\n",
       "    }\n",
       "\n",
       "    .dataframe thead th {\n",
       "        text-align: right;\n",
       "    }\n",
       "</style>\n",
       "<table border=\"1\" class=\"dataframe\">\n",
       "  <thead>\n",
       "    <tr style=\"text-align: right;\">\n",
       "      <th></th>\n",
       "      <th>Title</th>\n",
       "      <th>Location</th>\n",
       "      <th>Company name</th>\n",
       "      <th>Experience required</th>\n",
       "      <th>Job Description</th>\n",
       "    </tr>\n",
       "  </thead>\n",
       "  <tbody>\n",
       "    <tr>\n",
       "      <th>0</th>\n",
       "      <td>Data Scientist</td>\n",
       "      <td>Bangalore/Bengaluru</td>\n",
       "      <td>CronJ IT Technologies Private Limited</td>\n",
       "      <td>6-8 Yrs</td>\n",
       "      <td>Responsibilities and Duties\\nCreate innovativ...</td>\n",
       "    </tr>\n",
       "    <tr>\n",
       "      <th>1</th>\n",
       "      <td>Opportunity For Data Scientist Internship - Be...</td>\n",
       "      <td>Bangalore/Bengaluru</td>\n",
       "      <td>Corner Stone Solutions</td>\n",
       "      <td>0-0 Yrs</td>\n",
       "      <td>Location - Bangalore / Bengaluru\\nDuration- 6...</td>\n",
       "    </tr>\n",
       "    <tr>\n",
       "      <th>2</th>\n",
       "      <td>Data Scientist - Machine Learning</td>\n",
       "      <td>Bangalore/Bengaluru</td>\n",
       "      <td>AugmatrixGo</td>\n",
       "      <td>0-2 Yrs</td>\n",
       "      <td>Roles and Responsibilities\\n\\n\\n- Selecting f...</td>\n",
       "    </tr>\n",
       "    <tr>\n",
       "      <th>3</th>\n",
       "      <td>Data Scientist || Data Analyst || Data science</td>\n",
       "      <td>Navi Mumbai, Bangalore/Bengaluru</td>\n",
       "      <td>Inspiration Manpower Consultancy Pvt. Ltd.</td>\n",
       "      <td>4-8 Yrs</td>\n",
       "      <td>Job Summary and Key Responsibilities\\nManage...</td>\n",
       "    </tr>\n",
       "    <tr>\n",
       "      <th>4</th>\n",
       "      <td>Data Scientist - IBM Garage</td>\n",
       "      <td>Noida, Hyderabad/Secunderabad, Bangalore/Benga...</td>\n",
       "      <td>IBM India Pvt. Limited</td>\n",
       "      <td>1-2 Yrs</td>\n",
       "      <td>Not Available</td>\n",
       "    </tr>\n",
       "    <tr>\n",
       "      <th>5</th>\n",
       "      <td>GAMMA Lead Data Scientist</td>\n",
       "      <td>Mumbai, New Delhi, Chennai, Bangalore/Bengaluru</td>\n",
       "      <td>Boston Consulting Group</td>\n",
       "      <td>2-7 Yrs</td>\n",
       "      <td>Practice Area Profile\\nBCG GAMMA combines i...</td>\n",
       "    </tr>\n",
       "    <tr>\n",
       "      <th>6</th>\n",
       "      <td>DBCG IND - GAMMA Senior Data Scientist</td>\n",
       "      <td>Mumbai, New Delhi, Chennai, Bangalore/Bengaluru</td>\n",
       "      <td>Boston Consulting Group</td>\n",
       "      <td>3-6 Yrs</td>\n",
       "      <td>What Youll Do\\n\\nWe re looking for a pass...</td>\n",
       "    </tr>\n",
       "    <tr>\n",
       "      <th>7</th>\n",
       "      <td>Data Scientist/Senior Data Scientist</td>\n",
       "      <td>Hyderabad/Secunderabad, Pune, Chennai, Bangalo...</td>\n",
       "      <td>GANIT BUSINESS SOLUTIONS PRIVATE LIMITED</td>\n",
       "      <td>4-8 Yrs</td>\n",
       "      <td>\\nAbout Ganit Inc\\n\\nFounded by senior indust...</td>\n",
       "    </tr>\n",
       "    <tr>\n",
       "      <th>8</th>\n",
       "      <td>Senior Data Scientist | CES IT LTD | CMMI Level 5</td>\n",
       "      <td>Kolkata, Mumbai, Hyderabad/Secunderabad, Pune,...</td>\n",
       "      <td>CES Ltd.</td>\n",
       "      <td>3-8 Yrs</td>\n",
       "      <td>Roles and Responsibilities\\n\\nMust have stron...</td>\n",
       "    </tr>\n",
       "    <tr>\n",
       "      <th>9</th>\n",
       "      <td>Global Medical Data Scientist</td>\n",
       "      <td>Bangalore/Bengaluru</td>\n",
       "      <td>GlaxoSmithKline Pharmaceuticals Limited</td>\n",
       "      <td>4-8 Yrs</td>\n",
       "      <td>Not Available</td>\n",
       "    </tr>\n",
       "  </tbody>\n",
       "</table>\n",
       "</div>"
      ],
      "text/plain": [
       "                                               Title  \\\n",
       "0                                     Data Scientist   \n",
       "1  Opportunity For Data Scientist Internship - Be...   \n",
       "2                  Data Scientist - Machine Learning   \n",
       "3     Data Scientist || Data Analyst || Data science   \n",
       "4                        Data Scientist - IBM Garage   \n",
       "5                          GAMMA Lead Data Scientist   \n",
       "6             DBCG IND - GAMMA Senior Data Scientist   \n",
       "7               Data Scientist/Senior Data Scientist   \n",
       "8  Senior Data Scientist | CES IT LTD | CMMI Level 5   \n",
       "9                      Global Medical Data Scientist   \n",
       "\n",
       "                                            Location  \\\n",
       "0                                Bangalore/Bengaluru   \n",
       "1                                Bangalore/Bengaluru   \n",
       "2                                Bangalore/Bengaluru   \n",
       "3                   Navi Mumbai, Bangalore/Bengaluru   \n",
       "4  Noida, Hyderabad/Secunderabad, Bangalore/Benga...   \n",
       "5    Mumbai, New Delhi, Chennai, Bangalore/Bengaluru   \n",
       "6    Mumbai, New Delhi, Chennai, Bangalore/Bengaluru   \n",
       "7  Hyderabad/Secunderabad, Pune, Chennai, Bangalo...   \n",
       "8  Kolkata, Mumbai, Hyderabad/Secunderabad, Pune,...   \n",
       "9                                Bangalore/Bengaluru   \n",
       "\n",
       "                                 Company name Experience required  \\\n",
       "0       CronJ IT Technologies Private Limited             6-8 Yrs   \n",
       "1                      Corner Stone Solutions             0-0 Yrs   \n",
       "2                                 AugmatrixGo             0-2 Yrs   \n",
       "3  Inspiration Manpower Consultancy Pvt. Ltd.             4-8 Yrs   \n",
       "4                      IBM India Pvt. Limited             1-2 Yrs   \n",
       "5                     Boston Consulting Group             2-7 Yrs   \n",
       "6                     Boston Consulting Group             3-6 Yrs   \n",
       "7    GANIT BUSINESS SOLUTIONS PRIVATE LIMITED             4-8 Yrs   \n",
       "8                                    CES Ltd.             3-8 Yrs   \n",
       "9     GlaxoSmithKline Pharmaceuticals Limited             4-8 Yrs   \n",
       "\n",
       "                                     Job Description  \n",
       "0   Responsibilities and Duties\\nCreate innovativ...  \n",
       "1   Location - Bangalore / Bengaluru\\nDuration- 6...  \n",
       "2   Roles and Responsibilities\\n\\n\\n- Selecting f...  \n",
       "3    Job Summary and Key Responsibilities\\nManage...  \n",
       "4                                      Not Available  \n",
       "5     Practice Area Profile\\nBCG GAMMA combines i...  \n",
       "6       What Youll Do\\n\\nWe re looking for a pass...  \n",
       "7   \\nAbout Ganit Inc\\n\\nFounded by senior indust...  \n",
       "8   Roles and Responsibilities\\n\\nMust have stron...  \n",
       "9                                      Not Available  "
      ]
     },
     "execution_count": 32,
     "metadata": {},
     "output_type": "execute_result"
    }
   ],
   "source": [
    "#Creating a new dataframe for saving the data\n",
    "jobs=pd.DataFrame({})\n",
    "jobs['Title']=title\n",
    "jobs['Location']=location\n",
    "jobs['Company name']=company\n",
    "jobs['Experience required']=exp\n",
    "jobs['Job Description']=job_desc\n",
    "jobs"
   ]
  },
  {
   "cell_type": "code",
   "execution_count": 33,
   "metadata": {},
   "outputs": [],
   "source": [
    "#Saving the data into a csv file\n",
    "jobs.to_csv(\"DataScientist_Bangalore_Naukrijobs.csv\")"
   ]
  },
  {
   "cell_type": "code",
   "execution_count": 34,
   "metadata": {},
   "outputs": [],
   "source": [
    "#Closing the driver\n",
    "driver.close()"
   ]
  },
  {
   "cell_type": "markdown",
   "metadata": {},
   "source": [
    "# Q3: In this question you have to scrape data using the filters available on the webpage:"
   ]
  },
  {
   "cell_type": "markdown",
   "metadata": {},
   "source": [
    "* You have to use the location and salary filter.\n",
    "* You have to scrape data for “Data Scientist” designation for first 10 job results.\n",
    "* You have to scrape the job-title, job-location, company_name, experience_required.\n",
    "* The location filter to be used is “Delhi/NCR”\n",
    "* The salary filter to be used is “3-6” lakhs\n",
    "\n",
    "The task will be done as shown in the below steps:\n",
    "1. first get the webpage https://www.naukri.com/\n",
    "2. Enter “Data Scientist” in “Skill,Designations,Companies” field.\n",
    "3. Then click the search button.\n",
    "4. Then apply the location filter and salary filter by checking the respective boxes\n",
    "4. Then scrape the data for the first 10 jobs results you get.\n",
    "5. Finally create a dataframe of the scraped data.\n"
   ]
  },
  {
   "cell_type": "code",
   "execution_count": 35,
   "metadata": {},
   "outputs": [],
   "source": [
    "#Connect to web driver\n",
    "driver=webdriver.Chrome(r\"D://chromedriver.exe\")  #r converts string to raw string\n",
    "#If not r, we can use executable_path = \"C:/path name\""
   ]
  },
  {
   "cell_type": "code",
   "execution_count": 36,
   "metadata": {},
   "outputs": [],
   "source": [
    "#Getting the website to driver\n",
    "driver.get('https://www.naukri.com/')\n",
    "\n",
    "#When we run this line, automatically the webpage will be opened"
   ]
  },
  {
   "cell_type": "code",
   "execution_count": 37,
   "metadata": {},
   "outputs": [],
   "source": [
    "#Finding the required elements from the search bar of job\n",
    "job_search=driver.find_element_by_id('qsb-keyword-sugg')\n",
    "\n",
    "#Sending the input to the webpage\n",
    "job_search.send_keys(\"Data Scientist\")\n",
    "\n",
    "#Searching the input by using the search button and clicking it\n",
    "driver.find_element_by_xpath(\"//div[@class='search-btn']/button\").click()"
   ]
  },
  {
   "cell_type": "code",
   "execution_count": 38,
   "metadata": {},
   "outputs": [],
   "source": [
    "#Locating the filters in the webpage\n",
    "#First, we will filter the location\n",
    "filter_location=driver.find_elements_by_xpath(\"//span[@class='ellipsis fleft']\")\n",
    "for i in filter_location:\n",
    "    if i.text=='Delhi / NCR':\n",
    "        i.click()\n",
    "        break"
   ]
  },
  {
   "cell_type": "code",
   "execution_count": 39,
   "metadata": {},
   "outputs": [],
   "source": [
    "#Filtering the salary\n",
    "filter_salary=driver.find_elements_by_xpath(\"//span[@class='ellipsis fleft']\")\n",
    "for i in filter_salary:\n",
    "    if i.text=='3-6 Lakhs':\n",
    "        i.click()\n",
    "        break"
   ]
  },
  {
   "cell_type": "code",
   "execution_count": 40,
   "metadata": {},
   "outputs": [],
   "source": [
    "#After filtering location and salary, we will specify the url of webpage\n",
    "url=\"https://www.naukri.com/data-scientist-jobs?k=data%20scientist&ctcFilter=3to6&cityTypeGid=9508\"\n",
    "driver.get(url)"
   ]
  },
  {
   "cell_type": "code",
   "execution_count": 41,
   "metadata": {},
   "outputs": [
    {
     "data": {
      "text/plain": [
       "[<selenium.webdriver.remote.webelement.WebElement (session=\"410fd351c95516846fbbdc6855e20a55\", element=\"24b0812c-756b-4711-b208-d2e3a4d16ce9\")>,\n",
       " <selenium.webdriver.remote.webelement.WebElement (session=\"410fd351c95516846fbbdc6855e20a55\", element=\"557889ea-50c1-4b95-bd7f-860adae9c276\")>,\n",
       " <selenium.webdriver.remote.webelement.WebElement (session=\"410fd351c95516846fbbdc6855e20a55\", element=\"279fae48-7903-4c77-bd1e-80fb821fe972\")>,\n",
       " <selenium.webdriver.remote.webelement.WebElement (session=\"410fd351c95516846fbbdc6855e20a55\", element=\"3893198d-629c-4f58-a152-0c0adcfc2fc6\")>,\n",
       " <selenium.webdriver.remote.webelement.WebElement (session=\"410fd351c95516846fbbdc6855e20a55\", element=\"3f9e9e56-a928-4f5f-844a-57ffb251a176\")>,\n",
       " <selenium.webdriver.remote.webelement.WebElement (session=\"410fd351c95516846fbbdc6855e20a55\", element=\"e6e6e4be-b7dd-45cf-bfc0-f7181d71b64d\")>,\n",
       " <selenium.webdriver.remote.webelement.WebElement (session=\"410fd351c95516846fbbdc6855e20a55\", element=\"add2638c-07f4-4c68-b227-92da328cac3c\")>,\n",
       " <selenium.webdriver.remote.webelement.WebElement (session=\"410fd351c95516846fbbdc6855e20a55\", element=\"e06e40ea-9ce1-45cd-b2ec-f905c95b23a7\")>,\n",
       " <selenium.webdriver.remote.webelement.WebElement (session=\"410fd351c95516846fbbdc6855e20a55\", element=\"14839adf-91f7-4485-bf01-5075f92ea3ea\")>,\n",
       " <selenium.webdriver.remote.webelement.WebElement (session=\"410fd351c95516846fbbdc6855e20a55\", element=\"59a558eb-f0a7-4420-aba1-3990afdff1c8\")>,\n",
       " <selenium.webdriver.remote.webelement.WebElement (session=\"410fd351c95516846fbbdc6855e20a55\", element=\"6276a275-bc7f-4e6f-bf64-8bc29d27b4a6\")>,\n",
       " <selenium.webdriver.remote.webelement.WebElement (session=\"410fd351c95516846fbbdc6855e20a55\", element=\"c8b7ce27-8c3f-4d9b-91c2-86225ca06e41\")>,\n",
       " <selenium.webdriver.remote.webelement.WebElement (session=\"410fd351c95516846fbbdc6855e20a55\", element=\"265d2aea-9c14-448f-86f0-690c4015f719\")>,\n",
       " <selenium.webdriver.remote.webelement.WebElement (session=\"410fd351c95516846fbbdc6855e20a55\", element=\"521484a4-6f14-41ed-8731-cc8ae376eb92\")>,\n",
       " <selenium.webdriver.remote.webelement.WebElement (session=\"410fd351c95516846fbbdc6855e20a55\", element=\"b41bb705-24be-4360-bde5-b9fe1492bbdb\")>,\n",
       " <selenium.webdriver.remote.webelement.WebElement (session=\"410fd351c95516846fbbdc6855e20a55\", element=\"08a2bb9a-654a-49a5-93cf-eb3b1f34cdc0\")>,\n",
       " <selenium.webdriver.remote.webelement.WebElement (session=\"410fd351c95516846fbbdc6855e20a55\", element=\"e14e0111-53f5-4420-a95a-7be11263d58f\")>,\n",
       " <selenium.webdriver.remote.webelement.WebElement (session=\"410fd351c95516846fbbdc6855e20a55\", element=\"dac4c72c-01ec-4fbb-ae1f-29ae53350674\")>,\n",
       " <selenium.webdriver.remote.webelement.WebElement (session=\"410fd351c95516846fbbdc6855e20a55\", element=\"7da6ef80-74b1-49b5-873c-5834b1f067c3\")>,\n",
       " <selenium.webdriver.remote.webelement.WebElement (session=\"410fd351c95516846fbbdc6855e20a55\", element=\"46edc4dc-a9ee-4518-a371-7fe737c0a549\")>]"
      ]
     },
     "execution_count": 41,
     "metadata": {},
     "output_type": "execute_result"
    }
   ],
   "source": [
    "#Extracting all the tags having the job title\n",
    "job_title=driver.find_elements_by_xpath(\"//a[@class='title fw500 ellipsis']\")\n",
    "job_title"
   ]
  },
  {
   "cell_type": "code",
   "execution_count": 42,
   "metadata": {},
   "outputs": [
    {
     "data": {
      "text/plain": [
       "['Data Scientist - IBM Garage',\n",
       " 'Data Scientist/Data Analyst - Python/Machine Learning',\n",
       " 'Females Required- Data Scientist- Noida',\n",
       " 'Data Scientist - Python & Machine Learning',\n",
       " 'Data Scientist - Python & Machine Learning',\n",
       " 'Data Scientist - Python / Machine Learning / Tableau / Power BI',\n",
       " 'Data Scientist - Python & Machine Learning',\n",
       " 'Required- Data Scientist (NLP)-Axis Bank - 6 months contract',\n",
       " 'Data Scientist - Python / Machine Learning / Tableau / Power BI',\n",
       " 'Data Scientist - Python & Machine Learning (ISO 20022)']"
      ]
     },
     "execution_count": 42,
     "metadata": {},
     "output_type": "execute_result"
    }
   ],
   "source": [
    "#Extracting the text from the tags\n",
    "title=[]  #Empty list\n",
    "\n",
    "#As we need to scrap data for the first 10 job results, we are running a for loop for first 10 results only\n",
    "for i in job_title[:10]:\n",
    "    title.append(i.text)\n",
    "title   "
   ]
  },
  {
   "cell_type": "code",
   "execution_count": 43,
   "metadata": {},
   "outputs": [
    {
     "data": {
      "text/plain": [
       "[<selenium.webdriver.remote.webelement.WebElement (session=\"410fd351c95516846fbbdc6855e20a55\", element=\"03206f45-c379-4406-8394-c8ed1096a467\")>,\n",
       " <selenium.webdriver.remote.webelement.WebElement (session=\"410fd351c95516846fbbdc6855e20a55\", element=\"6574e3ea-0686-4091-8af7-bf6998773d1a\")>,\n",
       " <selenium.webdriver.remote.webelement.WebElement (session=\"410fd351c95516846fbbdc6855e20a55\", element=\"3817cd89-4510-411b-b820-ff976faa00d5\")>,\n",
       " <selenium.webdriver.remote.webelement.WebElement (session=\"410fd351c95516846fbbdc6855e20a55\", element=\"091db065-3a48-4a09-8c42-4de1dd8c8368\")>,\n",
       " <selenium.webdriver.remote.webelement.WebElement (session=\"410fd351c95516846fbbdc6855e20a55\", element=\"01a26b40-4865-45a1-9b72-7b7bc6cef2be\")>,\n",
       " <selenium.webdriver.remote.webelement.WebElement (session=\"410fd351c95516846fbbdc6855e20a55\", element=\"640a67a8-5928-4883-8547-26a338f81825\")>,\n",
       " <selenium.webdriver.remote.webelement.WebElement (session=\"410fd351c95516846fbbdc6855e20a55\", element=\"c5eab5df-a8fc-4c58-a578-b4ec55feda4e\")>,\n",
       " <selenium.webdriver.remote.webelement.WebElement (session=\"410fd351c95516846fbbdc6855e20a55\", element=\"a0b26474-fc72-4f17-9322-2f75adccc4ac\")>,\n",
       " <selenium.webdriver.remote.webelement.WebElement (session=\"410fd351c95516846fbbdc6855e20a55\", element=\"20f40143-7e00-42e3-a7f4-606dc89e5b14\")>,\n",
       " <selenium.webdriver.remote.webelement.WebElement (session=\"410fd351c95516846fbbdc6855e20a55\", element=\"3d2a23e5-82c6-49c4-998a-1aa4499fa3a9\")>,\n",
       " <selenium.webdriver.remote.webelement.WebElement (session=\"410fd351c95516846fbbdc6855e20a55\", element=\"96059814-a42c-4c73-b5fb-055dec00f7d5\")>,\n",
       " <selenium.webdriver.remote.webelement.WebElement (session=\"410fd351c95516846fbbdc6855e20a55\", element=\"c12f68eb-e825-4961-8db3-a132a8f8e77c\")>,\n",
       " <selenium.webdriver.remote.webelement.WebElement (session=\"410fd351c95516846fbbdc6855e20a55\", element=\"97c5f4e4-4c09-469f-859b-40477a42a4a7\")>,\n",
       " <selenium.webdriver.remote.webelement.WebElement (session=\"410fd351c95516846fbbdc6855e20a55\", element=\"b11ea972-df16-46a8-b194-28a11d58ca34\")>,\n",
       " <selenium.webdriver.remote.webelement.WebElement (session=\"410fd351c95516846fbbdc6855e20a55\", element=\"9809f5f0-4ae6-4f7d-8421-382ccc507a50\")>,\n",
       " <selenium.webdriver.remote.webelement.WebElement (session=\"410fd351c95516846fbbdc6855e20a55\", element=\"85e9b1b8-9b91-434c-b6d0-5b05960da4fd\")>,\n",
       " <selenium.webdriver.remote.webelement.WebElement (session=\"410fd351c95516846fbbdc6855e20a55\", element=\"cf8e6d2e-c8a7-4772-851a-93033d35b7f3\")>,\n",
       " <selenium.webdriver.remote.webelement.WebElement (session=\"410fd351c95516846fbbdc6855e20a55\", element=\"d30ab6e2-d003-4f9a-97d0-8ddf813299bc\")>,\n",
       " <selenium.webdriver.remote.webelement.WebElement (session=\"410fd351c95516846fbbdc6855e20a55\", element=\"dbfbb04e-66ad-4fbf-8928-d1c5409a9a21\")>,\n",
       " <selenium.webdriver.remote.webelement.WebElement (session=\"410fd351c95516846fbbdc6855e20a55\", element=\"b1462775-0dcc-444e-9ca2-92a70d3b597c\")>]"
      ]
     },
     "execution_count": 43,
     "metadata": {},
     "output_type": "execute_result"
    }
   ],
   "source": [
    "#Extracting all the tags having the job location\n",
    "job_location=driver.find_elements_by_xpath(\"//li[@class='fleft grey-text br2 placeHolderLi location']/span\")\n",
    "job_location"
   ]
  },
  {
   "cell_type": "code",
   "execution_count": 44,
   "metadata": {},
   "outputs": [
    {
     "data": {
      "text/plain": [
       "['Noida, Hyderabad/Secunderabad, Bangalore/Bengaluru',\n",
       " 'Mumbai, Ghaziabad',\n",
       " 'Noida, Gurgaon/Gurugram, Delhi / NCR',\n",
       " 'Hyderabad/Secunderabad, Pune, Bangalore/Bengaluru, Delhi / NCR, Mumbai (All Areas)',\n",
       " 'Hyderabad/Secunderabad, Pune, Chennai, Bangalore/Bengaluru, Delhi / NCR, Mumbai (All Areas)',\n",
       " 'Mumbai, Hyderabad/Secunderabad, Bangalore/Bengaluru, Delhi / NCR',\n",
       " 'Hyderabad/Secunderabad, Bangalore/Bengaluru, Delhi / NCR, Mumbai (All Areas)',\n",
       " 'Kolkata, New Delhi, Hyderabad/Secunderabad, Pune, Chennai, Bangalore/Bengaluru, Mumbai (All Areas)',\n",
       " 'Hyderabad/Secunderabad, Bangalore/Bengaluru, Delhi / NCR',\n",
       " 'Hyderabad/Secunderabad, Bangalore/Bengaluru, Delhi / NCR']"
      ]
     },
     "execution_count": 44,
     "metadata": {},
     "output_type": "execute_result"
    }
   ],
   "source": [
    "#Extracting the text from the tags\n",
    "location=[]  #Empty list\n",
    "\n",
    "#As we need to scrap data for the first 10 job results, we are running a for loop for first 10 results only\n",
    "for i in job_location[:10]:\n",
    "    location.append(i.text)\n",
    "location    "
   ]
  },
  {
   "cell_type": "code",
   "execution_count": 45,
   "metadata": {},
   "outputs": [
    {
     "data": {
      "text/plain": [
       "[<selenium.webdriver.remote.webelement.WebElement (session=\"410fd351c95516846fbbdc6855e20a55\", element=\"9c102cf7-ed27-40d7-ad90-16694efc368b\")>,\n",
       " <selenium.webdriver.remote.webelement.WebElement (session=\"410fd351c95516846fbbdc6855e20a55\", element=\"fa9483d6-0dcf-4fae-a33b-0d14772cc0f8\")>,\n",
       " <selenium.webdriver.remote.webelement.WebElement (session=\"410fd351c95516846fbbdc6855e20a55\", element=\"e92a1006-3103-489f-b698-f7d67a1ab510\")>,\n",
       " <selenium.webdriver.remote.webelement.WebElement (session=\"410fd351c95516846fbbdc6855e20a55\", element=\"b9c9c94c-0673-4454-b242-86982093549e\")>,\n",
       " <selenium.webdriver.remote.webelement.WebElement (session=\"410fd351c95516846fbbdc6855e20a55\", element=\"05318ec8-e1d3-4c62-9395-aacbe9a0ebb5\")>,\n",
       " <selenium.webdriver.remote.webelement.WebElement (session=\"410fd351c95516846fbbdc6855e20a55\", element=\"996dcea4-232a-4501-9e32-aa38569af2c7\")>,\n",
       " <selenium.webdriver.remote.webelement.WebElement (session=\"410fd351c95516846fbbdc6855e20a55\", element=\"edc5718d-d567-485c-bd3d-5864389f3c87\")>,\n",
       " <selenium.webdriver.remote.webelement.WebElement (session=\"410fd351c95516846fbbdc6855e20a55\", element=\"dfb38794-420d-4012-af1b-57f5492181d3\")>,\n",
       " <selenium.webdriver.remote.webelement.WebElement (session=\"410fd351c95516846fbbdc6855e20a55\", element=\"d1363e56-2b0d-45d8-b94b-e14ce21537ab\")>,\n",
       " <selenium.webdriver.remote.webelement.WebElement (session=\"410fd351c95516846fbbdc6855e20a55\", element=\"4dd0b9de-4e7a-4bf6-908a-089148a2fc2b\")>,\n",
       " <selenium.webdriver.remote.webelement.WebElement (session=\"410fd351c95516846fbbdc6855e20a55\", element=\"3ad04015-6dd1-40af-9aa2-5e8c692b5c5f\")>,\n",
       " <selenium.webdriver.remote.webelement.WebElement (session=\"410fd351c95516846fbbdc6855e20a55\", element=\"ddf03c0d-6f40-46b5-a142-03b7d7634153\")>,\n",
       " <selenium.webdriver.remote.webelement.WebElement (session=\"410fd351c95516846fbbdc6855e20a55\", element=\"480f6f54-50fd-495a-8f3b-2231e0f303cf\")>,\n",
       " <selenium.webdriver.remote.webelement.WebElement (session=\"410fd351c95516846fbbdc6855e20a55\", element=\"1f3abffc-db64-4042-94f4-6a2b0e7be6ee\")>,\n",
       " <selenium.webdriver.remote.webelement.WebElement (session=\"410fd351c95516846fbbdc6855e20a55\", element=\"f1fa7c4e-63bd-42b4-ab9f-37853e41f45a\")>,\n",
       " <selenium.webdriver.remote.webelement.WebElement (session=\"410fd351c95516846fbbdc6855e20a55\", element=\"504f784c-7ec6-4ef0-8a69-0e33f53fdfbc\")>,\n",
       " <selenium.webdriver.remote.webelement.WebElement (session=\"410fd351c95516846fbbdc6855e20a55\", element=\"0d647fef-ab55-44e0-9ba9-37c1f23e4672\")>,\n",
       " <selenium.webdriver.remote.webelement.WebElement (session=\"410fd351c95516846fbbdc6855e20a55\", element=\"b185a80f-76ba-4019-8d38-ff25d3a39abf\")>,\n",
       " <selenium.webdriver.remote.webelement.WebElement (session=\"410fd351c95516846fbbdc6855e20a55\", element=\"4ca08346-b4be-4d32-ab7a-20ddb31ea708\")>,\n",
       " <selenium.webdriver.remote.webelement.WebElement (session=\"410fd351c95516846fbbdc6855e20a55\", element=\"a24cb993-f56e-4e88-b759-2adbe8ea7fe6\")>]"
      ]
     },
     "execution_count": 45,
     "metadata": {},
     "output_type": "execute_result"
    }
   ],
   "source": [
    "#Extracting the tags having the company name\n",
    "name=driver.find_elements_by_xpath(\"//a[@class='subTitle ellipsis fleft']\")\n",
    "name"
   ]
  },
  {
   "cell_type": "code",
   "execution_count": 46,
   "metadata": {},
   "outputs": [
    {
     "data": {
      "text/plain": [
       "['IBM India Pvt. Limited',\n",
       " 'Change leaders',\n",
       " 'Randstad',\n",
       " 'FUTURES AND CAREERS',\n",
       " 'FUTURES AND CAREERS',\n",
       " 'FUTURES AND CAREERS',\n",
       " 'FUTURES AND CAREERS',\n",
       " 'Axis Bank Limited',\n",
       " 'FUTURES AND CAREERS',\n",
       " 'FUTURES AND CAREERS']"
      ]
     },
     "execution_count": 46,
     "metadata": {},
     "output_type": "execute_result"
    }
   ],
   "source": [
    "#Extracting the text from the tags\n",
    "company=[]  #Empty list\n",
    "\n",
    "#As we need to scrap data for the first 10 job results, we are running a for loop for first 10 results only\n",
    "for i in name[:10]:\n",
    "    company.append(i.text)\n",
    "company"
   ]
  },
  {
   "cell_type": "code",
   "execution_count": 47,
   "metadata": {},
   "outputs": [
    {
     "data": {
      "text/plain": [
       "[<selenium.webdriver.remote.webelement.WebElement (session=\"410fd351c95516846fbbdc6855e20a55\", element=\"adcf08d3-16b2-41cc-8901-a73c92a63d0e\")>,\n",
       " <selenium.webdriver.remote.webelement.WebElement (session=\"410fd351c95516846fbbdc6855e20a55\", element=\"09f8b258-2850-4e71-884f-da0b56369bff\")>,\n",
       " <selenium.webdriver.remote.webelement.WebElement (session=\"410fd351c95516846fbbdc6855e20a55\", element=\"c7c86701-3286-4853-a087-d572358c5789\")>,\n",
       " <selenium.webdriver.remote.webelement.WebElement (session=\"410fd351c95516846fbbdc6855e20a55\", element=\"3ab3ef5f-9d91-482e-b505-b31f0c9f889a\")>,\n",
       " <selenium.webdriver.remote.webelement.WebElement (session=\"410fd351c95516846fbbdc6855e20a55\", element=\"15fb8497-4214-48bc-860d-f9b0db843822\")>,\n",
       " <selenium.webdriver.remote.webelement.WebElement (session=\"410fd351c95516846fbbdc6855e20a55\", element=\"9477716f-64e0-4884-b266-dcbe68179700\")>,\n",
       " <selenium.webdriver.remote.webelement.WebElement (session=\"410fd351c95516846fbbdc6855e20a55\", element=\"b7da020c-7a31-4a70-835b-39eb5cd3c6f3\")>,\n",
       " <selenium.webdriver.remote.webelement.WebElement (session=\"410fd351c95516846fbbdc6855e20a55\", element=\"a165721c-fee9-4f9b-b584-3545162fba64\")>,\n",
       " <selenium.webdriver.remote.webelement.WebElement (session=\"410fd351c95516846fbbdc6855e20a55\", element=\"2ad72140-4c07-49d0-a779-d3ad1e7b6e4c\")>,\n",
       " <selenium.webdriver.remote.webelement.WebElement (session=\"410fd351c95516846fbbdc6855e20a55\", element=\"05913021-da39-4d6f-9b61-697a68548401\")>,\n",
       " <selenium.webdriver.remote.webelement.WebElement (session=\"410fd351c95516846fbbdc6855e20a55\", element=\"f1ab7b83-5d5a-4604-a627-df7d23a9fc2c\")>,\n",
       " <selenium.webdriver.remote.webelement.WebElement (session=\"410fd351c95516846fbbdc6855e20a55\", element=\"0d87a775-1362-453e-95ba-36ceb7f13d5f\")>,\n",
       " <selenium.webdriver.remote.webelement.WebElement (session=\"410fd351c95516846fbbdc6855e20a55\", element=\"859a1ecb-66e5-4fec-94fa-408f95fed2d6\")>,\n",
       " <selenium.webdriver.remote.webelement.WebElement (session=\"410fd351c95516846fbbdc6855e20a55\", element=\"ce47eef6-bf02-4840-9a44-5200c347b6dc\")>,\n",
       " <selenium.webdriver.remote.webelement.WebElement (session=\"410fd351c95516846fbbdc6855e20a55\", element=\"6e527cce-7401-4737-b883-283bf02cf2e8\")>,\n",
       " <selenium.webdriver.remote.webelement.WebElement (session=\"410fd351c95516846fbbdc6855e20a55\", element=\"373200d2-50e7-4622-a181-7887c7cde1b3\")>,\n",
       " <selenium.webdriver.remote.webelement.WebElement (session=\"410fd351c95516846fbbdc6855e20a55\", element=\"fe2bae61-882f-43cb-bc8d-b65e926f91bf\")>,\n",
       " <selenium.webdriver.remote.webelement.WebElement (session=\"410fd351c95516846fbbdc6855e20a55\", element=\"53f77416-12fb-434c-8cb7-d1c45ac650fa\")>,\n",
       " <selenium.webdriver.remote.webelement.WebElement (session=\"410fd351c95516846fbbdc6855e20a55\", element=\"4fda88b5-4020-4b5f-a67a-ae2b9afceaa0\")>,\n",
       " <selenium.webdriver.remote.webelement.WebElement (session=\"410fd351c95516846fbbdc6855e20a55\", element=\"51b16aba-7751-482f-b135-7fd468d1c9b1\")>]"
      ]
     },
     "execution_count": 47,
     "metadata": {},
     "output_type": "execute_result"
    }
   ],
   "source": [
    "#Extracting the tags having experience required\n",
    "exp_required=driver.find_elements_by_xpath(\"//li[@class='fleft grey-text br2 placeHolderLi experience']/span\")\n",
    "exp_required"
   ]
  },
  {
   "cell_type": "code",
   "execution_count": 48,
   "metadata": {},
   "outputs": [
    {
     "data": {
      "text/plain": [
       "['5-8 Yrs',\n",
       " '5-10 Yrs',\n",
       " '3-7 Yrs',\n",
       " '2-7 Yrs',\n",
       " '2-7 Yrs',\n",
       " '3-8 Yrs',\n",
       " '2-7 Yrs',\n",
       " '4-9 Yrs',\n",
       " '3-8 Yrs',\n",
       " '3-8 Yrs']"
      ]
     },
     "execution_count": 48,
     "metadata": {},
     "output_type": "execute_result"
    }
   ],
   "source": [
    "#Extracting the text from the tags\n",
    "exp=[]  #Empty list\n",
    "\n",
    "#As we need to scrap data for the first 10 job results, we are running a for loop for first 10 results only\n",
    "for i in exp_required[:10]:\n",
    "    exp.append(i.text)\n",
    "exp"
   ]
  },
  {
   "cell_type": "code",
   "execution_count": 49,
   "metadata": {},
   "outputs": [
    {
     "name": "stdout",
     "output_type": "stream",
     "text": [
      "10 10 10 10\n"
     ]
    }
   ],
   "source": [
    "#Checking out the length of the data extracted\n",
    "print(len(title),len(location),len(company),len(exp))"
   ]
  },
  {
   "cell_type": "code",
   "execution_count": 50,
   "metadata": {},
   "outputs": [
    {
     "data": {
      "text/html": [
       "<div>\n",
       "<style scoped>\n",
       "    .dataframe tbody tr th:only-of-type {\n",
       "        vertical-align: middle;\n",
       "    }\n",
       "\n",
       "    .dataframe tbody tr th {\n",
       "        vertical-align: top;\n",
       "    }\n",
       "\n",
       "    .dataframe thead th {\n",
       "        text-align: right;\n",
       "    }\n",
       "</style>\n",
       "<table border=\"1\" class=\"dataframe\">\n",
       "  <thead>\n",
       "    <tr style=\"text-align: right;\">\n",
       "      <th></th>\n",
       "      <th>Title</th>\n",
       "      <th>Location</th>\n",
       "      <th>Company name</th>\n",
       "      <th>Experience required</th>\n",
       "    </tr>\n",
       "  </thead>\n",
       "  <tbody>\n",
       "    <tr>\n",
       "      <th>0</th>\n",
       "      <td>Data Scientist - IBM Garage</td>\n",
       "      <td>Noida, Hyderabad/Secunderabad, Bangalore/Benga...</td>\n",
       "      <td>IBM India Pvt. Limited</td>\n",
       "      <td>5-8 Yrs</td>\n",
       "    </tr>\n",
       "    <tr>\n",
       "      <th>1</th>\n",
       "      <td>Data Scientist/Data Analyst - Python/Machine L...</td>\n",
       "      <td>Mumbai, Ghaziabad</td>\n",
       "      <td>Change leaders</td>\n",
       "      <td>5-10 Yrs</td>\n",
       "    </tr>\n",
       "    <tr>\n",
       "      <th>2</th>\n",
       "      <td>Females Required- Data Scientist- Noida</td>\n",
       "      <td>Noida, Gurgaon/Gurugram, Delhi / NCR</td>\n",
       "      <td>Randstad</td>\n",
       "      <td>3-7 Yrs</td>\n",
       "    </tr>\n",
       "    <tr>\n",
       "      <th>3</th>\n",
       "      <td>Data Scientist - Python &amp; Machine Learning</td>\n",
       "      <td>Hyderabad/Secunderabad, Pune, Bangalore/Bengal...</td>\n",
       "      <td>FUTURES AND CAREERS</td>\n",
       "      <td>2-7 Yrs</td>\n",
       "    </tr>\n",
       "    <tr>\n",
       "      <th>4</th>\n",
       "      <td>Data Scientist - Python &amp; Machine Learning</td>\n",
       "      <td>Hyderabad/Secunderabad, Pune, Chennai, Bangalo...</td>\n",
       "      <td>FUTURES AND CAREERS</td>\n",
       "      <td>2-7 Yrs</td>\n",
       "    </tr>\n",
       "    <tr>\n",
       "      <th>5</th>\n",
       "      <td>Data Scientist - Python / Machine Learning / T...</td>\n",
       "      <td>Mumbai, Hyderabad/Secunderabad, Bangalore/Beng...</td>\n",
       "      <td>FUTURES AND CAREERS</td>\n",
       "      <td>3-8 Yrs</td>\n",
       "    </tr>\n",
       "    <tr>\n",
       "      <th>6</th>\n",
       "      <td>Data Scientist - Python &amp; Machine Learning</td>\n",
       "      <td>Hyderabad/Secunderabad, Bangalore/Bengaluru, D...</td>\n",
       "      <td>FUTURES AND CAREERS</td>\n",
       "      <td>2-7 Yrs</td>\n",
       "    </tr>\n",
       "    <tr>\n",
       "      <th>7</th>\n",
       "      <td>Required- Data Scientist (NLP)-Axis Bank - 6 m...</td>\n",
       "      <td>Kolkata, New Delhi, Hyderabad/Secunderabad, Pu...</td>\n",
       "      <td>Axis Bank Limited</td>\n",
       "      <td>4-9 Yrs</td>\n",
       "    </tr>\n",
       "    <tr>\n",
       "      <th>8</th>\n",
       "      <td>Data Scientist - Python / Machine Learning / T...</td>\n",
       "      <td>Hyderabad/Secunderabad, Bangalore/Bengaluru, D...</td>\n",
       "      <td>FUTURES AND CAREERS</td>\n",
       "      <td>3-8 Yrs</td>\n",
       "    </tr>\n",
       "    <tr>\n",
       "      <th>9</th>\n",
       "      <td>Data Scientist - Python &amp; Machine Learning (IS...</td>\n",
       "      <td>Hyderabad/Secunderabad, Bangalore/Bengaluru, D...</td>\n",
       "      <td>FUTURES AND CAREERS</td>\n",
       "      <td>3-8 Yrs</td>\n",
       "    </tr>\n",
       "  </tbody>\n",
       "</table>\n",
       "</div>"
      ],
      "text/plain": [
       "                                               Title  \\\n",
       "0                        Data Scientist - IBM Garage   \n",
       "1  Data Scientist/Data Analyst - Python/Machine L...   \n",
       "2            Females Required- Data Scientist- Noida   \n",
       "3         Data Scientist - Python & Machine Learning   \n",
       "4         Data Scientist - Python & Machine Learning   \n",
       "5  Data Scientist - Python / Machine Learning / T...   \n",
       "6         Data Scientist - Python & Machine Learning   \n",
       "7  Required- Data Scientist (NLP)-Axis Bank - 6 m...   \n",
       "8  Data Scientist - Python / Machine Learning / T...   \n",
       "9  Data Scientist - Python & Machine Learning (IS...   \n",
       "\n",
       "                                            Location            Company name  \\\n",
       "0  Noida, Hyderabad/Secunderabad, Bangalore/Benga...  IBM India Pvt. Limited   \n",
       "1                                  Mumbai, Ghaziabad          Change leaders   \n",
       "2               Noida, Gurgaon/Gurugram, Delhi / NCR                Randstad   \n",
       "3  Hyderabad/Secunderabad, Pune, Bangalore/Bengal...     FUTURES AND CAREERS   \n",
       "4  Hyderabad/Secunderabad, Pune, Chennai, Bangalo...     FUTURES AND CAREERS   \n",
       "5  Mumbai, Hyderabad/Secunderabad, Bangalore/Beng...     FUTURES AND CAREERS   \n",
       "6  Hyderabad/Secunderabad, Bangalore/Bengaluru, D...     FUTURES AND CAREERS   \n",
       "7  Kolkata, New Delhi, Hyderabad/Secunderabad, Pu...       Axis Bank Limited   \n",
       "8  Hyderabad/Secunderabad, Bangalore/Bengaluru, D...     FUTURES AND CAREERS   \n",
       "9  Hyderabad/Secunderabad, Bangalore/Bengaluru, D...     FUTURES AND CAREERS   \n",
       "\n",
       "  Experience required  \n",
       "0             5-8 Yrs  \n",
       "1            5-10 Yrs  \n",
       "2             3-7 Yrs  \n",
       "3             2-7 Yrs  \n",
       "4             2-7 Yrs  \n",
       "5             3-8 Yrs  \n",
       "6             2-7 Yrs  \n",
       "7             4-9 Yrs  \n",
       "8             3-8 Yrs  \n",
       "9             3-8 Yrs  "
      ]
     },
     "execution_count": 50,
     "metadata": {},
     "output_type": "execute_result"
    }
   ],
   "source": [
    "#Creating a new dataframe for saving the data\n",
    "jobs=pd.DataFrame({})\n",
    "jobs['Title']=title\n",
    "jobs['Location']=location\n",
    "jobs['Company name']=company\n",
    "jobs['Experience required']=exp\n",
    "jobs"
   ]
  },
  {
   "cell_type": "code",
   "execution_count": 51,
   "metadata": {},
   "outputs": [],
   "source": [
    "#Saving the data into a csv file\n",
    "jobs.to_csv(\"Filtered_Naukrijobs.csv\")"
   ]
  },
  {
   "cell_type": "code",
   "execution_count": 52,
   "metadata": {},
   "outputs": [],
   "source": [
    "#Closing the driver\n",
    "driver.close()"
   ]
  }
 ],
 "metadata": {
  "kernelspec": {
   "display_name": "Python 3",
   "language": "python",
   "name": "python3"
  },
  "language_info": {
   "codemirror_mode": {
    "name": "ipython",
    "version": 3
   },
   "file_extension": ".py",
   "mimetype": "text/x-python",
   "name": "python",
   "nbconvert_exporter": "python",
   "pygments_lexer": "ipython3",
   "version": "3.8.3"
  }
 },
 "nbformat": 4,
 "nbformat_minor": 4
}
