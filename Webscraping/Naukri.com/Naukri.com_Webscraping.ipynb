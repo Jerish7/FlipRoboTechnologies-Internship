{
 "cells": [
  {
   "cell_type": "markdown",
   "metadata": {},
   "source": [
    "# Q1: Write a python program to scrape data for “Data Analyst” Job position in “Bangalore” location. You have to scrape the job-title, job-location, company_name, experience_required. You have to scrape first 10 jobs data."
   ]
  },
  {
   "cell_type": "markdown",
   "metadata": {},
   "source": [
    "This task will be done in following steps:\n",
    "1. First, get the webpage https://www.naukri.com/\n",
    "2. Enter “Data Analyst” in “Skill,Designations,Companies” field and enter “Bangalore” in “enter the location” field.\n",
    "3. Then click the search button.\n",
    "4. Then scrape the data for the first 10 jobs results you get.\n",
    "5. Finally create a dataframe of the scraped data."
   ]
  },
  {
   "cell_type": "code",
   "execution_count": 1,
   "metadata": {},
   "outputs": [],
   "source": [
    "#Importing required libraries\n",
    "import selenium\n",
    "import pandas as pd\n",
    "from selenium import webdriver"
   ]
  },
  {
   "cell_type": "code",
   "execution_count": 2,
   "metadata": {},
   "outputs": [],
   "source": [
    "#Connect to web driver\n",
    "driver=webdriver.Chrome(r\"D://chromedriver.exe\")  #r converts string to raw string\n",
    "#If not r, we can use executable_path = \"C:/path name\""
   ]
  },
  {
   "cell_type": "code",
   "execution_count": 3,
   "metadata": {},
   "outputs": [],
   "source": [
    "#Getting the website to driver\n",
    "driver.get('https://www.naukri.com/')\n",
    "\n",
    "#When we run this line, automatically the webpage will be opened"
   ]
  },
  {
   "cell_type": "code",
   "execution_count": 4,
   "metadata": {},
   "outputs": [],
   "source": [
    "#Finding the required elements from the search bars of job and location\n",
    "job_search=driver.find_element_by_id('qsb-keyword-sugg')\n",
    "location_search=driver.find_element_by_id('qsb-location-sugg')\n",
    "\n",
    "#Sending the inputs to the webpage\n",
    "job_search.send_keys(\"Data Analyst\")\n",
    "location_search.send_keys(\"Bangalore\")\n",
    "\n",
    "#Searching the inputs by using the search button and clicking it\n",
    "driver.find_element_by_xpath(\"//div[@class='search-btn']/button\").click()"
   ]
  },
  {
   "cell_type": "code",
   "execution_count": 5,
   "metadata": {},
   "outputs": [],
   "source": [
    "#Specifying the url of the webpage to be scraped\n",
    "url=\"https://www.naukri.com/data-analyst-jobs-in-bangalore?k=data%20analyst&l=bangalore\"\n",
    "driver.get(url)"
   ]
  },
  {
   "cell_type": "code",
   "execution_count": 6,
   "metadata": {},
   "outputs": [
    {
     "data": {
      "text/plain": [
       "[<selenium.webdriver.remote.webelement.WebElement (session=\"a33f45f136e1b440a9dee5eef6ac8b1d\", element=\"b9cdfc87-fddd-43b9-a477-609b3e74d76c\")>,\n",
       " <selenium.webdriver.remote.webelement.WebElement (session=\"a33f45f136e1b440a9dee5eef6ac8b1d\", element=\"4d011b9c-aa75-4a3e-a129-7bf005fe8502\")>,\n",
       " <selenium.webdriver.remote.webelement.WebElement (session=\"a33f45f136e1b440a9dee5eef6ac8b1d\", element=\"4a80fb8d-8541-4247-a1ee-af5efb679f7f\")>,\n",
       " <selenium.webdriver.remote.webelement.WebElement (session=\"a33f45f136e1b440a9dee5eef6ac8b1d\", element=\"6126fe2a-ef16-49d5-b549-c855b30b9a23\")>,\n",
       " <selenium.webdriver.remote.webelement.WebElement (session=\"a33f45f136e1b440a9dee5eef6ac8b1d\", element=\"008c39cc-2f26-4f44-a8ff-09a506ceef56\")>,\n",
       " <selenium.webdriver.remote.webelement.WebElement (session=\"a33f45f136e1b440a9dee5eef6ac8b1d\", element=\"990c6f89-153e-476f-a80c-c9cdeeec8a60\")>,\n",
       " <selenium.webdriver.remote.webelement.WebElement (session=\"a33f45f136e1b440a9dee5eef6ac8b1d\", element=\"10a81b45-899b-491e-9061-ee26cbd14a55\")>,\n",
       " <selenium.webdriver.remote.webelement.WebElement (session=\"a33f45f136e1b440a9dee5eef6ac8b1d\", element=\"ee471548-504d-4dd2-bc4d-762c4991cb06\")>,\n",
       " <selenium.webdriver.remote.webelement.WebElement (session=\"a33f45f136e1b440a9dee5eef6ac8b1d\", element=\"58368d44-6eed-42c1-b59d-3ab5adcebdb8\")>,\n",
       " <selenium.webdriver.remote.webelement.WebElement (session=\"a33f45f136e1b440a9dee5eef6ac8b1d\", element=\"61e3a448-239d-42a0-8fcd-480b81f5c4da\")>,\n",
       " <selenium.webdriver.remote.webelement.WebElement (session=\"a33f45f136e1b440a9dee5eef6ac8b1d\", element=\"9a46b1fa-683e-4cbe-8d37-e52d40605336\")>,\n",
       " <selenium.webdriver.remote.webelement.WebElement (session=\"a33f45f136e1b440a9dee5eef6ac8b1d\", element=\"5faf0870-379c-46e3-8eb9-4edb99215f3e\")>,\n",
       " <selenium.webdriver.remote.webelement.WebElement (session=\"a33f45f136e1b440a9dee5eef6ac8b1d\", element=\"3bd6984d-a880-4755-9ddd-5394e5f93789\")>,\n",
       " <selenium.webdriver.remote.webelement.WebElement (session=\"a33f45f136e1b440a9dee5eef6ac8b1d\", element=\"50e1cc79-8422-48cb-a848-113be708d2ed\")>,\n",
       " <selenium.webdriver.remote.webelement.WebElement (session=\"a33f45f136e1b440a9dee5eef6ac8b1d\", element=\"851ae8cc-35c5-4689-8704-13ad12615c2c\")>,\n",
       " <selenium.webdriver.remote.webelement.WebElement (session=\"a33f45f136e1b440a9dee5eef6ac8b1d\", element=\"7d27e585-ce24-43d5-95c7-b53800ef556b\")>,\n",
       " <selenium.webdriver.remote.webelement.WebElement (session=\"a33f45f136e1b440a9dee5eef6ac8b1d\", element=\"6704ce7d-b4f1-4d68-adcc-4537dc5b1b6f\")>,\n",
       " <selenium.webdriver.remote.webelement.WebElement (session=\"a33f45f136e1b440a9dee5eef6ac8b1d\", element=\"4b178024-91db-4746-a323-16495de9162f\")>,\n",
       " <selenium.webdriver.remote.webelement.WebElement (session=\"a33f45f136e1b440a9dee5eef6ac8b1d\", element=\"39970590-57ed-4fd6-8c7a-b9e9efc5f9dd\")>,\n",
       " <selenium.webdriver.remote.webelement.WebElement (session=\"a33f45f136e1b440a9dee5eef6ac8b1d\", element=\"d1fd851d-5d92-4e12-a704-0227f76ac77c\")>]"
      ]
     },
     "execution_count": 6,
     "metadata": {},
     "output_type": "execute_result"
    }
   ],
   "source": [
    "#Extracting all the tags having the job title\n",
    "job_title=driver.find_elements_by_xpath(\"//a[@class='title fw500 ellipsis']\")\n",
    "job_title"
   ]
  },
  {
   "cell_type": "code",
   "execution_count": 7,
   "metadata": {},
   "outputs": [
    {
     "data": {
      "text/plain": [
       "['Assistant Manager II - Data Analyst',\n",
       " 'Data Analyst',\n",
       " 'Data Analyst',\n",
       " 'Data Analyst',\n",
       " 'Data Analyst',\n",
       " 'Hiring For Data Analyst',\n",
       " 'Senior Data Analyst',\n",
       " 'Data Analyst with Marketing Analytics-Capco',\n",
       " 'Business Data Analyst - MIS & Reporting',\n",
       " 'Junior Data Analyst']"
      ]
     },
     "execution_count": 7,
     "metadata": {},
     "output_type": "execute_result"
    }
   ],
   "source": [
    "#Extracting the text from the tags\n",
    "title=[]  #Empty list\n",
    "\n",
    "#As we need to scrap data for the first 10 job results, we are running a for loop for first 10 results only\n",
    "for i in job_title[:10]:\n",
    "    title.append(i.text)\n",
    "title    "
   ]
  },
  {
   "cell_type": "code",
   "execution_count": 8,
   "metadata": {},
   "outputs": [
    {
     "data": {
      "text/plain": [
       "[<selenium.webdriver.remote.webelement.WebElement (session=\"a33f45f136e1b440a9dee5eef6ac8b1d\", element=\"221e7d06-c56a-431c-8d10-43ba21f8bbd3\")>,\n",
       " <selenium.webdriver.remote.webelement.WebElement (session=\"a33f45f136e1b440a9dee5eef6ac8b1d\", element=\"5f2840f0-7cc9-49ae-87d6-4e02e510f8b4\")>,\n",
       " <selenium.webdriver.remote.webelement.WebElement (session=\"a33f45f136e1b440a9dee5eef6ac8b1d\", element=\"71783d89-7d6d-4d6b-b3af-5c54fa73c7c4\")>,\n",
       " <selenium.webdriver.remote.webelement.WebElement (session=\"a33f45f136e1b440a9dee5eef6ac8b1d\", element=\"54dab11f-d204-4de8-bf1e-cf00d9d7e900\")>,\n",
       " <selenium.webdriver.remote.webelement.WebElement (session=\"a33f45f136e1b440a9dee5eef6ac8b1d\", element=\"ecb7195e-abb3-4eb0-966c-ae32abc22efb\")>,\n",
       " <selenium.webdriver.remote.webelement.WebElement (session=\"a33f45f136e1b440a9dee5eef6ac8b1d\", element=\"f45d4786-8fba-4a98-a0c8-001446102c29\")>,\n",
       " <selenium.webdriver.remote.webelement.WebElement (session=\"a33f45f136e1b440a9dee5eef6ac8b1d\", element=\"7d091f96-9028-4c92-9e73-315dff41881d\")>,\n",
       " <selenium.webdriver.remote.webelement.WebElement (session=\"a33f45f136e1b440a9dee5eef6ac8b1d\", element=\"afd78654-8b05-457d-b940-14cc7d50c7f6\")>,\n",
       " <selenium.webdriver.remote.webelement.WebElement (session=\"a33f45f136e1b440a9dee5eef6ac8b1d\", element=\"a9b4a74d-19f8-4ac4-b42c-c47aaa44f8c0\")>,\n",
       " <selenium.webdriver.remote.webelement.WebElement (session=\"a33f45f136e1b440a9dee5eef6ac8b1d\", element=\"1ea0fe53-0e19-4f1c-803b-448e7afcce33\")>,\n",
       " <selenium.webdriver.remote.webelement.WebElement (session=\"a33f45f136e1b440a9dee5eef6ac8b1d\", element=\"24b96cd1-cf41-4768-a52a-e91a3f6e60c2\")>,\n",
       " <selenium.webdriver.remote.webelement.WebElement (session=\"a33f45f136e1b440a9dee5eef6ac8b1d\", element=\"17fb07da-c6c9-4b19-9e8a-fec13043e69a\")>,\n",
       " <selenium.webdriver.remote.webelement.WebElement (session=\"a33f45f136e1b440a9dee5eef6ac8b1d\", element=\"0c7e465e-5cf9-4e41-95b3-ea6e249e037b\")>,\n",
       " <selenium.webdriver.remote.webelement.WebElement (session=\"a33f45f136e1b440a9dee5eef6ac8b1d\", element=\"09bd5be2-8708-4844-855f-c6402750c8f1\")>,\n",
       " <selenium.webdriver.remote.webelement.WebElement (session=\"a33f45f136e1b440a9dee5eef6ac8b1d\", element=\"7abf989d-5d80-48e7-9742-d4ceb62eb92d\")>,\n",
       " <selenium.webdriver.remote.webelement.WebElement (session=\"a33f45f136e1b440a9dee5eef6ac8b1d\", element=\"7c9cadad-736f-41b1-8376-99a512f360e6\")>,\n",
       " <selenium.webdriver.remote.webelement.WebElement (session=\"a33f45f136e1b440a9dee5eef6ac8b1d\", element=\"68cfa07a-5f55-49dc-9bac-fd27663a55f0\")>,\n",
       " <selenium.webdriver.remote.webelement.WebElement (session=\"a33f45f136e1b440a9dee5eef6ac8b1d\", element=\"10ee588a-381f-431b-b332-438ea7797225\")>,\n",
       " <selenium.webdriver.remote.webelement.WebElement (session=\"a33f45f136e1b440a9dee5eef6ac8b1d\", element=\"c7bce290-25f4-4664-b5bb-e02a333a56fd\")>,\n",
       " <selenium.webdriver.remote.webelement.WebElement (session=\"a33f45f136e1b440a9dee5eef6ac8b1d\", element=\"25e44489-284c-4646-9baa-c2337d89738e\")>]"
      ]
     },
     "execution_count": 8,
     "metadata": {},
     "output_type": "execute_result"
    }
   ],
   "source": [
    "#Extracting all the tags having the job location\n",
    "job_location=driver.find_elements_by_xpath(\"//li[@class='fleft grey-text br2 placeHolderLi location']/span\")\n",
    "job_location"
   ]
  },
  {
   "cell_type": "code",
   "execution_count": 9,
   "metadata": {},
   "outputs": [
    {
     "data": {
      "text/plain": [
       "['Bangalore/Bengaluru',\n",
       " 'Bangalore/Bengaluru(Chintamani)',\n",
       " 'Bangalore/Bengaluru',\n",
       " 'Bangalore/Bengaluru',\n",
       " 'Bangalore/Bengaluru',\n",
       " 'Hyderabad/Secunderabad, Pune, Chennai, Bangalore/Bengaluru, Delhi / NCR, Mumbai (All Areas)',\n",
       " 'Bangalore/Bengaluru',\n",
       " 'Pune, Bangalore/Bengaluru',\n",
       " 'Mumbai, Bangalore/Bengaluru',\n",
       " 'Bangalore/Bengaluru, Mumbai (All Areas)']"
      ]
     },
     "execution_count": 9,
     "metadata": {},
     "output_type": "execute_result"
    }
   ],
   "source": [
    "#Extracting the text from the tags\n",
    "location=[]  #Empty list\n",
    "\n",
    "#As we need to scrap data for the first 10 job results, we are running a for loop for first 10 results only\n",
    "for i in job_location[:10]:\n",
    "    location.append(i.text)\n",
    "location    "
   ]
  },
  {
   "cell_type": "code",
   "execution_count": 10,
   "metadata": {},
   "outputs": [
    {
     "data": {
      "text/plain": [
       "[<selenium.webdriver.remote.webelement.WebElement (session=\"a33f45f136e1b440a9dee5eef6ac8b1d\", element=\"820ba493-82ac-4fdf-99e2-2f0d4e89a23c\")>,\n",
       " <selenium.webdriver.remote.webelement.WebElement (session=\"a33f45f136e1b440a9dee5eef6ac8b1d\", element=\"7fca1227-1248-4a55-b4f4-b549891d824f\")>,\n",
       " <selenium.webdriver.remote.webelement.WebElement (session=\"a33f45f136e1b440a9dee5eef6ac8b1d\", element=\"a5fcc37a-e5c3-4186-99a6-1d34cbce80c9\")>,\n",
       " <selenium.webdriver.remote.webelement.WebElement (session=\"a33f45f136e1b440a9dee5eef6ac8b1d\", element=\"fd405d3d-54d2-42ab-9ca1-287756712c3d\")>,\n",
       " <selenium.webdriver.remote.webelement.WebElement (session=\"a33f45f136e1b440a9dee5eef6ac8b1d\", element=\"bc07045f-cadb-40b4-b1d9-f0cf068f93a9\")>,\n",
       " <selenium.webdriver.remote.webelement.WebElement (session=\"a33f45f136e1b440a9dee5eef6ac8b1d\", element=\"829971d9-2930-4efd-9ba3-c5aaecc3618a\")>,\n",
       " <selenium.webdriver.remote.webelement.WebElement (session=\"a33f45f136e1b440a9dee5eef6ac8b1d\", element=\"a7c09f5b-76d5-4750-a003-06ad647f9cf0\")>,\n",
       " <selenium.webdriver.remote.webelement.WebElement (session=\"a33f45f136e1b440a9dee5eef6ac8b1d\", element=\"fd7dd6df-31f6-47f3-ae50-a041bb67833d\")>,\n",
       " <selenium.webdriver.remote.webelement.WebElement (session=\"a33f45f136e1b440a9dee5eef6ac8b1d\", element=\"087fe4aa-4242-47e0-a7ad-7ac836491102\")>,\n",
       " <selenium.webdriver.remote.webelement.WebElement (session=\"a33f45f136e1b440a9dee5eef6ac8b1d\", element=\"38ed477d-89c0-41ce-acb1-228b7e1dde79\")>,\n",
       " <selenium.webdriver.remote.webelement.WebElement (session=\"a33f45f136e1b440a9dee5eef6ac8b1d\", element=\"89c512ae-a964-4792-a2e3-ebc1a8ad784b\")>,\n",
       " <selenium.webdriver.remote.webelement.WebElement (session=\"a33f45f136e1b440a9dee5eef6ac8b1d\", element=\"191958dc-b69a-4099-accb-5c1de3fcfab4\")>,\n",
       " <selenium.webdriver.remote.webelement.WebElement (session=\"a33f45f136e1b440a9dee5eef6ac8b1d\", element=\"d96b1bf2-3e1c-4843-ac5d-1c7adc4e30cb\")>,\n",
       " <selenium.webdriver.remote.webelement.WebElement (session=\"a33f45f136e1b440a9dee5eef6ac8b1d\", element=\"ea2db01d-4ab6-483c-a5cc-cda909e3584a\")>,\n",
       " <selenium.webdriver.remote.webelement.WebElement (session=\"a33f45f136e1b440a9dee5eef6ac8b1d\", element=\"1e81d504-863b-43b1-a89a-1d15fe288a19\")>,\n",
       " <selenium.webdriver.remote.webelement.WebElement (session=\"a33f45f136e1b440a9dee5eef6ac8b1d\", element=\"cce47bee-c5c6-4bd3-80bd-4c787a6fe7cb\")>,\n",
       " <selenium.webdriver.remote.webelement.WebElement (session=\"a33f45f136e1b440a9dee5eef6ac8b1d\", element=\"de1af57c-d92f-4870-83ff-d1af20a7a6bd\")>,\n",
       " <selenium.webdriver.remote.webelement.WebElement (session=\"a33f45f136e1b440a9dee5eef6ac8b1d\", element=\"dc68d70c-1392-465a-b97f-b31811b10e26\")>,\n",
       " <selenium.webdriver.remote.webelement.WebElement (session=\"a33f45f136e1b440a9dee5eef6ac8b1d\", element=\"57e646fd-b093-4d88-afe6-60e05986e988\")>,\n",
       " <selenium.webdriver.remote.webelement.WebElement (session=\"a33f45f136e1b440a9dee5eef6ac8b1d\", element=\"087e85da-b65f-4dda-8498-af65acf430c8\")>]"
      ]
     },
     "execution_count": 10,
     "metadata": {},
     "output_type": "execute_result"
    }
   ],
   "source": [
    "#Extracting the tags having the company name\n",
    "name=driver.find_elements_by_xpath(\"//a[@class='subTitle ellipsis fleft']\")\n",
    "name"
   ]
  },
  {
   "cell_type": "code",
   "execution_count": 11,
   "metadata": {},
   "outputs": [
    {
     "data": {
      "text/plain": [
       "['Flipkart Internet Private Limited',\n",
       " 'Super India Tech Mark',\n",
       " 'tech mahindra ltd',\n",
       " 'GlaxoSmithKline Pharmaceuticals Limited',\n",
       " 'Xiaomi',\n",
       " 'Concentrix Daksh Services India Private Limited.',\n",
       " 'Cerner',\n",
       " 'Capco Technologies Pvt Ltd',\n",
       " 'INTERTRUST GROUP',\n",
       " 'Happy Marketer Private Ltd']"
      ]
     },
     "execution_count": 11,
     "metadata": {},
     "output_type": "execute_result"
    }
   ],
   "source": [
    "#Extracting the text from the tags\n",
    "company=[]  #Empty list\n",
    "\n",
    "#As we need to scrap data for the first 10 job results, we are running a for loop for first 10 results only\n",
    "for i in name[:10]:\n",
    "    company.append(i.text)\n",
    "company"
   ]
  },
  {
   "cell_type": "code",
   "execution_count": 12,
   "metadata": {},
   "outputs": [
    {
     "data": {
      "text/plain": [
       "[<selenium.webdriver.remote.webelement.WebElement (session=\"a33f45f136e1b440a9dee5eef6ac8b1d\", element=\"60a81f48-95ef-49a2-a0f2-fc584b8f45b3\")>,\n",
       " <selenium.webdriver.remote.webelement.WebElement (session=\"a33f45f136e1b440a9dee5eef6ac8b1d\", element=\"e11d9850-52d0-4a81-a234-a37f94b2018e\")>,\n",
       " <selenium.webdriver.remote.webelement.WebElement (session=\"a33f45f136e1b440a9dee5eef6ac8b1d\", element=\"67c0963a-f51c-45b5-91ce-075ba60fa9bd\")>,\n",
       " <selenium.webdriver.remote.webelement.WebElement (session=\"a33f45f136e1b440a9dee5eef6ac8b1d\", element=\"af878c2b-36db-437a-a41d-8a2f0aec4089\")>,\n",
       " <selenium.webdriver.remote.webelement.WebElement (session=\"a33f45f136e1b440a9dee5eef6ac8b1d\", element=\"1deba9da-4948-451e-92fe-8b47733958b6\")>,\n",
       " <selenium.webdriver.remote.webelement.WebElement (session=\"a33f45f136e1b440a9dee5eef6ac8b1d\", element=\"fb432431-a734-4c26-a72e-66f29e3a3e6e\")>,\n",
       " <selenium.webdriver.remote.webelement.WebElement (session=\"a33f45f136e1b440a9dee5eef6ac8b1d\", element=\"fb27945c-2e01-4456-9963-7e8f1bdf0dd1\")>,\n",
       " <selenium.webdriver.remote.webelement.WebElement (session=\"a33f45f136e1b440a9dee5eef6ac8b1d\", element=\"7ec7404a-abd1-4229-a3dd-381a763dceed\")>,\n",
       " <selenium.webdriver.remote.webelement.WebElement (session=\"a33f45f136e1b440a9dee5eef6ac8b1d\", element=\"15f0969d-c9ec-418b-a455-cce2ed390652\")>,\n",
       " <selenium.webdriver.remote.webelement.WebElement (session=\"a33f45f136e1b440a9dee5eef6ac8b1d\", element=\"7e8306f8-a9f3-40cd-8c7f-18c9a3cc8c25\")>,\n",
       " <selenium.webdriver.remote.webelement.WebElement (session=\"a33f45f136e1b440a9dee5eef6ac8b1d\", element=\"990ea511-59b0-4bb5-aa82-3992dc25f1da\")>,\n",
       " <selenium.webdriver.remote.webelement.WebElement (session=\"a33f45f136e1b440a9dee5eef6ac8b1d\", element=\"1cd892e9-0774-4282-aa16-d5024403e962\")>,\n",
       " <selenium.webdriver.remote.webelement.WebElement (session=\"a33f45f136e1b440a9dee5eef6ac8b1d\", element=\"23b598dc-26cc-4c7a-ac6c-327565ade3ed\")>,\n",
       " <selenium.webdriver.remote.webelement.WebElement (session=\"a33f45f136e1b440a9dee5eef6ac8b1d\", element=\"ff36c1fc-9dca-4064-b463-f7d18beb1d26\")>,\n",
       " <selenium.webdriver.remote.webelement.WebElement (session=\"a33f45f136e1b440a9dee5eef6ac8b1d\", element=\"c42389a7-3aba-4fb7-a389-41eef247263d\")>,\n",
       " <selenium.webdriver.remote.webelement.WebElement (session=\"a33f45f136e1b440a9dee5eef6ac8b1d\", element=\"da3dcf27-c35f-4a80-a76e-69d4c54e4601\")>,\n",
       " <selenium.webdriver.remote.webelement.WebElement (session=\"a33f45f136e1b440a9dee5eef6ac8b1d\", element=\"47c7de44-04cd-47ad-9cd3-2db714c7a8b8\")>,\n",
       " <selenium.webdriver.remote.webelement.WebElement (session=\"a33f45f136e1b440a9dee5eef6ac8b1d\", element=\"dadc082a-63fa-4e3e-99f5-759f86958b26\")>,\n",
       " <selenium.webdriver.remote.webelement.WebElement (session=\"a33f45f136e1b440a9dee5eef6ac8b1d\", element=\"cf3d2fca-f0a2-4b19-99f1-256c2ca3dafd\")>,\n",
       " <selenium.webdriver.remote.webelement.WebElement (session=\"a33f45f136e1b440a9dee5eef6ac8b1d\", element=\"62470e89-1520-4902-a850-e81b78f4ed5e\")>]"
      ]
     },
     "execution_count": 12,
     "metadata": {},
     "output_type": "execute_result"
    }
   ],
   "source": [
    "#Extracting the tags having experience required\n",
    "exp_required=driver.find_elements_by_xpath(\"//li[@class='fleft grey-text br2 placeHolderLi experience']/span\")\n",
    "exp_required"
   ]
  },
  {
   "cell_type": "code",
   "execution_count": 13,
   "metadata": {},
   "outputs": [
    {
     "data": {
      "text/plain": [
       "['4-8 Yrs',\n",
       " '0-2 Yrs',\n",
       " '4-8 Yrs',\n",
       " '2-7 Yrs',\n",
       " '2-6 Yrs',\n",
       " '2-7 Yrs',\n",
       " '3-5 Yrs',\n",
       " '4-9 Yrs',\n",
       " '3-7 Yrs',\n",
       " '1-3 Yrs']"
      ]
     },
     "execution_count": 13,
     "metadata": {},
     "output_type": "execute_result"
    }
   ],
   "source": [
    "#Extracting the text from the tags\n",
    "exp=[]  #Empty list\n",
    "\n",
    "#As we need to scrap data for the first 10 job results, we are running a for loop for first 10 results only\n",
    "for i in exp_required[:10]:\n",
    "    exp.append(i.text)\n",
    "exp"
   ]
  },
  {
   "cell_type": "code",
   "execution_count": 14,
   "metadata": {},
   "outputs": [
    {
     "name": "stdout",
     "output_type": "stream",
     "text": [
      "10 10 10 10\n"
     ]
    }
   ],
   "source": [
    "#Checking out the length of the data extracted\n",
    "print(len(title),len(location),len(company),len(exp))"
   ]
  },
  {
   "cell_type": "code",
   "execution_count": 15,
   "metadata": {},
   "outputs": [
    {
     "data": {
      "text/html": [
       "<div>\n",
       "<style scoped>\n",
       "    .dataframe tbody tr th:only-of-type {\n",
       "        vertical-align: middle;\n",
       "    }\n",
       "\n",
       "    .dataframe tbody tr th {\n",
       "        vertical-align: top;\n",
       "    }\n",
       "\n",
       "    .dataframe thead th {\n",
       "        text-align: right;\n",
       "    }\n",
       "</style>\n",
       "<table border=\"1\" class=\"dataframe\">\n",
       "  <thead>\n",
       "    <tr style=\"text-align: right;\">\n",
       "      <th></th>\n",
       "      <th>Title</th>\n",
       "      <th>Location</th>\n",
       "      <th>Company name</th>\n",
       "      <th>Experience required</th>\n",
       "    </tr>\n",
       "  </thead>\n",
       "  <tbody>\n",
       "    <tr>\n",
       "      <th>0</th>\n",
       "      <td>Assistant Manager II - Data Analyst</td>\n",
       "      <td>Bangalore/Bengaluru</td>\n",
       "      <td>Flipkart Internet Private Limited</td>\n",
       "      <td>4-8 Yrs</td>\n",
       "    </tr>\n",
       "    <tr>\n",
       "      <th>1</th>\n",
       "      <td>Data Analyst</td>\n",
       "      <td>Bangalore/Bengaluru(Chintamani)</td>\n",
       "      <td>Super India Tech Mark</td>\n",
       "      <td>0-2 Yrs</td>\n",
       "    </tr>\n",
       "    <tr>\n",
       "      <th>2</th>\n",
       "      <td>Data Analyst</td>\n",
       "      <td>Bangalore/Bengaluru</td>\n",
       "      <td>tech mahindra ltd</td>\n",
       "      <td>4-8 Yrs</td>\n",
       "    </tr>\n",
       "    <tr>\n",
       "      <th>3</th>\n",
       "      <td>Data Analyst</td>\n",
       "      <td>Bangalore/Bengaluru</td>\n",
       "      <td>GlaxoSmithKline Pharmaceuticals Limited</td>\n",
       "      <td>2-7 Yrs</td>\n",
       "    </tr>\n",
       "    <tr>\n",
       "      <th>4</th>\n",
       "      <td>Data Analyst</td>\n",
       "      <td>Bangalore/Bengaluru</td>\n",
       "      <td>Xiaomi</td>\n",
       "      <td>2-6 Yrs</td>\n",
       "    </tr>\n",
       "    <tr>\n",
       "      <th>5</th>\n",
       "      <td>Hiring For Data Analyst</td>\n",
       "      <td>Hyderabad/Secunderabad, Pune, Chennai, Bangalo...</td>\n",
       "      <td>Concentrix Daksh Services India Private Limited.</td>\n",
       "      <td>2-7 Yrs</td>\n",
       "    </tr>\n",
       "    <tr>\n",
       "      <th>6</th>\n",
       "      <td>Senior Data Analyst</td>\n",
       "      <td>Bangalore/Bengaluru</td>\n",
       "      <td>Cerner</td>\n",
       "      <td>3-5 Yrs</td>\n",
       "    </tr>\n",
       "    <tr>\n",
       "      <th>7</th>\n",
       "      <td>Data Analyst with Marketing Analytics-Capco</td>\n",
       "      <td>Pune, Bangalore/Bengaluru</td>\n",
       "      <td>Capco Technologies Pvt Ltd</td>\n",
       "      <td>4-9 Yrs</td>\n",
       "    </tr>\n",
       "    <tr>\n",
       "      <th>8</th>\n",
       "      <td>Business Data Analyst - MIS &amp; Reporting</td>\n",
       "      <td>Mumbai, Bangalore/Bengaluru</td>\n",
       "      <td>INTERTRUST GROUP</td>\n",
       "      <td>3-7 Yrs</td>\n",
       "    </tr>\n",
       "    <tr>\n",
       "      <th>9</th>\n",
       "      <td>Junior Data Analyst</td>\n",
       "      <td>Bangalore/Bengaluru, Mumbai (All Areas)</td>\n",
       "      <td>Happy Marketer Private Ltd</td>\n",
       "      <td>1-3 Yrs</td>\n",
       "    </tr>\n",
       "  </tbody>\n",
       "</table>\n",
       "</div>"
      ],
      "text/plain": [
       "                                         Title  \\\n",
       "0          Assistant Manager II - Data Analyst   \n",
       "1                                 Data Analyst   \n",
       "2                                 Data Analyst   \n",
       "3                                 Data Analyst   \n",
       "4                                 Data Analyst   \n",
       "5                      Hiring For Data Analyst   \n",
       "6                          Senior Data Analyst   \n",
       "7  Data Analyst with Marketing Analytics-Capco   \n",
       "8      Business Data Analyst - MIS & Reporting   \n",
       "9                          Junior Data Analyst   \n",
       "\n",
       "                                            Location  \\\n",
       "0                                Bangalore/Bengaluru   \n",
       "1                    Bangalore/Bengaluru(Chintamani)   \n",
       "2                                Bangalore/Bengaluru   \n",
       "3                                Bangalore/Bengaluru   \n",
       "4                                Bangalore/Bengaluru   \n",
       "5  Hyderabad/Secunderabad, Pune, Chennai, Bangalo...   \n",
       "6                                Bangalore/Bengaluru   \n",
       "7                          Pune, Bangalore/Bengaluru   \n",
       "8                        Mumbai, Bangalore/Bengaluru   \n",
       "9            Bangalore/Bengaluru, Mumbai (All Areas)   \n",
       "\n",
       "                                       Company name Experience required  \n",
       "0                 Flipkart Internet Private Limited             4-8 Yrs  \n",
       "1                             Super India Tech Mark             0-2 Yrs  \n",
       "2                                 tech mahindra ltd             4-8 Yrs  \n",
       "3           GlaxoSmithKline Pharmaceuticals Limited             2-7 Yrs  \n",
       "4                                            Xiaomi             2-6 Yrs  \n",
       "5  Concentrix Daksh Services India Private Limited.             2-7 Yrs  \n",
       "6                                            Cerner             3-5 Yrs  \n",
       "7                        Capco Technologies Pvt Ltd             4-9 Yrs  \n",
       "8                                  INTERTRUST GROUP             3-7 Yrs  \n",
       "9                        Happy Marketer Private Ltd             1-3 Yrs  "
      ]
     },
     "execution_count": 15,
     "metadata": {},
     "output_type": "execute_result"
    }
   ],
   "source": [
    "#Creating a new dataframe for saving the data\n",
    "jobs=pd.DataFrame({})\n",
    "jobs['Title']=title\n",
    "jobs['Location']=location\n",
    "jobs['Company name']=company\n",
    "jobs['Experience required']=exp\n",
    "jobs"
   ]
  },
  {
   "cell_type": "code",
   "execution_count": 16,
   "metadata": {},
   "outputs": [],
   "source": [
    "#Saving the data into a csv file\n",
    "jobs.to_csv(\"DA_Bangalore_Naukrijobs.csv\")"
   ]
  },
  {
   "cell_type": "code",
   "execution_count": 17,
   "metadata": {},
   "outputs": [],
   "source": [
    "#Closing the driver\n",
    "driver.close()"
   ]
  },
  {
   "cell_type": "markdown",
   "metadata": {},
   "source": [
    "# Q2: Write a python program to scrape data for “Data Scientist” Job position in “Bangalore” location. You have to scrape the job-title, job-location, company_name, full job-description. You have to scrape first 10 jobs data."
   ]
  },
  {
   "cell_type": "markdown",
   "metadata": {},
   "source": [
    "This task will be done in following steps:\n",
    "1. First, get the webpage https://www.naukri.com/\n",
    "2. Enter “Data Scientist” in “Skill,Designations,Companies” field and enter “Bangalore” in “enter the location” field.\n",
    "3. Then click the search button.\n",
    "4. Then scrape the data for the first 10 jobs results you get.\n",
    "5. Finally create a dataframe of the scraped data."
   ]
  },
  {
   "cell_type": "code",
   "execution_count": 18,
   "metadata": {},
   "outputs": [],
   "source": [
    "#Connect to web driver\n",
    "driver=webdriver.Chrome(r\"D://chromedriver.exe\")  #r converts string to raw string\n",
    "#If not r, we can use executable_path = \"C:/path name\""
   ]
  },
  {
   "cell_type": "code",
   "execution_count": 19,
   "metadata": {},
   "outputs": [],
   "source": [
    "#Getting the website to driver\n",
    "driver.get('https://www.naukri.com/')\n",
    "\n",
    "#When we run this line, automatically the webpage will be opened"
   ]
  },
  {
   "cell_type": "code",
   "execution_count": 20,
   "metadata": {},
   "outputs": [],
   "source": [
    "#Finding the required elements from the search bars of job and location\n",
    "job_search=driver.find_element_by_id('qsb-keyword-sugg')\n",
    "location_search=driver.find_element_by_id('qsb-location-sugg')\n",
    "\n",
    "#Sending the inputs to the webpage\n",
    "job_search.send_keys(\"Data Scientist\")\n",
    "location_search.send_keys(\"Bangalore\")\n",
    "\n",
    "#Searching the inputs by using the search button and clicking it\n",
    "driver.find_element_by_xpath(\"//div[@class='search-btn']/button\").click()"
   ]
  },
  {
   "cell_type": "code",
   "execution_count": 21,
   "metadata": {},
   "outputs": [],
   "source": [
    "#Specifying the url of the webpage to be scraped\n",
    "url=\"https://www.naukri.com/data-scientist-jobs-in-bangalore?k=data%20scientist&l=bangalore\"\n",
    "driver.get(url)"
   ]
  },
  {
   "cell_type": "code",
   "execution_count": 22,
   "metadata": {},
   "outputs": [
    {
     "data": {
      "text/plain": [
       "[<selenium.webdriver.remote.webelement.WebElement (session=\"96b3fe88bf17bb931b31d88366f118dc\", element=\"239237b5-55b7-402c-935d-1adc6c3b173e\")>,\n",
       " <selenium.webdriver.remote.webelement.WebElement (session=\"96b3fe88bf17bb931b31d88366f118dc\", element=\"dc89cb94-ec11-480c-92b4-d6417c1315ee\")>,\n",
       " <selenium.webdriver.remote.webelement.WebElement (session=\"96b3fe88bf17bb931b31d88366f118dc\", element=\"e5d342ea-2d4c-4c2e-ac7a-5317207244e1\")>,\n",
       " <selenium.webdriver.remote.webelement.WebElement (session=\"96b3fe88bf17bb931b31d88366f118dc\", element=\"c0bfecb3-cb00-4342-8018-d00c395837a8\")>,\n",
       " <selenium.webdriver.remote.webelement.WebElement (session=\"96b3fe88bf17bb931b31d88366f118dc\", element=\"9961281b-9700-471b-97c1-3b7270f40808\")>,\n",
       " <selenium.webdriver.remote.webelement.WebElement (session=\"96b3fe88bf17bb931b31d88366f118dc\", element=\"0928d2bd-622c-46e2-9c9c-7b0e91642bc1\")>,\n",
       " <selenium.webdriver.remote.webelement.WebElement (session=\"96b3fe88bf17bb931b31d88366f118dc\", element=\"ce329e1c-57dc-4a7a-ae04-d913313825de\")>,\n",
       " <selenium.webdriver.remote.webelement.WebElement (session=\"96b3fe88bf17bb931b31d88366f118dc\", element=\"46c99808-a68b-407f-a10b-e3406495c017\")>,\n",
       " <selenium.webdriver.remote.webelement.WebElement (session=\"96b3fe88bf17bb931b31d88366f118dc\", element=\"02c21239-aff5-429a-a05a-bfa4ba042608\")>,\n",
       " <selenium.webdriver.remote.webelement.WebElement (session=\"96b3fe88bf17bb931b31d88366f118dc\", element=\"4cb5061d-ba95-4ee8-9663-ccdba7d56c59\")>,\n",
       " <selenium.webdriver.remote.webelement.WebElement (session=\"96b3fe88bf17bb931b31d88366f118dc\", element=\"5c57b5f5-053f-4b0e-844b-11a02c099fa4\")>,\n",
       " <selenium.webdriver.remote.webelement.WebElement (session=\"96b3fe88bf17bb931b31d88366f118dc\", element=\"eaf7a472-697f-497b-932c-598e6a2158dc\")>,\n",
       " <selenium.webdriver.remote.webelement.WebElement (session=\"96b3fe88bf17bb931b31d88366f118dc\", element=\"6887101d-f9e9-4402-8ec5-38d98ce98812\")>,\n",
       " <selenium.webdriver.remote.webelement.WebElement (session=\"96b3fe88bf17bb931b31d88366f118dc\", element=\"7b860c85-57fa-42bb-8550-fda6fe1c2617\")>,\n",
       " <selenium.webdriver.remote.webelement.WebElement (session=\"96b3fe88bf17bb931b31d88366f118dc\", element=\"4b8438eb-50d4-4b89-91d4-594b33fab3c2\")>,\n",
       " <selenium.webdriver.remote.webelement.WebElement (session=\"96b3fe88bf17bb931b31d88366f118dc\", element=\"c75ed9f5-b3e3-40e7-934a-c9c2f22e1e7f\")>,\n",
       " <selenium.webdriver.remote.webelement.WebElement (session=\"96b3fe88bf17bb931b31d88366f118dc\", element=\"c3f11816-efa2-4cb3-9ff0-91de81400884\")>,\n",
       " <selenium.webdriver.remote.webelement.WebElement (session=\"96b3fe88bf17bb931b31d88366f118dc\", element=\"6b350eb2-e615-434a-b90f-d1181c041a6b\")>,\n",
       " <selenium.webdriver.remote.webelement.WebElement (session=\"96b3fe88bf17bb931b31d88366f118dc\", element=\"11012939-b5f3-411e-b817-86c4af43dc94\")>,\n",
       " <selenium.webdriver.remote.webelement.WebElement (session=\"96b3fe88bf17bb931b31d88366f118dc\", element=\"da142152-5548-47ca-b6a7-2e7ff0643200\")>]"
      ]
     },
     "execution_count": 22,
     "metadata": {},
     "output_type": "execute_result"
    }
   ],
   "source": [
    "#Extracting all the tags having the job title\n",
    "job_title=driver.find_elements_by_xpath(\"//a[@class='title fw500 ellipsis']\")\n",
    "job_title"
   ]
  },
  {
   "cell_type": "code",
   "execution_count": 23,
   "metadata": {},
   "outputs": [
    {
     "data": {
      "text/plain": [
       "['Required- Data Scientist (NLP)-Axis Bank - 6 months contract',\n",
       " 'Opportunity For Data Scientist Internship - Bengaluru',\n",
       " 'Data Scientist/ Analyst',\n",
       " 'Data Scientist - Python/ MATLAB/ Machine Learning Algorithms',\n",
       " 'Principal Data Scientist - Machine/Deep Learning - NLP/Tensorflow',\n",
       " 'Data Scientist || Data Analyst || Data science',\n",
       " 'Lead Data Scientist - Immediate Joiners are Required',\n",
       " 'Global Medical Data Scientist',\n",
       " 'Analytics & AI Product Mgmt - Sr. Data Scientist',\n",
       " 'Data Scientist - Advanced Analytics']"
      ]
     },
     "execution_count": 23,
     "metadata": {},
     "output_type": "execute_result"
    }
   ],
   "source": [
    "#Extracting the text from the tags\n",
    "title=[]  #Empty list\n",
    "\n",
    "#As we need to scrap data for the first 10 job results, we are running a for loop for first 10 results only\n",
    "for i in job_title[:10]:\n",
    "    title.append(i.text)\n",
    "title    "
   ]
  },
  {
   "cell_type": "code",
   "execution_count": 24,
   "metadata": {},
   "outputs": [
    {
     "data": {
      "text/plain": [
       "[<selenium.webdriver.remote.webelement.WebElement (session=\"96b3fe88bf17bb931b31d88366f118dc\", element=\"d5ad985e-a64a-47b5-bac2-d08ec7ae990d\")>,\n",
       " <selenium.webdriver.remote.webelement.WebElement (session=\"96b3fe88bf17bb931b31d88366f118dc\", element=\"b078f87f-a321-4f24-a989-95fd6c4098b3\")>,\n",
       " <selenium.webdriver.remote.webelement.WebElement (session=\"96b3fe88bf17bb931b31d88366f118dc\", element=\"b99b8a14-29d7-4ee7-a2f7-f92f39fa626a\")>,\n",
       " <selenium.webdriver.remote.webelement.WebElement (session=\"96b3fe88bf17bb931b31d88366f118dc\", element=\"171f1112-a5e4-451c-956d-f8e71f669f95\")>,\n",
       " <selenium.webdriver.remote.webelement.WebElement (session=\"96b3fe88bf17bb931b31d88366f118dc\", element=\"494eda25-15c5-414b-bbbf-3ec82fad1a79\")>,\n",
       " <selenium.webdriver.remote.webelement.WebElement (session=\"96b3fe88bf17bb931b31d88366f118dc\", element=\"f31bcc42-0a59-4908-bbef-fff062654ca3\")>,\n",
       " <selenium.webdriver.remote.webelement.WebElement (session=\"96b3fe88bf17bb931b31d88366f118dc\", element=\"310a0312-b05f-4587-aa16-bb732ea71a20\")>,\n",
       " <selenium.webdriver.remote.webelement.WebElement (session=\"96b3fe88bf17bb931b31d88366f118dc\", element=\"6a983ac2-a78a-433b-977a-ce37bfdffa96\")>,\n",
       " <selenium.webdriver.remote.webelement.WebElement (session=\"96b3fe88bf17bb931b31d88366f118dc\", element=\"30959891-19b4-4c14-b260-4b74cc23cc05\")>,\n",
       " <selenium.webdriver.remote.webelement.WebElement (session=\"96b3fe88bf17bb931b31d88366f118dc\", element=\"e563cbad-a6ba-42a8-8f0c-7be2014e15f0\")>,\n",
       " <selenium.webdriver.remote.webelement.WebElement (session=\"96b3fe88bf17bb931b31d88366f118dc\", element=\"79005b1c-011d-4ed1-b609-0767fc3c4900\")>,\n",
       " <selenium.webdriver.remote.webelement.WebElement (session=\"96b3fe88bf17bb931b31d88366f118dc\", element=\"aeb34403-c468-429b-b80e-e59bf24bc63b\")>,\n",
       " <selenium.webdriver.remote.webelement.WebElement (session=\"96b3fe88bf17bb931b31d88366f118dc\", element=\"ae8a089f-10c7-4bee-b4b1-3d790d043d0f\")>,\n",
       " <selenium.webdriver.remote.webelement.WebElement (session=\"96b3fe88bf17bb931b31d88366f118dc\", element=\"f6b5ee1c-540d-4108-98b3-6482fd0c87ac\")>,\n",
       " <selenium.webdriver.remote.webelement.WebElement (session=\"96b3fe88bf17bb931b31d88366f118dc\", element=\"9cb66b82-fdc2-45ab-8ba9-fec23bbd5d0f\")>,\n",
       " <selenium.webdriver.remote.webelement.WebElement (session=\"96b3fe88bf17bb931b31d88366f118dc\", element=\"4faef276-6bf9-48d7-942a-595dc613ff81\")>,\n",
       " <selenium.webdriver.remote.webelement.WebElement (session=\"96b3fe88bf17bb931b31d88366f118dc\", element=\"d084e638-ccf3-42aa-b6a8-3999db5e2e90\")>,\n",
       " <selenium.webdriver.remote.webelement.WebElement (session=\"96b3fe88bf17bb931b31d88366f118dc\", element=\"81dbb345-f79d-4a63-8e72-75fc48af6e69\")>,\n",
       " <selenium.webdriver.remote.webelement.WebElement (session=\"96b3fe88bf17bb931b31d88366f118dc\", element=\"2d738bf1-88f8-4a86-9225-bacaaefef6fe\")>,\n",
       " <selenium.webdriver.remote.webelement.WebElement (session=\"96b3fe88bf17bb931b31d88366f118dc\", element=\"ec3ff03d-951e-4129-b37e-ee87af1fa84a\")>]"
      ]
     },
     "execution_count": 24,
     "metadata": {},
     "output_type": "execute_result"
    }
   ],
   "source": [
    "#Extracting all the tags having the job location\n",
    "job_location=driver.find_elements_by_xpath(\"//li[@class='fleft grey-text br2 placeHolderLi location']/span\")\n",
    "job_location"
   ]
  },
  {
   "cell_type": "code",
   "execution_count": 25,
   "metadata": {},
   "outputs": [
    {
     "data": {
      "text/plain": [
       "['Kolkata, New Delhi, Hyderabad/Secunderabad, Pune, Chennai, Bangalore/Bengaluru, Mumbai (All Areas)',\n",
       " 'Bangalore/Bengaluru',\n",
       " 'Bangalore/Bengaluru',\n",
       " 'Bangalore/Bengaluru',\n",
       " 'Bangalore/Bengaluru',\n",
       " 'Navi Mumbai, Bangalore/Bengaluru',\n",
       " 'Mumbai, Hyderabad/Secunderabad, Pune, Chennai, Bangalore/Bengaluru, Delhi / NCR',\n",
       " 'Bangalore/Bengaluru',\n",
       " 'Bangalore/Bengaluru',\n",
       " 'Bangalore/Bengaluru']"
      ]
     },
     "execution_count": 25,
     "metadata": {},
     "output_type": "execute_result"
    }
   ],
   "source": [
    "#Extracting the text from the tags\n",
    "location=[]  #Empty list\n",
    "\n",
    "#As we need to scrap data for the first 10 job results, we are running a for loop for first 10 results only\n",
    "for i in job_location[:10]:\n",
    "    location.append(i.text)\n",
    "location    "
   ]
  },
  {
   "cell_type": "code",
   "execution_count": 26,
   "metadata": {},
   "outputs": [
    {
     "data": {
      "text/plain": [
       "[<selenium.webdriver.remote.webelement.WebElement (session=\"96b3fe88bf17bb931b31d88366f118dc\", element=\"e490a93e-7b77-493a-9880-f62dc1e0af0d\")>,\n",
       " <selenium.webdriver.remote.webelement.WebElement (session=\"96b3fe88bf17bb931b31d88366f118dc\", element=\"2b2a1ffa-e443-47b8-8fad-d89d046341ab\")>,\n",
       " <selenium.webdriver.remote.webelement.WebElement (session=\"96b3fe88bf17bb931b31d88366f118dc\", element=\"9fb65b99-9ede-4312-a917-493c87449a88\")>,\n",
       " <selenium.webdriver.remote.webelement.WebElement (session=\"96b3fe88bf17bb931b31d88366f118dc\", element=\"5db51658-509c-4f95-a9be-e36d7852a6d6\")>,\n",
       " <selenium.webdriver.remote.webelement.WebElement (session=\"96b3fe88bf17bb931b31d88366f118dc\", element=\"663b05b9-3c59-426e-98f8-fffdf2959bf6\")>,\n",
       " <selenium.webdriver.remote.webelement.WebElement (session=\"96b3fe88bf17bb931b31d88366f118dc\", element=\"db16bef9-7142-4e0d-84e8-2dcb365e1f2d\")>,\n",
       " <selenium.webdriver.remote.webelement.WebElement (session=\"96b3fe88bf17bb931b31d88366f118dc\", element=\"179f57da-2cad-46d4-aed7-39953efc54a8\")>,\n",
       " <selenium.webdriver.remote.webelement.WebElement (session=\"96b3fe88bf17bb931b31d88366f118dc\", element=\"08286ec8-68de-4784-8781-18a8945f74b8\")>,\n",
       " <selenium.webdriver.remote.webelement.WebElement (session=\"96b3fe88bf17bb931b31d88366f118dc\", element=\"4053f987-ab00-48c5-b0c1-61f226b697e8\")>,\n",
       " <selenium.webdriver.remote.webelement.WebElement (session=\"96b3fe88bf17bb931b31d88366f118dc\", element=\"cfeb00f9-b3ad-4de4-a0f8-0525d227343a\")>,\n",
       " <selenium.webdriver.remote.webelement.WebElement (session=\"96b3fe88bf17bb931b31d88366f118dc\", element=\"f55a37bb-0056-4aa7-a67e-de7893b1aa7e\")>,\n",
       " <selenium.webdriver.remote.webelement.WebElement (session=\"96b3fe88bf17bb931b31d88366f118dc\", element=\"6167032b-ea55-4c52-bb83-786bdb86dd54\")>,\n",
       " <selenium.webdriver.remote.webelement.WebElement (session=\"96b3fe88bf17bb931b31d88366f118dc\", element=\"7916dcb4-5e65-44cb-bb53-9e23dbcfc48a\")>,\n",
       " <selenium.webdriver.remote.webelement.WebElement (session=\"96b3fe88bf17bb931b31d88366f118dc\", element=\"67511ad0-d7c0-43ac-9fa6-27c02b15e7a8\")>,\n",
       " <selenium.webdriver.remote.webelement.WebElement (session=\"96b3fe88bf17bb931b31d88366f118dc\", element=\"fc2bbb21-80c4-445b-b308-07495f757506\")>,\n",
       " <selenium.webdriver.remote.webelement.WebElement (session=\"96b3fe88bf17bb931b31d88366f118dc\", element=\"4f0a9b93-647e-4e45-a663-4c3441d0df40\")>,\n",
       " <selenium.webdriver.remote.webelement.WebElement (session=\"96b3fe88bf17bb931b31d88366f118dc\", element=\"4f99f9d4-510a-42b5-8190-96b3601090d3\")>,\n",
       " <selenium.webdriver.remote.webelement.WebElement (session=\"96b3fe88bf17bb931b31d88366f118dc\", element=\"926afd96-06e1-427b-8f01-fe61a4191a23\")>,\n",
       " <selenium.webdriver.remote.webelement.WebElement (session=\"96b3fe88bf17bb931b31d88366f118dc\", element=\"a18e1750-ffbe-4514-8bf2-472f145edd5c\")>,\n",
       " <selenium.webdriver.remote.webelement.WebElement (session=\"96b3fe88bf17bb931b31d88366f118dc\", element=\"9b754971-598f-4119-ba29-5bb49a7f12ba\")>]"
      ]
     },
     "execution_count": 26,
     "metadata": {},
     "output_type": "execute_result"
    }
   ],
   "source": [
    "#Extracting the tags having the company name\n",
    "name=driver.find_elements_by_xpath(\"//a[@class='subTitle ellipsis fleft']\")\n",
    "name"
   ]
  },
  {
   "cell_type": "code",
   "execution_count": 27,
   "metadata": {},
   "outputs": [
    {
     "data": {
      "text/plain": [
       "['Axis Bank Limited',\n",
       " 'Corner Stone Solutions',\n",
       " 'Becton Dickinson India Pvt. Ltd',\n",
       " 'Wrackle Technologies Pvt Ltd',\n",
       " 'Fidius advisory',\n",
       " 'Inspiration Manpower Consultancy Pvt. Ltd.',\n",
       " 'Techolution India Private Limited',\n",
       " 'GlaxoSmithKline Pharmaceuticals Limited',\n",
       " 'GlaxoSmithKline Pharmaceuticals Limited',\n",
       " 'IBM India Pvt. Limited']"
      ]
     },
     "execution_count": 27,
     "metadata": {},
     "output_type": "execute_result"
    }
   ],
   "source": [
    "#Extracting the text from the tags\n",
    "company=[]  #Empty list\n",
    "\n",
    "#As we need to scrap data for the first 10 job results, we are running a for loop for first 10 results only\n",
    "for i in name[:10]:\n",
    "    company.append(i.text)\n",
    "company"
   ]
  },
  {
   "cell_type": "code",
   "execution_count": 28,
   "metadata": {},
   "outputs": [
    {
     "data": {
      "text/plain": [
       "[<selenium.webdriver.remote.webelement.WebElement (session=\"96b3fe88bf17bb931b31d88366f118dc\", element=\"8eedc60f-9091-4a24-a394-f175d01b9a0b\")>,\n",
       " <selenium.webdriver.remote.webelement.WebElement (session=\"96b3fe88bf17bb931b31d88366f118dc\", element=\"82bc44c7-aeaa-4e88-9ab0-670584cfdac6\")>,\n",
       " <selenium.webdriver.remote.webelement.WebElement (session=\"96b3fe88bf17bb931b31d88366f118dc\", element=\"cac1b1f0-d98f-4366-9c9a-0b2e90a93481\")>,\n",
       " <selenium.webdriver.remote.webelement.WebElement (session=\"96b3fe88bf17bb931b31d88366f118dc\", element=\"7e563d9d-926d-40c0-9f0e-2bb3568e1e55\")>,\n",
       " <selenium.webdriver.remote.webelement.WebElement (session=\"96b3fe88bf17bb931b31d88366f118dc\", element=\"526327f5-d885-424c-8f9e-054c480a7e7b\")>,\n",
       " <selenium.webdriver.remote.webelement.WebElement (session=\"96b3fe88bf17bb931b31d88366f118dc\", element=\"97e28e37-7441-40cd-a08e-b6f4e3a3ee98\")>,\n",
       " <selenium.webdriver.remote.webelement.WebElement (session=\"96b3fe88bf17bb931b31d88366f118dc\", element=\"b23e2e7d-19c7-4aa0-87f6-f83c32c8166e\")>,\n",
       " <selenium.webdriver.remote.webelement.WebElement (session=\"96b3fe88bf17bb931b31d88366f118dc\", element=\"b67c6775-937a-4b9d-9947-6757b45dc21d\")>,\n",
       " <selenium.webdriver.remote.webelement.WebElement (session=\"96b3fe88bf17bb931b31d88366f118dc\", element=\"62032bdd-9c62-43ce-8e56-54c482528fd0\")>,\n",
       " <selenium.webdriver.remote.webelement.WebElement (session=\"96b3fe88bf17bb931b31d88366f118dc\", element=\"d3b23b9c-a378-45ec-9363-fb7199c99271\")>,\n",
       " <selenium.webdriver.remote.webelement.WebElement (session=\"96b3fe88bf17bb931b31d88366f118dc\", element=\"ac036755-1e72-46a1-8237-d89ca5737b92\")>,\n",
       " <selenium.webdriver.remote.webelement.WebElement (session=\"96b3fe88bf17bb931b31d88366f118dc\", element=\"773f6b02-9dc0-4c85-8092-4af51a7c1920\")>,\n",
       " <selenium.webdriver.remote.webelement.WebElement (session=\"96b3fe88bf17bb931b31d88366f118dc\", element=\"914e102a-91aa-4775-892f-780f6f6a6d04\")>,\n",
       " <selenium.webdriver.remote.webelement.WebElement (session=\"96b3fe88bf17bb931b31d88366f118dc\", element=\"e531c82d-c14c-40f6-ab34-ad338cc31334\")>,\n",
       " <selenium.webdriver.remote.webelement.WebElement (session=\"96b3fe88bf17bb931b31d88366f118dc\", element=\"9192036b-612c-44d5-ac1a-0a807a27a66d\")>,\n",
       " <selenium.webdriver.remote.webelement.WebElement (session=\"96b3fe88bf17bb931b31d88366f118dc\", element=\"f98c295e-b248-4481-b986-591f3b9e830b\")>,\n",
       " <selenium.webdriver.remote.webelement.WebElement (session=\"96b3fe88bf17bb931b31d88366f118dc\", element=\"9663e86a-e31b-44b0-a0ae-92867666839e\")>,\n",
       " <selenium.webdriver.remote.webelement.WebElement (session=\"96b3fe88bf17bb931b31d88366f118dc\", element=\"57859e05-5b82-4ac6-aaab-b205035ab8b4\")>,\n",
       " <selenium.webdriver.remote.webelement.WebElement (session=\"96b3fe88bf17bb931b31d88366f118dc\", element=\"fb457575-7688-4d23-8ad7-3cfdc51d471f\")>,\n",
       " <selenium.webdriver.remote.webelement.WebElement (session=\"96b3fe88bf17bb931b31d88366f118dc\", element=\"8edfe973-ebce-4065-8b4b-1a61466c4b95\")>]"
      ]
     },
     "execution_count": 28,
     "metadata": {},
     "output_type": "execute_result"
    }
   ],
   "source": [
    "#Extracting the tags having experience required\n",
    "exp_required=driver.find_elements_by_xpath(\"//li[@class='fleft grey-text br2 placeHolderLi experience']/span\")\n",
    "exp_required"
   ]
  },
  {
   "cell_type": "code",
   "execution_count": 29,
   "metadata": {},
   "outputs": [
    {
     "data": {
      "text/plain": [
       "['4-9 Yrs',\n",
       " '0-1 Yrs',\n",
       " '5-10 Yrs',\n",
       " '3-8 Yrs',\n",
       " '8-13 Yrs',\n",
       " '6-11 Yrs',\n",
       " '9-14 Yrs',\n",
       " '5-10 Yrs',\n",
       " '10-15 Yrs',\n",
       " '10-15 Yrs']"
      ]
     },
     "execution_count": 29,
     "metadata": {},
     "output_type": "execute_result"
    }
   ],
   "source": [
    "#Extracting the text from the tags\n",
    "exp=[]  #Empty list\n",
    "\n",
    "#As we need to scrap data for the first 10 job results, we are running a for loop for first 10 results only\n",
    "for i in exp_required[:10]:\n",
    "    exp.append(i.text)\n",
    "exp"
   ]
  },
  {
   "cell_type": "code",
   "execution_count": 30,
   "metadata": {},
   "outputs": [
    {
     "name": "stdout",
     "output_type": "stream",
     "text": [
      "10 10 10 10\n"
     ]
    }
   ],
   "source": [
    "#Checking out the length of the data extracted\n",
    "print(len(title),len(location),len(company),len(exp))"
   ]
  },
  {
   "cell_type": "code",
   "execution_count": 31,
   "metadata": {},
   "outputs": [
    {
     "data": {
      "text/html": [
       "<div>\n",
       "<style scoped>\n",
       "    .dataframe tbody tr th:only-of-type {\n",
       "        vertical-align: middle;\n",
       "    }\n",
       "\n",
       "    .dataframe tbody tr th {\n",
       "        vertical-align: top;\n",
       "    }\n",
       "\n",
       "    .dataframe thead th {\n",
       "        text-align: right;\n",
       "    }\n",
       "</style>\n",
       "<table border=\"1\" class=\"dataframe\">\n",
       "  <thead>\n",
       "    <tr style=\"text-align: right;\">\n",
       "      <th></th>\n",
       "      <th>Title</th>\n",
       "      <th>Location</th>\n",
       "      <th>Company name</th>\n",
       "      <th>Experience required</th>\n",
       "    </tr>\n",
       "  </thead>\n",
       "  <tbody>\n",
       "    <tr>\n",
       "      <th>0</th>\n",
       "      <td>Required- Data Scientist (NLP)-Axis Bank - 6 m...</td>\n",
       "      <td>Kolkata, New Delhi, Hyderabad/Secunderabad, Pu...</td>\n",
       "      <td>Axis Bank Limited</td>\n",
       "      <td>4-9 Yrs</td>\n",
       "    </tr>\n",
       "    <tr>\n",
       "      <th>1</th>\n",
       "      <td>Opportunity For Data Scientist Internship - Be...</td>\n",
       "      <td>Bangalore/Bengaluru</td>\n",
       "      <td>Corner Stone Solutions</td>\n",
       "      <td>0-1 Yrs</td>\n",
       "    </tr>\n",
       "    <tr>\n",
       "      <th>2</th>\n",
       "      <td>Data Scientist/ Analyst</td>\n",
       "      <td>Bangalore/Bengaluru</td>\n",
       "      <td>Becton Dickinson India Pvt. Ltd</td>\n",
       "      <td>5-10 Yrs</td>\n",
       "    </tr>\n",
       "    <tr>\n",
       "      <th>3</th>\n",
       "      <td>Data Scientist - Python/ MATLAB/ Machine Learn...</td>\n",
       "      <td>Bangalore/Bengaluru</td>\n",
       "      <td>Wrackle Technologies Pvt Ltd</td>\n",
       "      <td>3-8 Yrs</td>\n",
       "    </tr>\n",
       "    <tr>\n",
       "      <th>4</th>\n",
       "      <td>Principal Data Scientist - Machine/Deep Learni...</td>\n",
       "      <td>Bangalore/Bengaluru</td>\n",
       "      <td>Fidius advisory</td>\n",
       "      <td>8-13 Yrs</td>\n",
       "    </tr>\n",
       "    <tr>\n",
       "      <th>5</th>\n",
       "      <td>Data Scientist || Data Analyst || Data science</td>\n",
       "      <td>Navi Mumbai, Bangalore/Bengaluru</td>\n",
       "      <td>Inspiration Manpower Consultancy Pvt. Ltd.</td>\n",
       "      <td>6-11 Yrs</td>\n",
       "    </tr>\n",
       "    <tr>\n",
       "      <th>6</th>\n",
       "      <td>Lead Data Scientist - Immediate Joiners are Re...</td>\n",
       "      <td>Mumbai, Hyderabad/Secunderabad, Pune, Chennai,...</td>\n",
       "      <td>Techolution India Private Limited</td>\n",
       "      <td>9-14 Yrs</td>\n",
       "    </tr>\n",
       "    <tr>\n",
       "      <th>7</th>\n",
       "      <td>Global Medical Data Scientist</td>\n",
       "      <td>Bangalore/Bengaluru</td>\n",
       "      <td>GlaxoSmithKline Pharmaceuticals Limited</td>\n",
       "      <td>5-10 Yrs</td>\n",
       "    </tr>\n",
       "    <tr>\n",
       "      <th>8</th>\n",
       "      <td>Analytics &amp; AI Product Mgmt - Sr. Data Scientist</td>\n",
       "      <td>Bangalore/Bengaluru</td>\n",
       "      <td>GlaxoSmithKline Pharmaceuticals Limited</td>\n",
       "      <td>10-15 Yrs</td>\n",
       "    </tr>\n",
       "    <tr>\n",
       "      <th>9</th>\n",
       "      <td>Data Scientist - Advanced Analytics</td>\n",
       "      <td>Bangalore/Bengaluru</td>\n",
       "      <td>IBM India Pvt. Limited</td>\n",
       "      <td>10-15 Yrs</td>\n",
       "    </tr>\n",
       "  </tbody>\n",
       "</table>\n",
       "</div>"
      ],
      "text/plain": [
       "                                               Title  \\\n",
       "0  Required- Data Scientist (NLP)-Axis Bank - 6 m...   \n",
       "1  Opportunity For Data Scientist Internship - Be...   \n",
       "2                            Data Scientist/ Analyst   \n",
       "3  Data Scientist - Python/ MATLAB/ Machine Learn...   \n",
       "4  Principal Data Scientist - Machine/Deep Learni...   \n",
       "5     Data Scientist || Data Analyst || Data science   \n",
       "6  Lead Data Scientist - Immediate Joiners are Re...   \n",
       "7                      Global Medical Data Scientist   \n",
       "8   Analytics & AI Product Mgmt - Sr. Data Scientist   \n",
       "9                Data Scientist - Advanced Analytics   \n",
       "\n",
       "                                            Location  \\\n",
       "0  Kolkata, New Delhi, Hyderabad/Secunderabad, Pu...   \n",
       "1                                Bangalore/Bengaluru   \n",
       "2                                Bangalore/Bengaluru   \n",
       "3                                Bangalore/Bengaluru   \n",
       "4                                Bangalore/Bengaluru   \n",
       "5                   Navi Mumbai, Bangalore/Bengaluru   \n",
       "6  Mumbai, Hyderabad/Secunderabad, Pune, Chennai,...   \n",
       "7                                Bangalore/Bengaluru   \n",
       "8                                Bangalore/Bengaluru   \n",
       "9                                Bangalore/Bengaluru   \n",
       "\n",
       "                                 Company name Experience required  \n",
       "0                           Axis Bank Limited             4-9 Yrs  \n",
       "1                      Corner Stone Solutions             0-1 Yrs  \n",
       "2             Becton Dickinson India Pvt. Ltd            5-10 Yrs  \n",
       "3                Wrackle Technologies Pvt Ltd             3-8 Yrs  \n",
       "4                             Fidius advisory            8-13 Yrs  \n",
       "5  Inspiration Manpower Consultancy Pvt. Ltd.            6-11 Yrs  \n",
       "6           Techolution India Private Limited            9-14 Yrs  \n",
       "7     GlaxoSmithKline Pharmaceuticals Limited            5-10 Yrs  \n",
       "8     GlaxoSmithKline Pharmaceuticals Limited           10-15 Yrs  \n",
       "9                      IBM India Pvt. Limited           10-15 Yrs  "
      ]
     },
     "execution_count": 31,
     "metadata": {},
     "output_type": "execute_result"
    }
   ],
   "source": [
    "#Creating a new dataframe for saving the data\n",
    "jobs=pd.DataFrame({})\n",
    "jobs['Title']=title\n",
    "jobs['Location']=location\n",
    "jobs['Company name']=company\n",
    "jobs['Experience required']=exp\n",
    "jobs"
   ]
  },
  {
   "cell_type": "code",
   "execution_count": 32,
   "metadata": {},
   "outputs": [],
   "source": [
    "#Saving the data into a csv file\n",
    "jobs.to_csv(\"DataScientist_Bangalore_Naukrijobs.csv\")"
   ]
  },
  {
   "cell_type": "code",
   "execution_count": 33,
   "metadata": {},
   "outputs": [],
   "source": [
    "#Closing the driver\n",
    "driver.close()"
   ]
  }
 ],
 "metadata": {
  "kernelspec": {
   "display_name": "Python 3",
   "language": "python",
   "name": "python3"
  },
  "language_info": {
   "codemirror_mode": {
    "name": "ipython",
    "version": 3
   },
   "file_extension": ".py",
   "mimetype": "text/x-python",
   "name": "python",
   "nbconvert_exporter": "python",
   "pygments_lexer": "ipython3",
   "version": "3.8.3"
  }
 },
 "nbformat": 4,
 "nbformat_minor": 4
}
