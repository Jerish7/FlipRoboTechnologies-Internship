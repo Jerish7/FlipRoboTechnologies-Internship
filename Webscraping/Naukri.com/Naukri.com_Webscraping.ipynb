{
 "cells": [
  {
   "cell_type": "markdown",
   "metadata": {},
   "source": [
    "# Q1: Write a python program to scrape data for “Data Analyst” Job position in “Bangalore” location. You have to scrape the job-title, job-location, company_name, experience_required. You have to scrape first 10 jobs data."
   ]
  },
  {
   "cell_type": "markdown",
   "metadata": {},
   "source": [
    "This task will be done in following steps:\n",
    "1. First, get the webpage https://www.naukri.com/\n",
    "2. Enter “Data Analyst” in “Skill,Designations,Companies” field and enter “Bangalore” in “enter the location” field.\n",
    "3. Then click the search button.\n",
    "4. Then scrape the data for the first 10 jobs results you get.\n",
    "5. Finally create a dataframe of the scraped data."
   ]
  },
  {
   "cell_type": "code",
   "execution_count": 1,
   "metadata": {},
   "outputs": [],
   "source": [
    "#Importing required libraries\n",
    "import selenium\n",
    "import pandas as pd\n",
    "from selenium import webdriver"
   ]
  },
  {
   "cell_type": "code",
   "execution_count": 2,
   "metadata": {},
   "outputs": [],
   "source": [
    "#Connect to web driver\n",
    "driver=webdriver.Chrome(r\"D://chromedriver.exe\")  #r converts string to raw string\n",
    "#If not r, we can use executable_path = \"C:/path name\""
   ]
  },
  {
   "cell_type": "code",
   "execution_count": 3,
   "metadata": {},
   "outputs": [],
   "source": [
    "#Getting the website to driver\n",
    "driver.get('https://www.naukri.com/')\n",
    "\n",
    "#When we run this line, automatically the webpage will be opened"
   ]
  },
  {
   "cell_type": "code",
   "execution_count": 4,
   "metadata": {},
   "outputs": [],
   "source": [
    "#Finding the required elements from the search bars of job and location\n",
    "job_search=driver.find_element_by_id('qsb-keyword-sugg')\n",
    "location_search=driver.find_element_by_id('qsb-location-sugg')\n",
    "\n",
    "#Sending the inputs to the webpage\n",
    "job_search.send_keys(\"Data Analyst\")\n",
    "location_search.send_keys(\"Bangalore\")\n",
    "\n",
    "#Searching the inputs by using the search button and clicking it\n",
    "driver.find_element_by_xpath(\"//div[@class='search-btn']/button\").click()"
   ]
  },
  {
   "cell_type": "code",
   "execution_count": 5,
   "metadata": {},
   "outputs": [],
   "source": [
    "#Specifying the url of the webpage to be scraped\n",
    "url=\"https://www.naukri.com/data-analyst-jobs-in-bangalore?k=data%20analyst&l=bangalore\"\n",
    "driver.get(url)"
   ]
  },
  {
   "cell_type": "code",
   "execution_count": 6,
   "metadata": {},
   "outputs": [
    {
     "data": {
      "text/plain": [
       "[<selenium.webdriver.remote.webelement.WebElement (session=\"f4a004424faa6fd00463cc4d1ee6fc6b\", element=\"69d12c76-e235-4880-9740-51b8e3e9daa0\")>,\n",
       " <selenium.webdriver.remote.webelement.WebElement (session=\"f4a004424faa6fd00463cc4d1ee6fc6b\", element=\"985b0c8b-fd9e-44fb-a6ba-58a113995ac6\")>,\n",
       " <selenium.webdriver.remote.webelement.WebElement (session=\"f4a004424faa6fd00463cc4d1ee6fc6b\", element=\"7e643182-f12f-40fa-ab75-e653c9f776d9\")>,\n",
       " <selenium.webdriver.remote.webelement.WebElement (session=\"f4a004424faa6fd00463cc4d1ee6fc6b\", element=\"7314356d-e576-4493-8248-8455b7040bcd\")>,\n",
       " <selenium.webdriver.remote.webelement.WebElement (session=\"f4a004424faa6fd00463cc4d1ee6fc6b\", element=\"69a7886f-c426-41d6-ae98-5cbcc7779233\")>,\n",
       " <selenium.webdriver.remote.webelement.WebElement (session=\"f4a004424faa6fd00463cc4d1ee6fc6b\", element=\"625ac8bc-ddb4-43c0-b86f-1eb5b4c7295b\")>,\n",
       " <selenium.webdriver.remote.webelement.WebElement (session=\"f4a004424faa6fd00463cc4d1ee6fc6b\", element=\"6d47eee3-21ca-4084-b400-aa0bab9c9401\")>,\n",
       " <selenium.webdriver.remote.webelement.WebElement (session=\"f4a004424faa6fd00463cc4d1ee6fc6b\", element=\"f204043c-9eed-4566-aa19-2f102a5bfa18\")>,\n",
       " <selenium.webdriver.remote.webelement.WebElement (session=\"f4a004424faa6fd00463cc4d1ee6fc6b\", element=\"cec1b090-de2d-4f7e-8b5d-d82c2c7d8f5d\")>,\n",
       " <selenium.webdriver.remote.webelement.WebElement (session=\"f4a004424faa6fd00463cc4d1ee6fc6b\", element=\"50a66fd3-52e0-4fef-ad9b-6f92a86b738c\")>,\n",
       " <selenium.webdriver.remote.webelement.WebElement (session=\"f4a004424faa6fd00463cc4d1ee6fc6b\", element=\"ec977bbd-9928-4a5d-960a-b5062312f397\")>,\n",
       " <selenium.webdriver.remote.webelement.WebElement (session=\"f4a004424faa6fd00463cc4d1ee6fc6b\", element=\"b6ef7b2e-f6d4-4493-b36f-55770034ec6f\")>,\n",
       " <selenium.webdriver.remote.webelement.WebElement (session=\"f4a004424faa6fd00463cc4d1ee6fc6b\", element=\"f6014d52-0593-4b3f-957f-5f391473e12e\")>,\n",
       " <selenium.webdriver.remote.webelement.WebElement (session=\"f4a004424faa6fd00463cc4d1ee6fc6b\", element=\"d33ffc99-cdc1-4cc4-bcdd-a66027b90db2\")>,\n",
       " <selenium.webdriver.remote.webelement.WebElement (session=\"f4a004424faa6fd00463cc4d1ee6fc6b\", element=\"0d8a554e-246d-4ff6-b431-ea973709a7b2\")>,\n",
       " <selenium.webdriver.remote.webelement.WebElement (session=\"f4a004424faa6fd00463cc4d1ee6fc6b\", element=\"ea12baaa-bdc1-4f1c-8e24-c52fa84d3b05\")>,\n",
       " <selenium.webdriver.remote.webelement.WebElement (session=\"f4a004424faa6fd00463cc4d1ee6fc6b\", element=\"d7944d75-ff35-458e-9909-1c3772eb11f1\")>,\n",
       " <selenium.webdriver.remote.webelement.WebElement (session=\"f4a004424faa6fd00463cc4d1ee6fc6b\", element=\"9687e2ce-6b20-4b5d-a025-610644262351\")>,\n",
       " <selenium.webdriver.remote.webelement.WebElement (session=\"f4a004424faa6fd00463cc4d1ee6fc6b\", element=\"81ec6609-202a-4846-b976-6457140a9d49\")>,\n",
       " <selenium.webdriver.remote.webelement.WebElement (session=\"f4a004424faa6fd00463cc4d1ee6fc6b\", element=\"4f8ea4e7-4324-4bf2-9f98-303d9e4f6c3c\")>]"
      ]
     },
     "execution_count": 6,
     "metadata": {},
     "output_type": "execute_result"
    }
   ],
   "source": [
    "#Extracting all the tags having the job title\n",
    "job_title=driver.find_elements_by_xpath(\"//a[@class='title fw500 ellipsis']\")\n",
    "job_title"
   ]
  },
  {
   "cell_type": "code",
   "execution_count": 7,
   "metadata": {},
   "outputs": [
    {
     "data": {
      "text/plain": [
       "['Azure Data Analyst',\n",
       " 'Data Analyst',\n",
       " 'Data Analyst',\n",
       " 'Data Analyst',\n",
       " 'Data Analyst',\n",
       " 'Data Analyst',\n",
       " 'Data Analyst',\n",
       " 'Data Analyst',\n",
       " 'Data Analyst',\n",
       " 'Data Analyst']"
      ]
     },
     "execution_count": 7,
     "metadata": {},
     "output_type": "execute_result"
    }
   ],
   "source": [
    "#Extracting the text from the tags\n",
    "title=[]  #Empty list\n",
    "\n",
    "#As we need to scrap data for the first 10 job results, we are running a for loop for first 10 results only\n",
    "for i in job_title[:10]:\n",
    "    title.append(i.text)\n",
    "title    "
   ]
  },
  {
   "cell_type": "code",
   "execution_count": 8,
   "metadata": {},
   "outputs": [
    {
     "data": {
      "text/plain": [
       "[<selenium.webdriver.remote.webelement.WebElement (session=\"f4a004424faa6fd00463cc4d1ee6fc6b\", element=\"e72a8959-fb38-4335-bce0-fe5d3a924577\")>,\n",
       " <selenium.webdriver.remote.webelement.WebElement (session=\"f4a004424faa6fd00463cc4d1ee6fc6b\", element=\"bef1e7e0-4af9-4673-b7d7-3c8f43028b49\")>,\n",
       " <selenium.webdriver.remote.webelement.WebElement (session=\"f4a004424faa6fd00463cc4d1ee6fc6b\", element=\"895ab612-fe9f-4a85-8f22-7c851fb4d802\")>,\n",
       " <selenium.webdriver.remote.webelement.WebElement (session=\"f4a004424faa6fd00463cc4d1ee6fc6b\", element=\"17daef38-0e4d-4740-a0ed-b3f24987bfdd\")>,\n",
       " <selenium.webdriver.remote.webelement.WebElement (session=\"f4a004424faa6fd00463cc4d1ee6fc6b\", element=\"46851ac3-9541-466a-866b-a66ade7f0695\")>,\n",
       " <selenium.webdriver.remote.webelement.WebElement (session=\"f4a004424faa6fd00463cc4d1ee6fc6b\", element=\"55bc2e66-adeb-42ce-b095-6b6de40b767a\")>,\n",
       " <selenium.webdriver.remote.webelement.WebElement (session=\"f4a004424faa6fd00463cc4d1ee6fc6b\", element=\"4d440d63-d54f-4122-8f3c-aa854d985c9f\")>,\n",
       " <selenium.webdriver.remote.webelement.WebElement (session=\"f4a004424faa6fd00463cc4d1ee6fc6b\", element=\"cb5949ec-c5b2-4d19-ba3a-1e1850afc66f\")>,\n",
       " <selenium.webdriver.remote.webelement.WebElement (session=\"f4a004424faa6fd00463cc4d1ee6fc6b\", element=\"8d8e7885-af2d-487e-9f7c-5acaf1baa75d\")>,\n",
       " <selenium.webdriver.remote.webelement.WebElement (session=\"f4a004424faa6fd00463cc4d1ee6fc6b\", element=\"31cdaaf5-8bdb-43d3-b8e8-72aaea342b6e\")>,\n",
       " <selenium.webdriver.remote.webelement.WebElement (session=\"f4a004424faa6fd00463cc4d1ee6fc6b\", element=\"b524a482-4e87-486c-9dbd-1c9bab755e00\")>,\n",
       " <selenium.webdriver.remote.webelement.WebElement (session=\"f4a004424faa6fd00463cc4d1ee6fc6b\", element=\"74b56db3-dcee-49fa-8f3a-0be3c0293eed\")>,\n",
       " <selenium.webdriver.remote.webelement.WebElement (session=\"f4a004424faa6fd00463cc4d1ee6fc6b\", element=\"1d1ae524-1232-4291-9c66-d38406dbd53d\")>,\n",
       " <selenium.webdriver.remote.webelement.WebElement (session=\"f4a004424faa6fd00463cc4d1ee6fc6b\", element=\"e2dcc7ae-3df9-4829-bdee-969eb0779276\")>,\n",
       " <selenium.webdriver.remote.webelement.WebElement (session=\"f4a004424faa6fd00463cc4d1ee6fc6b\", element=\"8a62495e-7434-44c1-b85c-6c7f72f41705\")>,\n",
       " <selenium.webdriver.remote.webelement.WebElement (session=\"f4a004424faa6fd00463cc4d1ee6fc6b\", element=\"62fb782e-e738-452b-829a-aedc09829b1c\")>,\n",
       " <selenium.webdriver.remote.webelement.WebElement (session=\"f4a004424faa6fd00463cc4d1ee6fc6b\", element=\"835ac76a-d767-4b18-8ffe-55b0d04e9143\")>,\n",
       " <selenium.webdriver.remote.webelement.WebElement (session=\"f4a004424faa6fd00463cc4d1ee6fc6b\", element=\"da63bceb-2bcc-4c38-9885-2e066f374d0c\")>,\n",
       " <selenium.webdriver.remote.webelement.WebElement (session=\"f4a004424faa6fd00463cc4d1ee6fc6b\", element=\"e5530c77-ea90-46da-984c-6fbe9d54a1b0\")>,\n",
       " <selenium.webdriver.remote.webelement.WebElement (session=\"f4a004424faa6fd00463cc4d1ee6fc6b\", element=\"06826da0-c0a5-4f41-be65-4751b7d3c71a\")>]"
      ]
     },
     "execution_count": 8,
     "metadata": {},
     "output_type": "execute_result"
    }
   ],
   "source": [
    "#Extracting all the tags having the job location\n",
    "job_location=driver.find_elements_by_xpath(\"//li[@class='fleft grey-text br2 placeHolderLi location']/span\")\n",
    "job_location"
   ]
  },
  {
   "cell_type": "code",
   "execution_count": 9,
   "metadata": {},
   "outputs": [
    {
     "data": {
      "text/plain": [
       "['Bangalore/Bengaluru',\n",
       " 'Bangalore/Bengaluru',\n",
       " 'Bangalore/Bengaluru(Devalapur)',\n",
       " 'Bangalore/Bengaluru',\n",
       " 'Bangalore/Bengaluru',\n",
       " 'Bangalore/Bengaluru',\n",
       " 'Bangalore/Bengaluru',\n",
       " 'Bangalore/Bengaluru',\n",
       " 'Bangalore/Bengaluru',\n",
       " 'Bangalore/Bengaluru']"
      ]
     },
     "execution_count": 9,
     "metadata": {},
     "output_type": "execute_result"
    }
   ],
   "source": [
    "#Extracting the text from the tags\n",
    "location=[]  #Empty list\n",
    "\n",
    "#As we need to scrap data for the first 10 job results, we are running a for loop for first 10 results only\n",
    "for i in job_location[:10]:\n",
    "    location.append(i.text)\n",
    "location    "
   ]
  },
  {
   "cell_type": "code",
   "execution_count": 10,
   "metadata": {},
   "outputs": [
    {
     "data": {
      "text/plain": [
       "[<selenium.webdriver.remote.webelement.WebElement (session=\"f4a004424faa6fd00463cc4d1ee6fc6b\", element=\"05e786ea-ae64-45b2-8ff6-6f93a8fe7e36\")>,\n",
       " <selenium.webdriver.remote.webelement.WebElement (session=\"f4a004424faa6fd00463cc4d1ee6fc6b\", element=\"6013451e-c70b-425e-9f90-ac51fb0acb9f\")>,\n",
       " <selenium.webdriver.remote.webelement.WebElement (session=\"f4a004424faa6fd00463cc4d1ee6fc6b\", element=\"4feeb23c-b066-4512-9fae-3cc88826d9fc\")>,\n",
       " <selenium.webdriver.remote.webelement.WebElement (session=\"f4a004424faa6fd00463cc4d1ee6fc6b\", element=\"79952e74-6559-4d12-8e00-f1a4e964e78c\")>,\n",
       " <selenium.webdriver.remote.webelement.WebElement (session=\"f4a004424faa6fd00463cc4d1ee6fc6b\", element=\"85894eb3-ead9-47a1-a47d-1542b2ce1960\")>,\n",
       " <selenium.webdriver.remote.webelement.WebElement (session=\"f4a004424faa6fd00463cc4d1ee6fc6b\", element=\"ccded3cc-af96-497a-a3f2-5a0b6ddde55f\")>,\n",
       " <selenium.webdriver.remote.webelement.WebElement (session=\"f4a004424faa6fd00463cc4d1ee6fc6b\", element=\"155ffce3-7543-44e2-9344-2effe3075b0a\")>,\n",
       " <selenium.webdriver.remote.webelement.WebElement (session=\"f4a004424faa6fd00463cc4d1ee6fc6b\", element=\"b1fef8de-0275-4005-800c-3728dd42572d\")>,\n",
       " <selenium.webdriver.remote.webelement.WebElement (session=\"f4a004424faa6fd00463cc4d1ee6fc6b\", element=\"065f454c-e1dc-4697-bada-fecfe257692c\")>,\n",
       " <selenium.webdriver.remote.webelement.WebElement (session=\"f4a004424faa6fd00463cc4d1ee6fc6b\", element=\"811cb2dc-f4bb-4c2d-9059-fa7c7b081d9f\")>,\n",
       " <selenium.webdriver.remote.webelement.WebElement (session=\"f4a004424faa6fd00463cc4d1ee6fc6b\", element=\"5f47f773-a9c6-43a5-b3cc-72db06e60301\")>,\n",
       " <selenium.webdriver.remote.webelement.WebElement (session=\"f4a004424faa6fd00463cc4d1ee6fc6b\", element=\"bd6d177e-2571-4284-a174-29c6af8683e4\")>,\n",
       " <selenium.webdriver.remote.webelement.WebElement (session=\"f4a004424faa6fd00463cc4d1ee6fc6b\", element=\"2d60d73c-d5ba-4dcc-a886-511b9e8e5d40\")>,\n",
       " <selenium.webdriver.remote.webelement.WebElement (session=\"f4a004424faa6fd00463cc4d1ee6fc6b\", element=\"6e1392ee-5e39-44d8-88ca-4560bcc17338\")>,\n",
       " <selenium.webdriver.remote.webelement.WebElement (session=\"f4a004424faa6fd00463cc4d1ee6fc6b\", element=\"6770b7e0-6b5a-4044-86c1-fc4fcf2c343b\")>,\n",
       " <selenium.webdriver.remote.webelement.WebElement (session=\"f4a004424faa6fd00463cc4d1ee6fc6b\", element=\"e0feae5f-f2d3-4bda-ada9-03255c0dec82\")>,\n",
       " <selenium.webdriver.remote.webelement.WebElement (session=\"f4a004424faa6fd00463cc4d1ee6fc6b\", element=\"8afb828e-c364-488d-a315-7df7b8875c8d\")>,\n",
       " <selenium.webdriver.remote.webelement.WebElement (session=\"f4a004424faa6fd00463cc4d1ee6fc6b\", element=\"bdc6f5cf-ff62-4fed-9efe-590eb13b68e5\")>,\n",
       " <selenium.webdriver.remote.webelement.WebElement (session=\"f4a004424faa6fd00463cc4d1ee6fc6b\", element=\"f16bd11f-22b5-47eb-b601-da6df6abc0f7\")>,\n",
       " <selenium.webdriver.remote.webelement.WebElement (session=\"f4a004424faa6fd00463cc4d1ee6fc6b\", element=\"db0c3be1-2b24-4054-8e5e-361e47e7e0a5\")>]"
      ]
     },
     "execution_count": 10,
     "metadata": {},
     "output_type": "execute_result"
    }
   ],
   "source": [
    "#Extracting the tags having the company name\n",
    "name=driver.find_elements_by_xpath(\"//a[@class='subTitle ellipsis fleft']\")\n",
    "name"
   ]
  },
  {
   "cell_type": "code",
   "execution_count": 11,
   "metadata": {},
   "outputs": [
    {
     "data": {
      "text/plain": [
       "['Capgemini Technology Services India Limited',\n",
       " 'RedLock, Inc',\n",
       " 'Super India Tech Mark',\n",
       " 'tech mahindra ltd',\n",
       " 'CONDUENT BUSINESS SERVICES INDIA LLP',\n",
       " 'GlaxoSmithKline Pharmaceuticals Limited',\n",
       " 'Myntra Designs Pvt. Ltd.',\n",
       " 'Myntra Designs Pvt. Ltd.',\n",
       " 'Myntra Designs Pvt. Ltd.',\n",
       " 'Myntra Designs Pvt. Ltd.']"
      ]
     },
     "execution_count": 11,
     "metadata": {},
     "output_type": "execute_result"
    }
   ],
   "source": [
    "#Extracting the text from the tags\n",
    "company=[]  #Empty list\n",
    "\n",
    "#As we need to scrap data for the first 10 job results, we are running a for loop for first 10 results only\n",
    "for i in name[:10]:\n",
    "    company.append(i.text)\n",
    "company"
   ]
  },
  {
   "cell_type": "code",
   "execution_count": 12,
   "metadata": {},
   "outputs": [
    {
     "data": {
      "text/plain": [
       "[<selenium.webdriver.remote.webelement.WebElement (session=\"f4a004424faa6fd00463cc4d1ee6fc6b\", element=\"f158a24f-cee4-49da-aac3-2f2a28cc0c6a\")>,\n",
       " <selenium.webdriver.remote.webelement.WebElement (session=\"f4a004424faa6fd00463cc4d1ee6fc6b\", element=\"627cdeba-44c2-4e13-96b6-b6c912ac45cc\")>,\n",
       " <selenium.webdriver.remote.webelement.WebElement (session=\"f4a004424faa6fd00463cc4d1ee6fc6b\", element=\"13194e81-2fcb-4a1d-b440-f70b97931c5b\")>,\n",
       " <selenium.webdriver.remote.webelement.WebElement (session=\"f4a004424faa6fd00463cc4d1ee6fc6b\", element=\"1b72c99c-f660-450b-b5f5-a658ebe58d7a\")>,\n",
       " <selenium.webdriver.remote.webelement.WebElement (session=\"f4a004424faa6fd00463cc4d1ee6fc6b\", element=\"4dbe5141-ef54-45af-bb3b-28b87e0b3dd0\")>,\n",
       " <selenium.webdriver.remote.webelement.WebElement (session=\"f4a004424faa6fd00463cc4d1ee6fc6b\", element=\"286528e4-f6bf-4810-97c1-7d0d7634ff32\")>,\n",
       " <selenium.webdriver.remote.webelement.WebElement (session=\"f4a004424faa6fd00463cc4d1ee6fc6b\", element=\"89723e9f-9ba9-4199-ab3c-eddccf57c6b4\")>,\n",
       " <selenium.webdriver.remote.webelement.WebElement (session=\"f4a004424faa6fd00463cc4d1ee6fc6b\", element=\"51375b7a-262e-40d5-aad2-5362c19f203c\")>,\n",
       " <selenium.webdriver.remote.webelement.WebElement (session=\"f4a004424faa6fd00463cc4d1ee6fc6b\", element=\"6468b57f-f9f1-4af6-a441-a604f4ef3f12\")>,\n",
       " <selenium.webdriver.remote.webelement.WebElement (session=\"f4a004424faa6fd00463cc4d1ee6fc6b\", element=\"d87c815e-3bca-4d3f-8db1-026658e2b8bf\")>,\n",
       " <selenium.webdriver.remote.webelement.WebElement (session=\"f4a004424faa6fd00463cc4d1ee6fc6b\", element=\"471a0e2c-2774-4fac-9ade-f99bd313d318\")>,\n",
       " <selenium.webdriver.remote.webelement.WebElement (session=\"f4a004424faa6fd00463cc4d1ee6fc6b\", element=\"99a3900d-8b83-4293-85d2-de67963f00cb\")>,\n",
       " <selenium.webdriver.remote.webelement.WebElement (session=\"f4a004424faa6fd00463cc4d1ee6fc6b\", element=\"aa41bb9c-b24b-49e9-a84b-c2c9a5657dbf\")>,\n",
       " <selenium.webdriver.remote.webelement.WebElement (session=\"f4a004424faa6fd00463cc4d1ee6fc6b\", element=\"02828a77-b2f1-4266-add8-f310e2e22e3c\")>,\n",
       " <selenium.webdriver.remote.webelement.WebElement (session=\"f4a004424faa6fd00463cc4d1ee6fc6b\", element=\"0bce2488-ac0b-4636-bd8c-6a63c5bae375\")>,\n",
       " <selenium.webdriver.remote.webelement.WebElement (session=\"f4a004424faa6fd00463cc4d1ee6fc6b\", element=\"c08cac7f-7af6-4664-8039-cd7608e74b11\")>,\n",
       " <selenium.webdriver.remote.webelement.WebElement (session=\"f4a004424faa6fd00463cc4d1ee6fc6b\", element=\"5c97b23f-ecec-4b23-a05d-e92c81ab9ab1\")>,\n",
       " <selenium.webdriver.remote.webelement.WebElement (session=\"f4a004424faa6fd00463cc4d1ee6fc6b\", element=\"6e9c7740-fb51-4cb8-94ad-baa28ffcb1bd\")>,\n",
       " <selenium.webdriver.remote.webelement.WebElement (session=\"f4a004424faa6fd00463cc4d1ee6fc6b\", element=\"a12114ff-4f75-4894-8a12-53157a52163b\")>,\n",
       " <selenium.webdriver.remote.webelement.WebElement (session=\"f4a004424faa6fd00463cc4d1ee6fc6b\", element=\"4dd5fcfb-776f-4a18-8862-1bea2efa789b\")>]"
      ]
     },
     "execution_count": 12,
     "metadata": {},
     "output_type": "execute_result"
    }
   ],
   "source": [
    "#Extracting the tags having experience required\n",
    "exp_required=driver.find_elements_by_xpath(\"//li[@class='fleft grey-text br2 placeHolderLi experience']/span\")\n",
    "exp_required"
   ]
  },
  {
   "cell_type": "code",
   "execution_count": 13,
   "metadata": {},
   "outputs": [
    {
     "data": {
      "text/plain": [
       "['6-8 Yrs',\n",
       " '0-0 Yrs',\n",
       " '0-2 Yrs',\n",
       " '4-8 Yrs',\n",
       " '1-2 Yrs',\n",
       " '2-7 Yrs',\n",
       " '3-6 Yrs',\n",
       " '3-8 Yrs',\n",
       " '4-8 Yrs',\n",
       " '4-8 Yrs']"
      ]
     },
     "execution_count": 13,
     "metadata": {},
     "output_type": "execute_result"
    }
   ],
   "source": [
    "#Extracting the text from the tags\n",
    "exp=[]  #Empty list\n",
    "\n",
    "#As we need to scrap data for the first 10 job results, we are running a for loop for first 10 results only\n",
    "for i in exp_required[:10]:\n",
    "    exp.append(i.text)\n",
    "exp"
   ]
  },
  {
   "cell_type": "code",
   "execution_count": 14,
   "metadata": {},
   "outputs": [
    {
     "name": "stdout",
     "output_type": "stream",
     "text": [
      "10 10 10 10\n"
     ]
    }
   ],
   "source": [
    "#Checking out the length of the data extracted\n",
    "print(len(title),len(location),len(company),len(exp))"
   ]
  },
  {
   "cell_type": "code",
   "execution_count": 15,
   "metadata": {},
   "outputs": [
    {
     "data": {
      "text/html": [
       "<div>\n",
       "<style scoped>\n",
       "    .dataframe tbody tr th:only-of-type {\n",
       "        vertical-align: middle;\n",
       "    }\n",
       "\n",
       "    .dataframe tbody tr th {\n",
       "        vertical-align: top;\n",
       "    }\n",
       "\n",
       "    .dataframe thead th {\n",
       "        text-align: right;\n",
       "    }\n",
       "</style>\n",
       "<table border=\"1\" class=\"dataframe\">\n",
       "  <thead>\n",
       "    <tr style=\"text-align: right;\">\n",
       "      <th></th>\n",
       "      <th>Title</th>\n",
       "      <th>Location</th>\n",
       "      <th>Company name</th>\n",
       "      <th>Experience required</th>\n",
       "    </tr>\n",
       "  </thead>\n",
       "  <tbody>\n",
       "    <tr>\n",
       "      <th>0</th>\n",
       "      <td>Azure Data Analyst</td>\n",
       "      <td>Bangalore/Bengaluru</td>\n",
       "      <td>Capgemini Technology Services India Limited</td>\n",
       "      <td>6-8 Yrs</td>\n",
       "    </tr>\n",
       "    <tr>\n",
       "      <th>1</th>\n",
       "      <td>Data Analyst</td>\n",
       "      <td>Bangalore/Bengaluru</td>\n",
       "      <td>RedLock, Inc</td>\n",
       "      <td>0-0 Yrs</td>\n",
       "    </tr>\n",
       "    <tr>\n",
       "      <th>2</th>\n",
       "      <td>Data Analyst</td>\n",
       "      <td>Bangalore/Bengaluru(Devalapur)</td>\n",
       "      <td>Super India Tech Mark</td>\n",
       "      <td>0-2 Yrs</td>\n",
       "    </tr>\n",
       "    <tr>\n",
       "      <th>3</th>\n",
       "      <td>Data Analyst</td>\n",
       "      <td>Bangalore/Bengaluru</td>\n",
       "      <td>tech mahindra ltd</td>\n",
       "      <td>4-8 Yrs</td>\n",
       "    </tr>\n",
       "    <tr>\n",
       "      <th>4</th>\n",
       "      <td>Data Analyst</td>\n",
       "      <td>Bangalore/Bengaluru</td>\n",
       "      <td>CONDUENT BUSINESS SERVICES INDIA LLP</td>\n",
       "      <td>1-2 Yrs</td>\n",
       "    </tr>\n",
       "    <tr>\n",
       "      <th>5</th>\n",
       "      <td>Data Analyst</td>\n",
       "      <td>Bangalore/Bengaluru</td>\n",
       "      <td>GlaxoSmithKline Pharmaceuticals Limited</td>\n",
       "      <td>2-7 Yrs</td>\n",
       "    </tr>\n",
       "    <tr>\n",
       "      <th>6</th>\n",
       "      <td>Data Analyst</td>\n",
       "      <td>Bangalore/Bengaluru</td>\n",
       "      <td>Myntra Designs Pvt. Ltd.</td>\n",
       "      <td>3-6 Yrs</td>\n",
       "    </tr>\n",
       "    <tr>\n",
       "      <th>7</th>\n",
       "      <td>Data Analyst</td>\n",
       "      <td>Bangalore/Bengaluru</td>\n",
       "      <td>Myntra Designs Pvt. Ltd.</td>\n",
       "      <td>3-8 Yrs</td>\n",
       "    </tr>\n",
       "    <tr>\n",
       "      <th>8</th>\n",
       "      <td>Data Analyst</td>\n",
       "      <td>Bangalore/Bengaluru</td>\n",
       "      <td>Myntra Designs Pvt. Ltd.</td>\n",
       "      <td>4-8 Yrs</td>\n",
       "    </tr>\n",
       "    <tr>\n",
       "      <th>9</th>\n",
       "      <td>Data Analyst</td>\n",
       "      <td>Bangalore/Bengaluru</td>\n",
       "      <td>Myntra Designs Pvt. Ltd.</td>\n",
       "      <td>4-8 Yrs</td>\n",
       "    </tr>\n",
       "  </tbody>\n",
       "</table>\n",
       "</div>"
      ],
      "text/plain": [
       "                Title                        Location  \\\n",
       "0  Azure Data Analyst             Bangalore/Bengaluru   \n",
       "1        Data Analyst             Bangalore/Bengaluru   \n",
       "2        Data Analyst  Bangalore/Bengaluru(Devalapur)   \n",
       "3        Data Analyst             Bangalore/Bengaluru   \n",
       "4        Data Analyst             Bangalore/Bengaluru   \n",
       "5        Data Analyst             Bangalore/Bengaluru   \n",
       "6        Data Analyst             Bangalore/Bengaluru   \n",
       "7        Data Analyst             Bangalore/Bengaluru   \n",
       "8        Data Analyst             Bangalore/Bengaluru   \n",
       "9        Data Analyst             Bangalore/Bengaluru   \n",
       "\n",
       "                                  Company name Experience required  \n",
       "0  Capgemini Technology Services India Limited             6-8 Yrs  \n",
       "1                                 RedLock, Inc             0-0 Yrs  \n",
       "2                        Super India Tech Mark             0-2 Yrs  \n",
       "3                            tech mahindra ltd             4-8 Yrs  \n",
       "4         CONDUENT BUSINESS SERVICES INDIA LLP             1-2 Yrs  \n",
       "5      GlaxoSmithKline Pharmaceuticals Limited             2-7 Yrs  \n",
       "6                     Myntra Designs Pvt. Ltd.             3-6 Yrs  \n",
       "7                     Myntra Designs Pvt. Ltd.             3-8 Yrs  \n",
       "8                     Myntra Designs Pvt. Ltd.             4-8 Yrs  \n",
       "9                     Myntra Designs Pvt. Ltd.             4-8 Yrs  "
      ]
     },
     "execution_count": 15,
     "metadata": {},
     "output_type": "execute_result"
    }
   ],
   "source": [
    "#Creating a new dataframe for saving the data\n",
    "jobs=pd.DataFrame({})\n",
    "jobs['Title']=title\n",
    "jobs['Location']=location\n",
    "jobs['Company name']=company\n",
    "jobs['Experience required']=exp\n",
    "jobs"
   ]
  },
  {
   "cell_type": "code",
   "execution_count": 16,
   "metadata": {},
   "outputs": [],
   "source": [
    "#Saving the data into a csv file\n",
    "jobs.to_csv(\"DA_Bangalore_Naukrijobs.csv\")"
   ]
  },
  {
   "cell_type": "code",
   "execution_count": 17,
   "metadata": {},
   "outputs": [],
   "source": [
    "#Closing the driver\n",
    "driver.close()"
   ]
  },
  {
   "cell_type": "markdown",
   "metadata": {},
   "source": [
    "# Q2: Write a python program to scrape data for “Data Scientist” Job position in “Bangalore” location. You have to scrape the job-title, job-location, company_name, full job-description. You have to scrape first 10 jobs data."
   ]
  },
  {
   "cell_type": "markdown",
   "metadata": {},
   "source": [
    "This task will be done in following steps:\n",
    "1. First, get the webpage https://www.naukri.com/\n",
    "2. Enter “Data Scientist” in “Skill,Designations,Companies” field and enter “Bangalore” in “enter the location” field.\n",
    "3. Then click the search button.\n",
    "4. Then scrape the data for the first 10 jobs results you get.\n",
    "5. Finally create a dataframe of the scraped data."
   ]
  },
  {
   "cell_type": "code",
   "execution_count": 18,
   "metadata": {},
   "outputs": [],
   "source": [
    "#Connect to web driver\n",
    "driver=webdriver.Chrome(r\"D://chromedriver.exe\")  #r converts string to raw string\n",
    "#If not r, we can use executable_path = \"C:/path name\""
   ]
  },
  {
   "cell_type": "code",
   "execution_count": 19,
   "metadata": {},
   "outputs": [],
   "source": [
    "#Getting the website to driver\n",
    "driver.get('https://www.naukri.com/')\n",
    "\n",
    "#When we run this line, automatically the webpage will be opened"
   ]
  },
  {
   "cell_type": "code",
   "execution_count": 20,
   "metadata": {},
   "outputs": [],
   "source": [
    "#Finding the required elements from the search bars of job and location\n",
    "job_search=driver.find_element_by_id('qsb-keyword-sugg')\n",
    "location_search=driver.find_element_by_id('qsb-location-sugg')\n",
    "\n",
    "#Sending the inputs to the webpage\n",
    "job_search.send_keys(\"Data Scientist\")\n",
    "location_search.send_keys(\"Bangalore\")\n",
    "\n",
    "#Searching the inputs by using the search button and clicking it\n",
    "driver.find_element_by_xpath(\"//div[@class='search-btn']/button\").click()"
   ]
  },
  {
   "cell_type": "code",
   "execution_count": 21,
   "metadata": {},
   "outputs": [],
   "source": [
    "#Specifying the url of the webpage to be scraped\n",
    "url=\"https://www.naukri.com/data-scientist-jobs-in-bangalore?k=data%20scientist&l=bangalore\"\n",
    "driver.get(url)"
   ]
  },
  {
   "cell_type": "code",
   "execution_count": 22,
   "metadata": {},
   "outputs": [
    {
     "data": {
      "text/plain": [
       "[<selenium.webdriver.remote.webelement.WebElement (session=\"24a6dabe2801870f82315dfab7ac24d2\", element=\"a38554b1-0134-4180-b9ee-92931764739c\")>,\n",
       " <selenium.webdriver.remote.webelement.WebElement (session=\"24a6dabe2801870f82315dfab7ac24d2\", element=\"5f5f5741-3387-4f79-ba0d-66be1ee8260d\")>,\n",
       " <selenium.webdriver.remote.webelement.WebElement (session=\"24a6dabe2801870f82315dfab7ac24d2\", element=\"0a4ae98c-0a66-4948-ab6b-dba497529922\")>,\n",
       " <selenium.webdriver.remote.webelement.WebElement (session=\"24a6dabe2801870f82315dfab7ac24d2\", element=\"a4b49d63-a8a7-4021-976d-c692f39d4566\")>,\n",
       " <selenium.webdriver.remote.webelement.WebElement (session=\"24a6dabe2801870f82315dfab7ac24d2\", element=\"fdc63e02-3189-4565-be76-1726daf4fcfa\")>,\n",
       " <selenium.webdriver.remote.webelement.WebElement (session=\"24a6dabe2801870f82315dfab7ac24d2\", element=\"f71625d1-c312-42c0-803f-6ea470dc4bc2\")>,\n",
       " <selenium.webdriver.remote.webelement.WebElement (session=\"24a6dabe2801870f82315dfab7ac24d2\", element=\"03d48117-1ba6-486d-94af-c8dbe00c1f6d\")>,\n",
       " <selenium.webdriver.remote.webelement.WebElement (session=\"24a6dabe2801870f82315dfab7ac24d2\", element=\"537b1ff0-cefb-4ffd-9cc8-90012fef31c8\")>,\n",
       " <selenium.webdriver.remote.webelement.WebElement (session=\"24a6dabe2801870f82315dfab7ac24d2\", element=\"821abb49-c43e-4e0e-beb8-cdd9f35a83d1\")>,\n",
       " <selenium.webdriver.remote.webelement.WebElement (session=\"24a6dabe2801870f82315dfab7ac24d2\", element=\"d62d8791-64d1-425f-930d-ed1274fed73d\")>,\n",
       " <selenium.webdriver.remote.webelement.WebElement (session=\"24a6dabe2801870f82315dfab7ac24d2\", element=\"9fab1fda-5c2e-4796-8eb5-2ccfd5ff5ecd\")>,\n",
       " <selenium.webdriver.remote.webelement.WebElement (session=\"24a6dabe2801870f82315dfab7ac24d2\", element=\"374c9b08-1317-4473-8a82-8ac423eb8511\")>,\n",
       " <selenium.webdriver.remote.webelement.WebElement (session=\"24a6dabe2801870f82315dfab7ac24d2\", element=\"f7c9e493-ae65-44d6-b313-f1ab02967957\")>,\n",
       " <selenium.webdriver.remote.webelement.WebElement (session=\"24a6dabe2801870f82315dfab7ac24d2\", element=\"ccf26a7e-ec7c-483f-8316-57d06649364a\")>,\n",
       " <selenium.webdriver.remote.webelement.WebElement (session=\"24a6dabe2801870f82315dfab7ac24d2\", element=\"752aa800-1eeb-42c9-af5c-7e8955469aa3\")>,\n",
       " <selenium.webdriver.remote.webelement.WebElement (session=\"24a6dabe2801870f82315dfab7ac24d2\", element=\"1ba72721-9a3b-43df-ba09-f5f809adf78c\")>,\n",
       " <selenium.webdriver.remote.webelement.WebElement (session=\"24a6dabe2801870f82315dfab7ac24d2\", element=\"44535546-e615-4e59-9a9e-cf9102f2432a\")>,\n",
       " <selenium.webdriver.remote.webelement.WebElement (session=\"24a6dabe2801870f82315dfab7ac24d2\", element=\"b572ef35-4407-41b8-ae2d-670254e7d1a2\")>,\n",
       " <selenium.webdriver.remote.webelement.WebElement (session=\"24a6dabe2801870f82315dfab7ac24d2\", element=\"08812128-c7d4-460a-b159-3a174ceb5852\")>,\n",
       " <selenium.webdriver.remote.webelement.WebElement (session=\"24a6dabe2801870f82315dfab7ac24d2\", element=\"a2f8a81f-db84-46e5-b509-c4f61fd9129e\")>]"
      ]
     },
     "execution_count": 22,
     "metadata": {},
     "output_type": "execute_result"
    }
   ],
   "source": [
    "#Extracting all the tags having the job title\n",
    "job_title=driver.find_elements_by_xpath(\"//a[@class='title fw500 ellipsis']\")\n",
    "job_title"
   ]
  },
  {
   "cell_type": "code",
   "execution_count": 23,
   "metadata": {},
   "outputs": [
    {
     "data": {
      "text/plain": [
       "['Data Scientist',\n",
       " 'Opportunity For Data Scientist Internship - Bengaluru',\n",
       " 'Data Scientist/ Analyst',\n",
       " 'Data Scientist - Machine Learning',\n",
       " 'Data Scientist || Data Analyst || Data science',\n",
       " 'Data Scientist - IBM Garage',\n",
       " 'DBCG IND - GAMMA Senior Data Scientist',\n",
       " 'Data Scientist/Senior Data Scientist',\n",
       " 'Senior Data Scientist | CES IT LTD | CMMI Level 5',\n",
       " 'Global Medical Data Scientist']"
      ]
     },
     "execution_count": 23,
     "metadata": {},
     "output_type": "execute_result"
    }
   ],
   "source": [
    "#Extracting the text from the tags\n",
    "title=[]  #Empty list\n",
    "\n",
    "#As we need to scrap data for the first 10 job results, we are running a for loop for first 10 results only\n",
    "for i in job_title[:10]:\n",
    "    title.append(i.text)\n",
    "title    "
   ]
  },
  {
   "cell_type": "code",
   "execution_count": 24,
   "metadata": {},
   "outputs": [
    {
     "data": {
      "text/plain": [
       "[<selenium.webdriver.remote.webelement.WebElement (session=\"24a6dabe2801870f82315dfab7ac24d2\", element=\"86925efb-8080-422e-9999-3364b51885fd\")>,\n",
       " <selenium.webdriver.remote.webelement.WebElement (session=\"24a6dabe2801870f82315dfab7ac24d2\", element=\"7e7268b7-7f4d-4e0a-81ab-ec9c67b96dcd\")>,\n",
       " <selenium.webdriver.remote.webelement.WebElement (session=\"24a6dabe2801870f82315dfab7ac24d2\", element=\"a9b7f44b-30ac-408c-acc3-0036be96af8f\")>,\n",
       " <selenium.webdriver.remote.webelement.WebElement (session=\"24a6dabe2801870f82315dfab7ac24d2\", element=\"9cfe6a68-c818-4c69-a3e4-70da26173b39\")>,\n",
       " <selenium.webdriver.remote.webelement.WebElement (session=\"24a6dabe2801870f82315dfab7ac24d2\", element=\"20a37952-0a9d-4473-afb7-129e7d029c5f\")>,\n",
       " <selenium.webdriver.remote.webelement.WebElement (session=\"24a6dabe2801870f82315dfab7ac24d2\", element=\"9f2df1c0-08bc-4a45-a4e7-dfa3069b7462\")>,\n",
       " <selenium.webdriver.remote.webelement.WebElement (session=\"24a6dabe2801870f82315dfab7ac24d2\", element=\"430550cc-6a46-43c2-82ab-ca6e17222eee\")>,\n",
       " <selenium.webdriver.remote.webelement.WebElement (session=\"24a6dabe2801870f82315dfab7ac24d2\", element=\"7dad9c98-1cf8-43b5-a16e-9bb9a0ffaceb\")>,\n",
       " <selenium.webdriver.remote.webelement.WebElement (session=\"24a6dabe2801870f82315dfab7ac24d2\", element=\"57aa4444-96d5-466f-8032-0e761da5d483\")>,\n",
       " <selenium.webdriver.remote.webelement.WebElement (session=\"24a6dabe2801870f82315dfab7ac24d2\", element=\"d43b28b8-4f51-406a-be80-d04b132d861e\")>,\n",
       " <selenium.webdriver.remote.webelement.WebElement (session=\"24a6dabe2801870f82315dfab7ac24d2\", element=\"5782d4d9-f98f-4f93-9cce-4d2a7f202b49\")>,\n",
       " <selenium.webdriver.remote.webelement.WebElement (session=\"24a6dabe2801870f82315dfab7ac24d2\", element=\"f1933a67-069a-4788-836c-2d5bdbc5e1e3\")>,\n",
       " <selenium.webdriver.remote.webelement.WebElement (session=\"24a6dabe2801870f82315dfab7ac24d2\", element=\"f09db9d4-0be8-43c4-a630-39f97fd7887b\")>,\n",
       " <selenium.webdriver.remote.webelement.WebElement (session=\"24a6dabe2801870f82315dfab7ac24d2\", element=\"5ddf40bc-b44e-4d49-ad73-418cbf41f04f\")>,\n",
       " <selenium.webdriver.remote.webelement.WebElement (session=\"24a6dabe2801870f82315dfab7ac24d2\", element=\"03bc11c3-4713-49b8-a059-65b3fd43d6e3\")>,\n",
       " <selenium.webdriver.remote.webelement.WebElement (session=\"24a6dabe2801870f82315dfab7ac24d2\", element=\"9b7a1037-0a60-4ea8-b6c7-477872ff06c8\")>,\n",
       " <selenium.webdriver.remote.webelement.WebElement (session=\"24a6dabe2801870f82315dfab7ac24d2\", element=\"ebd07fd3-8e23-4271-a38c-082713b2723b\")>,\n",
       " <selenium.webdriver.remote.webelement.WebElement (session=\"24a6dabe2801870f82315dfab7ac24d2\", element=\"cd18ee62-6d36-4e33-8b7b-e3bd16456e3f\")>,\n",
       " <selenium.webdriver.remote.webelement.WebElement (session=\"24a6dabe2801870f82315dfab7ac24d2\", element=\"5a82a047-4eb2-46ca-a638-3e706b2ec8b4\")>,\n",
       " <selenium.webdriver.remote.webelement.WebElement (session=\"24a6dabe2801870f82315dfab7ac24d2\", element=\"fb25e676-68d4-480d-adb3-a2598ab89cb0\")>]"
      ]
     },
     "execution_count": 24,
     "metadata": {},
     "output_type": "execute_result"
    }
   ],
   "source": [
    "#Extracting all the tags having the job location\n",
    "job_location=driver.find_elements_by_xpath(\"//li[@class='fleft grey-text br2 placeHolderLi location']/span\")\n",
    "job_location"
   ]
  },
  {
   "cell_type": "code",
   "execution_count": 25,
   "metadata": {},
   "outputs": [
    {
     "data": {
      "text/plain": [
       "['Bangalore/Bengaluru',\n",
       " 'Bangalore/Bengaluru',\n",
       " 'Bangalore/Bengaluru',\n",
       " 'Bangalore/Bengaluru',\n",
       " 'Navi Mumbai, Bangalore/Bengaluru',\n",
       " 'Noida, Hyderabad/Secunderabad, Bangalore/Bengaluru',\n",
       " 'Mumbai, New Delhi, Chennai, Bangalore/Bengaluru',\n",
       " 'Hyderabad/Secunderabad, Pune, Chennai, Bangalore/Bengaluru, Mumbai (All Areas)',\n",
       " 'Kolkata, Mumbai, Hyderabad/Secunderabad, Pune, Chennai, Bangalore/Bengaluru, Delhi / NCR',\n",
       " 'Bangalore/Bengaluru']"
      ]
     },
     "execution_count": 25,
     "metadata": {},
     "output_type": "execute_result"
    }
   ],
   "source": [
    "#Extracting the text from the tags\n",
    "location=[]  #Empty list\n",
    "\n",
    "#As we need to scrap data for the first 10 job results, we are running a for loop for first 10 results only\n",
    "for i in job_location[:10]:\n",
    "    location.append(i.text)\n",
    "location    "
   ]
  },
  {
   "cell_type": "code",
   "execution_count": 26,
   "metadata": {},
   "outputs": [
    {
     "data": {
      "text/plain": [
       "[<selenium.webdriver.remote.webelement.WebElement (session=\"24a6dabe2801870f82315dfab7ac24d2\", element=\"dbe3ef0a-2968-4fbd-b3b8-23cb60284bee\")>,\n",
       " <selenium.webdriver.remote.webelement.WebElement (session=\"24a6dabe2801870f82315dfab7ac24d2\", element=\"6a6b1788-019a-4c59-99f0-10ac760c8999\")>,\n",
       " <selenium.webdriver.remote.webelement.WebElement (session=\"24a6dabe2801870f82315dfab7ac24d2\", element=\"46bbca42-e4d3-4248-b524-d15dc6d7e698\")>,\n",
       " <selenium.webdriver.remote.webelement.WebElement (session=\"24a6dabe2801870f82315dfab7ac24d2\", element=\"caa96b71-915b-480c-998d-a9f74afb6d38\")>,\n",
       " <selenium.webdriver.remote.webelement.WebElement (session=\"24a6dabe2801870f82315dfab7ac24d2\", element=\"40733288-ba8f-4428-a8fb-39fa0ddfcf8d\")>,\n",
       " <selenium.webdriver.remote.webelement.WebElement (session=\"24a6dabe2801870f82315dfab7ac24d2\", element=\"c73cb6ab-7270-41cd-89fc-fb0fd72eeab6\")>,\n",
       " <selenium.webdriver.remote.webelement.WebElement (session=\"24a6dabe2801870f82315dfab7ac24d2\", element=\"db3d490d-ce44-41a9-9587-9ae0ab8ed18f\")>,\n",
       " <selenium.webdriver.remote.webelement.WebElement (session=\"24a6dabe2801870f82315dfab7ac24d2\", element=\"d462bd89-5d97-49dd-95ef-c6ef1e13977d\")>,\n",
       " <selenium.webdriver.remote.webelement.WebElement (session=\"24a6dabe2801870f82315dfab7ac24d2\", element=\"4df6956c-3707-4fd3-bf88-c4d1f350b0b4\")>,\n",
       " <selenium.webdriver.remote.webelement.WebElement (session=\"24a6dabe2801870f82315dfab7ac24d2\", element=\"f5363bc7-f75d-49b7-ad8f-a2b26ca7266d\")>,\n",
       " <selenium.webdriver.remote.webelement.WebElement (session=\"24a6dabe2801870f82315dfab7ac24d2\", element=\"127d7a8a-2167-4e03-82bb-4408d87a3469\")>,\n",
       " <selenium.webdriver.remote.webelement.WebElement (session=\"24a6dabe2801870f82315dfab7ac24d2\", element=\"1fc9cf08-7036-4350-badf-cfc863f1e75f\")>,\n",
       " <selenium.webdriver.remote.webelement.WebElement (session=\"24a6dabe2801870f82315dfab7ac24d2\", element=\"cab32638-ac2e-4861-bc57-5a0bb4c51fb8\")>,\n",
       " <selenium.webdriver.remote.webelement.WebElement (session=\"24a6dabe2801870f82315dfab7ac24d2\", element=\"a93ae8be-1f13-4d63-a411-930d53c2f6e0\")>,\n",
       " <selenium.webdriver.remote.webelement.WebElement (session=\"24a6dabe2801870f82315dfab7ac24d2\", element=\"5e7c9f76-fbcf-4545-bb15-775f5c5f83b1\")>,\n",
       " <selenium.webdriver.remote.webelement.WebElement (session=\"24a6dabe2801870f82315dfab7ac24d2\", element=\"e18f4ebb-c43c-476d-b32a-3c80ebecc5a7\")>,\n",
       " <selenium.webdriver.remote.webelement.WebElement (session=\"24a6dabe2801870f82315dfab7ac24d2\", element=\"93d66bf8-8b75-4029-96a9-c7075cf0e4ed\")>,\n",
       " <selenium.webdriver.remote.webelement.WebElement (session=\"24a6dabe2801870f82315dfab7ac24d2\", element=\"a34a93b3-d688-49cc-b3de-905f4bc079f4\")>,\n",
       " <selenium.webdriver.remote.webelement.WebElement (session=\"24a6dabe2801870f82315dfab7ac24d2\", element=\"bfe19849-97d7-475c-af1e-70f6cbecf588\")>,\n",
       " <selenium.webdriver.remote.webelement.WebElement (session=\"24a6dabe2801870f82315dfab7ac24d2\", element=\"edf635ba-e690-47cf-8d5c-f45c9d5de95c\")>]"
      ]
     },
     "execution_count": 26,
     "metadata": {},
     "output_type": "execute_result"
    }
   ],
   "source": [
    "#Extracting the tags having the company name\n",
    "name=driver.find_elements_by_xpath(\"//a[@class='subTitle ellipsis fleft']\")\n",
    "name"
   ]
  },
  {
   "cell_type": "code",
   "execution_count": 27,
   "metadata": {},
   "outputs": [
    {
     "data": {
      "text/plain": [
       "['CronJ IT Technologies Private Limited',\n",
       " 'Corner Stone Solutions',\n",
       " 'Becton Dickinson India Pvt. Ltd',\n",
       " 'AugmatrixGo',\n",
       " 'Inspiration Manpower Consultancy Pvt. Ltd.',\n",
       " 'IBM India Pvt. Limited',\n",
       " 'Boston Consulting Group',\n",
       " 'GANIT BUSINESS SOLUTIONS PRIVATE LIMITED',\n",
       " 'CES Ltd.',\n",
       " 'GlaxoSmithKline Pharmaceuticals Limited']"
      ]
     },
     "execution_count": 27,
     "metadata": {},
     "output_type": "execute_result"
    }
   ],
   "source": [
    "#Extracting the text from the tags\n",
    "company=[]  #Empty list\n",
    "\n",
    "#As we need to scrap data for the first 10 job results, we are running a for loop for first 10 results only\n",
    "for i in name[:10]:\n",
    "    company.append(i.text)\n",
    "company"
   ]
  },
  {
   "cell_type": "code",
   "execution_count": 28,
   "metadata": {},
   "outputs": [
    {
     "data": {
      "text/plain": [
       "[<selenium.webdriver.remote.webelement.WebElement (session=\"24a6dabe2801870f82315dfab7ac24d2\", element=\"a38554b1-0134-4180-b9ee-92931764739c\")>,\n",
       " <selenium.webdriver.remote.webelement.WebElement (session=\"24a6dabe2801870f82315dfab7ac24d2\", element=\"5f5f5741-3387-4f79-ba0d-66be1ee8260d\")>,\n",
       " <selenium.webdriver.remote.webelement.WebElement (session=\"24a6dabe2801870f82315dfab7ac24d2\", element=\"0a4ae98c-0a66-4948-ab6b-dba497529922\")>,\n",
       " <selenium.webdriver.remote.webelement.WebElement (session=\"24a6dabe2801870f82315dfab7ac24d2\", element=\"a4b49d63-a8a7-4021-976d-c692f39d4566\")>,\n",
       " <selenium.webdriver.remote.webelement.WebElement (session=\"24a6dabe2801870f82315dfab7ac24d2\", element=\"fdc63e02-3189-4565-be76-1726daf4fcfa\")>,\n",
       " <selenium.webdriver.remote.webelement.WebElement (session=\"24a6dabe2801870f82315dfab7ac24d2\", element=\"f71625d1-c312-42c0-803f-6ea470dc4bc2\")>,\n",
       " <selenium.webdriver.remote.webelement.WebElement (session=\"24a6dabe2801870f82315dfab7ac24d2\", element=\"03d48117-1ba6-486d-94af-c8dbe00c1f6d\")>,\n",
       " <selenium.webdriver.remote.webelement.WebElement (session=\"24a6dabe2801870f82315dfab7ac24d2\", element=\"537b1ff0-cefb-4ffd-9cc8-90012fef31c8\")>,\n",
       " <selenium.webdriver.remote.webelement.WebElement (session=\"24a6dabe2801870f82315dfab7ac24d2\", element=\"821abb49-c43e-4e0e-beb8-cdd9f35a83d1\")>,\n",
       " <selenium.webdriver.remote.webelement.WebElement (session=\"24a6dabe2801870f82315dfab7ac24d2\", element=\"d62d8791-64d1-425f-930d-ed1274fed73d\")>,\n",
       " <selenium.webdriver.remote.webelement.WebElement (session=\"24a6dabe2801870f82315dfab7ac24d2\", element=\"9fab1fda-5c2e-4796-8eb5-2ccfd5ff5ecd\")>,\n",
       " <selenium.webdriver.remote.webelement.WebElement (session=\"24a6dabe2801870f82315dfab7ac24d2\", element=\"374c9b08-1317-4473-8a82-8ac423eb8511\")>,\n",
       " <selenium.webdriver.remote.webelement.WebElement (session=\"24a6dabe2801870f82315dfab7ac24d2\", element=\"f7c9e493-ae65-44d6-b313-f1ab02967957\")>,\n",
       " <selenium.webdriver.remote.webelement.WebElement (session=\"24a6dabe2801870f82315dfab7ac24d2\", element=\"ccf26a7e-ec7c-483f-8316-57d06649364a\")>,\n",
       " <selenium.webdriver.remote.webelement.WebElement (session=\"24a6dabe2801870f82315dfab7ac24d2\", element=\"752aa800-1eeb-42c9-af5c-7e8955469aa3\")>,\n",
       " <selenium.webdriver.remote.webelement.WebElement (session=\"24a6dabe2801870f82315dfab7ac24d2\", element=\"1ba72721-9a3b-43df-ba09-f5f809adf78c\")>,\n",
       " <selenium.webdriver.remote.webelement.WebElement (session=\"24a6dabe2801870f82315dfab7ac24d2\", element=\"44535546-e615-4e59-9a9e-cf9102f2432a\")>,\n",
       " <selenium.webdriver.remote.webelement.WebElement (session=\"24a6dabe2801870f82315dfab7ac24d2\", element=\"b572ef35-4407-41b8-ae2d-670254e7d1a2\")>,\n",
       " <selenium.webdriver.remote.webelement.WebElement (session=\"24a6dabe2801870f82315dfab7ac24d2\", element=\"08812128-c7d4-460a-b159-3a174ceb5852\")>,\n",
       " <selenium.webdriver.remote.webelement.WebElement (session=\"24a6dabe2801870f82315dfab7ac24d2\", element=\"a2f8a81f-db84-46e5-b509-c4f61fd9129e\")>]"
      ]
     },
     "execution_count": 28,
     "metadata": {},
     "output_type": "execute_result"
    }
   ],
   "source": [
    "#Extracting the full-job description tags from the webpage\n",
    "#First we will extract the links alone for the full job desc\n",
    "job_desc=driver.find_elements_by_xpath(\"//a[@class='title fw500 ellipsis']\")\n",
    "job_desc"
   ]
  },
  {
   "cell_type": "code",
   "execution_count": 29,
   "metadata": {},
   "outputs": [
    {
     "data": {
      "text/plain": [
       "['https://www.naukri.com/job-listings-data-scientist-cronj-it-technologies-private-limited-bangalore-bengaluru-0-to-1-years-310321002339?src=jobsearchDesk&sid=16177031221712114&xp=1&px=1',\n",
       " 'https://www.naukri.com/job-listings-opportunity-for-data-scientist-internship-bengaluru-corner-stone-solutions-bangalore-bengaluru-0-to-1-years-240620007489?src=jobsearchDesk&sid=16177031221712114&xp=2&px=1',\n",
       " 'https://www.naukri.com/job-listings-data-scientist-analyst-becton-dickinson-india-pvt-ltd-bangalore-bengaluru-5-to-10-years-220321002877?src=jobsearchDesk&sid=16177031221712114&xp=3&px=1',\n",
       " 'https://www.naukri.com/job-listings-data-scientist-machine-learning-augmatrixgo-bangalore-bengaluru-2-to-5-years-140121905423?src=jobsearchDesk&sid=16177031221712114&xp=4&px=1',\n",
       " 'https://www.naukri.com/job-listings-data-scientist-data-analyst-data-science-inspiration-manpower-consultancy-pvt-ltd-navi-mumbai-bangalore-bengaluru-6-to-11-years-250321005167?src=jobsearchDesk&sid=16177031221712114&xp=5&px=1',\n",
       " 'https://www.naukri.com/job-listings-data-scientist-ibm-garage-ibm-india-pvt-limited-noida-hyderabad-secunderabad-bangalore-bengaluru-5-to-8-years-060421902058?src=jobsearchDesk&sid=16177031221712114&xp=6&px=1',\n",
       " 'https://www.naukri.com/job-listings-dbcg-ind-gamma-senior-data-scientist-boston-consulting-group-mumbai-new-delhi-chennai-bangalore-bengaluru-6-to-10-years-020421500121?src=jobsearchDesk&sid=16177031221712114&xp=7&px=1',\n",
       " 'https://www.naukri.com/job-listings-data-scientist-senior-data-scientist-ganit-business-solutions-private-limited-hyderabad-secunderabad-pune-chennai-bangalore-bengaluru-mumbai-all-areas-4-to-8-years-290321001979?src=jobsearchDesk&sid=16177031221712114&xp=8&px=1',\n",
       " 'https://www.naukri.com/job-listings-senior-data-scientist-ces-it-ltd-cmmi-level-5-ces-ltd-kolkata-mumbai-hyderabad-secunderabad-pune-chennai-bangalore-bengaluru-delhi-ncr-2-to-7-years-151220006902?src=jobsearchDesk&sid=16177031221712114&xp=9&px=1',\n",
       " 'https://www.naukri.com/job-listings-global-medical-data-scientist-glaxosmithkline-pharmaceuticals-limited-bangalore-bengaluru-5-to-10-years-240321907599?src=jobsearchDesk&sid=16177031221712114&xp=10&px=1']"
      ]
     },
     "execution_count": 29,
     "metadata": {},
     "output_type": "execute_result"
    }
   ],
   "source": [
    "#After extracting the link's tags, we will append to an empty list and extract the links\n",
    "desc=[]  #Empty list\n",
    "for i in job_desc[:10]:\n",
    "    desc.append(i.get_attribute(\"href\"))\n",
    "desc    "
   ]
  },
  {
   "cell_type": "code",
   "execution_count": 30,
   "metadata": {},
   "outputs": [
    {
     "name": "stdout",
     "output_type": "stream",
     "text": [
      "Exception Raised Message: no such element: Unable to locate element: {\"method\":\"xpath\",\"selector\":\"//section[@class='job-desc']\"}\n",
      "  (Session info: chrome=89.0.4389.114)\n",
      "\n",
      "Exception Raised Message: no such element: Unable to locate element: {\"method\":\"xpath\",\"selector\":\"//section[@class='job-desc']\"}\n",
      "  (Session info: chrome=89.0.4389.114)\n",
      "\n"
     ]
    }
   ],
   "source": [
    "#After extracting links, we will make another for loop for extracting the text\n",
    "#Importing exception\n",
    "import time\n",
    "from selenium.common.exceptions import NoSuchElementException\n",
    "job_desc=[]  #Empty list\n",
    "for i in desc:   #running a for loop for fetching the driver\n",
    "    driver.get(i)\n",
    "    time.sleep(3)   #Making the webpage sleep for 3 seconds using timer\n",
    "    try:\n",
    "        full_desc=driver.find_element_by_xpath((\"//section[@class='job-desc']\")).text  #XPath of full job description\n",
    "        job_desc.append(full_desc.replace('Job description\\n',' '))\n",
    "    except NoSuchElementException as e:\n",
    "        print(\"Exception Raised\",e)  #Printing exception message\n",
    "        job_desc.append(\"Not Available\") #Appending Not Available for no job description"
   ]
  },
  {
   "cell_type": "code",
   "execution_count": 31,
   "metadata": {},
   "outputs": [
    {
     "name": "stdout",
     "output_type": "stream",
     "text": [
      "10 10 10 10 10\n"
     ]
    }
   ],
   "source": [
    "#Checking out the length of the data extracted\n",
    "print(len(title),len(location),len(company),len(exp),len(job_desc))"
   ]
  },
  {
   "cell_type": "code",
   "execution_count": 32,
   "metadata": {},
   "outputs": [
    {
     "data": {
      "text/html": [
       "<div>\n",
       "<style scoped>\n",
       "    .dataframe tbody tr th:only-of-type {\n",
       "        vertical-align: middle;\n",
       "    }\n",
       "\n",
       "    .dataframe tbody tr th {\n",
       "        vertical-align: top;\n",
       "    }\n",
       "\n",
       "    .dataframe thead th {\n",
       "        text-align: right;\n",
       "    }\n",
       "</style>\n",
       "<table border=\"1\" class=\"dataframe\">\n",
       "  <thead>\n",
       "    <tr style=\"text-align: right;\">\n",
       "      <th></th>\n",
       "      <th>Title</th>\n",
       "      <th>Location</th>\n",
       "      <th>Company name</th>\n",
       "      <th>Experience required</th>\n",
       "      <th>Job Description</th>\n",
       "    </tr>\n",
       "  </thead>\n",
       "  <tbody>\n",
       "    <tr>\n",
       "      <th>0</th>\n",
       "      <td>Data Scientist</td>\n",
       "      <td>Bangalore/Bengaluru</td>\n",
       "      <td>CronJ IT Technologies Private Limited</td>\n",
       "      <td>6-8 Yrs</td>\n",
       "      <td>Responsibilities and Duties\\nCreate innovativ...</td>\n",
       "    </tr>\n",
       "    <tr>\n",
       "      <th>1</th>\n",
       "      <td>Opportunity For Data Scientist Internship - Be...</td>\n",
       "      <td>Bangalore/Bengaluru</td>\n",
       "      <td>Corner Stone Solutions</td>\n",
       "      <td>0-0 Yrs</td>\n",
       "      <td>Location - Bangalore / Bengaluru\\nDuration- 6...</td>\n",
       "    </tr>\n",
       "    <tr>\n",
       "      <th>2</th>\n",
       "      <td>Data Scientist/ Analyst</td>\n",
       "      <td>Bangalore/Bengaluru</td>\n",
       "      <td>Becton Dickinson India Pvt. Ltd</td>\n",
       "      <td>0-2 Yrs</td>\n",
       "      <td>Roles and Responsibilities\\nob Description Su...</td>\n",
       "    </tr>\n",
       "    <tr>\n",
       "      <th>3</th>\n",
       "      <td>Data Scientist - Machine Learning</td>\n",
       "      <td>Bangalore/Bengaluru</td>\n",
       "      <td>AugmatrixGo</td>\n",
       "      <td>4-8 Yrs</td>\n",
       "      <td>Roles and Responsibilities\\n\\n\\n- Selecting f...</td>\n",
       "    </tr>\n",
       "    <tr>\n",
       "      <th>4</th>\n",
       "      <td>Data Scientist || Data Analyst || Data science</td>\n",
       "      <td>Navi Mumbai, Bangalore/Bengaluru</td>\n",
       "      <td>Inspiration Manpower Consultancy Pvt. Ltd.</td>\n",
       "      <td>1-2 Yrs</td>\n",
       "      <td>Job Summary and Key Responsibilities\\nManage...</td>\n",
       "    </tr>\n",
       "    <tr>\n",
       "      <th>5</th>\n",
       "      <td>Data Scientist - IBM Garage</td>\n",
       "      <td>Noida, Hyderabad/Secunderabad, Bangalore/Benga...</td>\n",
       "      <td>IBM India Pvt. Limited</td>\n",
       "      <td>2-7 Yrs</td>\n",
       "      <td>Not Available</td>\n",
       "    </tr>\n",
       "    <tr>\n",
       "      <th>6</th>\n",
       "      <td>DBCG IND - GAMMA Senior Data Scientist</td>\n",
       "      <td>Mumbai, New Delhi, Chennai, Bangalore/Bengaluru</td>\n",
       "      <td>Boston Consulting Group</td>\n",
       "      <td>3-6 Yrs</td>\n",
       "      <td>What Youll Do\\n\\nWe re looking for a pass...</td>\n",
       "    </tr>\n",
       "    <tr>\n",
       "      <th>7</th>\n",
       "      <td>Data Scientist/Senior Data Scientist</td>\n",
       "      <td>Hyderabad/Secunderabad, Pune, Chennai, Bangalo...</td>\n",
       "      <td>GANIT BUSINESS SOLUTIONS PRIVATE LIMITED</td>\n",
       "      <td>3-8 Yrs</td>\n",
       "      <td>\\nAbout Ganit Inc\\n\\nFounded by senior indust...</td>\n",
       "    </tr>\n",
       "    <tr>\n",
       "      <th>8</th>\n",
       "      <td>Senior Data Scientist | CES IT LTD | CMMI Level 5</td>\n",
       "      <td>Kolkata, Mumbai, Hyderabad/Secunderabad, Pune,...</td>\n",
       "      <td>CES Ltd.</td>\n",
       "      <td>4-8 Yrs</td>\n",
       "      <td>Roles and Responsibilities\\n\\nMust have stron...</td>\n",
       "    </tr>\n",
       "    <tr>\n",
       "      <th>9</th>\n",
       "      <td>Global Medical Data Scientist</td>\n",
       "      <td>Bangalore/Bengaluru</td>\n",
       "      <td>GlaxoSmithKline Pharmaceuticals Limited</td>\n",
       "      <td>4-8 Yrs</td>\n",
       "      <td>Not Available</td>\n",
       "    </tr>\n",
       "  </tbody>\n",
       "</table>\n",
       "</div>"
      ],
      "text/plain": [
       "                                               Title  \\\n",
       "0                                     Data Scientist   \n",
       "1  Opportunity For Data Scientist Internship - Be...   \n",
       "2                            Data Scientist/ Analyst   \n",
       "3                  Data Scientist - Machine Learning   \n",
       "4     Data Scientist || Data Analyst || Data science   \n",
       "5                        Data Scientist - IBM Garage   \n",
       "6             DBCG IND - GAMMA Senior Data Scientist   \n",
       "7               Data Scientist/Senior Data Scientist   \n",
       "8  Senior Data Scientist | CES IT LTD | CMMI Level 5   \n",
       "9                      Global Medical Data Scientist   \n",
       "\n",
       "                                            Location  \\\n",
       "0                                Bangalore/Bengaluru   \n",
       "1                                Bangalore/Bengaluru   \n",
       "2                                Bangalore/Bengaluru   \n",
       "3                                Bangalore/Bengaluru   \n",
       "4                   Navi Mumbai, Bangalore/Bengaluru   \n",
       "5  Noida, Hyderabad/Secunderabad, Bangalore/Benga...   \n",
       "6    Mumbai, New Delhi, Chennai, Bangalore/Bengaluru   \n",
       "7  Hyderabad/Secunderabad, Pune, Chennai, Bangalo...   \n",
       "8  Kolkata, Mumbai, Hyderabad/Secunderabad, Pune,...   \n",
       "9                                Bangalore/Bengaluru   \n",
       "\n",
       "                                 Company name Experience required  \\\n",
       "0       CronJ IT Technologies Private Limited             6-8 Yrs   \n",
       "1                      Corner Stone Solutions             0-0 Yrs   \n",
       "2             Becton Dickinson India Pvt. Ltd             0-2 Yrs   \n",
       "3                                 AugmatrixGo             4-8 Yrs   \n",
       "4  Inspiration Manpower Consultancy Pvt. Ltd.             1-2 Yrs   \n",
       "5                      IBM India Pvt. Limited             2-7 Yrs   \n",
       "6                     Boston Consulting Group             3-6 Yrs   \n",
       "7    GANIT BUSINESS SOLUTIONS PRIVATE LIMITED             3-8 Yrs   \n",
       "8                                    CES Ltd.             4-8 Yrs   \n",
       "9     GlaxoSmithKline Pharmaceuticals Limited             4-8 Yrs   \n",
       "\n",
       "                                     Job Description  \n",
       "0   Responsibilities and Duties\\nCreate innovativ...  \n",
       "1   Location - Bangalore / Bengaluru\\nDuration- 6...  \n",
       "2   Roles and Responsibilities\\nob Description Su...  \n",
       "3   Roles and Responsibilities\\n\\n\\n- Selecting f...  \n",
       "4    Job Summary and Key Responsibilities\\nManage...  \n",
       "5                                      Not Available  \n",
       "6       What Youll Do\\n\\nWe re looking for a pass...  \n",
       "7   \\nAbout Ganit Inc\\n\\nFounded by senior indust...  \n",
       "8   Roles and Responsibilities\\n\\nMust have stron...  \n",
       "9                                      Not Available  "
      ]
     },
     "execution_count": 32,
     "metadata": {},
     "output_type": "execute_result"
    }
   ],
   "source": [
    "#Creating a new dataframe for saving the data\n",
    "jobs=pd.DataFrame({})\n",
    "jobs['Title']=title\n",
    "jobs['Location']=location\n",
    "jobs['Company name']=company\n",
    "jobs['Experience required']=exp\n",
    "jobs['Job Description']=job_desc\n",
    "jobs"
   ]
  },
  {
   "cell_type": "code",
   "execution_count": 33,
   "metadata": {},
   "outputs": [],
   "source": [
    "#Saving the data into a csv file\n",
    "jobs.to_csv(\"DataScientist_Bangalore_Naukrijobs.csv\")"
   ]
  },
  {
   "cell_type": "code",
   "execution_count": 34,
   "metadata": {},
   "outputs": [],
   "source": [
    "#Closing the driver\n",
    "driver.close()"
   ]
  },
  {
   "cell_type": "markdown",
   "metadata": {},
   "source": [
    "# Q3: In this question you have to scrape data using the filters available on the webpage:"
   ]
  },
  {
   "cell_type": "markdown",
   "metadata": {},
   "source": [
    "* You have to use the location and salary filter.\n",
    "* You have to scrape data for “Data Scientist” designation for first 10 job results.\n",
    "* You have to scrape the job-title, job-location, company_name, experience_required.\n",
    "* The location filter to be used is “Delhi/NCR”\n",
    "* The salary filter to be used is “3-6” lakhs\n",
    "\n",
    "The task will be done as shown in the below steps:\n",
    "1. first get the webpage https://www.naukri.com/\n",
    "2. Enter “Data Scientist” in “Skill,Designations,Companies” field.\n",
    "3. Then click the search button.\n",
    "4. Then apply the location filter and salary filter by checking the respective boxes\n",
    "4. Then scrape the data for the first 10 jobs results you get.\n",
    "5. Finally create a dataframe of the scraped data.\n"
   ]
  },
  {
   "cell_type": "code",
   "execution_count": 35,
   "metadata": {},
   "outputs": [],
   "source": [
    "#Connect to web driver\n",
    "driver=webdriver.Chrome(r\"D://chromedriver.exe\")  #r converts string to raw string\n",
    "#If not r, we can use executable_path = \"C:/path name\""
   ]
  },
  {
   "cell_type": "code",
   "execution_count": 36,
   "metadata": {},
   "outputs": [],
   "source": [
    "#Getting the website to driver\n",
    "driver.get('https://www.naukri.com/')\n",
    "\n",
    "#When we run this line, automatically the webpage will be opened"
   ]
  },
  {
   "cell_type": "code",
   "execution_count": 37,
   "metadata": {},
   "outputs": [],
   "source": [
    "#Finding the required elements from the search bar of job\n",
    "job_search=driver.find_element_by_id('qsb-keyword-sugg')\n",
    "\n",
    "#Sending the input to the webpage\n",
    "job_search.send_keys(\"Data Scientist\")\n",
    "\n",
    "#Searching the input by using the search button and clicking it\n",
    "driver.find_element_by_xpath(\"//div[@class='search-btn']/button\").click()"
   ]
  },
  {
   "cell_type": "code",
   "execution_count": 38,
   "metadata": {},
   "outputs": [],
   "source": [
    "#Locating the filters in the webpage\n",
    "#First, we will filter the location\n",
    "filter_location=driver.find_elements_by_xpath(\"//span[@class='ellipsis fleft']\")\n",
    "for i in filter_location:\n",
    "    if i.text=='Delhi / NCR':\n",
    "        i.click()\n",
    "        break"
   ]
  },
  {
   "cell_type": "code",
   "execution_count": 39,
   "metadata": {},
   "outputs": [],
   "source": [
    "#Filtering the salary\n",
    "filter_salary=driver.find_elements_by_xpath(\"//span[@class='ellipsis fleft']\")\n",
    "for i in filter_salary:\n",
    "    if i.text=='3-6 Lakhs':\n",
    "        i.click()\n",
    "        break"
   ]
  },
  {
   "cell_type": "code",
   "execution_count": null,
   "metadata": {},
   "outputs": [],
   "source": [
    "#After filtering location and salary, we will specify the url of webpage\n",
    "url=\"https://www.naukri.com/data-scientist-jobs?k=data%20scientist&ctcFilter=3to6&cityTypeGid=9508\"\n",
    "driver.get(url)"
   ]
  },
  {
   "cell_type": "code",
   "execution_count": 40,
   "metadata": {},
   "outputs": [
    {
     "data": {
      "text/plain": [
       "[<selenium.webdriver.remote.webelement.WebElement (session=\"2f69a4dbd34b793a61628250dbe733f7\", element=\"45d230a8-3605-4b95-a917-66e7b997fd30\")>,\n",
       " <selenium.webdriver.remote.webelement.WebElement (session=\"2f69a4dbd34b793a61628250dbe733f7\", element=\"cc484f66-54a8-4162-bebc-dd1ecfb3c6b9\")>,\n",
       " <selenium.webdriver.remote.webelement.WebElement (session=\"2f69a4dbd34b793a61628250dbe733f7\", element=\"1b442843-5002-44f6-a92c-88e8295f0c05\")>,\n",
       " <selenium.webdriver.remote.webelement.WebElement (session=\"2f69a4dbd34b793a61628250dbe733f7\", element=\"05ce6e7c-9063-4149-823e-43b0aa9d6af2\")>,\n",
       " <selenium.webdriver.remote.webelement.WebElement (session=\"2f69a4dbd34b793a61628250dbe733f7\", element=\"3fe3767e-d955-40d6-9891-dd332a5f2876\")>,\n",
       " <selenium.webdriver.remote.webelement.WebElement (session=\"2f69a4dbd34b793a61628250dbe733f7\", element=\"2ae72543-6260-4174-8ee1-7305640c4c6d\")>,\n",
       " <selenium.webdriver.remote.webelement.WebElement (session=\"2f69a4dbd34b793a61628250dbe733f7\", element=\"a0201df1-1679-4caa-95a6-a5f779bfb60e\")>,\n",
       " <selenium.webdriver.remote.webelement.WebElement (session=\"2f69a4dbd34b793a61628250dbe733f7\", element=\"328b8b65-ddcc-411b-8913-808fde676381\")>,\n",
       " <selenium.webdriver.remote.webelement.WebElement (session=\"2f69a4dbd34b793a61628250dbe733f7\", element=\"becb24db-ac34-4aa4-85dd-19e85b4425b0\")>,\n",
       " <selenium.webdriver.remote.webelement.WebElement (session=\"2f69a4dbd34b793a61628250dbe733f7\", element=\"062a4219-e613-44b2-adf4-a179c4c8594d\")>,\n",
       " <selenium.webdriver.remote.webelement.WebElement (session=\"2f69a4dbd34b793a61628250dbe733f7\", element=\"686e01d9-80ce-4f60-acbe-acf3cb2f34fc\")>,\n",
       " <selenium.webdriver.remote.webelement.WebElement (session=\"2f69a4dbd34b793a61628250dbe733f7\", element=\"dfbc24bc-43ea-4219-994d-31f0a0bc007b\")>,\n",
       " <selenium.webdriver.remote.webelement.WebElement (session=\"2f69a4dbd34b793a61628250dbe733f7\", element=\"976c2e69-c98f-4204-ae72-264f7043472e\")>,\n",
       " <selenium.webdriver.remote.webelement.WebElement (session=\"2f69a4dbd34b793a61628250dbe733f7\", element=\"6dcae3a9-63d1-4b74-b61d-f0f5b53b4b5a\")>,\n",
       " <selenium.webdriver.remote.webelement.WebElement (session=\"2f69a4dbd34b793a61628250dbe733f7\", element=\"3a665454-6706-4814-9880-ff017a47aee2\")>,\n",
       " <selenium.webdriver.remote.webelement.WebElement (session=\"2f69a4dbd34b793a61628250dbe733f7\", element=\"808f6e2b-2619-4a2d-9060-6b2da948a223\")>,\n",
       " <selenium.webdriver.remote.webelement.WebElement (session=\"2f69a4dbd34b793a61628250dbe733f7\", element=\"b0f3975b-f573-40b6-b984-95a23dbf4926\")>,\n",
       " <selenium.webdriver.remote.webelement.WebElement (session=\"2f69a4dbd34b793a61628250dbe733f7\", element=\"6c82639d-00fa-4f86-9aef-7709c2670ccd\")>,\n",
       " <selenium.webdriver.remote.webelement.WebElement (session=\"2f69a4dbd34b793a61628250dbe733f7\", element=\"999a5f5d-7f41-4de7-96f6-8a5ca0a667fe\")>,\n",
       " <selenium.webdriver.remote.webelement.WebElement (session=\"2f69a4dbd34b793a61628250dbe733f7\", element=\"0faf07a1-9409-4c93-9239-c859732038cb\")>,\n",
       " <selenium.webdriver.remote.webelement.WebElement (session=\"2f69a4dbd34b793a61628250dbe733f7\", element=\"8ca55e5e-7f94-4204-8efe-1f9c7b0d9d59\")>]"
      ]
     },
     "execution_count": 40,
     "metadata": {},
     "output_type": "execute_result"
    }
   ],
   "source": [
    "#Extracting all the tags having the job title\n",
    "job_title=driver.find_elements_by_xpath(\"//a[@class='title fw500 ellipsis']\")\n",
    "job_title"
   ]
  },
  {
   "cell_type": "code",
   "execution_count": 41,
   "metadata": {},
   "outputs": [
    {
     "data": {
      "text/plain": [
       "['Developer - Data Science',\n",
       " 'Data Scientist - IBM Garage',\n",
       " 'Data Scientist/Data Analyst - Python/Machine Learning',\n",
       " 'Data Scientist',\n",
       " 'Data Scientist - Python & Machine Learning',\n",
       " 'Data Scientist - Python & Machine Learning',\n",
       " 'Data Scientist - Python / Machine Learning / Tableau / Power BI',\n",
       " 'Data Scientist - Python & Machine Learning',\n",
       " 'Hiring For Data Scientist',\n",
       " 'Required- Data Scientist (NLP)-Axis Bank - 6 months contract']"
      ]
     },
     "execution_count": 41,
     "metadata": {},
     "output_type": "execute_result"
    }
   ],
   "source": [
    "#Extracting the text from the tags\n",
    "title=[]  #Empty list\n",
    "\n",
    "#As we need to scrap data for the first 10 job results, we are running a for loop for first 10 results only\n",
    "for i in job_title[:10]:\n",
    "    title.append(i.text)\n",
    "title   "
   ]
  },
  {
   "cell_type": "code",
   "execution_count": 42,
   "metadata": {},
   "outputs": [
    {
     "data": {
      "text/plain": [
       "[<selenium.webdriver.remote.webelement.WebElement (session=\"2f69a4dbd34b793a61628250dbe733f7\", element=\"a1a1a5e0-4e95-4af0-bc70-969d909d578b\")>,\n",
       " <selenium.webdriver.remote.webelement.WebElement (session=\"2f69a4dbd34b793a61628250dbe733f7\", element=\"a9914b46-38da-46de-a04b-a0bf0a211b5c\")>,\n",
       " <selenium.webdriver.remote.webelement.WebElement (session=\"2f69a4dbd34b793a61628250dbe733f7\", element=\"3e533372-a102-4c74-9513-855d13592e59\")>,\n",
       " <selenium.webdriver.remote.webelement.WebElement (session=\"2f69a4dbd34b793a61628250dbe733f7\", element=\"d56721e5-731d-4937-b1dc-efd0a30ec57d\")>,\n",
       " <selenium.webdriver.remote.webelement.WebElement (session=\"2f69a4dbd34b793a61628250dbe733f7\", element=\"a4cafd64-0497-4f26-b966-ca09212b622c\")>,\n",
       " <selenium.webdriver.remote.webelement.WebElement (session=\"2f69a4dbd34b793a61628250dbe733f7\", element=\"7e730b5f-4fb7-4217-8f2c-5f31ed176bf1\")>,\n",
       " <selenium.webdriver.remote.webelement.WebElement (session=\"2f69a4dbd34b793a61628250dbe733f7\", element=\"1f1b65af-0846-4d89-8c33-f3450672f0f8\")>,\n",
       " <selenium.webdriver.remote.webelement.WebElement (session=\"2f69a4dbd34b793a61628250dbe733f7\", element=\"d33fc1d9-760a-48c5-89c2-80ddcc12bdd5\")>,\n",
       " <selenium.webdriver.remote.webelement.WebElement (session=\"2f69a4dbd34b793a61628250dbe733f7\", element=\"95acfbd7-1d3c-42d4-aa19-e1e1bd66e34c\")>,\n",
       " <selenium.webdriver.remote.webelement.WebElement (session=\"2f69a4dbd34b793a61628250dbe733f7\", element=\"10b9cea8-f5f3-40ad-9a39-e895cce92f2a\")>,\n",
       " <selenium.webdriver.remote.webelement.WebElement (session=\"2f69a4dbd34b793a61628250dbe733f7\", element=\"3ff3a388-e741-4eec-991a-611ccf410c47\")>,\n",
       " <selenium.webdriver.remote.webelement.WebElement (session=\"2f69a4dbd34b793a61628250dbe733f7\", element=\"481d4210-a020-4f18-8f1b-38e5fe3848d8\")>,\n",
       " <selenium.webdriver.remote.webelement.WebElement (session=\"2f69a4dbd34b793a61628250dbe733f7\", element=\"725dba8c-327a-4ec8-9e38-f1186ae3a9de\")>,\n",
       " <selenium.webdriver.remote.webelement.WebElement (session=\"2f69a4dbd34b793a61628250dbe733f7\", element=\"c5d3bdae-69bf-4e94-aa5b-bc85da5c7236\")>,\n",
       " <selenium.webdriver.remote.webelement.WebElement (session=\"2f69a4dbd34b793a61628250dbe733f7\", element=\"50cfb4f5-7306-4e12-aa87-b31c7f90c17b\")>,\n",
       " <selenium.webdriver.remote.webelement.WebElement (session=\"2f69a4dbd34b793a61628250dbe733f7\", element=\"3e770c2b-9ff2-452d-ad84-cb3b162b7576\")>,\n",
       " <selenium.webdriver.remote.webelement.WebElement (session=\"2f69a4dbd34b793a61628250dbe733f7\", element=\"f81a4b2d-f565-4294-a1de-6fbe8c0ebd4a\")>,\n",
       " <selenium.webdriver.remote.webelement.WebElement (session=\"2f69a4dbd34b793a61628250dbe733f7\", element=\"9cdb1a8d-caa4-402e-9978-cf7fd12e0f2b\")>,\n",
       " <selenium.webdriver.remote.webelement.WebElement (session=\"2f69a4dbd34b793a61628250dbe733f7\", element=\"b52d5e50-f03e-4f15-866c-ed3c4d7f51e0\")>,\n",
       " <selenium.webdriver.remote.webelement.WebElement (session=\"2f69a4dbd34b793a61628250dbe733f7\", element=\"197f576f-c6f0-4223-baa3-c27c6c6f38bc\")>,\n",
       " <selenium.webdriver.remote.webelement.WebElement (session=\"2f69a4dbd34b793a61628250dbe733f7\", element=\"8faf2355-fc48-49d9-8441-2e1ec8bafdc3\")>]"
      ]
     },
     "execution_count": 42,
     "metadata": {},
     "output_type": "execute_result"
    }
   ],
   "source": [
    "#Extracting all the tags having the job location\n",
    "job_location=driver.find_elements_by_xpath(\"//li[@class='fleft grey-text br2 placeHolderLi location']/span\")\n",
    "job_location"
   ]
  },
  {
   "cell_type": "code",
   "execution_count": 43,
   "metadata": {},
   "outputs": [
    {
     "data": {
      "text/plain": [
       "['Delhi / NCR',\n",
       " 'Noida, Hyderabad/Secunderabad, Bangalore/Bengaluru',\n",
       " 'Mumbai, Ghaziabad',\n",
       " 'Ghaziabad, Faridabad, Delhi / NCR',\n",
       " 'Hyderabad/Secunderabad, Pune, Bangalore/Bengaluru, Delhi / NCR, Mumbai (All Areas)',\n",
       " 'Hyderabad/Secunderabad, Pune, Chennai, Bangalore/Bengaluru, Delhi / NCR, Mumbai (All Areas)',\n",
       " 'Mumbai, Hyderabad/Secunderabad, Bangalore/Bengaluru, Delhi / NCR',\n",
       " 'Hyderabad/Secunderabad, Bangalore/Bengaluru, Delhi / NCR, Mumbai (All Areas)',\n",
       " 'Gurgaon/Gurugram, Delhi / NCR',\n",
       " 'Kolkata, New Delhi, Hyderabad/Secunderabad, Pune, Chennai, Bangalore/Bengaluru, Mumbai (All Areas)']"
      ]
     },
     "execution_count": 43,
     "metadata": {},
     "output_type": "execute_result"
    }
   ],
   "source": [
    "#Extracting the text from the tags\n",
    "location=[]  #Empty list\n",
    "\n",
    "#As we need to scrap data for the first 10 job results, we are running a for loop for first 10 results only\n",
    "for i in job_location[:10]:\n",
    "    location.append(i.text)\n",
    "location    "
   ]
  },
  {
   "cell_type": "code",
   "execution_count": 44,
   "metadata": {},
   "outputs": [
    {
     "data": {
      "text/plain": [
       "[<selenium.webdriver.remote.webelement.WebElement (session=\"2f69a4dbd34b793a61628250dbe733f7\", element=\"370dcab7-3d30-4534-bd52-a801d620ff4b\")>,\n",
       " <selenium.webdriver.remote.webelement.WebElement (session=\"2f69a4dbd34b793a61628250dbe733f7\", element=\"5ee2dfc1-70dd-482d-b390-2d93b635a329\")>,\n",
       " <selenium.webdriver.remote.webelement.WebElement (session=\"2f69a4dbd34b793a61628250dbe733f7\", element=\"b52749c1-6ac4-40fb-8a42-f63847c34ade\")>,\n",
       " <selenium.webdriver.remote.webelement.WebElement (session=\"2f69a4dbd34b793a61628250dbe733f7\", element=\"4dec37ba-bda5-4c90-9b53-2fd6ee374f9e\")>,\n",
       " <selenium.webdriver.remote.webelement.WebElement (session=\"2f69a4dbd34b793a61628250dbe733f7\", element=\"99a054dd-c08d-4e1b-b5a9-0f0c4dd57c7c\")>,\n",
       " <selenium.webdriver.remote.webelement.WebElement (session=\"2f69a4dbd34b793a61628250dbe733f7\", element=\"a296d129-7259-4f31-8982-5fb8f6bf6b5b\")>,\n",
       " <selenium.webdriver.remote.webelement.WebElement (session=\"2f69a4dbd34b793a61628250dbe733f7\", element=\"23ed0c49-7a22-4882-98b4-767eb6aed365\")>,\n",
       " <selenium.webdriver.remote.webelement.WebElement (session=\"2f69a4dbd34b793a61628250dbe733f7\", element=\"f9916c69-1c23-4e31-84e3-3f7937eb304c\")>,\n",
       " <selenium.webdriver.remote.webelement.WebElement (session=\"2f69a4dbd34b793a61628250dbe733f7\", element=\"80bbec45-24d8-4775-9fdc-9e487dffab66\")>,\n",
       " <selenium.webdriver.remote.webelement.WebElement (session=\"2f69a4dbd34b793a61628250dbe733f7\", element=\"6d361994-5d2a-4fae-900f-8ff71b162b79\")>,\n",
       " <selenium.webdriver.remote.webelement.WebElement (session=\"2f69a4dbd34b793a61628250dbe733f7\", element=\"03293670-99b6-424c-b1f3-b0f46de54686\")>,\n",
       " <selenium.webdriver.remote.webelement.WebElement (session=\"2f69a4dbd34b793a61628250dbe733f7\", element=\"251db08a-3620-4caf-a376-82d6241ad932\")>,\n",
       " <selenium.webdriver.remote.webelement.WebElement (session=\"2f69a4dbd34b793a61628250dbe733f7\", element=\"2d18a784-50bd-453c-93a7-b4988f1277f8\")>,\n",
       " <selenium.webdriver.remote.webelement.WebElement (session=\"2f69a4dbd34b793a61628250dbe733f7\", element=\"e97e7b0f-20c8-4ad3-a36f-e7c4c0daddf6\")>,\n",
       " <selenium.webdriver.remote.webelement.WebElement (session=\"2f69a4dbd34b793a61628250dbe733f7\", element=\"a0cbae30-38e8-42e0-833f-105835cab3ba\")>,\n",
       " <selenium.webdriver.remote.webelement.WebElement (session=\"2f69a4dbd34b793a61628250dbe733f7\", element=\"844cea89-17b1-48b7-81cb-c915fab5683e\")>,\n",
       " <selenium.webdriver.remote.webelement.WebElement (session=\"2f69a4dbd34b793a61628250dbe733f7\", element=\"be438529-b2db-4d1f-926f-c3d873e43db2\")>,\n",
       " <selenium.webdriver.remote.webelement.WebElement (session=\"2f69a4dbd34b793a61628250dbe733f7\", element=\"33d5d51e-c317-43ed-bed9-03548cb551bf\")>,\n",
       " <selenium.webdriver.remote.webelement.WebElement (session=\"2f69a4dbd34b793a61628250dbe733f7\", element=\"5927d1f4-bbd0-4cc7-84f6-dbd9946de965\")>,\n",
       " <selenium.webdriver.remote.webelement.WebElement (session=\"2f69a4dbd34b793a61628250dbe733f7\", element=\"85801fe6-229e-40c7-b220-9ba68d742967\")>,\n",
       " <selenium.webdriver.remote.webelement.WebElement (session=\"2f69a4dbd34b793a61628250dbe733f7\", element=\"b33f264d-f43d-4270-b6db-d03292dfa387\")>]"
      ]
     },
     "execution_count": 44,
     "metadata": {},
     "output_type": "execute_result"
    }
   ],
   "source": [
    "#Extracting the tags having the company name\n",
    "name=driver.find_elements_by_xpath(\"//a[@class='subTitle ellipsis fleft']\")\n",
    "name"
   ]
  },
  {
   "cell_type": "code",
   "execution_count": 45,
   "metadata": {},
   "outputs": [
    {
     "data": {
      "text/plain": [
       "['ICL Systems India Private Limited',\n",
       " 'IBM India Pvt. Limited',\n",
       " 'Change leaders',\n",
       " 'Amity University',\n",
       " 'FUTURES AND CAREERS',\n",
       " 'FUTURES AND CAREERS',\n",
       " 'FUTURES AND CAREERS',\n",
       " 'FUTURES AND CAREERS',\n",
       " 'Max Bupa Health Insurance Company Limited',\n",
       " 'Axis Bank Limited']"
      ]
     },
     "execution_count": 45,
     "metadata": {},
     "output_type": "execute_result"
    }
   ],
   "source": [
    "#Extracting the text from the tags\n",
    "company=[]  #Empty list\n",
    "\n",
    "#As we need to scrap data for the first 10 job results, we are running a for loop for first 10 results only\n",
    "for i in name[:10]:\n",
    "    company.append(i.text)\n",
    "company"
   ]
  },
  {
   "cell_type": "code",
   "execution_count": 46,
   "metadata": {},
   "outputs": [
    {
     "data": {
      "text/plain": [
       "[<selenium.webdriver.remote.webelement.WebElement (session=\"2f69a4dbd34b793a61628250dbe733f7\", element=\"e8ef7ea2-1749-4d2f-8e91-9172290df420\")>,\n",
       " <selenium.webdriver.remote.webelement.WebElement (session=\"2f69a4dbd34b793a61628250dbe733f7\", element=\"a385ffa3-5e5d-4b98-b466-79e78e2fc169\")>,\n",
       " <selenium.webdriver.remote.webelement.WebElement (session=\"2f69a4dbd34b793a61628250dbe733f7\", element=\"ccc8f273-30a0-48b0-a443-2495cee875be\")>,\n",
       " <selenium.webdriver.remote.webelement.WebElement (session=\"2f69a4dbd34b793a61628250dbe733f7\", element=\"29f28ad2-1891-4182-910d-1894df2cab16\")>,\n",
       " <selenium.webdriver.remote.webelement.WebElement (session=\"2f69a4dbd34b793a61628250dbe733f7\", element=\"00520463-946e-44b9-81cd-7187f34d958b\")>,\n",
       " <selenium.webdriver.remote.webelement.WebElement (session=\"2f69a4dbd34b793a61628250dbe733f7\", element=\"8218cfc7-92d0-4bab-ac48-4f69bbb2dad3\")>,\n",
       " <selenium.webdriver.remote.webelement.WebElement (session=\"2f69a4dbd34b793a61628250dbe733f7\", element=\"18608610-eabe-4652-9473-c9e864ce32cb\")>,\n",
       " <selenium.webdriver.remote.webelement.WebElement (session=\"2f69a4dbd34b793a61628250dbe733f7\", element=\"e5732185-d1ae-4f7c-8fa3-9a88c0c19fe1\")>,\n",
       " <selenium.webdriver.remote.webelement.WebElement (session=\"2f69a4dbd34b793a61628250dbe733f7\", element=\"0727a2e4-f032-4021-94ab-138e85c06194\")>,\n",
       " <selenium.webdriver.remote.webelement.WebElement (session=\"2f69a4dbd34b793a61628250dbe733f7\", element=\"8e06eb06-97a1-4ada-9912-39641feeb296\")>,\n",
       " <selenium.webdriver.remote.webelement.WebElement (session=\"2f69a4dbd34b793a61628250dbe733f7\", element=\"ab9aa757-7025-4de1-a1c1-6b894c47e468\")>,\n",
       " <selenium.webdriver.remote.webelement.WebElement (session=\"2f69a4dbd34b793a61628250dbe733f7\", element=\"b3df7492-8b7b-4f07-8450-a56adb597e62\")>,\n",
       " <selenium.webdriver.remote.webelement.WebElement (session=\"2f69a4dbd34b793a61628250dbe733f7\", element=\"747be767-db63-4ac6-92ba-fb1884b6d98a\")>,\n",
       " <selenium.webdriver.remote.webelement.WebElement (session=\"2f69a4dbd34b793a61628250dbe733f7\", element=\"c94cc60f-09e7-4920-bd15-51063dba35f5\")>,\n",
       " <selenium.webdriver.remote.webelement.WebElement (session=\"2f69a4dbd34b793a61628250dbe733f7\", element=\"b17dc8e7-e047-45f6-8996-c95ec5d2506e\")>,\n",
       " <selenium.webdriver.remote.webelement.WebElement (session=\"2f69a4dbd34b793a61628250dbe733f7\", element=\"f73617b3-e431-4721-8571-b7e1720f4c3c\")>,\n",
       " <selenium.webdriver.remote.webelement.WebElement (session=\"2f69a4dbd34b793a61628250dbe733f7\", element=\"e7c92089-6236-45ac-8f49-191f684c19d9\")>,\n",
       " <selenium.webdriver.remote.webelement.WebElement (session=\"2f69a4dbd34b793a61628250dbe733f7\", element=\"3e525e3f-1b55-4aea-adb9-53a18d127e68\")>,\n",
       " <selenium.webdriver.remote.webelement.WebElement (session=\"2f69a4dbd34b793a61628250dbe733f7\", element=\"95a55e52-3d21-40e7-8b47-3bcd33271ab4\")>,\n",
       " <selenium.webdriver.remote.webelement.WebElement (session=\"2f69a4dbd34b793a61628250dbe733f7\", element=\"464955b0-de51-40ea-a458-bd71c39332d8\")>,\n",
       " <selenium.webdriver.remote.webelement.WebElement (session=\"2f69a4dbd34b793a61628250dbe733f7\", element=\"59c71c83-efb1-4e16-8b44-f92a2b7af78c\")>]"
      ]
     },
     "execution_count": 46,
     "metadata": {},
     "output_type": "execute_result"
    }
   ],
   "source": [
    "#Extracting the tags having experience required\n",
    "exp_required=driver.find_elements_by_xpath(\"//li[@class='fleft grey-text br2 placeHolderLi experience']/span\")\n",
    "exp_required"
   ]
  },
  {
   "cell_type": "code",
   "execution_count": 47,
   "metadata": {},
   "outputs": [
    {
     "data": {
      "text/plain": [
       "['3-5 Yrs',\n",
       " '5-8 Yrs',\n",
       " '5-10 Yrs',\n",
       " '6-8 Yrs',\n",
       " '2-7 Yrs',\n",
       " '2-7 Yrs',\n",
       " '3-8 Yrs',\n",
       " '2-7 Yrs',\n",
       " '1-6 Yrs',\n",
       " '4-9 Yrs']"
      ]
     },
     "execution_count": 47,
     "metadata": {},
     "output_type": "execute_result"
    }
   ],
   "source": [
    "#Extracting the text from the tags\n",
    "exp=[]  #Empty list\n",
    "\n",
    "#As we need to scrap data for the first 10 job results, we are running a for loop for first 10 results only\n",
    "for i in exp_required[:10]:\n",
    "    exp.append(i.text)\n",
    "exp"
   ]
  },
  {
   "cell_type": "code",
   "execution_count": 48,
   "metadata": {},
   "outputs": [
    {
     "name": "stdout",
     "output_type": "stream",
     "text": [
      "10 10 10 10\n"
     ]
    }
   ],
   "source": [
    "#Checking out the length of the data extracted\n",
    "print(len(title),len(location),len(company),len(exp))"
   ]
  },
  {
   "cell_type": "code",
   "execution_count": 49,
   "metadata": {},
   "outputs": [
    {
     "data": {
      "text/html": [
       "<div>\n",
       "<style scoped>\n",
       "    .dataframe tbody tr th:only-of-type {\n",
       "        vertical-align: middle;\n",
       "    }\n",
       "\n",
       "    .dataframe tbody tr th {\n",
       "        vertical-align: top;\n",
       "    }\n",
       "\n",
       "    .dataframe thead th {\n",
       "        text-align: right;\n",
       "    }\n",
       "</style>\n",
       "<table border=\"1\" class=\"dataframe\">\n",
       "  <thead>\n",
       "    <tr style=\"text-align: right;\">\n",
       "      <th></th>\n",
       "      <th>Title</th>\n",
       "      <th>Location</th>\n",
       "      <th>Company name</th>\n",
       "      <th>Experience required</th>\n",
       "    </tr>\n",
       "  </thead>\n",
       "  <tbody>\n",
       "    <tr>\n",
       "      <th>0</th>\n",
       "      <td>Developer - Data Science</td>\n",
       "      <td>Delhi / NCR</td>\n",
       "      <td>ICL Systems India Private Limited</td>\n",
       "      <td>3-5 Yrs</td>\n",
       "    </tr>\n",
       "    <tr>\n",
       "      <th>1</th>\n",
       "      <td>Data Scientist - IBM Garage</td>\n",
       "      <td>Noida, Hyderabad/Secunderabad, Bangalore/Benga...</td>\n",
       "      <td>IBM India Pvt. Limited</td>\n",
       "      <td>5-8 Yrs</td>\n",
       "    </tr>\n",
       "    <tr>\n",
       "      <th>2</th>\n",
       "      <td>Data Scientist/Data Analyst - Python/Machine L...</td>\n",
       "      <td>Mumbai, Ghaziabad</td>\n",
       "      <td>Change leaders</td>\n",
       "      <td>5-10 Yrs</td>\n",
       "    </tr>\n",
       "    <tr>\n",
       "      <th>3</th>\n",
       "      <td>Data Scientist</td>\n",
       "      <td>Ghaziabad, Faridabad, Delhi / NCR</td>\n",
       "      <td>Amity University</td>\n",
       "      <td>6-8 Yrs</td>\n",
       "    </tr>\n",
       "    <tr>\n",
       "      <th>4</th>\n",
       "      <td>Data Scientist - Python &amp; Machine Learning</td>\n",
       "      <td>Hyderabad/Secunderabad, Pune, Bangalore/Bengal...</td>\n",
       "      <td>FUTURES AND CAREERS</td>\n",
       "      <td>2-7 Yrs</td>\n",
       "    </tr>\n",
       "    <tr>\n",
       "      <th>5</th>\n",
       "      <td>Data Scientist - Python &amp; Machine Learning</td>\n",
       "      <td>Hyderabad/Secunderabad, Pune, Chennai, Bangalo...</td>\n",
       "      <td>FUTURES AND CAREERS</td>\n",
       "      <td>2-7 Yrs</td>\n",
       "    </tr>\n",
       "    <tr>\n",
       "      <th>6</th>\n",
       "      <td>Data Scientist - Python / Machine Learning / T...</td>\n",
       "      <td>Mumbai, Hyderabad/Secunderabad, Bangalore/Beng...</td>\n",
       "      <td>FUTURES AND CAREERS</td>\n",
       "      <td>3-8 Yrs</td>\n",
       "    </tr>\n",
       "    <tr>\n",
       "      <th>7</th>\n",
       "      <td>Data Scientist - Python &amp; Machine Learning</td>\n",
       "      <td>Hyderabad/Secunderabad, Bangalore/Bengaluru, D...</td>\n",
       "      <td>FUTURES AND CAREERS</td>\n",
       "      <td>2-7 Yrs</td>\n",
       "    </tr>\n",
       "    <tr>\n",
       "      <th>8</th>\n",
       "      <td>Hiring For Data Scientist</td>\n",
       "      <td>Gurgaon/Gurugram, Delhi / NCR</td>\n",
       "      <td>Max Bupa Health Insurance Company Limited</td>\n",
       "      <td>1-6 Yrs</td>\n",
       "    </tr>\n",
       "    <tr>\n",
       "      <th>9</th>\n",
       "      <td>Required- Data Scientist (NLP)-Axis Bank - 6 m...</td>\n",
       "      <td>Kolkata, New Delhi, Hyderabad/Secunderabad, Pu...</td>\n",
       "      <td>Axis Bank Limited</td>\n",
       "      <td>4-9 Yrs</td>\n",
       "    </tr>\n",
       "  </tbody>\n",
       "</table>\n",
       "</div>"
      ],
      "text/plain": [
       "                                               Title  \\\n",
       "0                           Developer - Data Science   \n",
       "1                        Data Scientist - IBM Garage   \n",
       "2  Data Scientist/Data Analyst - Python/Machine L...   \n",
       "3                                     Data Scientist   \n",
       "4         Data Scientist - Python & Machine Learning   \n",
       "5         Data Scientist - Python & Machine Learning   \n",
       "6  Data Scientist - Python / Machine Learning / T...   \n",
       "7         Data Scientist - Python & Machine Learning   \n",
       "8                          Hiring For Data Scientist   \n",
       "9  Required- Data Scientist (NLP)-Axis Bank - 6 m...   \n",
       "\n",
       "                                            Location  \\\n",
       "0                                        Delhi / NCR   \n",
       "1  Noida, Hyderabad/Secunderabad, Bangalore/Benga...   \n",
       "2                                  Mumbai, Ghaziabad   \n",
       "3                  Ghaziabad, Faridabad, Delhi / NCR   \n",
       "4  Hyderabad/Secunderabad, Pune, Bangalore/Bengal...   \n",
       "5  Hyderabad/Secunderabad, Pune, Chennai, Bangalo...   \n",
       "6  Mumbai, Hyderabad/Secunderabad, Bangalore/Beng...   \n",
       "7  Hyderabad/Secunderabad, Bangalore/Bengaluru, D...   \n",
       "8                      Gurgaon/Gurugram, Delhi / NCR   \n",
       "9  Kolkata, New Delhi, Hyderabad/Secunderabad, Pu...   \n",
       "\n",
       "                                Company name Experience required  \n",
       "0          ICL Systems India Private Limited             3-5 Yrs  \n",
       "1                     IBM India Pvt. Limited             5-8 Yrs  \n",
       "2                             Change leaders            5-10 Yrs  \n",
       "3                           Amity University             6-8 Yrs  \n",
       "4                        FUTURES AND CAREERS             2-7 Yrs  \n",
       "5                        FUTURES AND CAREERS             2-7 Yrs  \n",
       "6                        FUTURES AND CAREERS             3-8 Yrs  \n",
       "7                        FUTURES AND CAREERS             2-7 Yrs  \n",
       "8  Max Bupa Health Insurance Company Limited             1-6 Yrs  \n",
       "9                          Axis Bank Limited             4-9 Yrs  "
      ]
     },
     "execution_count": 49,
     "metadata": {},
     "output_type": "execute_result"
    }
   ],
   "source": [
    "#Creating a new dataframe for saving the data\n",
    "jobs=pd.DataFrame({})\n",
    "jobs['Title']=title\n",
    "jobs['Location']=location\n",
    "jobs['Company name']=company\n",
    "jobs['Experience required']=exp\n",
    "jobs"
   ]
  },
  {
   "cell_type": "code",
   "execution_count": 50,
   "metadata": {},
   "outputs": [],
   "source": [
    "#Saving the data into a csv file\n",
    "jobs.to_csv(\"Filtered_Naukrijobs.csv\")"
   ]
  },
  {
   "cell_type": "code",
   "execution_count": 51,
   "metadata": {},
   "outputs": [],
   "source": [
    "#Closing the driver\n",
    "driver.close()"
   ]
  }
 ],
 "metadata": {
  "kernelspec": {
   "display_name": "Python 3",
   "language": "python",
   "name": "python3"
  },
  "language_info": {
   "codemirror_mode": {
    "name": "ipython",
    "version": 3
   },
   "file_extension": ".py",
   "mimetype": "text/x-python",
   "name": "python",
   "nbconvert_exporter": "python",
   "pygments_lexer": "ipython3",
   "version": "3.8.3"
  }
 },
 "nbformat": 4,
 "nbformat_minor": 4
}
