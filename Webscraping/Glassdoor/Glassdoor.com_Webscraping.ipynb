{
 "cells": [
  {
   "cell_type": "markdown",
   "metadata": {},
   "source": [
    "# Q4: Write a python program to scrape data for first 10 job results for Data scientist Designation in Noida location. You have to scrape company_name, No. of days ago when job was posted, Rating of the company."
   ]
  },
  {
   "cell_type": "markdown",
   "metadata": {},
   "source": [
    "This task will be done in following steps:\n",
    "1. First get the webpage https://www.glassdoor.co.in/index.htm\n",
    "2. Enter “Data Scientist” in “Job Title,Keyword,Company” field and enter “Noida” in “location” field.\n",
    "3. Then click the search button.\n",
    "4. Then scrape the data for the first 10 jobs results you get in the above shown page.\n",
    "5. Finally create a dataframe of the scraped data."
   ]
  },
  {
   "cell_type": "code",
   "execution_count": 1,
   "metadata": {},
   "outputs": [],
   "source": [
    "#Importing required libraries\n",
    "import selenium\n",
    "import pandas as pd\n",
    "from selenium import webdriver"
   ]
  },
  {
   "cell_type": "code",
   "execution_count": 2,
   "metadata": {},
   "outputs": [],
   "source": [
    "#Connect to web driver\n",
    "driver=webdriver.Chrome(r\"D://chromedriver.exe\")  #r converts string to raw string\n",
    "#If not r, we can use executable_path = \"C:/path name\""
   ]
  },
  {
   "cell_type": "code",
   "execution_count": 3,
   "metadata": {},
   "outputs": [],
   "source": [
    "#Getting the website to driver\n",
    "driver.get('https://www.glassdoor.co.in/index.htm')\n",
    "\n",
    "#When we run this line, automatically the webpage will be opened"
   ]
  },
  {
   "cell_type": "code",
   "execution_count": 4,
   "metadata": {},
   "outputs": [],
   "source": [
    "#Finding the required elements from the search bars of job and location\n",
    "job_search=driver.find_element_by_id('sc.keyword')\n",
    "location_search=driver.find_element_by_id('sc.location')\n",
    "\n",
    "#Sending the inputs to the webpage\n",
    "job_search.send_keys(\"Data Scientist\")\n",
    "location_search.send_keys(\"Noida\")\n",
    "\n",
    "#Searching the inputs by using the search button and clicking it\n",
    "driver.find_element_by_xpath(\"//button[@class='gd-ui-button ml-std col-auto SearchStyles__newSearchButton css-iixdfr']\").click()"
   ]
  },
  {
   "cell_type": "code",
   "execution_count": 5,
   "metadata": {},
   "outputs": [],
   "source": [
    "#Specifying the url of the webpage to be scraped\n",
    "url=\"https://www.glassdoor.co.in/Job/noida-data-scientist-jobs-SRCH_IL.0,5_IC4477468_KO6,20.htm\"\n",
    "driver.get(url)"
   ]
  },
  {
   "cell_type": "code",
   "execution_count": 6,
   "metadata": {},
   "outputs": [
    {
     "data": {
      "text/plain": [
       "[<selenium.webdriver.remote.webelement.WebElement (session=\"057eb275fad728dc2bcf854f0692684d\", element=\"d443a97f-93ea-4540-9258-91c1f26c0c02\")>,\n",
       " <selenium.webdriver.remote.webelement.WebElement (session=\"057eb275fad728dc2bcf854f0692684d\", element=\"00dee1b3-cd24-467a-98da-da60fb58594f\")>,\n",
       " <selenium.webdriver.remote.webelement.WebElement (session=\"057eb275fad728dc2bcf854f0692684d\", element=\"12ea748a-1b8c-429c-8b45-b355781fd673\")>,\n",
       " <selenium.webdriver.remote.webelement.WebElement (session=\"057eb275fad728dc2bcf854f0692684d\", element=\"a2b240e5-7337-45f6-848b-3ad42e47201b\")>,\n",
       " <selenium.webdriver.remote.webelement.WebElement (session=\"057eb275fad728dc2bcf854f0692684d\", element=\"eeaec384-d8a4-469a-b79b-3753dfd56805\")>,\n",
       " <selenium.webdriver.remote.webelement.WebElement (session=\"057eb275fad728dc2bcf854f0692684d\", element=\"ab598d36-9dd0-4e01-9e53-9dae86c9858e\")>,\n",
       " <selenium.webdriver.remote.webelement.WebElement (session=\"057eb275fad728dc2bcf854f0692684d\", element=\"8443ec57-f4ed-4e2e-89af-c676f6c7b0de\")>,\n",
       " <selenium.webdriver.remote.webelement.WebElement (session=\"057eb275fad728dc2bcf854f0692684d\", element=\"75a19ac9-ea37-4802-a54b-75b3304c51f6\")>,\n",
       " <selenium.webdriver.remote.webelement.WebElement (session=\"057eb275fad728dc2bcf854f0692684d\", element=\"9862d014-8b29-486b-9de7-01a81f1204b3\")>,\n",
       " <selenium.webdriver.remote.webelement.WebElement (session=\"057eb275fad728dc2bcf854f0692684d\", element=\"c1659ee1-8cbd-4300-878b-c7463ee3444c\")>,\n",
       " <selenium.webdriver.remote.webelement.WebElement (session=\"057eb275fad728dc2bcf854f0692684d\", element=\"38110459-74b5-4244-8aec-48cb23761502\")>,\n",
       " <selenium.webdriver.remote.webelement.WebElement (session=\"057eb275fad728dc2bcf854f0692684d\", element=\"65a0e7e4-6351-4cd4-a2bb-e84535d4b741\")>,\n",
       " <selenium.webdriver.remote.webelement.WebElement (session=\"057eb275fad728dc2bcf854f0692684d\", element=\"412a06e0-b499-49b4-9ebd-e5f24463ea2e\")>,\n",
       " <selenium.webdriver.remote.webelement.WebElement (session=\"057eb275fad728dc2bcf854f0692684d\", element=\"24d8c526-3de1-4cd7-9a8d-578d7d9bd82d\")>,\n",
       " <selenium.webdriver.remote.webelement.WebElement (session=\"057eb275fad728dc2bcf854f0692684d\", element=\"c1077c25-0233-406f-bab6-45933ad97229\")>,\n",
       " <selenium.webdriver.remote.webelement.WebElement (session=\"057eb275fad728dc2bcf854f0692684d\", element=\"d7e049ad-69a6-4994-89d5-59a4bc9ebc79\")>,\n",
       " <selenium.webdriver.remote.webelement.WebElement (session=\"057eb275fad728dc2bcf854f0692684d\", element=\"6831d5a8-79ec-4114-8ddc-35a53f5f8ec3\")>,\n",
       " <selenium.webdriver.remote.webelement.WebElement (session=\"057eb275fad728dc2bcf854f0692684d\", element=\"9a96bda4-a38b-435a-b370-93628ebdb08b\")>,\n",
       " <selenium.webdriver.remote.webelement.WebElement (session=\"057eb275fad728dc2bcf854f0692684d\", element=\"a890d1be-d1b2-4150-8227-8577327bdd26\")>,\n",
       " <selenium.webdriver.remote.webelement.WebElement (session=\"057eb275fad728dc2bcf854f0692684d\", element=\"4dc983c1-9090-4b5c-8c84-a10638cebc4e\")>,\n",
       " <selenium.webdriver.remote.webelement.WebElement (session=\"057eb275fad728dc2bcf854f0692684d\", element=\"3daf66dd-b406-4676-ac5f-12b9557d3885\")>,\n",
       " <selenium.webdriver.remote.webelement.WebElement (session=\"057eb275fad728dc2bcf854f0692684d\", element=\"de777cbb-25a6-4f6f-abf6-53e72e4112e7\")>,\n",
       " <selenium.webdriver.remote.webelement.WebElement (session=\"057eb275fad728dc2bcf854f0692684d\", element=\"5b3b9239-8d02-42a8-99b3-04bbd764a384\")>,\n",
       " <selenium.webdriver.remote.webelement.WebElement (session=\"057eb275fad728dc2bcf854f0692684d\", element=\"5634177e-a18d-4a65-953f-edbff84f89e9\")>,\n",
       " <selenium.webdriver.remote.webelement.WebElement (session=\"057eb275fad728dc2bcf854f0692684d\", element=\"d6ecf9b5-74bb-490d-9c5c-1c577a28bb7f\")>,\n",
       " <selenium.webdriver.remote.webelement.WebElement (session=\"057eb275fad728dc2bcf854f0692684d\", element=\"222920db-ae31-4f80-9b2d-d3adee71403b\")>,\n",
       " <selenium.webdriver.remote.webelement.WebElement (session=\"057eb275fad728dc2bcf854f0692684d\", element=\"84eeec01-16b9-4ba5-a243-8b8332c99a77\")>,\n",
       " <selenium.webdriver.remote.webelement.WebElement (session=\"057eb275fad728dc2bcf854f0692684d\", element=\"5b7183a0-758d-405f-b80d-a8980b53eba4\")>,\n",
       " <selenium.webdriver.remote.webelement.WebElement (session=\"057eb275fad728dc2bcf854f0692684d\", element=\"88218cda-3d45-45ae-a050-587658d3f1a2\")>,\n",
       " <selenium.webdriver.remote.webelement.WebElement (session=\"057eb275fad728dc2bcf854f0692684d\", element=\"3dacfe99-994d-4f71-856e-1e7b3e51612f\")>]"
      ]
     },
     "execution_count": 6,
     "metadata": {},
     "output_type": "execute_result"
    }
   ],
   "source": [
    "#Extracting the tags having the company name\n",
    "name=driver.find_elements_by_xpath(\"//div[@class='d-flex justify-content-between align-items-start']/a/span\")\n",
    "name"
   ]
  },
  {
   "cell_type": "code",
   "execution_count": 7,
   "metadata": {},
   "outputs": [
    {
     "data": {
      "text/plain": [
       "['Unyscape Infocom Pvt. Ltd',\n",
       " 'Biz2Credit Inc',\n",
       " 'Techlive',\n",
       " 'Adobe',\n",
       " 'Genpact',\n",
       " 'Salasar New Age Technologies',\n",
       " 'Asquero',\n",
       " 'Salasar New Age Technologies',\n",
       " 'CRMNEXT',\n",
       " 'Microsoft']"
      ]
     },
     "execution_count": 7,
     "metadata": {},
     "output_type": "execute_result"
    }
   ],
   "source": [
    "#Extracting the text from the tags\n",
    "company=[]  #Empty list\n",
    "\n",
    "#As we need to scrap data for the first 10 job results, we are running a for loop for first 10 results only\n",
    "for i in name[:10]:\n",
    "    company.append(i.text)\n",
    "company"
   ]
  },
  {
   "cell_type": "code",
   "execution_count": 8,
   "metadata": {},
   "outputs": [
    {
     "data": {
      "text/plain": [
       "[<selenium.webdriver.remote.webelement.WebElement (session=\"057eb275fad728dc2bcf854f0692684d\", element=\"8d5386a8-88b7-4063-9daf-eb9d9f412cee\")>,\n",
       " <selenium.webdriver.remote.webelement.WebElement (session=\"057eb275fad728dc2bcf854f0692684d\", element=\"0c2a0885-1b44-46dc-a835-fcb2bd849ba7\")>,\n",
       " <selenium.webdriver.remote.webelement.WebElement (session=\"057eb275fad728dc2bcf854f0692684d\", element=\"60955371-53b5-44fb-894e-1270f3bd6e49\")>,\n",
       " <selenium.webdriver.remote.webelement.WebElement (session=\"057eb275fad728dc2bcf854f0692684d\", element=\"a297469b-ef7e-4793-9528-a86b1663e74b\")>,\n",
       " <selenium.webdriver.remote.webelement.WebElement (session=\"057eb275fad728dc2bcf854f0692684d\", element=\"1d30465c-884e-4ce3-aac4-e2037d24c42a\")>,\n",
       " <selenium.webdriver.remote.webelement.WebElement (session=\"057eb275fad728dc2bcf854f0692684d\", element=\"365129bc-a7c3-47b8-a794-1e485647a79f\")>,\n",
       " <selenium.webdriver.remote.webelement.WebElement (session=\"057eb275fad728dc2bcf854f0692684d\", element=\"0af53dc1-3b86-4407-a56a-255755545440\")>,\n",
       " <selenium.webdriver.remote.webelement.WebElement (session=\"057eb275fad728dc2bcf854f0692684d\", element=\"22cecff5-aad2-4b2b-8e8b-b3ec9beca6b4\")>,\n",
       " <selenium.webdriver.remote.webelement.WebElement (session=\"057eb275fad728dc2bcf854f0692684d\", element=\"00391c5a-995a-4e9a-9ec0-b1c6aea08965\")>,\n",
       " <selenium.webdriver.remote.webelement.WebElement (session=\"057eb275fad728dc2bcf854f0692684d\", element=\"08cc657a-042f-4793-b3b2-c50378611065\")>,\n",
       " <selenium.webdriver.remote.webelement.WebElement (session=\"057eb275fad728dc2bcf854f0692684d\", element=\"47db57fd-102c-4f75-8437-c8ff0381965f\")>,\n",
       " <selenium.webdriver.remote.webelement.WebElement (session=\"057eb275fad728dc2bcf854f0692684d\", element=\"cbfeb741-01cc-464f-bea3-45a8639c9d8d\")>,\n",
       " <selenium.webdriver.remote.webelement.WebElement (session=\"057eb275fad728dc2bcf854f0692684d\", element=\"25f29f6b-45ec-44d7-b031-dacb5d45fd4f\")>,\n",
       " <selenium.webdriver.remote.webelement.WebElement (session=\"057eb275fad728dc2bcf854f0692684d\", element=\"702e2716-88af-499f-8b16-45c613849a5f\")>,\n",
       " <selenium.webdriver.remote.webelement.WebElement (session=\"057eb275fad728dc2bcf854f0692684d\", element=\"b4dd44ec-a538-4095-b928-2fc39de10600\")>,\n",
       " <selenium.webdriver.remote.webelement.WebElement (session=\"057eb275fad728dc2bcf854f0692684d\", element=\"05caf8b3-3fd4-4f37-a53a-e38bd16e65c4\")>,\n",
       " <selenium.webdriver.remote.webelement.WebElement (session=\"057eb275fad728dc2bcf854f0692684d\", element=\"d9d9197d-033c-4642-8ca3-54609bbb474e\")>,\n",
       " <selenium.webdriver.remote.webelement.WebElement (session=\"057eb275fad728dc2bcf854f0692684d\", element=\"c8205cef-df69-4c2b-b805-699b6c7c953e\")>,\n",
       " <selenium.webdriver.remote.webelement.WebElement (session=\"057eb275fad728dc2bcf854f0692684d\", element=\"a60c5983-59e7-4bd2-888e-3aa379f0a856\")>,\n",
       " <selenium.webdriver.remote.webelement.WebElement (session=\"057eb275fad728dc2bcf854f0692684d\", element=\"375a3269-7b5d-4706-816e-9174a3b7ea49\")>,\n",
       " <selenium.webdriver.remote.webelement.WebElement (session=\"057eb275fad728dc2bcf854f0692684d\", element=\"bbc4f272-bfd7-4013-b151-7029601c9f02\")>,\n",
       " <selenium.webdriver.remote.webelement.WebElement (session=\"057eb275fad728dc2bcf854f0692684d\", element=\"b495db2e-835b-4b12-ae2c-61b3f31f9803\")>,\n",
       " <selenium.webdriver.remote.webelement.WebElement (session=\"057eb275fad728dc2bcf854f0692684d\", element=\"033d1bf5-d008-4637-bf7a-827721cd0e6f\")>,\n",
       " <selenium.webdriver.remote.webelement.WebElement (session=\"057eb275fad728dc2bcf854f0692684d\", element=\"eb92d0af-693e-4992-9a09-361048cc6983\")>,\n",
       " <selenium.webdriver.remote.webelement.WebElement (session=\"057eb275fad728dc2bcf854f0692684d\", element=\"a1975fa0-a5b6-4de4-b0ac-79248b2b9920\")>,\n",
       " <selenium.webdriver.remote.webelement.WebElement (session=\"057eb275fad728dc2bcf854f0692684d\", element=\"1b03e23e-2666-4d79-86ea-e75b0419be51\")>,\n",
       " <selenium.webdriver.remote.webelement.WebElement (session=\"057eb275fad728dc2bcf854f0692684d\", element=\"5553a120-65a1-4e6b-af2e-6835fb03fc6c\")>,\n",
       " <selenium.webdriver.remote.webelement.WebElement (session=\"057eb275fad728dc2bcf854f0692684d\", element=\"f6a01e56-6425-4cc6-8d82-7dd2f9fd70fd\")>,\n",
       " <selenium.webdriver.remote.webelement.WebElement (session=\"057eb275fad728dc2bcf854f0692684d\", element=\"ec5e629f-b848-452f-a7e9-011c1361d219\")>,\n",
       " <selenium.webdriver.remote.webelement.WebElement (session=\"057eb275fad728dc2bcf854f0692684d\", element=\"de9e762c-0246-4a46-9a7e-eeec2d20cd66\")>]"
      ]
     },
     "execution_count": 8,
     "metadata": {},
     "output_type": "execute_result"
    }
   ],
   "source": [
    "#Extracting the tags having the no of days when job was posted\n",
    "days=driver.find_elements_by_xpath(\"//div[@class='d-flex align-items-end pl-std css-mi55ob']\")\n",
    "days"
   ]
  },
  {
   "cell_type": "code",
   "execution_count": 9,
   "metadata": {},
   "outputs": [
    {
     "data": {
      "text/plain": [
       "['30 days ago+',\n",
       " '30 days ago+',\n",
       " '30 days ago+',\n",
       " '7 days ago',\n",
       " '2 days ago',\n",
       " '30 days ago+',\n",
       " '8 days ago',\n",
       " '30 days ago+',\n",
       " '13 days ago',\n",
       " '30 days ago+']"
      ]
     },
     "execution_count": 9,
     "metadata": {},
     "output_type": "execute_result"
    }
   ],
   "source": [
    "#Extracting the text from the tags\n",
    "no_of_days=[]  #Empty list\n",
    "\n",
    "#As we need to scrap data for the first 10 job results, we are running a for loop for first 10 results only\n",
    "for i in days[:10]:\n",
    "    no_of_days.append(i.text.replace('d',' days ago'))\n",
    "no_of_days"
   ]
  },
  {
   "cell_type": "code",
   "execution_count": 10,
   "metadata": {},
   "outputs": [
    {
     "data": {
      "text/plain": [
       "[<selenium.webdriver.remote.webelement.WebElement (session=\"057eb275fad728dc2bcf854f0692684d\", element=\"039b2e8e-d039-4feb-9b4f-f98373b0143b\")>,\n",
       " <selenium.webdriver.remote.webelement.WebElement (session=\"057eb275fad728dc2bcf854f0692684d\", element=\"a0102244-9f05-4ff7-829b-e13314fa11a8\")>,\n",
       " <selenium.webdriver.remote.webelement.WebElement (session=\"057eb275fad728dc2bcf854f0692684d\", element=\"4785c69b-4151-492b-8ab6-110ed6a014bf\")>,\n",
       " <selenium.webdriver.remote.webelement.WebElement (session=\"057eb275fad728dc2bcf854f0692684d\", element=\"c1ac3a7a-2025-4fd9-939a-fbfcc98307d2\")>,\n",
       " <selenium.webdriver.remote.webelement.WebElement (session=\"057eb275fad728dc2bcf854f0692684d\", element=\"137bfee7-2bbb-47b7-9610-82b2c0cedd85\")>,\n",
       " <selenium.webdriver.remote.webelement.WebElement (session=\"057eb275fad728dc2bcf854f0692684d\", element=\"75384cee-10d3-4a7f-ab18-a1db4f9d2952\")>,\n",
       " <selenium.webdriver.remote.webelement.WebElement (session=\"057eb275fad728dc2bcf854f0692684d\", element=\"6c7ff8d4-334f-4496-a7df-2ae3e8abc49e\")>,\n",
       " <selenium.webdriver.remote.webelement.WebElement (session=\"057eb275fad728dc2bcf854f0692684d\", element=\"a5e336db-9a09-4fbe-8255-d0d4868f65bb\")>,\n",
       " <selenium.webdriver.remote.webelement.WebElement (session=\"057eb275fad728dc2bcf854f0692684d\", element=\"c084fd5c-13b7-42c5-9970-a21a5e8ff294\")>,\n",
       " <selenium.webdriver.remote.webelement.WebElement (session=\"057eb275fad728dc2bcf854f0692684d\", element=\"dead9de0-6ef5-418f-9c2c-247414abd7c4\")>,\n",
       " <selenium.webdriver.remote.webelement.WebElement (session=\"057eb275fad728dc2bcf854f0692684d\", element=\"b09dd150-7e5e-488b-9965-53622d68c857\")>,\n",
       " <selenium.webdriver.remote.webelement.WebElement (session=\"057eb275fad728dc2bcf854f0692684d\", element=\"8fa01d19-7519-4deb-98a7-c79ecf7c5db1\")>,\n",
       " <selenium.webdriver.remote.webelement.WebElement (session=\"057eb275fad728dc2bcf854f0692684d\", element=\"7f45654d-14ad-4682-a18f-c52dbcb66d55\")>,\n",
       " <selenium.webdriver.remote.webelement.WebElement (session=\"057eb275fad728dc2bcf854f0692684d\", element=\"fa92331b-cdbb-4940-9b20-76b78c428003\")>,\n",
       " <selenium.webdriver.remote.webelement.WebElement (session=\"057eb275fad728dc2bcf854f0692684d\", element=\"05346669-91e6-4d6d-af81-1e40a6658286\")>,\n",
       " <selenium.webdriver.remote.webelement.WebElement (session=\"057eb275fad728dc2bcf854f0692684d\", element=\"3f7ab31a-cce8-4042-ae72-c0228fef5c7a\")>,\n",
       " <selenium.webdriver.remote.webelement.WebElement (session=\"057eb275fad728dc2bcf854f0692684d\", element=\"781e8499-6325-4d98-96bb-bfc37c59b2ae\")>,\n",
       " <selenium.webdriver.remote.webelement.WebElement (session=\"057eb275fad728dc2bcf854f0692684d\", element=\"6c9c00cc-e28e-437a-b383-ddcff1455134\")>,\n",
       " <selenium.webdriver.remote.webelement.WebElement (session=\"057eb275fad728dc2bcf854f0692684d\", element=\"f0f52862-fa03-4ab4-b15c-5ee0a9e86e56\")>]"
      ]
     },
     "execution_count": 10,
     "metadata": {},
     "output_type": "execute_result"
    }
   ],
   "source": [
    "#Extracting the tags having the rating of the company\n",
    "rating=driver.find_elements_by_xpath(\"//span[@class='css-19pjha7 e1cjmv6j1']\")\n",
    "rating"
   ]
  },
  {
   "cell_type": "code",
   "execution_count": 11,
   "metadata": {},
   "outputs": [
    {
     "data": {
      "text/plain": [
       "['4.1', '3.8', '5.0', '4.4', '3.8', '5.0', '3.5', '4.4', '3.9', '3.0']"
      ]
     },
     "execution_count": 11,
     "metadata": {},
     "output_type": "execute_result"
    }
   ],
   "source": [
    "#Extracting the text from the tags\n",
    "ratings=[]  #Empty list\n",
    "\n",
    "#As we need to scrap data for the first 10 job results, we are running a for loop for first 10 results only\n",
    "for i in rating[:10]:\n",
    "    ratings.append(i.text)\n",
    "ratings"
   ]
  },
  {
   "cell_type": "code",
   "execution_count": 12,
   "metadata": {},
   "outputs": [
    {
     "name": "stdout",
     "output_type": "stream",
     "text": [
      "10 10 10\n"
     ]
    }
   ],
   "source": [
    "#Checking out the length of the data extracted\n",
    "print(len(company),len(no_of_days),len(ratings))"
   ]
  },
  {
   "cell_type": "code",
   "execution_count": 13,
   "metadata": {},
   "outputs": [
    {
     "data": {
      "text/html": [
       "<div>\n",
       "<style scoped>\n",
       "    .dataframe tbody tr th:only-of-type {\n",
       "        vertical-align: middle;\n",
       "    }\n",
       "\n",
       "    .dataframe tbody tr th {\n",
       "        vertical-align: top;\n",
       "    }\n",
       "\n",
       "    .dataframe thead th {\n",
       "        text-align: right;\n",
       "    }\n",
       "</style>\n",
       "<table border=\"1\" class=\"dataframe\">\n",
       "  <thead>\n",
       "    <tr style=\"text-align: right;\">\n",
       "      <th></th>\n",
       "      <th>Company name</th>\n",
       "      <th>Days posted</th>\n",
       "      <th>Rating of the company</th>\n",
       "    </tr>\n",
       "  </thead>\n",
       "  <tbody>\n",
       "    <tr>\n",
       "      <th>0</th>\n",
       "      <td>Unyscape Infocom Pvt. Ltd</td>\n",
       "      <td>30 days ago+</td>\n",
       "      <td>4.1</td>\n",
       "    </tr>\n",
       "    <tr>\n",
       "      <th>1</th>\n",
       "      <td>Biz2Credit Inc</td>\n",
       "      <td>30 days ago+</td>\n",
       "      <td>3.8</td>\n",
       "    </tr>\n",
       "    <tr>\n",
       "      <th>2</th>\n",
       "      <td>Techlive</td>\n",
       "      <td>30 days ago+</td>\n",
       "      <td>5.0</td>\n",
       "    </tr>\n",
       "    <tr>\n",
       "      <th>3</th>\n",
       "      <td>Adobe</td>\n",
       "      <td>7 days ago</td>\n",
       "      <td>4.4</td>\n",
       "    </tr>\n",
       "    <tr>\n",
       "      <th>4</th>\n",
       "      <td>Genpact</td>\n",
       "      <td>2 days ago</td>\n",
       "      <td>3.8</td>\n",
       "    </tr>\n",
       "    <tr>\n",
       "      <th>5</th>\n",
       "      <td>Salasar New Age Technologies</td>\n",
       "      <td>30 days ago+</td>\n",
       "      <td>5.0</td>\n",
       "    </tr>\n",
       "    <tr>\n",
       "      <th>6</th>\n",
       "      <td>Asquero</td>\n",
       "      <td>8 days ago</td>\n",
       "      <td>3.5</td>\n",
       "    </tr>\n",
       "    <tr>\n",
       "      <th>7</th>\n",
       "      <td>Salasar New Age Technologies</td>\n",
       "      <td>30 days ago+</td>\n",
       "      <td>4.4</td>\n",
       "    </tr>\n",
       "    <tr>\n",
       "      <th>8</th>\n",
       "      <td>CRMNEXT</td>\n",
       "      <td>13 days ago</td>\n",
       "      <td>3.9</td>\n",
       "    </tr>\n",
       "    <tr>\n",
       "      <th>9</th>\n",
       "      <td>Microsoft</td>\n",
       "      <td>30 days ago+</td>\n",
       "      <td>3.0</td>\n",
       "    </tr>\n",
       "  </tbody>\n",
       "</table>\n",
       "</div>"
      ],
      "text/plain": [
       "                   Company name   Days posted Rating of the company\n",
       "0     Unyscape Infocom Pvt. Ltd  30 days ago+                   4.1\n",
       "1                Biz2Credit Inc  30 days ago+                   3.8\n",
       "2                      Techlive  30 days ago+                   5.0\n",
       "3                         Adobe    7 days ago                   4.4\n",
       "4                       Genpact    2 days ago                   3.8\n",
       "5  Salasar New Age Technologies  30 days ago+                   5.0\n",
       "6                       Asquero    8 days ago                   3.5\n",
       "7  Salasar New Age Technologies  30 days ago+                   4.4\n",
       "8                       CRMNEXT   13 days ago                   3.9\n",
       "9                     Microsoft  30 days ago+                   3.0"
      ]
     },
     "execution_count": 13,
     "metadata": {},
     "output_type": "execute_result"
    }
   ],
   "source": [
    "#Creating a new dataframe for saving the data\n",
    "jobs=pd.DataFrame({})\n",
    "jobs['Company name']=company\n",
    "jobs['Days posted']=no_of_days\n",
    "jobs['Rating of the company']=ratings\n",
    "jobs"
   ]
  },
  {
   "cell_type": "code",
   "execution_count": 14,
   "metadata": {},
   "outputs": [],
   "source": [
    "#Saving the data to a csv file\n",
    "jobs.to_csv('Glassdoor_DS jobs.csv')"
   ]
  },
  {
   "cell_type": "code",
   "execution_count": 15,
   "metadata": {},
   "outputs": [],
   "source": [
    "#Closing the driver\n",
    "driver.close()"
   ]
  },
  {
   "cell_type": "markdown",
   "metadata": {},
   "source": [
    "# Q5: Write a python program to scrape the salary data for Data Scientist designation in Noida location.You have to scrape Company name, Number of salaries, Average salary, Min salary, Max Salary."
   ]
  },
  {
   "cell_type": "markdown",
   "metadata": {},
   "source": [
    "The above task will be, done as shown in the below steps:\n",
    "1. First get the webpage https://www.glassdoor.co.in/Salaries/index.htm\n",
    "2. Enter “Data Scientist” in Job title field and “Noida” in location field.\n",
    "3. Click the search button.\n",
    "4. After that you will land on the page.\n",
    "5. You have to scrape whole data from this webpage\n",
    "6. Scrape data for first 10 companies. Scrape the min salary, max salary, company name, Average salary and rating of the company.\n",
    "7. Store the data in a dataframe."
   ]
  },
  {
   "cell_type": "code",
   "execution_count": 16,
   "metadata": {},
   "outputs": [],
   "source": [
    "#Connect to web driver\n",
    "driver=webdriver.Chrome(r\"D://chromedriver.exe\")  #r converts string to raw string\n",
    "#If not r, we can use executable_path = \"C:/path name\""
   ]
  },
  {
   "cell_type": "code",
   "execution_count": 17,
   "metadata": {},
   "outputs": [],
   "source": [
    "#Getting the website to driver\n",
    "driver.get('https://www.glassdoor.co.in/Salaries/index.htm')\n",
    "\n",
    "#When we run this line, automatically the webpage will be opened"
   ]
  },
  {
   "cell_type": "code",
   "execution_count": 18,
   "metadata": {},
   "outputs": [],
   "source": [
    "#Finding the required elements from the search bars of job and location\n",
    "job_search=driver.find_element_by_id('KeywordSearch')\n",
    "location_search=driver.find_element_by_id('LocationSearch')\n",
    "\n",
    "#Sending the inputs to the webpage\n",
    "job_search.send_keys(\"Data Scientist\")\n",
    "location_search.send_keys(\"Noida\")\n",
    "\n",
    "#Searching the inputs by using the search button and clicking it\n",
    "driver.find_element_by_xpath(\"//button[@class='gd-btn-mkt']\").click()"
   ]
  },
  {
   "cell_type": "code",
   "execution_count": 19,
   "metadata": {},
   "outputs": [],
   "source": [
    "#Specifying the url of the webpage to be scraped\n",
    "url=\"https://www.glassdoor.co.in/Salaries/new-delhi-data-scientist-salary-SRCH_IL.0,9_IM1083_KO10,24.htm?clickSource=searchBtn\"\n",
    "driver.get(url)"
   ]
  },
  {
   "cell_type": "code",
   "execution_count": 20,
   "metadata": {},
   "outputs": [
    {
     "data": {
      "text/plain": [
       "[<selenium.webdriver.remote.webelement.WebElement (session=\"8d20da93b52e30a1367db7476b4e0e89\", element=\"661080eb-675c-4643-a441-c679860d1408\")>,\n",
       " <selenium.webdriver.remote.webelement.WebElement (session=\"8d20da93b52e30a1367db7476b4e0e89\", element=\"f627e8e3-fcda-46f6-a788-6c74857daca3\")>,\n",
       " <selenium.webdriver.remote.webelement.WebElement (session=\"8d20da93b52e30a1367db7476b4e0e89\", element=\"0a227e0c-6272-40f7-8f26-edf7e471fb8b\")>,\n",
       " <selenium.webdriver.remote.webelement.WebElement (session=\"8d20da93b52e30a1367db7476b4e0e89\", element=\"c053a933-5cdc-4971-b685-97c75de4f579\")>,\n",
       " <selenium.webdriver.remote.webelement.WebElement (session=\"8d20da93b52e30a1367db7476b4e0e89\", element=\"c911653f-3806-4d07-ab55-b4356890bbaf\")>,\n",
       " <selenium.webdriver.remote.webelement.WebElement (session=\"8d20da93b52e30a1367db7476b4e0e89\", element=\"26128f83-e967-47d2-871f-e7e6bf3859ed\")>,\n",
       " <selenium.webdriver.remote.webelement.WebElement (session=\"8d20da93b52e30a1367db7476b4e0e89\", element=\"28ed1cfc-7112-4065-a242-aba479e0f536\")>,\n",
       " <selenium.webdriver.remote.webelement.WebElement (session=\"8d20da93b52e30a1367db7476b4e0e89\", element=\"57fd225c-21a3-451d-a1b1-724ebe450951\")>,\n",
       " <selenium.webdriver.remote.webelement.WebElement (session=\"8d20da93b52e30a1367db7476b4e0e89\", element=\"337b57bf-c8ca-4e16-a110-d51b2d95d951\")>,\n",
       " <selenium.webdriver.remote.webelement.WebElement (session=\"8d20da93b52e30a1367db7476b4e0e89\", element=\"dbe38763-7a92-4a36-81d0-6103e47937cb\")>,\n",
       " <selenium.webdriver.remote.webelement.WebElement (session=\"8d20da93b52e30a1367db7476b4e0e89\", element=\"c043ba89-2c5e-492b-ba54-66b7526547fd\")>,\n",
       " <selenium.webdriver.remote.webelement.WebElement (session=\"8d20da93b52e30a1367db7476b4e0e89\", element=\"5a5d0178-f609-4207-b48c-0586051112a8\")>,\n",
       " <selenium.webdriver.remote.webelement.WebElement (session=\"8d20da93b52e30a1367db7476b4e0e89\", element=\"17b02795-10f3-4dcf-be2c-862d1c412351\")>,\n",
       " <selenium.webdriver.remote.webelement.WebElement (session=\"8d20da93b52e30a1367db7476b4e0e89\", element=\"a59771a4-fc64-4772-915e-6267fed84ddd\")>,\n",
       " <selenium.webdriver.remote.webelement.WebElement (session=\"8d20da93b52e30a1367db7476b4e0e89\", element=\"3ac4b32e-4f1c-4191-8b88-47458034d3c7\")>,\n",
       " <selenium.webdriver.remote.webelement.WebElement (session=\"8d20da93b52e30a1367db7476b4e0e89\", element=\"c8189559-1070-495c-9623-4d495f42dc3e\")>,\n",
       " <selenium.webdriver.remote.webelement.WebElement (session=\"8d20da93b52e30a1367db7476b4e0e89\", element=\"ea68300a-b1df-48ca-8846-1e4d04fe0309\")>,\n",
       " <selenium.webdriver.remote.webelement.WebElement (session=\"8d20da93b52e30a1367db7476b4e0e89\", element=\"607d5c49-3151-4df6-99ee-b616b3c16c7a\")>,\n",
       " <selenium.webdriver.remote.webelement.WebElement (session=\"8d20da93b52e30a1367db7476b4e0e89\", element=\"0d947f94-613b-4bca-a8a6-b2f5e5591476\")>,\n",
       " <selenium.webdriver.remote.webelement.WebElement (session=\"8d20da93b52e30a1367db7476b4e0e89\", element=\"1d88ca01-6d5d-46e0-80f5-749aa31fa908\")>]"
      ]
     },
     "execution_count": 20,
     "metadata": {},
     "output_type": "execute_result"
    }
   ],
   "source": [
    "#Extracting the tags having the company name\n",
    "comp_name=driver.find_elements_by_xpath(\"//div[@class='d-flex']/div[2]/p[2]\")\n",
    "comp_name"
   ]
  },
  {
   "cell_type": "code",
   "execution_count": 21,
   "metadata": {},
   "outputs": [
    {
     "data": {
      "text/plain": [
       "['Tata Consultancy Services',\n",
       " 'Accenture',\n",
       " 'Delhivery',\n",
       " 'IBM',\n",
       " 'Ericsson-Worldwide',\n",
       " 'UnitedHealth Group',\n",
       " 'Valiance Solutions',\n",
       " 'Innovaccer',\n",
       " 'ZS Associates',\n",
       " 'EXL Service']"
      ]
     },
     "execution_count": 21,
     "metadata": {},
     "output_type": "execute_result"
    }
   ],
   "source": [
    "#Extracting the text from the tags\n",
    "company=[]  #Empty list\n",
    "\n",
    "#As we need to scrap data for the first 10 job results, we are running a for loop for first 10 results only\n",
    "for i in comp_name[:10]:\n",
    "    company.append(i.text)\n",
    "company"
   ]
  },
  {
   "cell_type": "code",
   "execution_count": 22,
   "metadata": {},
   "outputs": [
    {
     "data": {
      "text/plain": [
       "[<selenium.webdriver.remote.webelement.WebElement (session=\"8d20da93b52e30a1367db7476b4e0e89\", element=\"d935832a-bb6b-4372-abd2-362d776688fe\")>,\n",
       " <selenium.webdriver.remote.webelement.WebElement (session=\"8d20da93b52e30a1367db7476b4e0e89\", element=\"033dd789-210f-4f3c-acb5-0e4f653c4fb2\")>,\n",
       " <selenium.webdriver.remote.webelement.WebElement (session=\"8d20da93b52e30a1367db7476b4e0e89\", element=\"f00f82b8-348f-402d-9090-7890fe0cfda1\")>,\n",
       " <selenium.webdriver.remote.webelement.WebElement (session=\"8d20da93b52e30a1367db7476b4e0e89\", element=\"86fe7c26-c185-4bdc-a3cc-5813607d5878\")>,\n",
       " <selenium.webdriver.remote.webelement.WebElement (session=\"8d20da93b52e30a1367db7476b4e0e89\", element=\"b73d7dc2-b26f-4d6f-bf41-dca248c33495\")>,\n",
       " <selenium.webdriver.remote.webelement.WebElement (session=\"8d20da93b52e30a1367db7476b4e0e89\", element=\"e6e7135c-89c6-43f0-aaf0-cfdf602f9e0a\")>,\n",
       " <selenium.webdriver.remote.webelement.WebElement (session=\"8d20da93b52e30a1367db7476b4e0e89\", element=\"ee8d0553-29b4-4b23-9cc1-1271c9f7f23c\")>,\n",
       " <selenium.webdriver.remote.webelement.WebElement (session=\"8d20da93b52e30a1367db7476b4e0e89\", element=\"5a0b424c-81f9-413e-9aa6-12fb82d06445\")>,\n",
       " <selenium.webdriver.remote.webelement.WebElement (session=\"8d20da93b52e30a1367db7476b4e0e89\", element=\"efbef415-af13-4795-9e5a-8577650ae780\")>,\n",
       " <selenium.webdriver.remote.webelement.WebElement (session=\"8d20da93b52e30a1367db7476b4e0e89\", element=\"f72ce399-c70d-454d-b70f-02da60ce95c5\")>,\n",
       " <selenium.webdriver.remote.webelement.WebElement (session=\"8d20da93b52e30a1367db7476b4e0e89\", element=\"cb9e4c18-b328-47c4-8609-8e2aa1a02795\")>,\n",
       " <selenium.webdriver.remote.webelement.WebElement (session=\"8d20da93b52e30a1367db7476b4e0e89\", element=\"8743806c-2194-4e8f-a3d8-c512d31aa0d2\")>,\n",
       " <selenium.webdriver.remote.webelement.WebElement (session=\"8d20da93b52e30a1367db7476b4e0e89\", element=\"2e014dc0-7921-4f06-8100-87ee1c097bd2\")>,\n",
       " <selenium.webdriver.remote.webelement.WebElement (session=\"8d20da93b52e30a1367db7476b4e0e89\", element=\"e2ba6a14-ee30-4b64-8f9b-cc1598fa843d\")>,\n",
       " <selenium.webdriver.remote.webelement.WebElement (session=\"8d20da93b52e30a1367db7476b4e0e89\", element=\"c47c6f47-c5ab-4dca-8079-03010b6b110f\")>,\n",
       " <selenium.webdriver.remote.webelement.WebElement (session=\"8d20da93b52e30a1367db7476b4e0e89\", element=\"ceeb0d48-6129-485b-803a-f4bf8f45f798\")>,\n",
       " <selenium.webdriver.remote.webelement.WebElement (session=\"8d20da93b52e30a1367db7476b4e0e89\", element=\"f29937e8-19b8-4bc8-b63e-6776127a86a7\")>,\n",
       " <selenium.webdriver.remote.webelement.WebElement (session=\"8d20da93b52e30a1367db7476b4e0e89\", element=\"629495d1-7e52-4d52-8d9f-bdda65a04bcf\")>,\n",
       " <selenium.webdriver.remote.webelement.WebElement (session=\"8d20da93b52e30a1367db7476b4e0e89\", element=\"3937cce7-3ffd-4990-9e8a-f71af934eefb\")>,\n",
       " <selenium.webdriver.remote.webelement.WebElement (session=\"8d20da93b52e30a1367db7476b4e0e89\", element=\"0a972587-a47a-4bf4-95f0-c68ac7758ea0\")>]"
      ]
     },
     "execution_count": 22,
     "metadata": {},
     "output_type": "execute_result"
    }
   ],
   "source": [
    "#Extracting the tags having the number of salaries\n",
    "no_salaries=driver.find_elements_by_xpath(\"//div[@class='d-flex']/div[2]/p[5]\")\n",
    "no_salaries"
   ]
  },
  {
   "cell_type": "code",
   "execution_count": 23,
   "metadata": {},
   "outputs": [
    {
     "data": {
      "text/plain": [
       "['14 salaries',\n",
       " '14 salaries',\n",
       " '14 salaries',\n",
       " '13 salaries',\n",
       " '12 salaries',\n",
       " '10 salaries',\n",
       " '9 salaries',\n",
       " '8 salaries',\n",
       " '7 salaries',\n",
       " '7 salaries']"
      ]
     },
     "execution_count": 23,
     "metadata": {},
     "output_type": "execute_result"
    }
   ],
   "source": [
    "#Extracting the text from the tags\n",
    "no_of_salaries=[]  #Empty list\n",
    "\n",
    "#As we need to scrap data for the first 10 job results, we are running a for loop for first 10 results only\n",
    "for i in no_salaries[:10]:\n",
    "    no_of_salaries.append(i.text)\n",
    "no_of_salaries"
   ]
  },
  {
   "cell_type": "code",
   "execution_count": 24,
   "metadata": {},
   "outputs": [
    {
     "data": {
      "text/plain": [
       "[<selenium.webdriver.remote.webelement.WebElement (session=\"8d20da93b52e30a1367db7476b4e0e89\", element=\"c9ebfd52-1a30-4dad-b9cd-93613b6263ff\")>,\n",
       " <selenium.webdriver.remote.webelement.WebElement (session=\"8d20da93b52e30a1367db7476b4e0e89\", element=\"d8a24299-46ca-472a-ae10-634d32a3b669\")>,\n",
       " <selenium.webdriver.remote.webelement.WebElement (session=\"8d20da93b52e30a1367db7476b4e0e89\", element=\"7fbc3e48-e527-424d-8e62-e4104ecad95a\")>,\n",
       " <selenium.webdriver.remote.webelement.WebElement (session=\"8d20da93b52e30a1367db7476b4e0e89\", element=\"c2f70a3b-77af-4b3e-9781-9bbae93ee04f\")>,\n",
       " <selenium.webdriver.remote.webelement.WebElement (session=\"8d20da93b52e30a1367db7476b4e0e89\", element=\"5fe84e41-21b1-4c22-bdc7-1e81670c3c00\")>,\n",
       " <selenium.webdriver.remote.webelement.WebElement (session=\"8d20da93b52e30a1367db7476b4e0e89\", element=\"420d785a-dace-400f-9b98-b0c038958e77\")>,\n",
       " <selenium.webdriver.remote.webelement.WebElement (session=\"8d20da93b52e30a1367db7476b4e0e89\", element=\"9fe4bbf8-deb2-460c-bc18-42d0ed583099\")>,\n",
       " <selenium.webdriver.remote.webelement.WebElement (session=\"8d20da93b52e30a1367db7476b4e0e89\", element=\"0df785c7-c30b-4bcf-8f40-06e5346c55cd\")>,\n",
       " <selenium.webdriver.remote.webelement.WebElement (session=\"8d20da93b52e30a1367db7476b4e0e89\", element=\"baeb90c4-0e39-4938-aa79-37ec40ef2aa2\")>,\n",
       " <selenium.webdriver.remote.webelement.WebElement (session=\"8d20da93b52e30a1367db7476b4e0e89\", element=\"b33ff731-b439-4da4-8463-afda39c11e60\")>,\n",
       " <selenium.webdriver.remote.webelement.WebElement (session=\"8d20da93b52e30a1367db7476b4e0e89\", element=\"c608deed-00b8-47fd-8043-ebd3f288cf2b\")>,\n",
       " <selenium.webdriver.remote.webelement.WebElement (session=\"8d20da93b52e30a1367db7476b4e0e89\", element=\"d3b88ab6-0004-4b4f-91e6-6e7372e48297\")>,\n",
       " <selenium.webdriver.remote.webelement.WebElement (session=\"8d20da93b52e30a1367db7476b4e0e89\", element=\"5ef5ba90-fe45-41df-bf50-5a5671987194\")>,\n",
       " <selenium.webdriver.remote.webelement.WebElement (session=\"8d20da93b52e30a1367db7476b4e0e89\", element=\"b67402b7-8f2b-47ec-9382-1efa7d2c4d5e\")>,\n",
       " <selenium.webdriver.remote.webelement.WebElement (session=\"8d20da93b52e30a1367db7476b4e0e89\", element=\"92e4f41c-f6fa-430d-96e9-4402bc8f01e3\")>,\n",
       " <selenium.webdriver.remote.webelement.WebElement (session=\"8d20da93b52e30a1367db7476b4e0e89\", element=\"2e4e93a8-3883-4f62-907e-0d73d52ea87f\")>,\n",
       " <selenium.webdriver.remote.webelement.WebElement (session=\"8d20da93b52e30a1367db7476b4e0e89\", element=\"88a365ec-24b8-4a89-9b70-ebac02f76307\")>,\n",
       " <selenium.webdriver.remote.webelement.WebElement (session=\"8d20da93b52e30a1367db7476b4e0e89\", element=\"27ed1c73-dc9b-4035-94da-cabb2a37d657\")>,\n",
       " <selenium.webdriver.remote.webelement.WebElement (session=\"8d20da93b52e30a1367db7476b4e0e89\", element=\"d069fd61-29c8-459c-a2b1-9fae1bb3851f\")>,\n",
       " <selenium.webdriver.remote.webelement.WebElement (session=\"8d20da93b52e30a1367db7476b4e0e89\", element=\"80331c9c-bebf-4a06-998d-4422a422808f\")>]"
      ]
     },
     "execution_count": 24,
     "metadata": {},
     "output_type": "execute_result"
    }
   ],
   "source": [
    "#Extracting the tags having average salary\n",
    "avg_sal=driver.find_elements_by_xpath(\"//div[@class='col-2 d-none d-md-flex flex-row justify-content-end']\")\n",
    "avg_sal"
   ]
  },
  {
   "cell_type": "code",
   "execution_count": 25,
   "metadata": {},
   "outputs": [
    {
     "data": {
      "text/plain": [
       "['₹ 6,01,000/yr',\n",
       " '₹ 11,51,207/yr',\n",
       " '₹ 12,34,207/yr',\n",
       " '₹ 7,63,825/yr',\n",
       " '₹ 7,32,209/yr',\n",
       " '₹ 13,88,910/yr',\n",
       " '₹ 8,18,515/yr',\n",
       " '₹ 12,01,403/yr',\n",
       " '₹ 10,00,000/yr',\n",
       " '₹ 11,90,000/yr']"
      ]
     },
     "execution_count": 25,
     "metadata": {},
     "output_type": "execute_result"
    }
   ],
   "source": [
    "#Extracting the text from the tags\n",
    "avg_salary=[]  #Empty list\n",
    "\n",
    "#As we need to scrap data for the first 10 job results, we are running a for loop for first 10 results only\n",
    "for i in avg_sal[:10]:\n",
    "    avg_salary.append(i.text.replace('\\n',''))\n",
    "avg_salary"
   ]
  },
  {
   "cell_type": "code",
   "execution_count": 26,
   "metadata": {},
   "outputs": [
    {
     "data": {
      "text/plain": [
       "[<selenium.webdriver.remote.webelement.WebElement (session=\"8d20da93b52e30a1367db7476b4e0e89\", element=\"0fd55428-4a14-4976-903e-a8776814bde7\")>,\n",
       " <selenium.webdriver.remote.webelement.WebElement (session=\"8d20da93b52e30a1367db7476b4e0e89\", element=\"dbfb5ab0-bc06-4977-ae9c-da51a9b0b073\")>,\n",
       " <selenium.webdriver.remote.webelement.WebElement (session=\"8d20da93b52e30a1367db7476b4e0e89\", element=\"fd3d7422-3d03-4e44-b8ad-14789ae3719d\")>,\n",
       " <selenium.webdriver.remote.webelement.WebElement (session=\"8d20da93b52e30a1367db7476b4e0e89\", element=\"0a6ce916-2fe4-4a42-8bfc-5a42a1ca9618\")>,\n",
       " <selenium.webdriver.remote.webelement.WebElement (session=\"8d20da93b52e30a1367db7476b4e0e89\", element=\"09196f8f-16d0-4650-889a-9510c5ffc633\")>,\n",
       " <selenium.webdriver.remote.webelement.WebElement (session=\"8d20da93b52e30a1367db7476b4e0e89\", element=\"1197ed84-5ca2-46aa-9d6f-bce55da9186c\")>,\n",
       " <selenium.webdriver.remote.webelement.WebElement (session=\"8d20da93b52e30a1367db7476b4e0e89\", element=\"2915e4f5-5370-471d-994f-f361149be903\")>,\n",
       " <selenium.webdriver.remote.webelement.WebElement (session=\"8d20da93b52e30a1367db7476b4e0e89\", element=\"fb079498-293e-4b3d-a642-74de94136335\")>,\n",
       " <selenium.webdriver.remote.webelement.WebElement (session=\"8d20da93b52e30a1367db7476b4e0e89\", element=\"61c84a5d-ef22-4a61-92e3-30bb461b0a7a\")>,\n",
       " <selenium.webdriver.remote.webelement.WebElement (session=\"8d20da93b52e30a1367db7476b4e0e89\", element=\"a1b9c70c-1f6a-47c4-91c0-78833265f9b9\")>,\n",
       " <selenium.webdriver.remote.webelement.WebElement (session=\"8d20da93b52e30a1367db7476b4e0e89\", element=\"44b48815-3aea-48e4-aa5d-a487191da340\")>,\n",
       " <selenium.webdriver.remote.webelement.WebElement (session=\"8d20da93b52e30a1367db7476b4e0e89\", element=\"9dcf87c2-f3b8-4a44-b2ce-d62a9c6e5c86\")>,\n",
       " <selenium.webdriver.remote.webelement.WebElement (session=\"8d20da93b52e30a1367db7476b4e0e89\", element=\"1078ac42-e818-487b-9b0f-b6eae34d935a\")>,\n",
       " <selenium.webdriver.remote.webelement.WebElement (session=\"8d20da93b52e30a1367db7476b4e0e89\", element=\"bff8b1e1-8a69-491f-b5a6-c8ca0aaa8a8e\")>,\n",
       " <selenium.webdriver.remote.webelement.WebElement (session=\"8d20da93b52e30a1367db7476b4e0e89\", element=\"9e59c474-f3b9-4991-a091-2b16dc14820f\")>,\n",
       " <selenium.webdriver.remote.webelement.WebElement (session=\"8d20da93b52e30a1367db7476b4e0e89\", element=\"9e4c4042-b7ae-4f6d-b40d-b22a4c8fb3e8\")>,\n",
       " <selenium.webdriver.remote.webelement.WebElement (session=\"8d20da93b52e30a1367db7476b4e0e89\", element=\"fbf305c9-7dce-4efc-b261-74891245efd1\")>,\n",
       " <selenium.webdriver.remote.webelement.WebElement (session=\"8d20da93b52e30a1367db7476b4e0e89\", element=\"d60d96be-d9d6-48a7-b883-3c8e0744a93e\")>,\n",
       " <selenium.webdriver.remote.webelement.WebElement (session=\"8d20da93b52e30a1367db7476b4e0e89\", element=\"bc42ecb3-f26a-4916-be26-84eb037a0e71\")>,\n",
       " <selenium.webdriver.remote.webelement.WebElement (session=\"8d20da93b52e30a1367db7476b4e0e89\", element=\"7b734dda-e567-4771-a225-1ae4900a86df\")>]"
      ]
     },
     "execution_count": 26,
     "metadata": {},
     "output_type": "execute_result"
    }
   ],
   "source": [
    "#Extracting the tags having minimum salary\n",
    "min_sal=driver.find_elements_by_xpath(\"//div[@class='col-3 offset-1 d-none d-md-block']/div/div[2]/span[1]\")\n",
    "min_sal"
   ]
  },
  {
   "cell_type": "code",
   "execution_count": 27,
   "metadata": {},
   "outputs": [
    {
     "data": {
      "text/plain": [
       "['₹336L',\n",
       " '₹579L',\n",
       " '₹452L',\n",
       " '₹589L',\n",
       " '₹350L',\n",
       " '₹1,050L',\n",
       " '₹504L',\n",
       " '₹623L',\n",
       " '₹203L',\n",
       " '₹578L']"
      ]
     },
     "execution_count": 27,
     "metadata": {},
     "output_type": "execute_result"
    }
   ],
   "source": [
    "#Extracting the text from the tags\n",
    "min_salary=[]  #Empty list\n",
    "\n",
    "#As we need to scrap data for the first 10 job results, we are running a for loop for first 10 results only\n",
    "for i in min_sal[:10]:\n",
    "    min_salary.append(i.text)\n",
    "min_salary"
   ]
  },
  {
   "cell_type": "code",
   "execution_count": 28,
   "metadata": {},
   "outputs": [
    {
     "data": {
      "text/plain": [
       "[<selenium.webdriver.remote.webelement.WebElement (session=\"8d20da93b52e30a1367db7476b4e0e89\", element=\"e6ddd2d7-8f0e-4e34-bbf4-40d90b1a0116\")>,\n",
       " <selenium.webdriver.remote.webelement.WebElement (session=\"8d20da93b52e30a1367db7476b4e0e89\", element=\"f963d859-5d17-406c-995d-a3383286b2cf\")>,\n",
       " <selenium.webdriver.remote.webelement.WebElement (session=\"8d20da93b52e30a1367db7476b4e0e89\", element=\"7c113ccd-5a5a-44f6-aceb-0b2bb77cd33e\")>,\n",
       " <selenium.webdriver.remote.webelement.WebElement (session=\"8d20da93b52e30a1367db7476b4e0e89\", element=\"3863d683-bf5e-4bf9-8677-90ed205beed3\")>,\n",
       " <selenium.webdriver.remote.webelement.WebElement (session=\"8d20da93b52e30a1367db7476b4e0e89\", element=\"77702618-a8bc-4f3a-930d-b1665759b919\")>,\n",
       " <selenium.webdriver.remote.webelement.WebElement (session=\"8d20da93b52e30a1367db7476b4e0e89\", element=\"ba77961b-1480-4f03-b093-6465d1fa28c8\")>,\n",
       " <selenium.webdriver.remote.webelement.WebElement (session=\"8d20da93b52e30a1367db7476b4e0e89\", element=\"1ef0d864-1bb5-47fc-aa50-6c282aa2a372\")>,\n",
       " <selenium.webdriver.remote.webelement.WebElement (session=\"8d20da93b52e30a1367db7476b4e0e89\", element=\"83e0b678-f345-4915-ab7a-5a08935e9ad8\")>,\n",
       " <selenium.webdriver.remote.webelement.WebElement (session=\"8d20da93b52e30a1367db7476b4e0e89\", element=\"bf059023-8c91-4afe-8bab-00ac5bb60914\")>,\n",
       " <selenium.webdriver.remote.webelement.WebElement (session=\"8d20da93b52e30a1367db7476b4e0e89\", element=\"1bcb6f21-50f0-4be8-b84a-be206205e2dc\")>,\n",
       " <selenium.webdriver.remote.webelement.WebElement (session=\"8d20da93b52e30a1367db7476b4e0e89\", element=\"ea2b1af5-fdba-40d2-8dfd-2ea4b5a0fe2f\")>,\n",
       " <selenium.webdriver.remote.webelement.WebElement (session=\"8d20da93b52e30a1367db7476b4e0e89\", element=\"f3921d19-2c2a-4ac2-a768-cd1ddb08fa73\")>,\n",
       " <selenium.webdriver.remote.webelement.WebElement (session=\"8d20da93b52e30a1367db7476b4e0e89\", element=\"7acf4d0d-fb38-47dc-bc1b-d6a668408fd2\")>,\n",
       " <selenium.webdriver.remote.webelement.WebElement (session=\"8d20da93b52e30a1367db7476b4e0e89\", element=\"702f650e-924f-424c-8806-8622ef1b39b7\")>,\n",
       " <selenium.webdriver.remote.webelement.WebElement (session=\"8d20da93b52e30a1367db7476b4e0e89\", element=\"b89c948a-b82b-47bb-b347-51e2417cd2ae\")>,\n",
       " <selenium.webdriver.remote.webelement.WebElement (session=\"8d20da93b52e30a1367db7476b4e0e89\", element=\"fa35f7f7-0a45-41c1-9caf-c0b4af63dd53\")>,\n",
       " <selenium.webdriver.remote.webelement.WebElement (session=\"8d20da93b52e30a1367db7476b4e0e89\", element=\"1638d5c8-2158-4542-ba37-65bbf99934ac\")>,\n",
       " <selenium.webdriver.remote.webelement.WebElement (session=\"8d20da93b52e30a1367db7476b4e0e89\", element=\"ba0ee29b-0fd7-4b34-b6e4-0f2245527625\")>,\n",
       " <selenium.webdriver.remote.webelement.WebElement (session=\"8d20da93b52e30a1367db7476b4e0e89\", element=\"77dbfdf4-18c1-4894-813c-be2d457c4960\")>,\n",
       " <selenium.webdriver.remote.webelement.WebElement (session=\"8d20da93b52e30a1367db7476b4e0e89\", element=\"084763de-292a-4d87-bcc5-3afc052b7581\")>]"
      ]
     },
     "execution_count": 28,
     "metadata": {},
     "output_type": "execute_result"
    }
   ],
   "source": [
    "#Extracting the tags having the maximum salary\n",
    "max_sal=driver.find_elements_by_xpath(\"//div[@class='col-3 offset-1 d-none d-md-block']/div/div[2]/span[2]\")\n",
    "max_sal"
   ]
  },
  {
   "cell_type": "code",
   "execution_count": 29,
   "metadata": {},
   "outputs": [
    {
     "data": {
      "text/plain": [
       "['₹1,080L',\n",
       " '₹2,222L',\n",
       " '₹11,669L',\n",
       " '₹2,741L',\n",
       " '₹1,619L',\n",
       " '₹1,500L',\n",
       " '₹1,471L',\n",
       " '₹1,702L',\n",
       " '₹1,817L',\n",
       " '₹1,500L']"
      ]
     },
     "execution_count": 29,
     "metadata": {},
     "output_type": "execute_result"
    }
   ],
   "source": [
    "#Extracting the text from the tags\n",
    "max_salary=[]  #Empty list\n",
    "\n",
    "#As we need to scrap data for the first 10 job results, we are running a for loop for first 10 results only\n",
    "for i in max_sal[:10]:\n",
    "    max_salary.append(i.text)\n",
    "max_salary"
   ]
  },
  {
   "cell_type": "code",
   "execution_count": 30,
   "metadata": {},
   "outputs": [
    {
     "name": "stdout",
     "output_type": "stream",
     "text": [
      "10 10 10 10 10\n"
     ]
    }
   ],
   "source": [
    "#Checking out the length of the data extracted\n",
    "print(len(company),len(no_of_salaries),len(avg_salary),len(min_salary),len(max_salary))"
   ]
  },
  {
   "cell_type": "code",
   "execution_count": 31,
   "metadata": {},
   "outputs": [
    {
     "data": {
      "text/html": [
       "<div>\n",
       "<style scoped>\n",
       "    .dataframe tbody tr th:only-of-type {\n",
       "        vertical-align: middle;\n",
       "    }\n",
       "\n",
       "    .dataframe tbody tr th {\n",
       "        vertical-align: top;\n",
       "    }\n",
       "\n",
       "    .dataframe thead th {\n",
       "        text-align: right;\n",
       "    }\n",
       "</style>\n",
       "<table border=\"1\" class=\"dataframe\">\n",
       "  <thead>\n",
       "    <tr style=\"text-align: right;\">\n",
       "      <th></th>\n",
       "      <th>Company Name</th>\n",
       "      <th>Number of salaries</th>\n",
       "      <th>Average salary</th>\n",
       "      <th>Minimum salary</th>\n",
       "      <th>Maximum salary</th>\n",
       "    </tr>\n",
       "  </thead>\n",
       "  <tbody>\n",
       "    <tr>\n",
       "      <th>0</th>\n",
       "      <td>Tata Consultancy Services</td>\n",
       "      <td>14 salaries</td>\n",
       "      <td>₹ 6,01,000/yr</td>\n",
       "      <td>₹336L</td>\n",
       "      <td>₹1,080L</td>\n",
       "    </tr>\n",
       "    <tr>\n",
       "      <th>1</th>\n",
       "      <td>Accenture</td>\n",
       "      <td>14 salaries</td>\n",
       "      <td>₹ 11,51,207/yr</td>\n",
       "      <td>₹579L</td>\n",
       "      <td>₹2,222L</td>\n",
       "    </tr>\n",
       "    <tr>\n",
       "      <th>2</th>\n",
       "      <td>Delhivery</td>\n",
       "      <td>14 salaries</td>\n",
       "      <td>₹ 12,34,207/yr</td>\n",
       "      <td>₹452L</td>\n",
       "      <td>₹11,669L</td>\n",
       "    </tr>\n",
       "    <tr>\n",
       "      <th>3</th>\n",
       "      <td>IBM</td>\n",
       "      <td>13 salaries</td>\n",
       "      <td>₹ 7,63,825/yr</td>\n",
       "      <td>₹589L</td>\n",
       "      <td>₹2,741L</td>\n",
       "    </tr>\n",
       "    <tr>\n",
       "      <th>4</th>\n",
       "      <td>Ericsson-Worldwide</td>\n",
       "      <td>12 salaries</td>\n",
       "      <td>₹ 7,32,209/yr</td>\n",
       "      <td>₹350L</td>\n",
       "      <td>₹1,619L</td>\n",
       "    </tr>\n",
       "    <tr>\n",
       "      <th>5</th>\n",
       "      <td>UnitedHealth Group</td>\n",
       "      <td>10 salaries</td>\n",
       "      <td>₹ 13,88,910/yr</td>\n",
       "      <td>₹1,050L</td>\n",
       "      <td>₹1,500L</td>\n",
       "    </tr>\n",
       "    <tr>\n",
       "      <th>6</th>\n",
       "      <td>Valiance Solutions</td>\n",
       "      <td>9 salaries</td>\n",
       "      <td>₹ 8,18,515/yr</td>\n",
       "      <td>₹504L</td>\n",
       "      <td>₹1,471L</td>\n",
       "    </tr>\n",
       "    <tr>\n",
       "      <th>7</th>\n",
       "      <td>Innovaccer</td>\n",
       "      <td>8 salaries</td>\n",
       "      <td>₹ 12,01,403/yr</td>\n",
       "      <td>₹623L</td>\n",
       "      <td>₹1,702L</td>\n",
       "    </tr>\n",
       "    <tr>\n",
       "      <th>8</th>\n",
       "      <td>ZS Associates</td>\n",
       "      <td>7 salaries</td>\n",
       "      <td>₹ 10,00,000/yr</td>\n",
       "      <td>₹203L</td>\n",
       "      <td>₹1,817L</td>\n",
       "    </tr>\n",
       "    <tr>\n",
       "      <th>9</th>\n",
       "      <td>EXL Service</td>\n",
       "      <td>7 salaries</td>\n",
       "      <td>₹ 11,90,000/yr</td>\n",
       "      <td>₹578L</td>\n",
       "      <td>₹1,500L</td>\n",
       "    </tr>\n",
       "  </tbody>\n",
       "</table>\n",
       "</div>"
      ],
      "text/plain": [
       "                Company Name Number of salaries  Average salary  \\\n",
       "0  Tata Consultancy Services        14 salaries   ₹ 6,01,000/yr   \n",
       "1                  Accenture        14 salaries  ₹ 11,51,207/yr   \n",
       "2                  Delhivery        14 salaries  ₹ 12,34,207/yr   \n",
       "3                        IBM        13 salaries   ₹ 7,63,825/yr   \n",
       "4         Ericsson-Worldwide        12 salaries   ₹ 7,32,209/yr   \n",
       "5         UnitedHealth Group        10 salaries  ₹ 13,88,910/yr   \n",
       "6         Valiance Solutions         9 salaries   ₹ 8,18,515/yr   \n",
       "7                 Innovaccer         8 salaries  ₹ 12,01,403/yr   \n",
       "8              ZS Associates         7 salaries  ₹ 10,00,000/yr   \n",
       "9                EXL Service         7 salaries  ₹ 11,90,000/yr   \n",
       "\n",
       "  Minimum salary Maximum salary  \n",
       "0          ₹336L        ₹1,080L  \n",
       "1          ₹579L        ₹2,222L  \n",
       "2          ₹452L       ₹11,669L  \n",
       "3          ₹589L        ₹2,741L  \n",
       "4          ₹350L        ₹1,619L  \n",
       "5        ₹1,050L        ₹1,500L  \n",
       "6          ₹504L        ₹1,471L  \n",
       "7          ₹623L        ₹1,702L  \n",
       "8          ₹203L        ₹1,817L  \n",
       "9          ₹578L        ₹1,500L  "
      ]
     },
     "execution_count": 31,
     "metadata": {},
     "output_type": "execute_result"
    }
   ],
   "source": [
    "#Creating a new dataframe for saving the data\n",
    "jobs=pd.DataFrame({})\n",
    "jobs['Company Name']=company\n",
    "jobs['Number of salaries']=no_of_salaries\n",
    "jobs['Average salary']=avg_salary\n",
    "jobs['Minimum salary']=min_salary\n",
    "jobs['Maximum salary']=max_salary\n",
    "jobs"
   ]
  },
  {
   "cell_type": "code",
   "execution_count": 32,
   "metadata": {},
   "outputs": [],
   "source": [
    "#Saving the data to a csv file\n",
    "jobs.to_csv('Glassdoor_Salary.csv')"
   ]
  },
  {
   "cell_type": "code",
   "execution_count": 33,
   "metadata": {},
   "outputs": [],
   "source": [
    "#Closing the driver\n",
    "driver.close()"
   ]
  }
 ],
 "metadata": {
  "kernelspec": {
   "display_name": "Python 3",
   "language": "python",
   "name": "python3"
  },
  "language_info": {
   "codemirror_mode": {
    "name": "ipython",
    "version": 3
   },
   "file_extension": ".py",
   "mimetype": "text/x-python",
   "name": "python",
   "nbconvert_exporter": "python",
   "pygments_lexer": "ipython3",
   "version": "3.8.3"
  }
 },
 "nbformat": 4,
 "nbformat_minor": 4
}
