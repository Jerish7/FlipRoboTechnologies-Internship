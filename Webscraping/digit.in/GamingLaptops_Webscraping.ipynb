{
 "cells": [
  {
   "cell_type": "code",
   "execution_count": 1,
   "metadata": {},
   "outputs": [],
   "source": [
    "#Importing required libraries\n",
    "import selenium\n",
    "import pandas as pd\n",
    "from selenium import webdriver\n",
    "from selenium.common.exceptions import NoSuchElementException"
   ]
  },
  {
   "cell_type": "markdown",
   "metadata": {},
   "source": [
    "# 7. Write a program to scrap all the available details of top 10 gaming laptops from digit.in."
   ]
  },
  {
   "cell_type": "code",
   "execution_count": 2,
   "metadata": {},
   "outputs": [],
   "source": [
    "#Connect to web driver\n",
    "driver=webdriver.Chrome(r\"D://chromedriver.exe\")  #r converts string to raw string\n",
    "#If not r, we can use executable_path = \"C:/path name\""
   ]
  },
  {
   "cell_type": "code",
   "execution_count": 3,
   "metadata": {},
   "outputs": [],
   "source": [
    "#Getting the website to driver\n",
    "driver.get('https://www.digit.in/')\n",
    "\n",
    "#When we run this line, automatically the webpage will be opened"
   ]
  },
  {
   "cell_type": "code",
   "execution_count": 4,
   "metadata": {},
   "outputs": [],
   "source": [
    "#Clicking on top 10 option\n",
    "top10=driver.find_element_by_xpath(\"//div[@class='menu']/ul/li[4]/a\")\n",
    "top10.click()\n",
    "\n",
    "#Clicking on best gaming laptops option\n",
    "best_gl=driver.find_element_by_xpath(\"//div[@class='listing_container']/ul/li[26]/a\")\n",
    "best_gl.click()"
   ]
  },
  {
   "cell_type": "code",
   "execution_count": 5,
   "metadata": {},
   "outputs": [],
   "source": [
    "#Specifying the url of the webpage to be scraped\n",
    "url=\"https://www.digit.in/top-products/best-gaming-laptops-40.html\"\n",
    "driver.get(url)"
   ]
  },
  {
   "cell_type": "code",
   "execution_count": 6,
   "metadata": {},
   "outputs": [
    {
     "data": {
      "text/plain": [
       "[<selenium.webdriver.remote.webelement.WebElement (session=\"4cdd5c63baa0bc68af6c6d62c664dccb\", element=\"fc2ff636-d8c1-4553-a1b7-3018eb2ba3f7\")>,\n",
       " <selenium.webdriver.remote.webelement.WebElement (session=\"4cdd5c63baa0bc68af6c6d62c664dccb\", element=\"68e0d3f4-ad7f-4d57-9d1f-bf5b1b6937d1\")>,\n",
       " <selenium.webdriver.remote.webelement.WebElement (session=\"4cdd5c63baa0bc68af6c6d62c664dccb\", element=\"bfca7620-bd29-4615-8f15-57e4f9b3dc06\")>,\n",
       " <selenium.webdriver.remote.webelement.WebElement (session=\"4cdd5c63baa0bc68af6c6d62c664dccb\", element=\"63e7130d-5ddb-42bf-b541-a439b00b0065\")>,\n",
       " <selenium.webdriver.remote.webelement.WebElement (session=\"4cdd5c63baa0bc68af6c6d62c664dccb\", element=\"8ad10eea-7541-471e-8061-7dacbce215e1\")>,\n",
       " <selenium.webdriver.remote.webelement.WebElement (session=\"4cdd5c63baa0bc68af6c6d62c664dccb\", element=\"efd86c63-232f-499e-baf3-8932ef4fa8cb\")>,\n",
       " <selenium.webdriver.remote.webelement.WebElement (session=\"4cdd5c63baa0bc68af6c6d62c664dccb\", element=\"f6a2f9ab-98a4-4a78-9c85-7746ab69d8b2\")>,\n",
       " <selenium.webdriver.remote.webelement.WebElement (session=\"4cdd5c63baa0bc68af6c6d62c664dccb\", element=\"009be9cf-4637-4ee6-9dd1-4f36dc02b445\")>,\n",
       " <selenium.webdriver.remote.webelement.WebElement (session=\"4cdd5c63baa0bc68af6c6d62c664dccb\", element=\"ebc53cfe-527d-4388-828d-15d68ba2577a\")>,\n",
       " <selenium.webdriver.remote.webelement.WebElement (session=\"4cdd5c63baa0bc68af6c6d62c664dccb\", element=\"bc92f1dd-66fb-416e-8844-c9f8ee55b427\")>]"
      ]
     },
     "execution_count": 6,
     "metadata": {},
     "output_type": "execute_result"
    }
   ],
   "source": [
    "#Extracting the tags having the laptop name\n",
    "name=driver.find_elements_by_xpath(\"//div[@class='right-container']/div/a/h3\")\n",
    "name"
   ]
  },
  {
   "cell_type": "code",
   "execution_count": 7,
   "metadata": {},
   "outputs": [
    {
     "data": {
      "text/plain": [
       "['MSI GT76 TITAN DT 9SG',\n",
       " 'ALIENWARE 17 AREA-51M',\n",
       " 'HP OMEN 15 2020',\n",
       " 'ASUS ZEPHYRUS G14',\n",
       " 'LENOVO LEGION Y540',\n",
       " 'ASUS ROG ZEPHYRUS G GA502',\n",
       " 'ASUS ROG ZEPHYRUS S GX531',\n",
       " 'MSI GT83VR 7RE TITAN SLI',\n",
       " 'ASUS ROG ZEPHYRUS DUO 15',\n",
       " 'DELL G3']"
      ]
     },
     "execution_count": 7,
     "metadata": {},
     "output_type": "execute_result"
    }
   ],
   "source": [
    "#Extracting the text from the tags\n",
    "prod_name=[]  #Empty list\n",
    "\n",
    "#As we need to scrap data for all the products, we are running a for loop for extracting all data\n",
    "for i in name:\n",
    "    prod_name.append(i.text)\n",
    "prod_name"
   ]
  },
  {
   "cell_type": "code",
   "execution_count": 8,
   "metadata": {},
   "outputs": [
    {
     "data": {
      "text/plain": [
       "[<selenium.webdriver.remote.webelement.WebElement (session=\"4cdd5c63baa0bc68af6c6d62c664dccb\", element=\"7fb31ed8-3ceb-43ef-b8be-52596030cdd3\")>,\n",
       " <selenium.webdriver.remote.webelement.WebElement (session=\"4cdd5c63baa0bc68af6c6d62c664dccb\", element=\"f730af05-bba2-42a0-a3b3-8c15d5f6e7c6\")>,\n",
       " <selenium.webdriver.remote.webelement.WebElement (session=\"4cdd5c63baa0bc68af6c6d62c664dccb\", element=\"4234df1d-e27b-4f6e-9ebd-1dbbcd3e1bd3\")>,\n",
       " <selenium.webdriver.remote.webelement.WebElement (session=\"4cdd5c63baa0bc68af6c6d62c664dccb\", element=\"3a8e0d4d-3d0f-47f8-9220-de89eaf6b6e8\")>,\n",
       " <selenium.webdriver.remote.webelement.WebElement (session=\"4cdd5c63baa0bc68af6c6d62c664dccb\", element=\"a5fbdeee-6c0e-447d-a40a-2d0e1882ec3b\")>,\n",
       " <selenium.webdriver.remote.webelement.WebElement (session=\"4cdd5c63baa0bc68af6c6d62c664dccb\", element=\"67beef7b-ce59-4641-88f8-f7c1d7a0c08e\")>,\n",
       " <selenium.webdriver.remote.webelement.WebElement (session=\"4cdd5c63baa0bc68af6c6d62c664dccb\", element=\"7c774c75-eac5-42bc-bb1b-891f6e9463f4\")>,\n",
       " <selenium.webdriver.remote.webelement.WebElement (session=\"4cdd5c63baa0bc68af6c6d62c664dccb\", element=\"90f52ebb-a2c3-4c42-8114-700a49eba8e2\")>,\n",
       " <selenium.webdriver.remote.webelement.WebElement (session=\"4cdd5c63baa0bc68af6c6d62c664dccb\", element=\"bdbee3b6-0c6d-4a47-b056-586f732e63a3\")>,\n",
       " <selenium.webdriver.remote.webelement.WebElement (session=\"4cdd5c63baa0bc68af6c6d62c664dccb\", element=\"6359d0f8-6411-4d0a-bc17-b1c9e41040d3\")>]"
      ]
     },
     "execution_count": 8,
     "metadata": {},
     "output_type": "execute_result"
    }
   ],
   "source": [
    "#Extracting the tags having the OS type\n",
    "OS_type=driver.find_elements_by_xpath(\"//div[@class='product-detail']/div/ul/li[1]/div/div\")\n",
    "OS_type"
   ]
  },
  {
   "cell_type": "code",
   "execution_count": 9,
   "metadata": {},
   "outputs": [
    {
     "data": {
      "text/plain": [
       "['WINDOWS 10 PRO',\n",
       " 'WINDOWS 10 PRO',\n",
       " 'WINDOWS 10 HOME',\n",
       " 'WINDOWS 10 HOME',\n",
       " 'WINDOWS 10 HOME',\n",
       " 'WINDOWS 10 HOME',\n",
       " 'WINDOWS 10 HOME',\n",
       " 'WINDOWS 10 HOME 64 BIT',\n",
       " 'WINDOWS 10',\n",
       " 'WINDOWS 10 HOME PLUS']"
      ]
     },
     "execution_count": 9,
     "metadata": {},
     "output_type": "execute_result"
    }
   ],
   "source": [
    "#Extracting the text from the tags\n",
    "OS=[]  #Empty list\n",
    "\n",
    "#As we need to scrap data for all the products, we are running a for loop for extracting all data\n",
    "for i in OS_type:\n",
    "    OS.append(i.text)\n",
    "OS    "
   ]
  },
  {
   "cell_type": "code",
   "execution_count": 10,
   "metadata": {},
   "outputs": [
    {
     "data": {
      "text/plain": [
       "[<selenium.webdriver.remote.webelement.WebElement (session=\"4cdd5c63baa0bc68af6c6d62c664dccb\", element=\"1d69d183-5981-4817-ab99-c46ee5cf098f\")>,\n",
       " <selenium.webdriver.remote.webelement.WebElement (session=\"4cdd5c63baa0bc68af6c6d62c664dccb\", element=\"303bfaed-a21e-4747-96d9-0e2390d4f1c6\")>,\n",
       " <selenium.webdriver.remote.webelement.WebElement (session=\"4cdd5c63baa0bc68af6c6d62c664dccb\", element=\"4c594f54-cde0-4f55-b5af-169155bf4928\")>,\n",
       " <selenium.webdriver.remote.webelement.WebElement (session=\"4cdd5c63baa0bc68af6c6d62c664dccb\", element=\"e01cfc90-1b30-46a7-9971-77eee3e2895d\")>,\n",
       " <selenium.webdriver.remote.webelement.WebElement (session=\"4cdd5c63baa0bc68af6c6d62c664dccb\", element=\"9e995c80-9b0f-4085-951a-84db610a9326\")>,\n",
       " <selenium.webdriver.remote.webelement.WebElement (session=\"4cdd5c63baa0bc68af6c6d62c664dccb\", element=\"e91ec7bf-67d4-454a-9108-05966e596052\")>,\n",
       " <selenium.webdriver.remote.webelement.WebElement (session=\"4cdd5c63baa0bc68af6c6d62c664dccb\", element=\"b42a5ff1-eaae-46f9-a068-f525e88b1ce7\")>,\n",
       " <selenium.webdriver.remote.webelement.WebElement (session=\"4cdd5c63baa0bc68af6c6d62c664dccb\", element=\"b738847e-e84b-4626-a93f-17be8892531f\")>,\n",
       " <selenium.webdriver.remote.webelement.WebElement (session=\"4cdd5c63baa0bc68af6c6d62c664dccb\", element=\"98e3f910-279b-474b-ad3f-20197e2d3b2d\")>,\n",
       " <selenium.webdriver.remote.webelement.WebElement (session=\"4cdd5c63baa0bc68af6c6d62c664dccb\", element=\"a14f4311-bb57-4d17-bdbc-70f2d53f50c9\")>]"
      ]
     },
     "execution_count": 10,
     "metadata": {},
     "output_type": "execute_result"
    }
   ],
   "source": [
    "#Extracting the tags having display details\n",
    "display=driver.find_elements_by_xpath(\"//div[@class='product-detail']/div/ul/li[2]/div/div\")\n",
    "display"
   ]
  },
  {
   "cell_type": "code",
   "execution_count": 11,
   "metadata": {},
   "outputs": [
    {
     "data": {
      "text/plain": [
       "['17.3\" (UHD 3840X2160)',\n",
       " '17.3\" (FHD (1920 X 1080))',\n",
       " '15.6\" (1920 X 1080)',\n",
       " '14\" (1920 X 1080)',\n",
       " '15.6\" (1920 X 1080)',\n",
       " '15.6\" (1920 X 1080)',\n",
       " '15.6\" (1920 X 1080)',\n",
       " '18.4\" (1920 X 1080)',\n",
       " '15.6\" (3840 X 1100)',\n",
       " '15.6 MP | NA']"
      ]
     },
     "execution_count": 11,
     "metadata": {},
     "output_type": "execute_result"
    }
   ],
   "source": [
    "#Extracting the text from the tags\n",
    "display_specs=[]  #Empty list\n",
    "\n",
    "#As we need to scrap data for all the products, we are running a for loop for extracting all data\n",
    "for i in display:\n",
    "    display_specs.append(i.text)\n",
    "display_specs   "
   ]
  },
  {
   "cell_type": "code",
   "execution_count": 12,
   "metadata": {},
   "outputs": [
    {
     "data": {
      "text/plain": [
       "[<selenium.webdriver.remote.webelement.WebElement (session=\"4cdd5c63baa0bc68af6c6d62c664dccb\", element=\"8d126e65-fb28-410b-b6f5-306ea6fd72d1\")>,\n",
       " <selenium.webdriver.remote.webelement.WebElement (session=\"4cdd5c63baa0bc68af6c6d62c664dccb\", element=\"d5867176-e62d-4490-9fa8-be078f024117\")>,\n",
       " <selenium.webdriver.remote.webelement.WebElement (session=\"4cdd5c63baa0bc68af6c6d62c664dccb\", element=\"45fee177-fe27-47e6-9d6d-3564641192ba\")>,\n",
       " <selenium.webdriver.remote.webelement.WebElement (session=\"4cdd5c63baa0bc68af6c6d62c664dccb\", element=\"34380481-aacd-40cf-ba54-f5e25f03b599\")>,\n",
       " <selenium.webdriver.remote.webelement.WebElement (session=\"4cdd5c63baa0bc68af6c6d62c664dccb\", element=\"6d3746f0-1f54-44e9-87c2-f8c6aa1d7e6b\")>,\n",
       " <selenium.webdriver.remote.webelement.WebElement (session=\"4cdd5c63baa0bc68af6c6d62c664dccb\", element=\"c57125b4-c577-445b-bfb8-40de4378cd88\")>,\n",
       " <selenium.webdriver.remote.webelement.WebElement (session=\"4cdd5c63baa0bc68af6c6d62c664dccb\", element=\"5f9113a7-3714-4971-b487-556757b22870\")>,\n",
       " <selenium.webdriver.remote.webelement.WebElement (session=\"4cdd5c63baa0bc68af6c6d62c664dccb\", element=\"a236a43e-724e-4e8d-a8e6-2c4d7861456c\")>,\n",
       " <selenium.webdriver.remote.webelement.WebElement (session=\"4cdd5c63baa0bc68af6c6d62c664dccb\", element=\"8d14c867-de1e-4345-9c7e-cb5a90fa8b1f\")>,\n",
       " <selenium.webdriver.remote.webelement.WebElement (session=\"4cdd5c63baa0bc68af6c6d62c664dccb\", element=\"7567cc5d-8270-4380-b7bf-1ce17595d01f\")>]"
      ]
     },
     "execution_count": 12,
     "metadata": {},
     "output_type": "execute_result"
    }
   ],
   "source": [
    "#Extracting the tags having processor details\n",
    "processor=driver.find_elements_by_xpath(\"//div[@class='product-detail']/div/ul/li[3]/div/div\")\n",
    "processor"
   ]
  },
  {
   "cell_type": "code",
   "execution_count": 13,
   "metadata": {},
   "outputs": [
    {
     "data": {
      "text/plain": [
       "['INTEL 9TH GEN CORE I9-9900K | 5000 MHZ',\n",
       " 'INTEL 9TH GEN CORE I9-9900K | 5000 MHZ',\n",
       " 'INTEL I7-10750H 10TH GEN | 1.6GHZ',\n",
       " 'AMD 3RD GENERATION RYZEN 9 | 3.3 GHZ',\n",
       " '9TH GENERATION CORE INTEL I7-9750H | 2.6 GHZ',\n",
       " 'AMD RYZEN 7 QUAD CORE 3750H | 2.3 GHZ',\n",
       " '9TH GEN INTEL CORE I7-8750H | 2.2 GHZ',\n",
       " 'INTEL CM238 CORE I7-7820HK+CM238 7TH GEN | 3.5GHZ',\n",
       " 'INTEL CORE I7 10TH GEN 10875H | NA',\n",
       " '8TH GEN INTEL CORE I5-8300H | 2.3GHZ']"
      ]
     },
     "execution_count": 13,
     "metadata": {},
     "output_type": "execute_result"
    }
   ],
   "source": [
    "#Extracting the text from the tags\n",
    "processor_specs=[]  #Empty list\n",
    "\n",
    "#As we need to scrap data for all the products, we are running a for loop for extracting all data\n",
    "for i in processor:\n",
    "    processor_specs.append(i.text)\n",
    "processor_specs   "
   ]
  },
  {
   "cell_type": "code",
   "execution_count": 14,
   "metadata": {},
   "outputs": [
    {
     "name": "stdout",
     "output_type": "stream",
     "text": [
      "HDD: ['1 TB HDD', '1 TB PCIe SSD', '512 GB SSD', '1 TB SSD', '1 TB SSD', '512 GB SSD', '512GB SSD', '1.5 TB SATA', '512 GB SSD', '1TB HDD']\n",
      "RAM: ['64 GBGB DDR4', '32GB DDR4', '16 GBGB DDR4', '16 GBGB DDR4', '8GB DDR4', '16GB DDR4', '16 GBGB DDR4', '64GB DDR4', '4 GBGB DDR4', '8GB DDR4']\n"
     ]
    }
   ],
   "source": [
    "#Extracting the tags having memory specs\n",
    "\n",
    "#List of specification names\n",
    "memory=driver.find_elements_by_xpath(\"//div[@class='Spcs-details'][1]/table/tbody/tr[6]/td[1]\")\n",
    "\n",
    "#Value of the specifications\n",
    "memory_specs=driver.find_elements_by_xpath(\"//div[@class='Spcs-details'][1]/table/tbody/tr[6]/td[3]\")\n",
    "\n",
    "#Now we will separate HDD and RAM text from memory specs tags\n",
    "HDD=[]\n",
    "RAM=[]  #Empty lists\n",
    "for i in range(len(memory)):\n",
    "    if memory[i].text=='Memory':\n",
    "        HDD.append(memory_specs[i].text.split('/')[0])\n",
    "        RAM.append(memory_specs[i].text.split('/')[1])\n",
    "    else:\n",
    "        HDD.append('Not Available')\n",
    "        RAM.append('Not Available')\n",
    "\n",
    "print('HDD:',HDD)\n",
    "print('RAM:',RAM)"
   ]
  },
  {
   "cell_type": "code",
   "execution_count": 15,
   "metadata": {},
   "outputs": [
    {
     "data": {
      "text/plain": [
       "['4.2 kg',\n",
       " '3.87 Kg',\n",
       " '5.40',\n",
       " '1.65',\n",
       " '2.3',\n",
       " '2.2',\n",
       " '2.1',\n",
       " '5.5',\n",
       " '2.4',\n",
       " '2.53']"
      ]
     },
     "execution_count": 15,
     "metadata": {},
     "output_type": "execute_result"
    }
   ],
   "source": [
    "#Extracting the tags having weight\n",
    "\n",
    "#List of specifications name\n",
    "weights=driver.find_elements_by_xpath(\"//div[@class='Spcs-details']/table/tbody/tr/td[1]\")\n",
    "\n",
    "#Value of the specifications\n",
    "weights_specs=driver.find_elements_by_xpath(\"//div[@class='Spcs-details']/table/tbody/tr/td[3]\")\n",
    "\n",
    "#Now we will separate weight text from tags\n",
    "weight=[] #Empty list\n",
    "for i in range(len(weights)):\n",
    "    if weights[i].text=='Weight':\n",
    "        weight.append(weights_specs[i].text)\n",
    "        \n",
    "weight"
   ]
  },
  {
   "cell_type": "code",
   "execution_count": 16,
   "metadata": {},
   "outputs": [
    {
     "data": {
      "text/plain": [
       "['397 x 330 x 33~42 mm',\n",
       " '42 mm x 402.6 mm x 319.14 mm',\n",
       " '14.09 x 9.44 x 0.89',\n",
       " '32.5 x 22.1 x 1.8',\n",
       " '365mm x 260mm x 25.9mm',\n",
       " '360 x 252 x 20.4',\n",
       " '360 (W) x 268 (D) x 15.35~16.15 (H) mm',\n",
       " '458 x 339 x 69',\n",
       " '268.30 x 360.00 x 20.90',\n",
       " '22.7 X 380 X 258']"
      ]
     },
     "execution_count": 16,
     "metadata": {},
     "output_type": "execute_result"
    }
   ],
   "source": [
    "#Extracting the tags having dimensions\n",
    "\n",
    "#List of specifications name\n",
    "dims=driver.find_elements_by_xpath(\"//div[@class='Spcs-details']/table/tbody/tr/td[1]\")\n",
    "\n",
    "#Value of the specifications\n",
    "dims_specs=driver.find_elements_by_xpath(\"//div[@class='Spcs-details']/table/tbody/tr/td[3]\")\n",
    "\n",
    "#Now we will separate dimensions text from tags\n",
    "dimension=[] #Empty list\n",
    "for i in range(len(dims)):\n",
    "    if dims[i].text=='Dimension':\n",
    "        dimension.append(dims_specs[i].text)\n",
    "        \n",
    "dimension"
   ]
  },
  {
   "cell_type": "code",
   "execution_count": 17,
   "metadata": {},
   "outputs": [
    {
     "data": {
      "text/plain": [
       "['NVIDIA GeForce RTX 2080',\n",
       " 'NVIDIA GeForce RTX 2080',\n",
       " 'Nvidia GeForce GTX 1650Ti',\n",
       " 'NVIDIA GeForce RTX 2060',\n",
       " 'NVIDIA® GeForce RTX™ 2060',\n",
       " 'NVIDIA Geforce GTX 1660 Ti',\n",
       " 'NVIDIA® GeForce RTX™ 2070 (Max-Q)',\n",
       " 'Dual GTX1070',\n",
       " 'NVIDIA GeForce RTX 2070 Max-Q',\n",
       " 'NVidia GeForce GTX 1050']"
      ]
     },
     "execution_count": 17,
     "metadata": {},
     "output_type": "execute_result"
    }
   ],
   "source": [
    "#Extracting the tags having Graphics Processor\n",
    "\n",
    "#List of specifications name\n",
    "GPs=driver.find_elements_by_xpath(\"//div[@class='Spcs-details']/table/tbody/tr/td[1]\")\n",
    "\n",
    "#Value of the specifications\n",
    "GPs_specs=driver.find_elements_by_xpath(\"//div[@class='Spcs-details']/table/tbody/tr/td[3]\")\n",
    "\n",
    "#Now we will separate GPs text from tags\n",
    "GPU=[] #Empty list\n",
    "for i in range(len(GPs)):\n",
    "    if GPs[i].text=='Graphics Processor':\n",
    "        GPU.append(GPs_specs[i].text)\n",
    "        \n",
    "GPU"
   ]
  },
  {
   "cell_type": "code",
   "execution_count": 18,
   "metadata": {},
   "outputs": [
    {
     "data": {
      "text/plain": [
       "['https://www.digit.in/laptops/msi-gt76-titan-dt-9sg-price-193526.html',\n",
       " 'https://www.digit.in/laptops/alienware-area-51m-core-i9-9900k-rtx-2080-price-193540.html',\n",
       " 'https://www.digit.in/laptops/hp-omen-15-2020-price-207633.html',\n",
       " 'https://www.digit.in/laptops/asus-rog-zephyrus-g14-price-209173.html',\n",
       " 'https://www.digit.in/laptops/lenovo-legion-y540-price-184975.html',\n",
       " 'https://www.digit.in/laptops/asus-rog-zephyrus-g-ga502-price-187290.html',\n",
       " 'https://www.digit.in/laptops/asus-rog-zephyrus-s-gx531-price-183275.html',\n",
       " 'https://www.digit.in/laptops/msi-gt83vr-7re-titan-sli-price-55229.html',\n",
       " 'https://www.digit.in/laptops/asus-rog-zephyrus-duo-15-price-215799.html',\n",
       " 'https://www.digit.in/laptops/dell-g3-15-price-172543.html']"
      ]
     },
     "execution_count": 18,
     "metadata": {},
     "output_type": "execute_result"
    }
   ],
   "source": [
    "#Extracting the tags having the price\n",
    "\n",
    "#As there are some prices in the main url, we will go to full specs and scrape the prices\n",
    "#First we will extract the urls of all laptop's full specs\n",
    "full_specs=[]   #Empty list\n",
    "urls=driver.find_elements_by_xpath(\"//div[@class='full-specs']/span\")\n",
    "\n",
    "#Running a for loop for extraction of text from tags\n",
    "for i in urls:\n",
    "    if i.get_attribute('data-href'):\n",
    "        full_specs.append(i.get_attribute('data-href'))\n",
    "    \n",
    "full_specs"
   ]
  },
  {
   "cell_type": "code",
   "execution_count": 19,
   "metadata": {},
   "outputs": [
    {
     "data": {
      "text/plain": [
       "['379,990',\n",
       " '422,000',\n",
       " '117,790',\n",
       " '164,990',\n",
       " '79,990',\n",
       " '79,990',\n",
       " '239,990',\n",
       " '349,990',\n",
       " '244,990',\n",
       " '73,900']"
      ]
     },
     "execution_count": 19,
     "metadata": {},
     "output_type": "execute_result"
    }
   ],
   "source": [
    "#Now we will extract price by iterating full_specs\n",
    "Price=[]  #Empty list\n",
    "for i in full_specs:\n",
    "    driver.get(i)\n",
    "    try:\n",
    "        prices=driver.find_element_by_xpath(\"//div[@class='Block-price']/b\")  #Getting price tags\n",
    "        Price.append(prices.text)  #Extracting text\n",
    "    except NoSuchElementException as e:   #Running an exception if the price is not available\n",
    "         Price.append(\"Not Available\")    #Message to be printed in places where the price is not available\n",
    "            \n",
    "Price   #Checking the extracted prices            "
   ]
  },
  {
   "cell_type": "code",
   "execution_count": 20,
   "metadata": {},
   "outputs": [
    {
     "data": {
      "text/html": [
       "<div>\n",
       "<style scoped>\n",
       "    .dataframe tbody tr th:only-of-type {\n",
       "        vertical-align: middle;\n",
       "    }\n",
       "\n",
       "    .dataframe tbody tr th {\n",
       "        vertical-align: top;\n",
       "    }\n",
       "\n",
       "    .dataframe thead th {\n",
       "        text-align: right;\n",
       "    }\n",
       "</style>\n",
       "<table border=\"1\" class=\"dataframe\">\n",
       "  <thead>\n",
       "    <tr style=\"text-align: right;\">\n",
       "      <th></th>\n",
       "      <th>Product Name</th>\n",
       "      <th>OS</th>\n",
       "      <th>Display</th>\n",
       "      <th>Processor</th>\n",
       "      <th>HDD</th>\n",
       "      <th>RAM</th>\n",
       "      <th>Weight</th>\n",
       "      <th>Dimension</th>\n",
       "      <th>Graphic Processor</th>\n",
       "      <th>Price</th>\n",
       "    </tr>\n",
       "  </thead>\n",
       "  <tbody>\n",
       "    <tr>\n",
       "      <th>0</th>\n",
       "      <td>MSI GT76 TITAN DT 9SG</td>\n",
       "      <td>WINDOWS 10 PRO</td>\n",
       "      <td>17.3\" (UHD 3840X2160)</td>\n",
       "      <td>INTEL 9TH GEN CORE I9-9900K | 5000 MHZ</td>\n",
       "      <td>1 TB HDD</td>\n",
       "      <td>64 GBGB DDR4</td>\n",
       "      <td>4.2 kg</td>\n",
       "      <td>397 x 330 x 33~42 mm</td>\n",
       "      <td>NVIDIA GeForce RTX 2080</td>\n",
       "      <td>379,990</td>\n",
       "    </tr>\n",
       "    <tr>\n",
       "      <th>1</th>\n",
       "      <td>ALIENWARE 17 AREA-51M</td>\n",
       "      <td>WINDOWS 10 PRO</td>\n",
       "      <td>17.3\" (FHD (1920 X 1080))</td>\n",
       "      <td>INTEL 9TH GEN CORE I9-9900K | 5000 MHZ</td>\n",
       "      <td>1 TB PCIe SSD</td>\n",
       "      <td>32GB DDR4</td>\n",
       "      <td>3.87 Kg</td>\n",
       "      <td>42 mm x 402.6 mm x 319.14 mm</td>\n",
       "      <td>NVIDIA GeForce RTX 2080</td>\n",
       "      <td>422,000</td>\n",
       "    </tr>\n",
       "    <tr>\n",
       "      <th>2</th>\n",
       "      <td>HP OMEN 15 2020</td>\n",
       "      <td>WINDOWS 10 HOME</td>\n",
       "      <td>15.6\" (1920 X 1080)</td>\n",
       "      <td>INTEL I7-10750H 10TH GEN | 1.6GHZ</td>\n",
       "      <td>512 GB SSD</td>\n",
       "      <td>16 GBGB DDR4</td>\n",
       "      <td>5.40</td>\n",
       "      <td>14.09 x 9.44 x 0.89</td>\n",
       "      <td>Nvidia GeForce GTX 1650Ti</td>\n",
       "      <td>117,790</td>\n",
       "    </tr>\n",
       "    <tr>\n",
       "      <th>3</th>\n",
       "      <td>ASUS ZEPHYRUS G14</td>\n",
       "      <td>WINDOWS 10 HOME</td>\n",
       "      <td>14\" (1920 X 1080)</td>\n",
       "      <td>AMD 3RD GENERATION RYZEN 9 | 3.3 GHZ</td>\n",
       "      <td>1 TB SSD</td>\n",
       "      <td>16 GBGB DDR4</td>\n",
       "      <td>1.65</td>\n",
       "      <td>32.5 x 22.1 x 1.8</td>\n",
       "      <td>NVIDIA GeForce RTX 2060</td>\n",
       "      <td>164,990</td>\n",
       "    </tr>\n",
       "    <tr>\n",
       "      <th>4</th>\n",
       "      <td>LENOVO LEGION Y540</td>\n",
       "      <td>WINDOWS 10 HOME</td>\n",
       "      <td>15.6\" (1920 X 1080)</td>\n",
       "      <td>9TH GENERATION CORE INTEL I7-9750H | 2.6 GHZ</td>\n",
       "      <td>1 TB SSD</td>\n",
       "      <td>8GB DDR4</td>\n",
       "      <td>2.3</td>\n",
       "      <td>365mm x 260mm x 25.9mm</td>\n",
       "      <td>NVIDIA® GeForce RTX™ 2060</td>\n",
       "      <td>79,990</td>\n",
       "    </tr>\n",
       "    <tr>\n",
       "      <th>5</th>\n",
       "      <td>ASUS ROG ZEPHYRUS G GA502</td>\n",
       "      <td>WINDOWS 10 HOME</td>\n",
       "      <td>15.6\" (1920 X 1080)</td>\n",
       "      <td>AMD RYZEN 7 QUAD CORE 3750H | 2.3 GHZ</td>\n",
       "      <td>512 GB SSD</td>\n",
       "      <td>16GB DDR4</td>\n",
       "      <td>2.2</td>\n",
       "      <td>360 x 252 x 20.4</td>\n",
       "      <td>NVIDIA Geforce GTX 1660 Ti</td>\n",
       "      <td>79,990</td>\n",
       "    </tr>\n",
       "    <tr>\n",
       "      <th>6</th>\n",
       "      <td>ASUS ROG ZEPHYRUS S GX531</td>\n",
       "      <td>WINDOWS 10 HOME</td>\n",
       "      <td>15.6\" (1920 X 1080)</td>\n",
       "      <td>9TH GEN INTEL CORE I7-8750H | 2.2 GHZ</td>\n",
       "      <td>512GB SSD</td>\n",
       "      <td>16 GBGB DDR4</td>\n",
       "      <td>2.1</td>\n",
       "      <td>360 (W) x 268 (D) x 15.35~16.15 (H) mm</td>\n",
       "      <td>NVIDIA® GeForce RTX™ 2070 (Max-Q)</td>\n",
       "      <td>239,990</td>\n",
       "    </tr>\n",
       "    <tr>\n",
       "      <th>7</th>\n",
       "      <td>MSI GT83VR 7RE TITAN SLI</td>\n",
       "      <td>WINDOWS 10 HOME 64 BIT</td>\n",
       "      <td>18.4\" (1920 X 1080)</td>\n",
       "      <td>INTEL CM238 CORE I7-7820HK+CM238 7TH GEN | 3.5GHZ</td>\n",
       "      <td>1.5 TB SATA</td>\n",
       "      <td>64GB DDR4</td>\n",
       "      <td>5.5</td>\n",
       "      <td>458 x 339 x 69</td>\n",
       "      <td>Dual GTX1070</td>\n",
       "      <td>349,990</td>\n",
       "    </tr>\n",
       "    <tr>\n",
       "      <th>8</th>\n",
       "      <td>ASUS ROG ZEPHYRUS DUO 15</td>\n",
       "      <td>WINDOWS 10</td>\n",
       "      <td>15.6\" (3840 X 1100)</td>\n",
       "      <td>INTEL CORE I7 10TH GEN 10875H | NA</td>\n",
       "      <td>512 GB SSD</td>\n",
       "      <td>4 GBGB DDR4</td>\n",
       "      <td>2.4</td>\n",
       "      <td>268.30 x 360.00 x 20.90</td>\n",
       "      <td>NVIDIA GeForce RTX 2070 Max-Q</td>\n",
       "      <td>244,990</td>\n",
       "    </tr>\n",
       "    <tr>\n",
       "      <th>9</th>\n",
       "      <td>DELL G3</td>\n",
       "      <td>WINDOWS 10 HOME PLUS</td>\n",
       "      <td>15.6 MP | NA</td>\n",
       "      <td>8TH GEN INTEL CORE I5-8300H | 2.3GHZ</td>\n",
       "      <td>1TB HDD</td>\n",
       "      <td>8GB DDR4</td>\n",
       "      <td>2.53</td>\n",
       "      <td>22.7 X 380 X 258</td>\n",
       "      <td>NVidia GeForce GTX 1050</td>\n",
       "      <td>73,900</td>\n",
       "    </tr>\n",
       "  </tbody>\n",
       "</table>\n",
       "</div>"
      ],
      "text/plain": [
       "                Product Name                      OS  \\\n",
       "0      MSI GT76 TITAN DT 9SG          WINDOWS 10 PRO   \n",
       "1      ALIENWARE 17 AREA-51M          WINDOWS 10 PRO   \n",
       "2            HP OMEN 15 2020         WINDOWS 10 HOME   \n",
       "3          ASUS ZEPHYRUS G14         WINDOWS 10 HOME   \n",
       "4         LENOVO LEGION Y540         WINDOWS 10 HOME   \n",
       "5  ASUS ROG ZEPHYRUS G GA502         WINDOWS 10 HOME   \n",
       "6  ASUS ROG ZEPHYRUS S GX531         WINDOWS 10 HOME   \n",
       "7   MSI GT83VR 7RE TITAN SLI  WINDOWS 10 HOME 64 BIT   \n",
       "8   ASUS ROG ZEPHYRUS DUO 15              WINDOWS 10   \n",
       "9                    DELL G3    WINDOWS 10 HOME PLUS   \n",
       "\n",
       "                     Display  \\\n",
       "0      17.3\" (UHD 3840X2160)   \n",
       "1  17.3\" (FHD (1920 X 1080))   \n",
       "2        15.6\" (1920 X 1080)   \n",
       "3          14\" (1920 X 1080)   \n",
       "4        15.6\" (1920 X 1080)   \n",
       "5        15.6\" (1920 X 1080)   \n",
       "6        15.6\" (1920 X 1080)   \n",
       "7        18.4\" (1920 X 1080)   \n",
       "8        15.6\" (3840 X 1100)   \n",
       "9               15.6 MP | NA   \n",
       "\n",
       "                                           Processor            HDD  \\\n",
       "0             INTEL 9TH GEN CORE I9-9900K | 5000 MHZ       1 TB HDD   \n",
       "1             INTEL 9TH GEN CORE I9-9900K | 5000 MHZ  1 TB PCIe SSD   \n",
       "2                  INTEL I7-10750H 10TH GEN | 1.6GHZ     512 GB SSD   \n",
       "3               AMD 3RD GENERATION RYZEN 9 | 3.3 GHZ       1 TB SSD   \n",
       "4       9TH GENERATION CORE INTEL I7-9750H | 2.6 GHZ       1 TB SSD   \n",
       "5              AMD RYZEN 7 QUAD CORE 3750H | 2.3 GHZ     512 GB SSD   \n",
       "6              9TH GEN INTEL CORE I7-8750H | 2.2 GHZ      512GB SSD   \n",
       "7  INTEL CM238 CORE I7-7820HK+CM238 7TH GEN | 3.5GHZ    1.5 TB SATA   \n",
       "8                 INTEL CORE I7 10TH GEN 10875H | NA     512 GB SSD   \n",
       "9               8TH GEN INTEL CORE I5-8300H | 2.3GHZ        1TB HDD   \n",
       "\n",
       "            RAM   Weight                               Dimension  \\\n",
       "0  64 GBGB DDR4   4.2 kg                    397 x 330 x 33~42 mm   \n",
       "1     32GB DDR4  3.87 Kg            42 mm x 402.6 mm x 319.14 mm   \n",
       "2  16 GBGB DDR4     5.40                     14.09 x 9.44 x 0.89   \n",
       "3  16 GBGB DDR4     1.65                       32.5 x 22.1 x 1.8   \n",
       "4      8GB DDR4      2.3                  365mm x 260mm x 25.9mm   \n",
       "5     16GB DDR4      2.2                        360 x 252 x 20.4   \n",
       "6  16 GBGB DDR4      2.1  360 (W) x 268 (D) x 15.35~16.15 (H) mm   \n",
       "7     64GB DDR4      5.5                          458 x 339 x 69   \n",
       "8   4 GBGB DDR4      2.4                 268.30 x 360.00 x 20.90   \n",
       "9      8GB DDR4     2.53                        22.7 X 380 X 258   \n",
       "\n",
       "                   Graphic Processor    Price  \n",
       "0            NVIDIA GeForce RTX 2080  379,990  \n",
       "1            NVIDIA GeForce RTX 2080  422,000  \n",
       "2          Nvidia GeForce GTX 1650Ti  117,790  \n",
       "3            NVIDIA GeForce RTX 2060  164,990  \n",
       "4          NVIDIA® GeForce RTX™ 2060   79,990  \n",
       "5         NVIDIA Geforce GTX 1660 Ti   79,990  \n",
       "6  NVIDIA® GeForce RTX™ 2070 (Max-Q)  239,990  \n",
       "7                       Dual GTX1070  349,990  \n",
       "8      NVIDIA GeForce RTX 2070 Max-Q  244,990  \n",
       "9            NVidia GeForce GTX 1050   73,900  "
      ]
     },
     "execution_count": 20,
     "metadata": {},
     "output_type": "execute_result"
    }
   ],
   "source": [
    "#Creating a dataframe for saving our extracted data\n",
    "laptops=pd.DataFrame({'Product Name':prod_name,'OS':OS,'Display':display_specs,'Processor':processor_specs,'HDD':HDD,'RAM':RAM,\n",
    "                     'Weight':weight,'Dimension':dimension,'Graphic Processor':GPU,'Price':Price})\n",
    "laptops"
   ]
  },
  {
   "cell_type": "code",
   "execution_count": 21,
   "metadata": {},
   "outputs": [],
   "source": [
    "#Saving the data into a csv file\n",
    "laptops.to_csv('Gaming_Laptops.csv')"
   ]
  },
  {
   "cell_type": "code",
   "execution_count": 22,
   "metadata": {},
   "outputs": [],
   "source": [
    "#Closing the driver\n",
    "driver.close()"
   ]
  }
 ],
 "metadata": {
  "kernelspec": {
   "display_name": "Python 3",
   "language": "python",
   "name": "python3"
  },
  "language_info": {
   "codemirror_mode": {
    "name": "ipython",
    "version": 3
   },
   "file_extension": ".py",
   "mimetype": "text/x-python",
   "name": "python",
   "nbconvert_exporter": "python",
   "pygments_lexer": "ipython3",
   "version": "3.8.3"
  }
 },
 "nbformat": 4,
 "nbformat_minor": 4
}
